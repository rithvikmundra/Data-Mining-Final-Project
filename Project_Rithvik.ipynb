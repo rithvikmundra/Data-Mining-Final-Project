{
 "cells": [
  {
   "cell_type": "code",
   "execution_count": 198,
   "metadata": {
    "collapsed": true
   },
   "outputs": [],
   "source": [
    "import pandas as pd\n",
    "import numpy as np\n",
    "from sklearn.utils import shuffle\n",
    "from sklearn.preprocessing import Imputer\n",
    "from xgboost import XGBRegressor\n",
    "from sklearn.metrics import mean_squared_error,r2_score\n",
    "from math import sqrt"
   ]
  },
  {
   "cell_type": "code",
   "execution_count": 199,
   "metadata": {
    "collapsed": true
   },
   "outputs": [],
   "source": [
    "### reading the datset\n",
    "\n",
    "data=pd.read_csv(\"train.csv\")"
   ]
  },
  {
   "cell_type": "code",
   "execution_count": 200,
   "metadata": {
    "collapsed": true
   },
   "outputs": [],
   "source": [
    "#First we need to deal with the missing values\n",
    "#There are 2 columns with missing values LotFrontage and GarageYrBlt\n",
    "#LotFrontage is a numerical column and hence we impute it with the median \n",
    "#We feel the GarageYrBlt is not a useful column in "
   ]
  },
  {
   "cell_type": "code",
   "execution_count": 201,
   "metadata": {
    "collapsed": false,
    "scrolled": true
   },
   "outputs": [
    {
     "data": {
      "text/html": [
       "<div>\n",
       "<table border=\"1\" class=\"dataframe\">\n",
       "  <thead>\n",
       "    <tr style=\"text-align: right;\">\n",
       "      <th></th>\n",
       "      <th>s</th>\n",
       "      <th>MSSubClass</th>\n",
       "      <th>LotFrontage</th>\n",
       "      <th>LotArea</th>\n",
       "      <th>OverallQual</th>\n",
       "      <th>OverallCond</th>\n",
       "      <th>YearBuilt</th>\n",
       "      <th>YearRemodAdd</th>\n",
       "      <th>MasVnrArea</th>\n",
       "      <th>BsmtFinSF1</th>\n",
       "      <th>...</th>\n",
       "      <th>WoodDeckSF</th>\n",
       "      <th>OpenPorchSF</th>\n",
       "      <th>EnclosedPorch</th>\n",
       "      <th>3SsnPorch</th>\n",
       "      <th>ScreenPorch</th>\n",
       "      <th>PoolArea</th>\n",
       "      <th>MiscVal</th>\n",
       "      <th>MoSold</th>\n",
       "      <th>YrSold</th>\n",
       "      <th>SalePrice</th>\n",
       "    </tr>\n",
       "  </thead>\n",
       "  <tbody>\n",
       "    <tr>\n",
       "      <th>count</th>\n",
       "      <td>1460.000000</td>\n",
       "      <td>1460.000000</td>\n",
       "      <td>1201.000000</td>\n",
       "      <td>1460.000000</td>\n",
       "      <td>1460.000000</td>\n",
       "      <td>1460.000000</td>\n",
       "      <td>1460.000000</td>\n",
       "      <td>1460.000000</td>\n",
       "      <td>1452.000000</td>\n",
       "      <td>1460.000000</td>\n",
       "      <td>...</td>\n",
       "      <td>1460.000000</td>\n",
       "      <td>1460.000000</td>\n",
       "      <td>1460.000000</td>\n",
       "      <td>1460.000000</td>\n",
       "      <td>1460.000000</td>\n",
       "      <td>1460.000000</td>\n",
       "      <td>1460.000000</td>\n",
       "      <td>1460.000000</td>\n",
       "      <td>1460.000000</td>\n",
       "      <td>1460.000000</td>\n",
       "    </tr>\n",
       "    <tr>\n",
       "      <th>mean</th>\n",
       "      <td>730.500000</td>\n",
       "      <td>56.897260</td>\n",
       "      <td>70.049958</td>\n",
       "      <td>10516.828082</td>\n",
       "      <td>6.099315</td>\n",
       "      <td>5.575342</td>\n",
       "      <td>1971.267808</td>\n",
       "      <td>1984.865753</td>\n",
       "      <td>103.685262</td>\n",
       "      <td>443.639726</td>\n",
       "      <td>...</td>\n",
       "      <td>94.244521</td>\n",
       "      <td>46.660274</td>\n",
       "      <td>21.954110</td>\n",
       "      <td>3.409589</td>\n",
       "      <td>15.060959</td>\n",
       "      <td>2.758904</td>\n",
       "      <td>43.489041</td>\n",
       "      <td>6.321918</td>\n",
       "      <td>2007.815753</td>\n",
       "      <td>180921.195890</td>\n",
       "    </tr>\n",
       "    <tr>\n",
       "      <th>std</th>\n",
       "      <td>421.610009</td>\n",
       "      <td>42.300571</td>\n",
       "      <td>24.284752</td>\n",
       "      <td>9981.264932</td>\n",
       "      <td>1.382997</td>\n",
       "      <td>1.112799</td>\n",
       "      <td>30.202904</td>\n",
       "      <td>20.645407</td>\n",
       "      <td>181.066207</td>\n",
       "      <td>456.098091</td>\n",
       "      <td>...</td>\n",
       "      <td>125.338794</td>\n",
       "      <td>66.256028</td>\n",
       "      <td>61.119149</td>\n",
       "      <td>29.317331</td>\n",
       "      <td>55.757415</td>\n",
       "      <td>40.177307</td>\n",
       "      <td>496.123024</td>\n",
       "      <td>2.703626</td>\n",
       "      <td>1.328095</td>\n",
       "      <td>79442.502883</td>\n",
       "    </tr>\n",
       "    <tr>\n",
       "      <th>min</th>\n",
       "      <td>1.000000</td>\n",
       "      <td>20.000000</td>\n",
       "      <td>21.000000</td>\n",
       "      <td>1300.000000</td>\n",
       "      <td>1.000000</td>\n",
       "      <td>1.000000</td>\n",
       "      <td>1872.000000</td>\n",
       "      <td>1950.000000</td>\n",
       "      <td>0.000000</td>\n",
       "      <td>0.000000</td>\n",
       "      <td>...</td>\n",
       "      <td>0.000000</td>\n",
       "      <td>0.000000</td>\n",
       "      <td>0.000000</td>\n",
       "      <td>0.000000</td>\n",
       "      <td>0.000000</td>\n",
       "      <td>0.000000</td>\n",
       "      <td>0.000000</td>\n",
       "      <td>1.000000</td>\n",
       "      <td>2006.000000</td>\n",
       "      <td>34900.000000</td>\n",
       "    </tr>\n",
       "    <tr>\n",
       "      <th>25%</th>\n",
       "      <td>365.750000</td>\n",
       "      <td>20.000000</td>\n",
       "      <td>59.000000</td>\n",
       "      <td>7553.500000</td>\n",
       "      <td>5.000000</td>\n",
       "      <td>5.000000</td>\n",
       "      <td>1954.000000</td>\n",
       "      <td>1967.000000</td>\n",
       "      <td>0.000000</td>\n",
       "      <td>0.000000</td>\n",
       "      <td>...</td>\n",
       "      <td>0.000000</td>\n",
       "      <td>0.000000</td>\n",
       "      <td>0.000000</td>\n",
       "      <td>0.000000</td>\n",
       "      <td>0.000000</td>\n",
       "      <td>0.000000</td>\n",
       "      <td>0.000000</td>\n",
       "      <td>5.000000</td>\n",
       "      <td>2007.000000</td>\n",
       "      <td>129975.000000</td>\n",
       "    </tr>\n",
       "    <tr>\n",
       "      <th>50%</th>\n",
       "      <td>730.500000</td>\n",
       "      <td>50.000000</td>\n",
       "      <td>69.000000</td>\n",
       "      <td>9478.500000</td>\n",
       "      <td>6.000000</td>\n",
       "      <td>5.000000</td>\n",
       "      <td>1973.000000</td>\n",
       "      <td>1994.000000</td>\n",
       "      <td>0.000000</td>\n",
       "      <td>383.500000</td>\n",
       "      <td>...</td>\n",
       "      <td>0.000000</td>\n",
       "      <td>25.000000</td>\n",
       "      <td>0.000000</td>\n",
       "      <td>0.000000</td>\n",
       "      <td>0.000000</td>\n",
       "      <td>0.000000</td>\n",
       "      <td>0.000000</td>\n",
       "      <td>6.000000</td>\n",
       "      <td>2008.000000</td>\n",
       "      <td>163000.000000</td>\n",
       "    </tr>\n",
       "    <tr>\n",
       "      <th>75%</th>\n",
       "      <td>1095.250000</td>\n",
       "      <td>70.000000</td>\n",
       "      <td>80.000000</td>\n",
       "      <td>11601.500000</td>\n",
       "      <td>7.000000</td>\n",
       "      <td>6.000000</td>\n",
       "      <td>2000.000000</td>\n",
       "      <td>2004.000000</td>\n",
       "      <td>166.000000</td>\n",
       "      <td>712.250000</td>\n",
       "      <td>...</td>\n",
       "      <td>168.000000</td>\n",
       "      <td>68.000000</td>\n",
       "      <td>0.000000</td>\n",
       "      <td>0.000000</td>\n",
       "      <td>0.000000</td>\n",
       "      <td>0.000000</td>\n",
       "      <td>0.000000</td>\n",
       "      <td>8.000000</td>\n",
       "      <td>2009.000000</td>\n",
       "      <td>214000.000000</td>\n",
       "    </tr>\n",
       "    <tr>\n",
       "      <th>max</th>\n",
       "      <td>1460.000000</td>\n",
       "      <td>190.000000</td>\n",
       "      <td>313.000000</td>\n",
       "      <td>215245.000000</td>\n",
       "      <td>10.000000</td>\n",
       "      <td>9.000000</td>\n",
       "      <td>2010.000000</td>\n",
       "      <td>2010.000000</td>\n",
       "      <td>1600.000000</td>\n",
       "      <td>5644.000000</td>\n",
       "      <td>...</td>\n",
       "      <td>857.000000</td>\n",
       "      <td>547.000000</td>\n",
       "      <td>552.000000</td>\n",
       "      <td>508.000000</td>\n",
       "      <td>480.000000</td>\n",
       "      <td>738.000000</td>\n",
       "      <td>15500.000000</td>\n",
       "      <td>12.000000</td>\n",
       "      <td>2010.000000</td>\n",
       "      <td>755000.000000</td>\n",
       "    </tr>\n",
       "  </tbody>\n",
       "</table>\n",
       "<p>8 rows × 38 columns</p>\n",
       "</div>"
      ],
      "text/plain": [
       "                 s   MSSubClass  LotFrontage        LotArea  OverallQual  \\\n",
       "count  1460.000000  1460.000000  1201.000000    1460.000000  1460.000000   \n",
       "mean    730.500000    56.897260    70.049958   10516.828082     6.099315   \n",
       "std     421.610009    42.300571    24.284752    9981.264932     1.382997   \n",
       "min       1.000000    20.000000    21.000000    1300.000000     1.000000   \n",
       "25%     365.750000    20.000000    59.000000    7553.500000     5.000000   \n",
       "50%     730.500000    50.000000    69.000000    9478.500000     6.000000   \n",
       "75%    1095.250000    70.000000    80.000000   11601.500000     7.000000   \n",
       "max    1460.000000   190.000000   313.000000  215245.000000    10.000000   \n",
       "\n",
       "       OverallCond    YearBuilt  YearRemodAdd   MasVnrArea   BsmtFinSF1  \\\n",
       "count  1460.000000  1460.000000   1460.000000  1452.000000  1460.000000   \n",
       "mean      5.575342  1971.267808   1984.865753   103.685262   443.639726   \n",
       "std       1.112799    30.202904     20.645407   181.066207   456.098091   \n",
       "min       1.000000  1872.000000   1950.000000     0.000000     0.000000   \n",
       "25%       5.000000  1954.000000   1967.000000     0.000000     0.000000   \n",
       "50%       5.000000  1973.000000   1994.000000     0.000000   383.500000   \n",
       "75%       6.000000  2000.000000   2004.000000   166.000000   712.250000   \n",
       "max       9.000000  2010.000000   2010.000000  1600.000000  5644.000000   \n",
       "\n",
       "           ...         WoodDeckSF  OpenPorchSF  EnclosedPorch    3SsnPorch  \\\n",
       "count      ...        1460.000000  1460.000000    1460.000000  1460.000000   \n",
       "mean       ...          94.244521    46.660274      21.954110     3.409589   \n",
       "std        ...         125.338794    66.256028      61.119149    29.317331   \n",
       "min        ...           0.000000     0.000000       0.000000     0.000000   \n",
       "25%        ...           0.000000     0.000000       0.000000     0.000000   \n",
       "50%        ...           0.000000    25.000000       0.000000     0.000000   \n",
       "75%        ...         168.000000    68.000000       0.000000     0.000000   \n",
       "max        ...         857.000000   547.000000     552.000000   508.000000   \n",
       "\n",
       "       ScreenPorch     PoolArea       MiscVal       MoSold       YrSold  \\\n",
       "count  1460.000000  1460.000000   1460.000000  1460.000000  1460.000000   \n",
       "mean     15.060959     2.758904     43.489041     6.321918  2007.815753   \n",
       "std      55.757415    40.177307    496.123024     2.703626     1.328095   \n",
       "min       0.000000     0.000000      0.000000     1.000000  2006.000000   \n",
       "25%       0.000000     0.000000      0.000000     5.000000  2007.000000   \n",
       "50%       0.000000     0.000000      0.000000     6.000000  2008.000000   \n",
       "75%       0.000000     0.000000      0.000000     8.000000  2009.000000   \n",
       "max     480.000000   738.000000  15500.000000    12.000000  2010.000000   \n",
       "\n",
       "           SalePrice  \n",
       "count    1460.000000  \n",
       "mean   180921.195890  \n",
       "std     79442.502883  \n",
       "min     34900.000000  \n",
       "25%    129975.000000  \n",
       "50%    163000.000000  \n",
       "75%    214000.000000  \n",
       "max    755000.000000  \n",
       "\n",
       "[8 rows x 38 columns]"
      ]
     },
     "execution_count": 201,
     "metadata": {},
     "output_type": "execute_result"
    }
   ],
   "source": [
    "data.describe()"
   ]
  },
  {
   "cell_type": "code",
   "execution_count": 202,
   "metadata": {
    "collapsed": false
   },
   "outputs": [
    {
     "data": {
      "text/plain": [
       "8"
      ]
     },
     "execution_count": 202,
     "metadata": {},
     "output_type": "execute_result"
    }
   ],
   "source": [
    "data['MasVnrType'].isnull().sum()"
   ]
  },
  {
   "cell_type": "code",
   "execution_count": 203,
   "metadata": {
    "collapsed": false
   },
   "outputs": [
    {
     "data": {
      "text/plain": [
       "array(['BrkFace', 'None', 'Stone', 'BrkCmn', nan], dtype=object)"
      ]
     },
     "execution_count": 203,
     "metadata": {},
     "output_type": "execute_result"
    }
   ],
   "source": [
    "data['MasVnrType'].unique()"
   ]
  },
  {
   "cell_type": "code",
   "execution_count": 204,
   "metadata": {
    "collapsed": true
   },
   "outputs": [],
   "source": [
    "#At first we split the train data into training and validation inorder to test how the model works"
   ]
  },
  {
   "cell_type": "code",
   "execution_count": 205,
   "metadata": {
    "collapsed": false
   },
   "outputs": [
    {
     "data": {
      "text/plain": [
       "1460"
      ]
     },
     "execution_count": 205,
     "metadata": {},
     "output_type": "execute_result"
    }
   ],
   "source": [
    "len(data)"
   ]
  },
  {
   "cell_type": "code",
   "execution_count": 206,
   "metadata": {
    "collapsed": false
   },
   "outputs": [],
   "source": [
    "data_1=shuffle(data)"
   ]
  },
  {
   "cell_type": "code",
   "execution_count": 207,
   "metadata": {
    "collapsed": false
   },
   "outputs": [
    {
     "data": {
      "text/html": [
       "<div>\n",
       "<table border=\"1\" class=\"dataframe\">\n",
       "  <thead>\n",
       "    <tr style=\"text-align: right;\">\n",
       "      <th></th>\n",
       "      <th>s</th>\n",
       "      <th>MSSubClass</th>\n",
       "      <th>MSZoning</th>\n",
       "      <th>LotFrontage</th>\n",
       "      <th>LotArea</th>\n",
       "      <th>Street</th>\n",
       "      <th>Alley</th>\n",
       "      <th>LotShape</th>\n",
       "      <th>LandContour</th>\n",
       "      <th>Utilities</th>\n",
       "      <th>...</th>\n",
       "      <th>PoolArea</th>\n",
       "      <th>PoolQC</th>\n",
       "      <th>Fence</th>\n",
       "      <th>MiscFeature</th>\n",
       "      <th>MiscVal</th>\n",
       "      <th>MoSold</th>\n",
       "      <th>YrSold</th>\n",
       "      <th>SaleType</th>\n",
       "      <th>SaleCondition</th>\n",
       "      <th>SalePrice</th>\n",
       "    </tr>\n",
       "  </thead>\n",
       "  <tbody>\n",
       "    <tr>\n",
       "      <th>539</th>\n",
       "      <td>540</td>\n",
       "      <td>20</td>\n",
       "      <td>RL</td>\n",
       "      <td>NaN</td>\n",
       "      <td>11423</td>\n",
       "      <td>Pave</td>\n",
       "      <td>NaN</td>\n",
       "      <td>Reg</td>\n",
       "      <td>Lvl</td>\n",
       "      <td>AllPub</td>\n",
       "      <td>...</td>\n",
       "      <td>0</td>\n",
       "      <td>NaN</td>\n",
       "      <td>MnPrv</td>\n",
       "      <td>Shed</td>\n",
       "      <td>2000</td>\n",
       "      <td>5</td>\n",
       "      <td>2010</td>\n",
       "      <td>WD</td>\n",
       "      <td>Normal</td>\n",
       "      <td>272000</td>\n",
       "    </tr>\n",
       "    <tr>\n",
       "      <th>791</th>\n",
       "      <td>792</td>\n",
       "      <td>80</td>\n",
       "      <td>RL</td>\n",
       "      <td>NaN</td>\n",
       "      <td>11333</td>\n",
       "      <td>Pave</td>\n",
       "      <td>NaN</td>\n",
       "      <td>IR1</td>\n",
       "      <td>Lvl</td>\n",
       "      <td>AllPub</td>\n",
       "      <td>...</td>\n",
       "      <td>0</td>\n",
       "      <td>NaN</td>\n",
       "      <td>NaN</td>\n",
       "      <td>NaN</td>\n",
       "      <td>0</td>\n",
       "      <td>5</td>\n",
       "      <td>2007</td>\n",
       "      <td>WD</td>\n",
       "      <td>Normal</td>\n",
       "      <td>146800</td>\n",
       "    </tr>\n",
       "    <tr>\n",
       "      <th>816</th>\n",
       "      <td>817</td>\n",
       "      <td>20</td>\n",
       "      <td>RL</td>\n",
       "      <td>NaN</td>\n",
       "      <td>11425</td>\n",
       "      <td>Pave</td>\n",
       "      <td>NaN</td>\n",
       "      <td>IR1</td>\n",
       "      <td>Lvl</td>\n",
       "      <td>AllPub</td>\n",
       "      <td>...</td>\n",
       "      <td>0</td>\n",
       "      <td>NaN</td>\n",
       "      <td>NaN</td>\n",
       "      <td>NaN</td>\n",
       "      <td>0</td>\n",
       "      <td>7</td>\n",
       "      <td>2006</td>\n",
       "      <td>WD</td>\n",
       "      <td>Normal</td>\n",
       "      <td>137000</td>\n",
       "    </tr>\n",
       "    <tr>\n",
       "      <th>989</th>\n",
       "      <td>990</td>\n",
       "      <td>60</td>\n",
       "      <td>FV</td>\n",
       "      <td>65.0</td>\n",
       "      <td>8125</td>\n",
       "      <td>Pave</td>\n",
       "      <td>NaN</td>\n",
       "      <td>Reg</td>\n",
       "      <td>Lvl</td>\n",
       "      <td>AllPub</td>\n",
       "      <td>...</td>\n",
       "      <td>0</td>\n",
       "      <td>NaN</td>\n",
       "      <td>NaN</td>\n",
       "      <td>NaN</td>\n",
       "      <td>0</td>\n",
       "      <td>8</td>\n",
       "      <td>2006</td>\n",
       "      <td>New</td>\n",
       "      <td>Partial</td>\n",
       "      <td>197000</td>\n",
       "    </tr>\n",
       "    <tr>\n",
       "      <th>890</th>\n",
       "      <td>891</td>\n",
       "      <td>50</td>\n",
       "      <td>RL</td>\n",
       "      <td>60.0</td>\n",
       "      <td>8064</td>\n",
       "      <td>Pave</td>\n",
       "      <td>NaN</td>\n",
       "      <td>Reg</td>\n",
       "      <td>Lvl</td>\n",
       "      <td>AllPub</td>\n",
       "      <td>...</td>\n",
       "      <td>0</td>\n",
       "      <td>NaN</td>\n",
       "      <td>MnPrv</td>\n",
       "      <td>Shed</td>\n",
       "      <td>2000</td>\n",
       "      <td>7</td>\n",
       "      <td>2007</td>\n",
       "      <td>WD</td>\n",
       "      <td>Normal</td>\n",
       "      <td>122900</td>\n",
       "    </tr>\n",
       "    <tr>\n",
       "      <th>1291</th>\n",
       "      <td>1292</td>\n",
       "      <td>160</td>\n",
       "      <td>RM</td>\n",
       "      <td>21.0</td>\n",
       "      <td>1680</td>\n",
       "      <td>Pave</td>\n",
       "      <td>NaN</td>\n",
       "      <td>Reg</td>\n",
       "      <td>Lvl</td>\n",
       "      <td>AllPub</td>\n",
       "      <td>...</td>\n",
       "      <td>0</td>\n",
       "      <td>NaN</td>\n",
       "      <td>NaN</td>\n",
       "      <td>NaN</td>\n",
       "      <td>0</td>\n",
       "      <td>2</td>\n",
       "      <td>2009</td>\n",
       "      <td>WD</td>\n",
       "      <td>Normal</td>\n",
       "      <td>119500</td>\n",
       "    </tr>\n",
       "    <tr>\n",
       "      <th>272</th>\n",
       "      <td>273</td>\n",
       "      <td>60</td>\n",
       "      <td>RL</td>\n",
       "      <td>92.0</td>\n",
       "      <td>11764</td>\n",
       "      <td>Pave</td>\n",
       "      <td>NaN</td>\n",
       "      <td>IR1</td>\n",
       "      <td>Lvl</td>\n",
       "      <td>AllPub</td>\n",
       "      <td>...</td>\n",
       "      <td>0</td>\n",
       "      <td>NaN</td>\n",
       "      <td>NaN</td>\n",
       "      <td>NaN</td>\n",
       "      <td>0</td>\n",
       "      <td>4</td>\n",
       "      <td>2010</td>\n",
       "      <td>WD</td>\n",
       "      <td>Normal</td>\n",
       "      <td>290000</td>\n",
       "    </tr>\n",
       "    <tr>\n",
       "      <th>794</th>\n",
       "      <td>795</td>\n",
       "      <td>60</td>\n",
       "      <td>RL</td>\n",
       "      <td>NaN</td>\n",
       "      <td>10832</td>\n",
       "      <td>Pave</td>\n",
       "      <td>NaN</td>\n",
       "      <td>IR1</td>\n",
       "      <td>Lvl</td>\n",
       "      <td>AllPub</td>\n",
       "      <td>...</td>\n",
       "      <td>0</td>\n",
       "      <td>NaN</td>\n",
       "      <td>NaN</td>\n",
       "      <td>Shed</td>\n",
       "      <td>500</td>\n",
       "      <td>10</td>\n",
       "      <td>2008</td>\n",
       "      <td>WD</td>\n",
       "      <td>Normal</td>\n",
       "      <td>194500</td>\n",
       "    </tr>\n",
       "    <tr>\n",
       "      <th>1019</th>\n",
       "      <td>1020</td>\n",
       "      <td>120</td>\n",
       "      <td>RL</td>\n",
       "      <td>43.0</td>\n",
       "      <td>3013</td>\n",
       "      <td>Pave</td>\n",
       "      <td>NaN</td>\n",
       "      <td>Reg</td>\n",
       "      <td>Lvl</td>\n",
       "      <td>AllPub</td>\n",
       "      <td>...</td>\n",
       "      <td>0</td>\n",
       "      <td>NaN</td>\n",
       "      <td>NaN</td>\n",
       "      <td>NaN</td>\n",
       "      <td>0</td>\n",
       "      <td>4</td>\n",
       "      <td>2006</td>\n",
       "      <td>WD</td>\n",
       "      <td>Normal</td>\n",
       "      <td>213490</td>\n",
       "    </tr>\n",
       "    <tr>\n",
       "      <th>515</th>\n",
       "      <td>516</td>\n",
       "      <td>20</td>\n",
       "      <td>RL</td>\n",
       "      <td>94.0</td>\n",
       "      <td>12220</td>\n",
       "      <td>Pave</td>\n",
       "      <td>NaN</td>\n",
       "      <td>Reg</td>\n",
       "      <td>Lvl</td>\n",
       "      <td>AllPub</td>\n",
       "      <td>...</td>\n",
       "      <td>0</td>\n",
       "      <td>NaN</td>\n",
       "      <td>NaN</td>\n",
       "      <td>NaN</td>\n",
       "      <td>0</td>\n",
       "      <td>9</td>\n",
       "      <td>2009</td>\n",
       "      <td>New</td>\n",
       "      <td>Partial</td>\n",
       "      <td>402861</td>\n",
       "    </tr>\n",
       "    <tr>\n",
       "      <th>273</th>\n",
       "      <td>274</td>\n",
       "      <td>20</td>\n",
       "      <td>RL</td>\n",
       "      <td>80.0</td>\n",
       "      <td>9600</td>\n",
       "      <td>Pave</td>\n",
       "      <td>NaN</td>\n",
       "      <td>Reg</td>\n",
       "      <td>Lvl</td>\n",
       "      <td>AllPub</td>\n",
       "      <td>...</td>\n",
       "      <td>0</td>\n",
       "      <td>NaN</td>\n",
       "      <td>MnPrv</td>\n",
       "      <td>NaN</td>\n",
       "      <td>0</td>\n",
       "      <td>4</td>\n",
       "      <td>2009</td>\n",
       "      <td>WD</td>\n",
       "      <td>Normal</td>\n",
       "      <td>139000</td>\n",
       "    </tr>\n",
       "    <tr>\n",
       "      <th>494</th>\n",
       "      <td>495</td>\n",
       "      <td>30</td>\n",
       "      <td>RM</td>\n",
       "      <td>50.0</td>\n",
       "      <td>5784</td>\n",
       "      <td>Pave</td>\n",
       "      <td>NaN</td>\n",
       "      <td>Reg</td>\n",
       "      <td>Lvl</td>\n",
       "      <td>AllPub</td>\n",
       "      <td>...</td>\n",
       "      <td>0</td>\n",
       "      <td>NaN</td>\n",
       "      <td>NaN</td>\n",
       "      <td>NaN</td>\n",
       "      <td>0</td>\n",
       "      <td>12</td>\n",
       "      <td>2009</td>\n",
       "      <td>WD</td>\n",
       "      <td>Normal</td>\n",
       "      <td>91300</td>\n",
       "    </tr>\n",
       "    <tr>\n",
       "      <th>1168</th>\n",
       "      <td>1169</td>\n",
       "      <td>70</td>\n",
       "      <td>RL</td>\n",
       "      <td>120.0</td>\n",
       "      <td>13728</td>\n",
       "      <td>Pave</td>\n",
       "      <td>NaN</td>\n",
       "      <td>Reg</td>\n",
       "      <td>Lvl</td>\n",
       "      <td>AllPub</td>\n",
       "      <td>...</td>\n",
       "      <td>0</td>\n",
       "      <td>NaN</td>\n",
       "      <td>NaN</td>\n",
       "      <td>NaN</td>\n",
       "      <td>0</td>\n",
       "      <td>7</td>\n",
       "      <td>2008</td>\n",
       "      <td>WD</td>\n",
       "      <td>Normal</td>\n",
       "      <td>235000</td>\n",
       "    </tr>\n",
       "    <tr>\n",
       "      <th>665</th>\n",
       "      <td>666</td>\n",
       "      <td>60</td>\n",
       "      <td>RL</td>\n",
       "      <td>106.0</td>\n",
       "      <td>11194</td>\n",
       "      <td>Pave</td>\n",
       "      <td>NaN</td>\n",
       "      <td>IR1</td>\n",
       "      <td>Lvl</td>\n",
       "      <td>AllPub</td>\n",
       "      <td>...</td>\n",
       "      <td>0</td>\n",
       "      <td>NaN</td>\n",
       "      <td>NaN</td>\n",
       "      <td>NaN</td>\n",
       "      <td>0</td>\n",
       "      <td>11</td>\n",
       "      <td>2006</td>\n",
       "      <td>WD</td>\n",
       "      <td>Normal</td>\n",
       "      <td>230500</td>\n",
       "    </tr>\n",
       "    <tr>\n",
       "      <th>278</th>\n",
       "      <td>279</td>\n",
       "      <td>20</td>\n",
       "      <td>RL</td>\n",
       "      <td>107.0</td>\n",
       "      <td>14450</td>\n",
       "      <td>Pave</td>\n",
       "      <td>NaN</td>\n",
       "      <td>Reg</td>\n",
       "      <td>Lvl</td>\n",
       "      <td>AllPub</td>\n",
       "      <td>...</td>\n",
       "      <td>0</td>\n",
       "      <td>NaN</td>\n",
       "      <td>NaN</td>\n",
       "      <td>NaN</td>\n",
       "      <td>0</td>\n",
       "      <td>5</td>\n",
       "      <td>2007</td>\n",
       "      <td>New</td>\n",
       "      <td>Partial</td>\n",
       "      <td>415298</td>\n",
       "    </tr>\n",
       "    <tr>\n",
       "      <th>198</th>\n",
       "      <td>199</td>\n",
       "      <td>75</td>\n",
       "      <td>RM</td>\n",
       "      <td>92.0</td>\n",
       "      <td>5520</td>\n",
       "      <td>Pave</td>\n",
       "      <td>NaN</td>\n",
       "      <td>Reg</td>\n",
       "      <td>Lvl</td>\n",
       "      <td>AllPub</td>\n",
       "      <td>...</td>\n",
       "      <td>0</td>\n",
       "      <td>NaN</td>\n",
       "      <td>MnPrv</td>\n",
       "      <td>NaN</td>\n",
       "      <td>0</td>\n",
       "      <td>7</td>\n",
       "      <td>2009</td>\n",
       "      <td>WD</td>\n",
       "      <td>Abnorml</td>\n",
       "      <td>104000</td>\n",
       "    </tr>\n",
       "    <tr>\n",
       "      <th>645</th>\n",
       "      <td>646</td>\n",
       "      <td>20</td>\n",
       "      <td>RL</td>\n",
       "      <td>NaN</td>\n",
       "      <td>10530</td>\n",
       "      <td>Pave</td>\n",
       "      <td>NaN</td>\n",
       "      <td>IR1</td>\n",
       "      <td>Lvl</td>\n",
       "      <td>AllPub</td>\n",
       "      <td>...</td>\n",
       "      <td>0</td>\n",
       "      <td>NaN</td>\n",
       "      <td>NaN</td>\n",
       "      <td>NaN</td>\n",
       "      <td>0</td>\n",
       "      <td>3</td>\n",
       "      <td>2007</td>\n",
       "      <td>WD</td>\n",
       "      <td>Normal</td>\n",
       "      <td>143250</td>\n",
       "    </tr>\n",
       "    <tr>\n",
       "      <th>713</th>\n",
       "      <td>714</td>\n",
       "      <td>190</td>\n",
       "      <td>RL</td>\n",
       "      <td>60.0</td>\n",
       "      <td>9873</td>\n",
       "      <td>Pave</td>\n",
       "      <td>NaN</td>\n",
       "      <td>Reg</td>\n",
       "      <td>Lvl</td>\n",
       "      <td>AllPub</td>\n",
       "      <td>...</td>\n",
       "      <td>0</td>\n",
       "      <td>NaN</td>\n",
       "      <td>NaN</td>\n",
       "      <td>NaN</td>\n",
       "      <td>0</td>\n",
       "      <td>5</td>\n",
       "      <td>2006</td>\n",
       "      <td>WD</td>\n",
       "      <td>Normal</td>\n",
       "      <td>129000</td>\n",
       "    </tr>\n",
       "    <tr>\n",
       "      <th>187</th>\n",
       "      <td>188</td>\n",
       "      <td>50</td>\n",
       "      <td>RL</td>\n",
       "      <td>60.0</td>\n",
       "      <td>10410</td>\n",
       "      <td>Pave</td>\n",
       "      <td>NaN</td>\n",
       "      <td>Reg</td>\n",
       "      <td>Lvl</td>\n",
       "      <td>AllPub</td>\n",
       "      <td>...</td>\n",
       "      <td>0</td>\n",
       "      <td>NaN</td>\n",
       "      <td>MnPrv</td>\n",
       "      <td>NaN</td>\n",
       "      <td>0</td>\n",
       "      <td>8</td>\n",
       "      <td>2009</td>\n",
       "      <td>WD</td>\n",
       "      <td>Normal</td>\n",
       "      <td>135000</td>\n",
       "    </tr>\n",
       "    <tr>\n",
       "      <th>941</th>\n",
       "      <td>942</td>\n",
       "      <td>60</td>\n",
       "      <td>RL</td>\n",
       "      <td>NaN</td>\n",
       "      <td>8755</td>\n",
       "      <td>Pave</td>\n",
       "      <td>NaN</td>\n",
       "      <td>IR1</td>\n",
       "      <td>Lvl</td>\n",
       "      <td>AllPub</td>\n",
       "      <td>...</td>\n",
       "      <td>0</td>\n",
       "      <td>NaN</td>\n",
       "      <td>GdPrv</td>\n",
       "      <td>NaN</td>\n",
       "      <td>0</td>\n",
       "      <td>6</td>\n",
       "      <td>2009</td>\n",
       "      <td>WD</td>\n",
       "      <td>Normal</td>\n",
       "      <td>214000</td>\n",
       "    </tr>\n",
       "    <tr>\n",
       "      <th>1171</th>\n",
       "      <td>1172</td>\n",
       "      <td>20</td>\n",
       "      <td>RL</td>\n",
       "      <td>76.0</td>\n",
       "      <td>9120</td>\n",
       "      <td>Pave</td>\n",
       "      <td>NaN</td>\n",
       "      <td>Reg</td>\n",
       "      <td>Lvl</td>\n",
       "      <td>AllPub</td>\n",
       "      <td>...</td>\n",
       "      <td>0</td>\n",
       "      <td>NaN</td>\n",
       "      <td>NaN</td>\n",
       "      <td>Shed</td>\n",
       "      <td>1400</td>\n",
       "      <td>11</td>\n",
       "      <td>2008</td>\n",
       "      <td>WD</td>\n",
       "      <td>Normal</td>\n",
       "      <td>163000</td>\n",
       "    </tr>\n",
       "    <tr>\n",
       "      <th>598</th>\n",
       "      <td>599</td>\n",
       "      <td>20</td>\n",
       "      <td>RL</td>\n",
       "      <td>80.0</td>\n",
       "      <td>12984</td>\n",
       "      <td>Pave</td>\n",
       "      <td>NaN</td>\n",
       "      <td>Reg</td>\n",
       "      <td>Bnk</td>\n",
       "      <td>AllPub</td>\n",
       "      <td>...</td>\n",
       "      <td>0</td>\n",
       "      <td>NaN</td>\n",
       "      <td>NaN</td>\n",
       "      <td>NaN</td>\n",
       "      <td>0</td>\n",
       "      <td>3</td>\n",
       "      <td>2006</td>\n",
       "      <td>WD</td>\n",
       "      <td>Normal</td>\n",
       "      <td>217500</td>\n",
       "    </tr>\n",
       "    <tr>\n",
       "      <th>748</th>\n",
       "      <td>749</td>\n",
       "      <td>20</td>\n",
       "      <td>RL</td>\n",
       "      <td>59.0</td>\n",
       "      <td>10593</td>\n",
       "      <td>Pave</td>\n",
       "      <td>NaN</td>\n",
       "      <td>IR1</td>\n",
       "      <td>Lvl</td>\n",
       "      <td>AllPub</td>\n",
       "      <td>...</td>\n",
       "      <td>0</td>\n",
       "      <td>NaN</td>\n",
       "      <td>NaN</td>\n",
       "      <td>NaN</td>\n",
       "      <td>0</td>\n",
       "      <td>3</td>\n",
       "      <td>2010</td>\n",
       "      <td>WD</td>\n",
       "      <td>Normal</td>\n",
       "      <td>260400</td>\n",
       "    </tr>\n",
       "    <tr>\n",
       "      <th>865</th>\n",
       "      <td>866</td>\n",
       "      <td>20</td>\n",
       "      <td>RL</td>\n",
       "      <td>NaN</td>\n",
       "      <td>8750</td>\n",
       "      <td>Pave</td>\n",
       "      <td>NaN</td>\n",
       "      <td>IR1</td>\n",
       "      <td>Lvl</td>\n",
       "      <td>AllPub</td>\n",
       "      <td>...</td>\n",
       "      <td>0</td>\n",
       "      <td>NaN</td>\n",
       "      <td>MnPrv</td>\n",
       "      <td>NaN</td>\n",
       "      <td>0</td>\n",
       "      <td>8</td>\n",
       "      <td>2009</td>\n",
       "      <td>WD</td>\n",
       "      <td>Normal</td>\n",
       "      <td>148500</td>\n",
       "    </tr>\n",
       "    <tr>\n",
       "      <th>1287</th>\n",
       "      <td>1288</td>\n",
       "      <td>20</td>\n",
       "      <td>RL</td>\n",
       "      <td>NaN</td>\n",
       "      <td>36500</td>\n",
       "      <td>Pave</td>\n",
       "      <td>NaN</td>\n",
       "      <td>IR1</td>\n",
       "      <td>Low</td>\n",
       "      <td>AllPub</td>\n",
       "      <td>...</td>\n",
       "      <td>0</td>\n",
       "      <td>NaN</td>\n",
       "      <td>NaN</td>\n",
       "      <td>NaN</td>\n",
       "      <td>0</td>\n",
       "      <td>6</td>\n",
       "      <td>2006</td>\n",
       "      <td>WD</td>\n",
       "      <td>Normal</td>\n",
       "      <td>190000</td>\n",
       "    </tr>\n",
       "    <tr>\n",
       "      <th>1158</th>\n",
       "      <td>1159</td>\n",
       "      <td>20</td>\n",
       "      <td>RL</td>\n",
       "      <td>92.0</td>\n",
       "      <td>11932</td>\n",
       "      <td>Pave</td>\n",
       "      <td>NaN</td>\n",
       "      <td>Reg</td>\n",
       "      <td>Lvl</td>\n",
       "      <td>AllPub</td>\n",
       "      <td>...</td>\n",
       "      <td>0</td>\n",
       "      <td>NaN</td>\n",
       "      <td>NaN</td>\n",
       "      <td>NaN</td>\n",
       "      <td>0</td>\n",
       "      <td>6</td>\n",
       "      <td>2008</td>\n",
       "      <td>ConLD</td>\n",
       "      <td>Partial</td>\n",
       "      <td>235128</td>\n",
       "    </tr>\n",
       "    <tr>\n",
       "      <th>1192</th>\n",
       "      <td>1193</td>\n",
       "      <td>50</td>\n",
       "      <td>RM</td>\n",
       "      <td>60.0</td>\n",
       "      <td>9600</td>\n",
       "      <td>Pave</td>\n",
       "      <td>Grvl</td>\n",
       "      <td>Reg</td>\n",
       "      <td>Lvl</td>\n",
       "      <td>AllPub</td>\n",
       "      <td>...</td>\n",
       "      <td>0</td>\n",
       "      <td>NaN</td>\n",
       "      <td>GdWo</td>\n",
       "      <td>NaN</td>\n",
       "      <td>0</td>\n",
       "      <td>7</td>\n",
       "      <td>2007</td>\n",
       "      <td>WD</td>\n",
       "      <td>Normal</td>\n",
       "      <td>125000</td>\n",
       "    </tr>\n",
       "    <tr>\n",
       "      <th>872</th>\n",
       "      <td>873</td>\n",
       "      <td>20</td>\n",
       "      <td>RL</td>\n",
       "      <td>74.0</td>\n",
       "      <td>8892</td>\n",
       "      <td>Pave</td>\n",
       "      <td>NaN</td>\n",
       "      <td>Reg</td>\n",
       "      <td>Lvl</td>\n",
       "      <td>AllPub</td>\n",
       "      <td>...</td>\n",
       "      <td>0</td>\n",
       "      <td>NaN</td>\n",
       "      <td>GdWo</td>\n",
       "      <td>NaN</td>\n",
       "      <td>0</td>\n",
       "      <td>10</td>\n",
       "      <td>2008</td>\n",
       "      <td>WD</td>\n",
       "      <td>Normal</td>\n",
       "      <td>116000</td>\n",
       "    </tr>\n",
       "    <tr>\n",
       "      <th>1011</th>\n",
       "      <td>1012</td>\n",
       "      <td>90</td>\n",
       "      <td>RL</td>\n",
       "      <td>75.0</td>\n",
       "      <td>9825</td>\n",
       "      <td>Pave</td>\n",
       "      <td>NaN</td>\n",
       "      <td>Reg</td>\n",
       "      <td>Lvl</td>\n",
       "      <td>AllPub</td>\n",
       "      <td>...</td>\n",
       "      <td>0</td>\n",
       "      <td>NaN</td>\n",
       "      <td>NaN</td>\n",
       "      <td>NaN</td>\n",
       "      <td>0</td>\n",
       "      <td>5</td>\n",
       "      <td>2010</td>\n",
       "      <td>WD</td>\n",
       "      <td>Normal</td>\n",
       "      <td>100000</td>\n",
       "    </tr>\n",
       "    <tr>\n",
       "      <th>392</th>\n",
       "      <td>393</td>\n",
       "      <td>20</td>\n",
       "      <td>RL</td>\n",
       "      <td>NaN</td>\n",
       "      <td>8339</td>\n",
       "      <td>Pave</td>\n",
       "      <td>NaN</td>\n",
       "      <td>IR1</td>\n",
       "      <td>Lvl</td>\n",
       "      <td>AllPub</td>\n",
       "      <td>...</td>\n",
       "      <td>0</td>\n",
       "      <td>NaN</td>\n",
       "      <td>MnPrv</td>\n",
       "      <td>Shed</td>\n",
       "      <td>1200</td>\n",
       "      <td>7</td>\n",
       "      <td>2007</td>\n",
       "      <td>WD</td>\n",
       "      <td>Normal</td>\n",
       "      <td>106500</td>\n",
       "    </tr>\n",
       "    <tr>\n",
       "      <th>...</th>\n",
       "      <td>...</td>\n",
       "      <td>...</td>\n",
       "      <td>...</td>\n",
       "      <td>...</td>\n",
       "      <td>...</td>\n",
       "      <td>...</td>\n",
       "      <td>...</td>\n",
       "      <td>...</td>\n",
       "      <td>...</td>\n",
       "      <td>...</td>\n",
       "      <td>...</td>\n",
       "      <td>...</td>\n",
       "      <td>...</td>\n",
       "      <td>...</td>\n",
       "      <td>...</td>\n",
       "      <td>...</td>\n",
       "      <td>...</td>\n",
       "      <td>...</td>\n",
       "      <td>...</td>\n",
       "      <td>...</td>\n",
       "      <td>...</td>\n",
       "    </tr>\n",
       "    <tr>\n",
       "      <th>504</th>\n",
       "      <td>505</td>\n",
       "      <td>160</td>\n",
       "      <td>RL</td>\n",
       "      <td>24.0</td>\n",
       "      <td>2308</td>\n",
       "      <td>Pave</td>\n",
       "      <td>NaN</td>\n",
       "      <td>Reg</td>\n",
       "      <td>Lvl</td>\n",
       "      <td>AllPub</td>\n",
       "      <td>...</td>\n",
       "      <td>0</td>\n",
       "      <td>NaN</td>\n",
       "      <td>NaN</td>\n",
       "      <td>NaN</td>\n",
       "      <td>0</td>\n",
       "      <td>6</td>\n",
       "      <td>2009</td>\n",
       "      <td>WD</td>\n",
       "      <td>Normal</td>\n",
       "      <td>147000</td>\n",
       "    </tr>\n",
       "    <tr>\n",
       "      <th>692</th>\n",
       "      <td>693</td>\n",
       "      <td>60</td>\n",
       "      <td>RL</td>\n",
       "      <td>42.0</td>\n",
       "      <td>26178</td>\n",
       "      <td>Pave</td>\n",
       "      <td>NaN</td>\n",
       "      <td>IR1</td>\n",
       "      <td>Lvl</td>\n",
       "      <td>AllPub</td>\n",
       "      <td>...</td>\n",
       "      <td>0</td>\n",
       "      <td>NaN</td>\n",
       "      <td>NaN</td>\n",
       "      <td>NaN</td>\n",
       "      <td>0</td>\n",
       "      <td>4</td>\n",
       "      <td>2006</td>\n",
       "      <td>WD</td>\n",
       "      <td>Normal</td>\n",
       "      <td>335000</td>\n",
       "    </tr>\n",
       "    <tr>\n",
       "      <th>140</th>\n",
       "      <td>141</td>\n",
       "      <td>20</td>\n",
       "      <td>RL</td>\n",
       "      <td>70.0</td>\n",
       "      <td>10500</td>\n",
       "      <td>Pave</td>\n",
       "      <td>NaN</td>\n",
       "      <td>Reg</td>\n",
       "      <td>Lvl</td>\n",
       "      <td>AllPub</td>\n",
       "      <td>...</td>\n",
       "      <td>0</td>\n",
       "      <td>NaN</td>\n",
       "      <td>NaN</td>\n",
       "      <td>NaN</td>\n",
       "      <td>0</td>\n",
       "      <td>4</td>\n",
       "      <td>2010</td>\n",
       "      <td>ConLI</td>\n",
       "      <td>Normal</td>\n",
       "      <td>115000</td>\n",
       "    </tr>\n",
       "    <tr>\n",
       "      <th>1308</th>\n",
       "      <td>1309</td>\n",
       "      <td>20</td>\n",
       "      <td>RM</td>\n",
       "      <td>100.0</td>\n",
       "      <td>12000</td>\n",
       "      <td>Pave</td>\n",
       "      <td>NaN</td>\n",
       "      <td>Reg</td>\n",
       "      <td>Lvl</td>\n",
       "      <td>AllPub</td>\n",
       "      <td>...</td>\n",
       "      <td>0</td>\n",
       "      <td>NaN</td>\n",
       "      <td>GdWo</td>\n",
       "      <td>NaN</td>\n",
       "      <td>0</td>\n",
       "      <td>5</td>\n",
       "      <td>2008</td>\n",
       "      <td>WD</td>\n",
       "      <td>Normal</td>\n",
       "      <td>147000</td>\n",
       "    </tr>\n",
       "    <tr>\n",
       "      <th>517</th>\n",
       "      <td>518</td>\n",
       "      <td>60</td>\n",
       "      <td>RL</td>\n",
       "      <td>79.0</td>\n",
       "      <td>10208</td>\n",
       "      <td>Pave</td>\n",
       "      <td>NaN</td>\n",
       "      <td>IR1</td>\n",
       "      <td>Lvl</td>\n",
       "      <td>AllPub</td>\n",
       "      <td>...</td>\n",
       "      <td>0</td>\n",
       "      <td>NaN</td>\n",
       "      <td>NaN</td>\n",
       "      <td>NaN</td>\n",
       "      <td>0</td>\n",
       "      <td>7</td>\n",
       "      <td>2009</td>\n",
       "      <td>WD</td>\n",
       "      <td>Normal</td>\n",
       "      <td>265000</td>\n",
       "    </tr>\n",
       "    <tr>\n",
       "      <th>499</th>\n",
       "      <td>500</td>\n",
       "      <td>20</td>\n",
       "      <td>RL</td>\n",
       "      <td>70.0</td>\n",
       "      <td>7535</td>\n",
       "      <td>Pave</td>\n",
       "      <td>NaN</td>\n",
       "      <td>IR1</td>\n",
       "      <td>Lvl</td>\n",
       "      <td>AllPub</td>\n",
       "      <td>...</td>\n",
       "      <td>0</td>\n",
       "      <td>NaN</td>\n",
       "      <td>MnWw</td>\n",
       "      <td>Shed</td>\n",
       "      <td>480</td>\n",
       "      <td>6</td>\n",
       "      <td>2007</td>\n",
       "      <td>WD</td>\n",
       "      <td>Normal</td>\n",
       "      <td>120000</td>\n",
       "    </tr>\n",
       "    <tr>\n",
       "      <th>1217</th>\n",
       "      <td>1218</td>\n",
       "      <td>20</td>\n",
       "      <td>FV</td>\n",
       "      <td>72.0</td>\n",
       "      <td>8640</td>\n",
       "      <td>Pave</td>\n",
       "      <td>NaN</td>\n",
       "      <td>Reg</td>\n",
       "      <td>Lvl</td>\n",
       "      <td>AllPub</td>\n",
       "      <td>...</td>\n",
       "      <td>0</td>\n",
       "      <td>NaN</td>\n",
       "      <td>NaN</td>\n",
       "      <td>NaN</td>\n",
       "      <td>0</td>\n",
       "      <td>9</td>\n",
       "      <td>2009</td>\n",
       "      <td>New</td>\n",
       "      <td>Partial</td>\n",
       "      <td>229456</td>\n",
       "    </tr>\n",
       "    <tr>\n",
       "      <th>1390</th>\n",
       "      <td>1391</td>\n",
       "      <td>20</td>\n",
       "      <td>RL</td>\n",
       "      <td>70.0</td>\n",
       "      <td>9100</td>\n",
       "      <td>Pave</td>\n",
       "      <td>NaN</td>\n",
       "      <td>Reg</td>\n",
       "      <td>Lvl</td>\n",
       "      <td>AllPub</td>\n",
       "      <td>...</td>\n",
       "      <td>0</td>\n",
       "      <td>NaN</td>\n",
       "      <td>NaN</td>\n",
       "      <td>NaN</td>\n",
       "      <td>0</td>\n",
       "      <td>9</td>\n",
       "      <td>2006</td>\n",
       "      <td>WD</td>\n",
       "      <td>Normal</td>\n",
       "      <td>235000</td>\n",
       "    </tr>\n",
       "    <tr>\n",
       "      <th>320</th>\n",
       "      <td>321</td>\n",
       "      <td>60</td>\n",
       "      <td>RL</td>\n",
       "      <td>111.0</td>\n",
       "      <td>16259</td>\n",
       "      <td>Pave</td>\n",
       "      <td>NaN</td>\n",
       "      <td>Reg</td>\n",
       "      <td>Lvl</td>\n",
       "      <td>AllPub</td>\n",
       "      <td>...</td>\n",
       "      <td>0</td>\n",
       "      <td>NaN</td>\n",
       "      <td>NaN</td>\n",
       "      <td>NaN</td>\n",
       "      <td>0</td>\n",
       "      <td>9</td>\n",
       "      <td>2006</td>\n",
       "      <td>New</td>\n",
       "      <td>Partial</td>\n",
       "      <td>342643</td>\n",
       "    </tr>\n",
       "    <tr>\n",
       "      <th>63</th>\n",
       "      <td>64</td>\n",
       "      <td>70</td>\n",
       "      <td>RM</td>\n",
       "      <td>50.0</td>\n",
       "      <td>10300</td>\n",
       "      <td>Pave</td>\n",
       "      <td>NaN</td>\n",
       "      <td>IR1</td>\n",
       "      <td>Bnk</td>\n",
       "      <td>AllPub</td>\n",
       "      <td>...</td>\n",
       "      <td>0</td>\n",
       "      <td>NaN</td>\n",
       "      <td>GdPrv</td>\n",
       "      <td>NaN</td>\n",
       "      <td>0</td>\n",
       "      <td>4</td>\n",
       "      <td>2010</td>\n",
       "      <td>WD</td>\n",
       "      <td>Normal</td>\n",
       "      <td>140000</td>\n",
       "    </tr>\n",
       "    <tr>\n",
       "      <th>304</th>\n",
       "      <td>305</td>\n",
       "      <td>75</td>\n",
       "      <td>RM</td>\n",
       "      <td>87.0</td>\n",
       "      <td>18386</td>\n",
       "      <td>Pave</td>\n",
       "      <td>NaN</td>\n",
       "      <td>Reg</td>\n",
       "      <td>Lvl</td>\n",
       "      <td>AllPub</td>\n",
       "      <td>...</td>\n",
       "      <td>0</td>\n",
       "      <td>NaN</td>\n",
       "      <td>NaN</td>\n",
       "      <td>NaN</td>\n",
       "      <td>0</td>\n",
       "      <td>5</td>\n",
       "      <td>2008</td>\n",
       "      <td>WD</td>\n",
       "      <td>Normal</td>\n",
       "      <td>295000</td>\n",
       "    </tr>\n",
       "    <tr>\n",
       "      <th>559</th>\n",
       "      <td>560</td>\n",
       "      <td>120</td>\n",
       "      <td>RL</td>\n",
       "      <td>NaN</td>\n",
       "      <td>3196</td>\n",
       "      <td>Pave</td>\n",
       "      <td>NaN</td>\n",
       "      <td>Reg</td>\n",
       "      <td>Lvl</td>\n",
       "      <td>AllPub</td>\n",
       "      <td>...</td>\n",
       "      <td>0</td>\n",
       "      <td>NaN</td>\n",
       "      <td>NaN</td>\n",
       "      <td>NaN</td>\n",
       "      <td>0</td>\n",
       "      <td>10</td>\n",
       "      <td>2006</td>\n",
       "      <td>WD</td>\n",
       "      <td>Normal</td>\n",
       "      <td>234000</td>\n",
       "    </tr>\n",
       "    <tr>\n",
       "      <th>1348</th>\n",
       "      <td>1349</td>\n",
       "      <td>20</td>\n",
       "      <td>RL</td>\n",
       "      <td>NaN</td>\n",
       "      <td>16196</td>\n",
       "      <td>Pave</td>\n",
       "      <td>NaN</td>\n",
       "      <td>IR3</td>\n",
       "      <td>Low</td>\n",
       "      <td>AllPub</td>\n",
       "      <td>...</td>\n",
       "      <td>0</td>\n",
       "      <td>NaN</td>\n",
       "      <td>NaN</td>\n",
       "      <td>NaN</td>\n",
       "      <td>0</td>\n",
       "      <td>8</td>\n",
       "      <td>2007</td>\n",
       "      <td>WD</td>\n",
       "      <td>Normal</td>\n",
       "      <td>215000</td>\n",
       "    </tr>\n",
       "    <tr>\n",
       "      <th>422</th>\n",
       "      <td>423</td>\n",
       "      <td>20</td>\n",
       "      <td>RL</td>\n",
       "      <td>100.0</td>\n",
       "      <td>21750</td>\n",
       "      <td>Pave</td>\n",
       "      <td>NaN</td>\n",
       "      <td>Reg</td>\n",
       "      <td>HLS</td>\n",
       "      <td>AllPub</td>\n",
       "      <td>...</td>\n",
       "      <td>0</td>\n",
       "      <td>NaN</td>\n",
       "      <td>NaN</td>\n",
       "      <td>NaN</td>\n",
       "      <td>0</td>\n",
       "      <td>2</td>\n",
       "      <td>2008</td>\n",
       "      <td>WD</td>\n",
       "      <td>Normal</td>\n",
       "      <td>113000</td>\n",
       "    </tr>\n",
       "    <tr>\n",
       "      <th>622</th>\n",
       "      <td>623</td>\n",
       "      <td>20</td>\n",
       "      <td>RL</td>\n",
       "      <td>71.0</td>\n",
       "      <td>7064</td>\n",
       "      <td>Pave</td>\n",
       "      <td>NaN</td>\n",
       "      <td>Reg</td>\n",
       "      <td>Lvl</td>\n",
       "      <td>AllPub</td>\n",
       "      <td>...</td>\n",
       "      <td>0</td>\n",
       "      <td>NaN</td>\n",
       "      <td>NaN</td>\n",
       "      <td>NaN</td>\n",
       "      <td>0</td>\n",
       "      <td>7</td>\n",
       "      <td>2009</td>\n",
       "      <td>WD</td>\n",
       "      <td>Normal</td>\n",
       "      <td>135000</td>\n",
       "    </tr>\n",
       "    <tr>\n",
       "      <th>301</th>\n",
       "      <td>302</td>\n",
       "      <td>60</td>\n",
       "      <td>RL</td>\n",
       "      <td>66.0</td>\n",
       "      <td>16226</td>\n",
       "      <td>Pave</td>\n",
       "      <td>NaN</td>\n",
       "      <td>IR3</td>\n",
       "      <td>Lvl</td>\n",
       "      <td>AllPub</td>\n",
       "      <td>...</td>\n",
       "      <td>0</td>\n",
       "      <td>NaN</td>\n",
       "      <td>NaN</td>\n",
       "      <td>NaN</td>\n",
       "      <td>0</td>\n",
       "      <td>5</td>\n",
       "      <td>2007</td>\n",
       "      <td>WD</td>\n",
       "      <td>Normal</td>\n",
       "      <td>267000</td>\n",
       "    </tr>\n",
       "    <tr>\n",
       "      <th>1440</th>\n",
       "      <td>1441</td>\n",
       "      <td>70</td>\n",
       "      <td>RL</td>\n",
       "      <td>79.0</td>\n",
       "      <td>11526</td>\n",
       "      <td>Pave</td>\n",
       "      <td>NaN</td>\n",
       "      <td>IR1</td>\n",
       "      <td>Bnk</td>\n",
       "      <td>AllPub</td>\n",
       "      <td>...</td>\n",
       "      <td>0</td>\n",
       "      <td>NaN</td>\n",
       "      <td>NaN</td>\n",
       "      <td>NaN</td>\n",
       "      <td>0</td>\n",
       "      <td>9</td>\n",
       "      <td>2008</td>\n",
       "      <td>WD</td>\n",
       "      <td>Normal</td>\n",
       "      <td>191000</td>\n",
       "    </tr>\n",
       "    <tr>\n",
       "      <th>818</th>\n",
       "      <td>819</td>\n",
       "      <td>80</td>\n",
       "      <td>RL</td>\n",
       "      <td>80.0</td>\n",
       "      <td>8816</td>\n",
       "      <td>Pave</td>\n",
       "      <td>NaN</td>\n",
       "      <td>Reg</td>\n",
       "      <td>Lvl</td>\n",
       "      <td>AllPub</td>\n",
       "      <td>...</td>\n",
       "      <td>0</td>\n",
       "      <td>NaN</td>\n",
       "      <td>MnPrv</td>\n",
       "      <td>NaN</td>\n",
       "      <td>0</td>\n",
       "      <td>6</td>\n",
       "      <td>2010</td>\n",
       "      <td>WD</td>\n",
       "      <td>Normal</td>\n",
       "      <td>155000</td>\n",
       "    </tr>\n",
       "    <tr>\n",
       "      <th>1401</th>\n",
       "      <td>1402</td>\n",
       "      <td>60</td>\n",
       "      <td>RL</td>\n",
       "      <td>62.0</td>\n",
       "      <td>7415</td>\n",
       "      <td>Pave</td>\n",
       "      <td>NaN</td>\n",
       "      <td>IR1</td>\n",
       "      <td>Lvl</td>\n",
       "      <td>AllPub</td>\n",
       "      <td>...</td>\n",
       "      <td>0</td>\n",
       "      <td>NaN</td>\n",
       "      <td>NaN</td>\n",
       "      <td>NaN</td>\n",
       "      <td>0</td>\n",
       "      <td>4</td>\n",
       "      <td>2008</td>\n",
       "      <td>WD</td>\n",
       "      <td>Normal</td>\n",
       "      <td>193000</td>\n",
       "    </tr>\n",
       "    <tr>\n",
       "      <th>203</th>\n",
       "      <td>204</td>\n",
       "      <td>120</td>\n",
       "      <td>RM</td>\n",
       "      <td>NaN</td>\n",
       "      <td>4438</td>\n",
       "      <td>Pave</td>\n",
       "      <td>NaN</td>\n",
       "      <td>Reg</td>\n",
       "      <td>Lvl</td>\n",
       "      <td>AllPub</td>\n",
       "      <td>...</td>\n",
       "      <td>0</td>\n",
       "      <td>NaN</td>\n",
       "      <td>NaN</td>\n",
       "      <td>NaN</td>\n",
       "      <td>0</td>\n",
       "      <td>1</td>\n",
       "      <td>2008</td>\n",
       "      <td>WD</td>\n",
       "      <td>Normal</td>\n",
       "      <td>149000</td>\n",
       "    </tr>\n",
       "    <tr>\n",
       "      <th>508</th>\n",
       "      <td>509</td>\n",
       "      <td>70</td>\n",
       "      <td>RM</td>\n",
       "      <td>60.0</td>\n",
       "      <td>9600</td>\n",
       "      <td>Pave</td>\n",
       "      <td>NaN</td>\n",
       "      <td>Reg</td>\n",
       "      <td>Lvl</td>\n",
       "      <td>AllPub</td>\n",
       "      <td>...</td>\n",
       "      <td>0</td>\n",
       "      <td>NaN</td>\n",
       "      <td>NaN</td>\n",
       "      <td>NaN</td>\n",
       "      <td>0</td>\n",
       "      <td>10</td>\n",
       "      <td>2008</td>\n",
       "      <td>WD</td>\n",
       "      <td>Normal</td>\n",
       "      <td>161000</td>\n",
       "    </tr>\n",
       "    <tr>\n",
       "      <th>524</th>\n",
       "      <td>525</td>\n",
       "      <td>60</td>\n",
       "      <td>RL</td>\n",
       "      <td>95.0</td>\n",
       "      <td>11787</td>\n",
       "      <td>Pave</td>\n",
       "      <td>NaN</td>\n",
       "      <td>IR1</td>\n",
       "      <td>Lvl</td>\n",
       "      <td>AllPub</td>\n",
       "      <td>...</td>\n",
       "      <td>0</td>\n",
       "      <td>NaN</td>\n",
       "      <td>NaN</td>\n",
       "      <td>NaN</td>\n",
       "      <td>0</td>\n",
       "      <td>8</td>\n",
       "      <td>2007</td>\n",
       "      <td>WD</td>\n",
       "      <td>Normal</td>\n",
       "      <td>315750</td>\n",
       "    </tr>\n",
       "    <tr>\n",
       "      <th>1362</th>\n",
       "      <td>1363</td>\n",
       "      <td>50</td>\n",
       "      <td>RL</td>\n",
       "      <td>NaN</td>\n",
       "      <td>12513</td>\n",
       "      <td>Pave</td>\n",
       "      <td>NaN</td>\n",
       "      <td>IR1</td>\n",
       "      <td>Lvl</td>\n",
       "      <td>AllPub</td>\n",
       "      <td>...</td>\n",
       "      <td>0</td>\n",
       "      <td>NaN</td>\n",
       "      <td>NaN</td>\n",
       "      <td>NaN</td>\n",
       "      <td>0</td>\n",
       "      <td>6</td>\n",
       "      <td>2009</td>\n",
       "      <td>WD</td>\n",
       "      <td>Normal</td>\n",
       "      <td>104900</td>\n",
       "    </tr>\n",
       "    <tr>\n",
       "      <th>461</th>\n",
       "      <td>462</td>\n",
       "      <td>70</td>\n",
       "      <td>RL</td>\n",
       "      <td>60.0</td>\n",
       "      <td>7200</td>\n",
       "      <td>Pave</td>\n",
       "      <td>NaN</td>\n",
       "      <td>Reg</td>\n",
       "      <td>Lvl</td>\n",
       "      <td>AllPub</td>\n",
       "      <td>...</td>\n",
       "      <td>0</td>\n",
       "      <td>NaN</td>\n",
       "      <td>MnPrv</td>\n",
       "      <td>NaN</td>\n",
       "      <td>0</td>\n",
       "      <td>4</td>\n",
       "      <td>2009</td>\n",
       "      <td>WD</td>\n",
       "      <td>Normal</td>\n",
       "      <td>155000</td>\n",
       "    </tr>\n",
       "    <tr>\n",
       "      <th>698</th>\n",
       "      <td>699</td>\n",
       "      <td>20</td>\n",
       "      <td>RL</td>\n",
       "      <td>65.0</td>\n",
       "      <td>8450</td>\n",
       "      <td>Pave</td>\n",
       "      <td>NaN</td>\n",
       "      <td>Reg</td>\n",
       "      <td>Lvl</td>\n",
       "      <td>AllPub</td>\n",
       "      <td>...</td>\n",
       "      <td>0</td>\n",
       "      <td>NaN</td>\n",
       "      <td>MnPrv</td>\n",
       "      <td>NaN</td>\n",
       "      <td>0</td>\n",
       "      <td>4</td>\n",
       "      <td>2010</td>\n",
       "      <td>WD</td>\n",
       "      <td>Normal</td>\n",
       "      <td>138500</td>\n",
       "    </tr>\n",
       "    <tr>\n",
       "      <th>789</th>\n",
       "      <td>790</td>\n",
       "      <td>60</td>\n",
       "      <td>RL</td>\n",
       "      <td>NaN</td>\n",
       "      <td>12205</td>\n",
       "      <td>Pave</td>\n",
       "      <td>NaN</td>\n",
       "      <td>IR1</td>\n",
       "      <td>Low</td>\n",
       "      <td>AllPub</td>\n",
       "      <td>...</td>\n",
       "      <td>0</td>\n",
       "      <td>NaN</td>\n",
       "      <td>NaN</td>\n",
       "      <td>NaN</td>\n",
       "      <td>0</td>\n",
       "      <td>7</td>\n",
       "      <td>2007</td>\n",
       "      <td>WD</td>\n",
       "      <td>Normal</td>\n",
       "      <td>187500</td>\n",
       "    </tr>\n",
       "    <tr>\n",
       "      <th>86</th>\n",
       "      <td>87</td>\n",
       "      <td>60</td>\n",
       "      <td>RL</td>\n",
       "      <td>122.0</td>\n",
       "      <td>11911</td>\n",
       "      <td>Pave</td>\n",
       "      <td>NaN</td>\n",
       "      <td>IR2</td>\n",
       "      <td>Lvl</td>\n",
       "      <td>AllPub</td>\n",
       "      <td>...</td>\n",
       "      <td>0</td>\n",
       "      <td>NaN</td>\n",
       "      <td>NaN</td>\n",
       "      <td>NaN</td>\n",
       "      <td>0</td>\n",
       "      <td>3</td>\n",
       "      <td>2009</td>\n",
       "      <td>WD</td>\n",
       "      <td>Normal</td>\n",
       "      <td>174000</td>\n",
       "    </tr>\n",
       "    <tr>\n",
       "      <th>639</th>\n",
       "      <td>640</td>\n",
       "      <td>120</td>\n",
       "      <td>RL</td>\n",
       "      <td>53.0</td>\n",
       "      <td>3982</td>\n",
       "      <td>Pave</td>\n",
       "      <td>NaN</td>\n",
       "      <td>Reg</td>\n",
       "      <td>Lvl</td>\n",
       "      <td>AllPub</td>\n",
       "      <td>...</td>\n",
       "      <td>0</td>\n",
       "      <td>NaN</td>\n",
       "      <td>NaN</td>\n",
       "      <td>NaN</td>\n",
       "      <td>0</td>\n",
       "      <td>10</td>\n",
       "      <td>2006</td>\n",
       "      <td>New</td>\n",
       "      <td>Partial</td>\n",
       "      <td>264561</td>\n",
       "    </tr>\n",
       "    <tr>\n",
       "      <th>48</th>\n",
       "      <td>49</td>\n",
       "      <td>190</td>\n",
       "      <td>RM</td>\n",
       "      <td>33.0</td>\n",
       "      <td>4456</td>\n",
       "      <td>Pave</td>\n",
       "      <td>NaN</td>\n",
       "      <td>Reg</td>\n",
       "      <td>Lvl</td>\n",
       "      <td>AllPub</td>\n",
       "      <td>...</td>\n",
       "      <td>0</td>\n",
       "      <td>NaN</td>\n",
       "      <td>NaN</td>\n",
       "      <td>NaN</td>\n",
       "      <td>0</td>\n",
       "      <td>6</td>\n",
       "      <td>2009</td>\n",
       "      <td>New</td>\n",
       "      <td>Partial</td>\n",
       "      <td>113000</td>\n",
       "    </tr>\n",
       "    <tr>\n",
       "      <th>97</th>\n",
       "      <td>98</td>\n",
       "      <td>20</td>\n",
       "      <td>RL</td>\n",
       "      <td>73.0</td>\n",
       "      <td>10921</td>\n",
       "      <td>Pave</td>\n",
       "      <td>NaN</td>\n",
       "      <td>Reg</td>\n",
       "      <td>HLS</td>\n",
       "      <td>AllPub</td>\n",
       "      <td>...</td>\n",
       "      <td>0</td>\n",
       "      <td>NaN</td>\n",
       "      <td>NaN</td>\n",
       "      <td>NaN</td>\n",
       "      <td>0</td>\n",
       "      <td>5</td>\n",
       "      <td>2007</td>\n",
       "      <td>WD</td>\n",
       "      <td>Normal</td>\n",
       "      <td>94750</td>\n",
       "    </tr>\n",
       "  </tbody>\n",
       "</table>\n",
       "<p>1460 rows × 81 columns</p>\n",
       "</div>"
      ],
      "text/plain": [
       "         s  MSSubClass MSZoning  LotFrontage  LotArea Street Alley LotShape  \\\n",
       "539    540          20       RL          NaN    11423   Pave   NaN      Reg   \n",
       "791    792          80       RL          NaN    11333   Pave   NaN      IR1   \n",
       "816    817          20       RL          NaN    11425   Pave   NaN      IR1   \n",
       "989    990          60       FV         65.0     8125   Pave   NaN      Reg   \n",
       "890    891          50       RL         60.0     8064   Pave   NaN      Reg   \n",
       "1291  1292         160       RM         21.0     1680   Pave   NaN      Reg   \n",
       "272    273          60       RL         92.0    11764   Pave   NaN      IR1   \n",
       "794    795          60       RL          NaN    10832   Pave   NaN      IR1   \n",
       "1019  1020         120       RL         43.0     3013   Pave   NaN      Reg   \n",
       "515    516          20       RL         94.0    12220   Pave   NaN      Reg   \n",
       "273    274          20       RL         80.0     9600   Pave   NaN      Reg   \n",
       "494    495          30       RM         50.0     5784   Pave   NaN      Reg   \n",
       "1168  1169          70       RL        120.0    13728   Pave   NaN      Reg   \n",
       "665    666          60       RL        106.0    11194   Pave   NaN      IR1   \n",
       "278    279          20       RL        107.0    14450   Pave   NaN      Reg   \n",
       "198    199          75       RM         92.0     5520   Pave   NaN      Reg   \n",
       "645    646          20       RL          NaN    10530   Pave   NaN      IR1   \n",
       "713    714         190       RL         60.0     9873   Pave   NaN      Reg   \n",
       "187    188          50       RL         60.0    10410   Pave   NaN      Reg   \n",
       "941    942          60       RL          NaN     8755   Pave   NaN      IR1   \n",
       "1171  1172          20       RL         76.0     9120   Pave   NaN      Reg   \n",
       "598    599          20       RL         80.0    12984   Pave   NaN      Reg   \n",
       "748    749          20       RL         59.0    10593   Pave   NaN      IR1   \n",
       "865    866          20       RL          NaN     8750   Pave   NaN      IR1   \n",
       "1287  1288          20       RL          NaN    36500   Pave   NaN      IR1   \n",
       "1158  1159          20       RL         92.0    11932   Pave   NaN      Reg   \n",
       "1192  1193          50       RM         60.0     9600   Pave  Grvl      Reg   \n",
       "872    873          20       RL         74.0     8892   Pave   NaN      Reg   \n",
       "1011  1012          90       RL         75.0     9825   Pave   NaN      Reg   \n",
       "392    393          20       RL          NaN     8339   Pave   NaN      IR1   \n",
       "...    ...         ...      ...          ...      ...    ...   ...      ...   \n",
       "504    505         160       RL         24.0     2308   Pave   NaN      Reg   \n",
       "692    693          60       RL         42.0    26178   Pave   NaN      IR1   \n",
       "140    141          20       RL         70.0    10500   Pave   NaN      Reg   \n",
       "1308  1309          20       RM        100.0    12000   Pave   NaN      Reg   \n",
       "517    518          60       RL         79.0    10208   Pave   NaN      IR1   \n",
       "499    500          20       RL         70.0     7535   Pave   NaN      IR1   \n",
       "1217  1218          20       FV         72.0     8640   Pave   NaN      Reg   \n",
       "1390  1391          20       RL         70.0     9100   Pave   NaN      Reg   \n",
       "320    321          60       RL        111.0    16259   Pave   NaN      Reg   \n",
       "63      64          70       RM         50.0    10300   Pave   NaN      IR1   \n",
       "304    305          75       RM         87.0    18386   Pave   NaN      Reg   \n",
       "559    560         120       RL          NaN     3196   Pave   NaN      Reg   \n",
       "1348  1349          20       RL          NaN    16196   Pave   NaN      IR3   \n",
       "422    423          20       RL        100.0    21750   Pave   NaN      Reg   \n",
       "622    623          20       RL         71.0     7064   Pave   NaN      Reg   \n",
       "301    302          60       RL         66.0    16226   Pave   NaN      IR3   \n",
       "1440  1441          70       RL         79.0    11526   Pave   NaN      IR1   \n",
       "818    819          80       RL         80.0     8816   Pave   NaN      Reg   \n",
       "1401  1402          60       RL         62.0     7415   Pave   NaN      IR1   \n",
       "203    204         120       RM          NaN     4438   Pave   NaN      Reg   \n",
       "508    509          70       RM         60.0     9600   Pave   NaN      Reg   \n",
       "524    525          60       RL         95.0    11787   Pave   NaN      IR1   \n",
       "1362  1363          50       RL          NaN    12513   Pave   NaN      IR1   \n",
       "461    462          70       RL         60.0     7200   Pave   NaN      Reg   \n",
       "698    699          20       RL         65.0     8450   Pave   NaN      Reg   \n",
       "789    790          60       RL          NaN    12205   Pave   NaN      IR1   \n",
       "86      87          60       RL        122.0    11911   Pave   NaN      IR2   \n",
       "639    640         120       RL         53.0     3982   Pave   NaN      Reg   \n",
       "48      49         190       RM         33.0     4456   Pave   NaN      Reg   \n",
       "97      98          20       RL         73.0    10921   Pave   NaN      Reg   \n",
       "\n",
       "     LandContour Utilities    ...     PoolArea PoolQC  Fence MiscFeature  \\\n",
       "539          Lvl    AllPub    ...            0    NaN  MnPrv        Shed   \n",
       "791          Lvl    AllPub    ...            0    NaN    NaN         NaN   \n",
       "816          Lvl    AllPub    ...            0    NaN    NaN         NaN   \n",
       "989          Lvl    AllPub    ...            0    NaN    NaN         NaN   \n",
       "890          Lvl    AllPub    ...            0    NaN  MnPrv        Shed   \n",
       "1291         Lvl    AllPub    ...            0    NaN    NaN         NaN   \n",
       "272          Lvl    AllPub    ...            0    NaN    NaN         NaN   \n",
       "794          Lvl    AllPub    ...            0    NaN    NaN        Shed   \n",
       "1019         Lvl    AllPub    ...            0    NaN    NaN         NaN   \n",
       "515          Lvl    AllPub    ...            0    NaN    NaN         NaN   \n",
       "273          Lvl    AllPub    ...            0    NaN  MnPrv         NaN   \n",
       "494          Lvl    AllPub    ...            0    NaN    NaN         NaN   \n",
       "1168         Lvl    AllPub    ...            0    NaN    NaN         NaN   \n",
       "665          Lvl    AllPub    ...            0    NaN    NaN         NaN   \n",
       "278          Lvl    AllPub    ...            0    NaN    NaN         NaN   \n",
       "198          Lvl    AllPub    ...            0    NaN  MnPrv         NaN   \n",
       "645          Lvl    AllPub    ...            0    NaN    NaN         NaN   \n",
       "713          Lvl    AllPub    ...            0    NaN    NaN         NaN   \n",
       "187          Lvl    AllPub    ...            0    NaN  MnPrv         NaN   \n",
       "941          Lvl    AllPub    ...            0    NaN  GdPrv         NaN   \n",
       "1171         Lvl    AllPub    ...            0    NaN    NaN        Shed   \n",
       "598          Bnk    AllPub    ...            0    NaN    NaN         NaN   \n",
       "748          Lvl    AllPub    ...            0    NaN    NaN         NaN   \n",
       "865          Lvl    AllPub    ...            0    NaN  MnPrv         NaN   \n",
       "1287         Low    AllPub    ...            0    NaN    NaN         NaN   \n",
       "1158         Lvl    AllPub    ...            0    NaN    NaN         NaN   \n",
       "1192         Lvl    AllPub    ...            0    NaN   GdWo         NaN   \n",
       "872          Lvl    AllPub    ...            0    NaN   GdWo         NaN   \n",
       "1011         Lvl    AllPub    ...            0    NaN    NaN         NaN   \n",
       "392          Lvl    AllPub    ...            0    NaN  MnPrv        Shed   \n",
       "...          ...       ...    ...          ...    ...    ...         ...   \n",
       "504          Lvl    AllPub    ...            0    NaN    NaN         NaN   \n",
       "692          Lvl    AllPub    ...            0    NaN    NaN         NaN   \n",
       "140          Lvl    AllPub    ...            0    NaN    NaN         NaN   \n",
       "1308         Lvl    AllPub    ...            0    NaN   GdWo         NaN   \n",
       "517          Lvl    AllPub    ...            0    NaN    NaN         NaN   \n",
       "499          Lvl    AllPub    ...            0    NaN   MnWw        Shed   \n",
       "1217         Lvl    AllPub    ...            0    NaN    NaN         NaN   \n",
       "1390         Lvl    AllPub    ...            0    NaN    NaN         NaN   \n",
       "320          Lvl    AllPub    ...            0    NaN    NaN         NaN   \n",
       "63           Bnk    AllPub    ...            0    NaN  GdPrv         NaN   \n",
       "304          Lvl    AllPub    ...            0    NaN    NaN         NaN   \n",
       "559          Lvl    AllPub    ...            0    NaN    NaN         NaN   \n",
       "1348         Low    AllPub    ...            0    NaN    NaN         NaN   \n",
       "422          HLS    AllPub    ...            0    NaN    NaN         NaN   \n",
       "622          Lvl    AllPub    ...            0    NaN    NaN         NaN   \n",
       "301          Lvl    AllPub    ...            0    NaN    NaN         NaN   \n",
       "1440         Bnk    AllPub    ...            0    NaN    NaN         NaN   \n",
       "818          Lvl    AllPub    ...            0    NaN  MnPrv         NaN   \n",
       "1401         Lvl    AllPub    ...            0    NaN    NaN         NaN   \n",
       "203          Lvl    AllPub    ...            0    NaN    NaN         NaN   \n",
       "508          Lvl    AllPub    ...            0    NaN    NaN         NaN   \n",
       "524          Lvl    AllPub    ...            0    NaN    NaN         NaN   \n",
       "1362         Lvl    AllPub    ...            0    NaN    NaN         NaN   \n",
       "461          Lvl    AllPub    ...            0    NaN  MnPrv         NaN   \n",
       "698          Lvl    AllPub    ...            0    NaN  MnPrv         NaN   \n",
       "789          Low    AllPub    ...            0    NaN    NaN         NaN   \n",
       "86           Lvl    AllPub    ...            0    NaN    NaN         NaN   \n",
       "639          Lvl    AllPub    ...            0    NaN    NaN         NaN   \n",
       "48           Lvl    AllPub    ...            0    NaN    NaN         NaN   \n",
       "97           HLS    AllPub    ...            0    NaN    NaN         NaN   \n",
       "\n",
       "     MiscVal MoSold YrSold  SaleType  SaleCondition  SalePrice  \n",
       "539     2000      5   2010        WD         Normal     272000  \n",
       "791        0      5   2007        WD         Normal     146800  \n",
       "816        0      7   2006        WD         Normal     137000  \n",
       "989        0      8   2006       New        Partial     197000  \n",
       "890     2000      7   2007        WD         Normal     122900  \n",
       "1291       0      2   2009        WD         Normal     119500  \n",
       "272        0      4   2010        WD         Normal     290000  \n",
       "794      500     10   2008        WD         Normal     194500  \n",
       "1019       0      4   2006        WD         Normal     213490  \n",
       "515        0      9   2009       New        Partial     402861  \n",
       "273        0      4   2009        WD         Normal     139000  \n",
       "494        0     12   2009        WD         Normal      91300  \n",
       "1168       0      7   2008        WD         Normal     235000  \n",
       "665        0     11   2006        WD         Normal     230500  \n",
       "278        0      5   2007       New        Partial     415298  \n",
       "198        0      7   2009        WD        Abnorml     104000  \n",
       "645        0      3   2007        WD         Normal     143250  \n",
       "713        0      5   2006        WD         Normal     129000  \n",
       "187        0      8   2009        WD         Normal     135000  \n",
       "941        0      6   2009        WD         Normal     214000  \n",
       "1171    1400     11   2008        WD         Normal     163000  \n",
       "598        0      3   2006        WD         Normal     217500  \n",
       "748        0      3   2010        WD         Normal     260400  \n",
       "865        0      8   2009        WD         Normal     148500  \n",
       "1287       0      6   2006        WD         Normal     190000  \n",
       "1158       0      6   2008     ConLD        Partial     235128  \n",
       "1192       0      7   2007        WD         Normal     125000  \n",
       "872        0     10   2008        WD         Normal     116000  \n",
       "1011       0      5   2010        WD         Normal     100000  \n",
       "392     1200      7   2007        WD         Normal     106500  \n",
       "...      ...    ...    ...       ...            ...        ...  \n",
       "504        0      6   2009        WD         Normal     147000  \n",
       "692        0      4   2006        WD         Normal     335000  \n",
       "140        0      4   2010     ConLI         Normal     115000  \n",
       "1308       0      5   2008        WD         Normal     147000  \n",
       "517        0      7   2009        WD         Normal     265000  \n",
       "499      480      6   2007        WD         Normal     120000  \n",
       "1217       0      9   2009       New        Partial     229456  \n",
       "1390       0      9   2006        WD         Normal     235000  \n",
       "320        0      9   2006       New        Partial     342643  \n",
       "63         0      4   2010        WD         Normal     140000  \n",
       "304        0      5   2008        WD         Normal     295000  \n",
       "559        0     10   2006        WD         Normal     234000  \n",
       "1348       0      8   2007        WD         Normal     215000  \n",
       "422        0      2   2008        WD         Normal     113000  \n",
       "622        0      7   2009        WD         Normal     135000  \n",
       "301        0      5   2007        WD         Normal     267000  \n",
       "1440       0      9   2008        WD         Normal     191000  \n",
       "818        0      6   2010        WD         Normal     155000  \n",
       "1401       0      4   2008        WD         Normal     193000  \n",
       "203        0      1   2008        WD         Normal     149000  \n",
       "508        0     10   2008        WD         Normal     161000  \n",
       "524        0      8   2007        WD         Normal     315750  \n",
       "1362       0      6   2009        WD         Normal     104900  \n",
       "461        0      4   2009        WD         Normal     155000  \n",
       "698        0      4   2010        WD         Normal     138500  \n",
       "789        0      7   2007        WD         Normal     187500  \n",
       "86         0      3   2009        WD         Normal     174000  \n",
       "639        0     10   2006       New        Partial     264561  \n",
       "48         0      6   2009       New        Partial     113000  \n",
       "97         0      5   2007        WD         Normal      94750  \n",
       "\n",
       "[1460 rows x 81 columns]"
      ]
     },
     "execution_count": 207,
     "metadata": {},
     "output_type": "execute_result"
    }
   ],
   "source": [
    "data_1"
   ]
  },
  {
   "cell_type": "code",
   "execution_count": 208,
   "metadata": {
    "collapsed": false
   },
   "outputs": [],
   "source": [
    "train_data=data_1[:int(len(data_1)*0.60)]"
   ]
  },
  {
   "cell_type": "code",
   "execution_count": 209,
   "metadata": {
    "collapsed": false
   },
   "outputs": [
    {
     "data": {
      "text/plain": [
       "876"
      ]
     },
     "execution_count": 209,
     "metadata": {},
     "output_type": "execute_result"
    }
   ],
   "source": [
    "len(train_data)"
   ]
  },
  {
   "cell_type": "code",
   "execution_count": 210,
   "metadata": {
    "collapsed": false
   },
   "outputs": [
    {
     "data": {
      "text/html": [
       "<div>\n",
       "<table border=\"1\" class=\"dataframe\">\n",
       "  <thead>\n",
       "    <tr style=\"text-align: right;\">\n",
       "      <th></th>\n",
       "      <th>s</th>\n",
       "      <th>MSSubClass</th>\n",
       "      <th>MSZoning</th>\n",
       "      <th>LotFrontage</th>\n",
       "      <th>LotArea</th>\n",
       "      <th>Street</th>\n",
       "      <th>Alley</th>\n",
       "      <th>LotShape</th>\n",
       "      <th>LandContour</th>\n",
       "      <th>Utilities</th>\n",
       "      <th>...</th>\n",
       "      <th>PoolArea</th>\n",
       "      <th>PoolQC</th>\n",
       "      <th>Fence</th>\n",
       "      <th>MiscFeature</th>\n",
       "      <th>MiscVal</th>\n",
       "      <th>MoSold</th>\n",
       "      <th>YrSold</th>\n",
       "      <th>SaleType</th>\n",
       "      <th>SaleCondition</th>\n",
       "      <th>SalePrice</th>\n",
       "    </tr>\n",
       "  </thead>\n",
       "  <tbody>\n",
       "    <tr>\n",
       "      <th>539</th>\n",
       "      <td>540</td>\n",
       "      <td>20</td>\n",
       "      <td>RL</td>\n",
       "      <td>NaN</td>\n",
       "      <td>11423</td>\n",
       "      <td>Pave</td>\n",
       "      <td>NaN</td>\n",
       "      <td>Reg</td>\n",
       "      <td>Lvl</td>\n",
       "      <td>AllPub</td>\n",
       "      <td>...</td>\n",
       "      <td>0</td>\n",
       "      <td>NaN</td>\n",
       "      <td>MnPrv</td>\n",
       "      <td>Shed</td>\n",
       "      <td>2000</td>\n",
       "      <td>5</td>\n",
       "      <td>2010</td>\n",
       "      <td>WD</td>\n",
       "      <td>Normal</td>\n",
       "      <td>272000</td>\n",
       "    </tr>\n",
       "    <tr>\n",
       "      <th>791</th>\n",
       "      <td>792</td>\n",
       "      <td>80</td>\n",
       "      <td>RL</td>\n",
       "      <td>NaN</td>\n",
       "      <td>11333</td>\n",
       "      <td>Pave</td>\n",
       "      <td>NaN</td>\n",
       "      <td>IR1</td>\n",
       "      <td>Lvl</td>\n",
       "      <td>AllPub</td>\n",
       "      <td>...</td>\n",
       "      <td>0</td>\n",
       "      <td>NaN</td>\n",
       "      <td>NaN</td>\n",
       "      <td>NaN</td>\n",
       "      <td>0</td>\n",
       "      <td>5</td>\n",
       "      <td>2007</td>\n",
       "      <td>WD</td>\n",
       "      <td>Normal</td>\n",
       "      <td>146800</td>\n",
       "    </tr>\n",
       "    <tr>\n",
       "      <th>816</th>\n",
       "      <td>817</td>\n",
       "      <td>20</td>\n",
       "      <td>RL</td>\n",
       "      <td>NaN</td>\n",
       "      <td>11425</td>\n",
       "      <td>Pave</td>\n",
       "      <td>NaN</td>\n",
       "      <td>IR1</td>\n",
       "      <td>Lvl</td>\n",
       "      <td>AllPub</td>\n",
       "      <td>...</td>\n",
       "      <td>0</td>\n",
       "      <td>NaN</td>\n",
       "      <td>NaN</td>\n",
       "      <td>NaN</td>\n",
       "      <td>0</td>\n",
       "      <td>7</td>\n",
       "      <td>2006</td>\n",
       "      <td>WD</td>\n",
       "      <td>Normal</td>\n",
       "      <td>137000</td>\n",
       "    </tr>\n",
       "    <tr>\n",
       "      <th>989</th>\n",
       "      <td>990</td>\n",
       "      <td>60</td>\n",
       "      <td>FV</td>\n",
       "      <td>65.0</td>\n",
       "      <td>8125</td>\n",
       "      <td>Pave</td>\n",
       "      <td>NaN</td>\n",
       "      <td>Reg</td>\n",
       "      <td>Lvl</td>\n",
       "      <td>AllPub</td>\n",
       "      <td>...</td>\n",
       "      <td>0</td>\n",
       "      <td>NaN</td>\n",
       "      <td>NaN</td>\n",
       "      <td>NaN</td>\n",
       "      <td>0</td>\n",
       "      <td>8</td>\n",
       "      <td>2006</td>\n",
       "      <td>New</td>\n",
       "      <td>Partial</td>\n",
       "      <td>197000</td>\n",
       "    </tr>\n",
       "    <tr>\n",
       "      <th>890</th>\n",
       "      <td>891</td>\n",
       "      <td>50</td>\n",
       "      <td>RL</td>\n",
       "      <td>60.0</td>\n",
       "      <td>8064</td>\n",
       "      <td>Pave</td>\n",
       "      <td>NaN</td>\n",
       "      <td>Reg</td>\n",
       "      <td>Lvl</td>\n",
       "      <td>AllPub</td>\n",
       "      <td>...</td>\n",
       "      <td>0</td>\n",
       "      <td>NaN</td>\n",
       "      <td>MnPrv</td>\n",
       "      <td>Shed</td>\n",
       "      <td>2000</td>\n",
       "      <td>7</td>\n",
       "      <td>2007</td>\n",
       "      <td>WD</td>\n",
       "      <td>Normal</td>\n",
       "      <td>122900</td>\n",
       "    </tr>\n",
       "    <tr>\n",
       "      <th>1291</th>\n",
       "      <td>1292</td>\n",
       "      <td>160</td>\n",
       "      <td>RM</td>\n",
       "      <td>21.0</td>\n",
       "      <td>1680</td>\n",
       "      <td>Pave</td>\n",
       "      <td>NaN</td>\n",
       "      <td>Reg</td>\n",
       "      <td>Lvl</td>\n",
       "      <td>AllPub</td>\n",
       "      <td>...</td>\n",
       "      <td>0</td>\n",
       "      <td>NaN</td>\n",
       "      <td>NaN</td>\n",
       "      <td>NaN</td>\n",
       "      <td>0</td>\n",
       "      <td>2</td>\n",
       "      <td>2009</td>\n",
       "      <td>WD</td>\n",
       "      <td>Normal</td>\n",
       "      <td>119500</td>\n",
       "    </tr>\n",
       "    <tr>\n",
       "      <th>272</th>\n",
       "      <td>273</td>\n",
       "      <td>60</td>\n",
       "      <td>RL</td>\n",
       "      <td>92.0</td>\n",
       "      <td>11764</td>\n",
       "      <td>Pave</td>\n",
       "      <td>NaN</td>\n",
       "      <td>IR1</td>\n",
       "      <td>Lvl</td>\n",
       "      <td>AllPub</td>\n",
       "      <td>...</td>\n",
       "      <td>0</td>\n",
       "      <td>NaN</td>\n",
       "      <td>NaN</td>\n",
       "      <td>NaN</td>\n",
       "      <td>0</td>\n",
       "      <td>4</td>\n",
       "      <td>2010</td>\n",
       "      <td>WD</td>\n",
       "      <td>Normal</td>\n",
       "      <td>290000</td>\n",
       "    </tr>\n",
       "    <tr>\n",
       "      <th>794</th>\n",
       "      <td>795</td>\n",
       "      <td>60</td>\n",
       "      <td>RL</td>\n",
       "      <td>NaN</td>\n",
       "      <td>10832</td>\n",
       "      <td>Pave</td>\n",
       "      <td>NaN</td>\n",
       "      <td>IR1</td>\n",
       "      <td>Lvl</td>\n",
       "      <td>AllPub</td>\n",
       "      <td>...</td>\n",
       "      <td>0</td>\n",
       "      <td>NaN</td>\n",
       "      <td>NaN</td>\n",
       "      <td>Shed</td>\n",
       "      <td>500</td>\n",
       "      <td>10</td>\n",
       "      <td>2008</td>\n",
       "      <td>WD</td>\n",
       "      <td>Normal</td>\n",
       "      <td>194500</td>\n",
       "    </tr>\n",
       "    <tr>\n",
       "      <th>1019</th>\n",
       "      <td>1020</td>\n",
       "      <td>120</td>\n",
       "      <td>RL</td>\n",
       "      <td>43.0</td>\n",
       "      <td>3013</td>\n",
       "      <td>Pave</td>\n",
       "      <td>NaN</td>\n",
       "      <td>Reg</td>\n",
       "      <td>Lvl</td>\n",
       "      <td>AllPub</td>\n",
       "      <td>...</td>\n",
       "      <td>0</td>\n",
       "      <td>NaN</td>\n",
       "      <td>NaN</td>\n",
       "      <td>NaN</td>\n",
       "      <td>0</td>\n",
       "      <td>4</td>\n",
       "      <td>2006</td>\n",
       "      <td>WD</td>\n",
       "      <td>Normal</td>\n",
       "      <td>213490</td>\n",
       "    </tr>\n",
       "    <tr>\n",
       "      <th>515</th>\n",
       "      <td>516</td>\n",
       "      <td>20</td>\n",
       "      <td>RL</td>\n",
       "      <td>94.0</td>\n",
       "      <td>12220</td>\n",
       "      <td>Pave</td>\n",
       "      <td>NaN</td>\n",
       "      <td>Reg</td>\n",
       "      <td>Lvl</td>\n",
       "      <td>AllPub</td>\n",
       "      <td>...</td>\n",
       "      <td>0</td>\n",
       "      <td>NaN</td>\n",
       "      <td>NaN</td>\n",
       "      <td>NaN</td>\n",
       "      <td>0</td>\n",
       "      <td>9</td>\n",
       "      <td>2009</td>\n",
       "      <td>New</td>\n",
       "      <td>Partial</td>\n",
       "      <td>402861</td>\n",
       "    </tr>\n",
       "    <tr>\n",
       "      <th>273</th>\n",
       "      <td>274</td>\n",
       "      <td>20</td>\n",
       "      <td>RL</td>\n",
       "      <td>80.0</td>\n",
       "      <td>9600</td>\n",
       "      <td>Pave</td>\n",
       "      <td>NaN</td>\n",
       "      <td>Reg</td>\n",
       "      <td>Lvl</td>\n",
       "      <td>AllPub</td>\n",
       "      <td>...</td>\n",
       "      <td>0</td>\n",
       "      <td>NaN</td>\n",
       "      <td>MnPrv</td>\n",
       "      <td>NaN</td>\n",
       "      <td>0</td>\n",
       "      <td>4</td>\n",
       "      <td>2009</td>\n",
       "      <td>WD</td>\n",
       "      <td>Normal</td>\n",
       "      <td>139000</td>\n",
       "    </tr>\n",
       "    <tr>\n",
       "      <th>494</th>\n",
       "      <td>495</td>\n",
       "      <td>30</td>\n",
       "      <td>RM</td>\n",
       "      <td>50.0</td>\n",
       "      <td>5784</td>\n",
       "      <td>Pave</td>\n",
       "      <td>NaN</td>\n",
       "      <td>Reg</td>\n",
       "      <td>Lvl</td>\n",
       "      <td>AllPub</td>\n",
       "      <td>...</td>\n",
       "      <td>0</td>\n",
       "      <td>NaN</td>\n",
       "      <td>NaN</td>\n",
       "      <td>NaN</td>\n",
       "      <td>0</td>\n",
       "      <td>12</td>\n",
       "      <td>2009</td>\n",
       "      <td>WD</td>\n",
       "      <td>Normal</td>\n",
       "      <td>91300</td>\n",
       "    </tr>\n",
       "    <tr>\n",
       "      <th>1168</th>\n",
       "      <td>1169</td>\n",
       "      <td>70</td>\n",
       "      <td>RL</td>\n",
       "      <td>120.0</td>\n",
       "      <td>13728</td>\n",
       "      <td>Pave</td>\n",
       "      <td>NaN</td>\n",
       "      <td>Reg</td>\n",
       "      <td>Lvl</td>\n",
       "      <td>AllPub</td>\n",
       "      <td>...</td>\n",
       "      <td>0</td>\n",
       "      <td>NaN</td>\n",
       "      <td>NaN</td>\n",
       "      <td>NaN</td>\n",
       "      <td>0</td>\n",
       "      <td>7</td>\n",
       "      <td>2008</td>\n",
       "      <td>WD</td>\n",
       "      <td>Normal</td>\n",
       "      <td>235000</td>\n",
       "    </tr>\n",
       "    <tr>\n",
       "      <th>665</th>\n",
       "      <td>666</td>\n",
       "      <td>60</td>\n",
       "      <td>RL</td>\n",
       "      <td>106.0</td>\n",
       "      <td>11194</td>\n",
       "      <td>Pave</td>\n",
       "      <td>NaN</td>\n",
       "      <td>IR1</td>\n",
       "      <td>Lvl</td>\n",
       "      <td>AllPub</td>\n",
       "      <td>...</td>\n",
       "      <td>0</td>\n",
       "      <td>NaN</td>\n",
       "      <td>NaN</td>\n",
       "      <td>NaN</td>\n",
       "      <td>0</td>\n",
       "      <td>11</td>\n",
       "      <td>2006</td>\n",
       "      <td>WD</td>\n",
       "      <td>Normal</td>\n",
       "      <td>230500</td>\n",
       "    </tr>\n",
       "    <tr>\n",
       "      <th>278</th>\n",
       "      <td>279</td>\n",
       "      <td>20</td>\n",
       "      <td>RL</td>\n",
       "      <td>107.0</td>\n",
       "      <td>14450</td>\n",
       "      <td>Pave</td>\n",
       "      <td>NaN</td>\n",
       "      <td>Reg</td>\n",
       "      <td>Lvl</td>\n",
       "      <td>AllPub</td>\n",
       "      <td>...</td>\n",
       "      <td>0</td>\n",
       "      <td>NaN</td>\n",
       "      <td>NaN</td>\n",
       "      <td>NaN</td>\n",
       "      <td>0</td>\n",
       "      <td>5</td>\n",
       "      <td>2007</td>\n",
       "      <td>New</td>\n",
       "      <td>Partial</td>\n",
       "      <td>415298</td>\n",
       "    </tr>\n",
       "    <tr>\n",
       "      <th>198</th>\n",
       "      <td>199</td>\n",
       "      <td>75</td>\n",
       "      <td>RM</td>\n",
       "      <td>92.0</td>\n",
       "      <td>5520</td>\n",
       "      <td>Pave</td>\n",
       "      <td>NaN</td>\n",
       "      <td>Reg</td>\n",
       "      <td>Lvl</td>\n",
       "      <td>AllPub</td>\n",
       "      <td>...</td>\n",
       "      <td>0</td>\n",
       "      <td>NaN</td>\n",
       "      <td>MnPrv</td>\n",
       "      <td>NaN</td>\n",
       "      <td>0</td>\n",
       "      <td>7</td>\n",
       "      <td>2009</td>\n",
       "      <td>WD</td>\n",
       "      <td>Abnorml</td>\n",
       "      <td>104000</td>\n",
       "    </tr>\n",
       "    <tr>\n",
       "      <th>645</th>\n",
       "      <td>646</td>\n",
       "      <td>20</td>\n",
       "      <td>RL</td>\n",
       "      <td>NaN</td>\n",
       "      <td>10530</td>\n",
       "      <td>Pave</td>\n",
       "      <td>NaN</td>\n",
       "      <td>IR1</td>\n",
       "      <td>Lvl</td>\n",
       "      <td>AllPub</td>\n",
       "      <td>...</td>\n",
       "      <td>0</td>\n",
       "      <td>NaN</td>\n",
       "      <td>NaN</td>\n",
       "      <td>NaN</td>\n",
       "      <td>0</td>\n",
       "      <td>3</td>\n",
       "      <td>2007</td>\n",
       "      <td>WD</td>\n",
       "      <td>Normal</td>\n",
       "      <td>143250</td>\n",
       "    </tr>\n",
       "    <tr>\n",
       "      <th>713</th>\n",
       "      <td>714</td>\n",
       "      <td>190</td>\n",
       "      <td>RL</td>\n",
       "      <td>60.0</td>\n",
       "      <td>9873</td>\n",
       "      <td>Pave</td>\n",
       "      <td>NaN</td>\n",
       "      <td>Reg</td>\n",
       "      <td>Lvl</td>\n",
       "      <td>AllPub</td>\n",
       "      <td>...</td>\n",
       "      <td>0</td>\n",
       "      <td>NaN</td>\n",
       "      <td>NaN</td>\n",
       "      <td>NaN</td>\n",
       "      <td>0</td>\n",
       "      <td>5</td>\n",
       "      <td>2006</td>\n",
       "      <td>WD</td>\n",
       "      <td>Normal</td>\n",
       "      <td>129000</td>\n",
       "    </tr>\n",
       "    <tr>\n",
       "      <th>187</th>\n",
       "      <td>188</td>\n",
       "      <td>50</td>\n",
       "      <td>RL</td>\n",
       "      <td>60.0</td>\n",
       "      <td>10410</td>\n",
       "      <td>Pave</td>\n",
       "      <td>NaN</td>\n",
       "      <td>Reg</td>\n",
       "      <td>Lvl</td>\n",
       "      <td>AllPub</td>\n",
       "      <td>...</td>\n",
       "      <td>0</td>\n",
       "      <td>NaN</td>\n",
       "      <td>MnPrv</td>\n",
       "      <td>NaN</td>\n",
       "      <td>0</td>\n",
       "      <td>8</td>\n",
       "      <td>2009</td>\n",
       "      <td>WD</td>\n",
       "      <td>Normal</td>\n",
       "      <td>135000</td>\n",
       "    </tr>\n",
       "    <tr>\n",
       "      <th>941</th>\n",
       "      <td>942</td>\n",
       "      <td>60</td>\n",
       "      <td>RL</td>\n",
       "      <td>NaN</td>\n",
       "      <td>8755</td>\n",
       "      <td>Pave</td>\n",
       "      <td>NaN</td>\n",
       "      <td>IR1</td>\n",
       "      <td>Lvl</td>\n",
       "      <td>AllPub</td>\n",
       "      <td>...</td>\n",
       "      <td>0</td>\n",
       "      <td>NaN</td>\n",
       "      <td>GdPrv</td>\n",
       "      <td>NaN</td>\n",
       "      <td>0</td>\n",
       "      <td>6</td>\n",
       "      <td>2009</td>\n",
       "      <td>WD</td>\n",
       "      <td>Normal</td>\n",
       "      <td>214000</td>\n",
       "    </tr>\n",
       "    <tr>\n",
       "      <th>1171</th>\n",
       "      <td>1172</td>\n",
       "      <td>20</td>\n",
       "      <td>RL</td>\n",
       "      <td>76.0</td>\n",
       "      <td>9120</td>\n",
       "      <td>Pave</td>\n",
       "      <td>NaN</td>\n",
       "      <td>Reg</td>\n",
       "      <td>Lvl</td>\n",
       "      <td>AllPub</td>\n",
       "      <td>...</td>\n",
       "      <td>0</td>\n",
       "      <td>NaN</td>\n",
       "      <td>NaN</td>\n",
       "      <td>Shed</td>\n",
       "      <td>1400</td>\n",
       "      <td>11</td>\n",
       "      <td>2008</td>\n",
       "      <td>WD</td>\n",
       "      <td>Normal</td>\n",
       "      <td>163000</td>\n",
       "    </tr>\n",
       "    <tr>\n",
       "      <th>598</th>\n",
       "      <td>599</td>\n",
       "      <td>20</td>\n",
       "      <td>RL</td>\n",
       "      <td>80.0</td>\n",
       "      <td>12984</td>\n",
       "      <td>Pave</td>\n",
       "      <td>NaN</td>\n",
       "      <td>Reg</td>\n",
       "      <td>Bnk</td>\n",
       "      <td>AllPub</td>\n",
       "      <td>...</td>\n",
       "      <td>0</td>\n",
       "      <td>NaN</td>\n",
       "      <td>NaN</td>\n",
       "      <td>NaN</td>\n",
       "      <td>0</td>\n",
       "      <td>3</td>\n",
       "      <td>2006</td>\n",
       "      <td>WD</td>\n",
       "      <td>Normal</td>\n",
       "      <td>217500</td>\n",
       "    </tr>\n",
       "    <tr>\n",
       "      <th>748</th>\n",
       "      <td>749</td>\n",
       "      <td>20</td>\n",
       "      <td>RL</td>\n",
       "      <td>59.0</td>\n",
       "      <td>10593</td>\n",
       "      <td>Pave</td>\n",
       "      <td>NaN</td>\n",
       "      <td>IR1</td>\n",
       "      <td>Lvl</td>\n",
       "      <td>AllPub</td>\n",
       "      <td>...</td>\n",
       "      <td>0</td>\n",
       "      <td>NaN</td>\n",
       "      <td>NaN</td>\n",
       "      <td>NaN</td>\n",
       "      <td>0</td>\n",
       "      <td>3</td>\n",
       "      <td>2010</td>\n",
       "      <td>WD</td>\n",
       "      <td>Normal</td>\n",
       "      <td>260400</td>\n",
       "    </tr>\n",
       "    <tr>\n",
       "      <th>865</th>\n",
       "      <td>866</td>\n",
       "      <td>20</td>\n",
       "      <td>RL</td>\n",
       "      <td>NaN</td>\n",
       "      <td>8750</td>\n",
       "      <td>Pave</td>\n",
       "      <td>NaN</td>\n",
       "      <td>IR1</td>\n",
       "      <td>Lvl</td>\n",
       "      <td>AllPub</td>\n",
       "      <td>...</td>\n",
       "      <td>0</td>\n",
       "      <td>NaN</td>\n",
       "      <td>MnPrv</td>\n",
       "      <td>NaN</td>\n",
       "      <td>0</td>\n",
       "      <td>8</td>\n",
       "      <td>2009</td>\n",
       "      <td>WD</td>\n",
       "      <td>Normal</td>\n",
       "      <td>148500</td>\n",
       "    </tr>\n",
       "    <tr>\n",
       "      <th>1287</th>\n",
       "      <td>1288</td>\n",
       "      <td>20</td>\n",
       "      <td>RL</td>\n",
       "      <td>NaN</td>\n",
       "      <td>36500</td>\n",
       "      <td>Pave</td>\n",
       "      <td>NaN</td>\n",
       "      <td>IR1</td>\n",
       "      <td>Low</td>\n",
       "      <td>AllPub</td>\n",
       "      <td>...</td>\n",
       "      <td>0</td>\n",
       "      <td>NaN</td>\n",
       "      <td>NaN</td>\n",
       "      <td>NaN</td>\n",
       "      <td>0</td>\n",
       "      <td>6</td>\n",
       "      <td>2006</td>\n",
       "      <td>WD</td>\n",
       "      <td>Normal</td>\n",
       "      <td>190000</td>\n",
       "    </tr>\n",
       "    <tr>\n",
       "      <th>1158</th>\n",
       "      <td>1159</td>\n",
       "      <td>20</td>\n",
       "      <td>RL</td>\n",
       "      <td>92.0</td>\n",
       "      <td>11932</td>\n",
       "      <td>Pave</td>\n",
       "      <td>NaN</td>\n",
       "      <td>Reg</td>\n",
       "      <td>Lvl</td>\n",
       "      <td>AllPub</td>\n",
       "      <td>...</td>\n",
       "      <td>0</td>\n",
       "      <td>NaN</td>\n",
       "      <td>NaN</td>\n",
       "      <td>NaN</td>\n",
       "      <td>0</td>\n",
       "      <td>6</td>\n",
       "      <td>2008</td>\n",
       "      <td>ConLD</td>\n",
       "      <td>Partial</td>\n",
       "      <td>235128</td>\n",
       "    </tr>\n",
       "    <tr>\n",
       "      <th>1192</th>\n",
       "      <td>1193</td>\n",
       "      <td>50</td>\n",
       "      <td>RM</td>\n",
       "      <td>60.0</td>\n",
       "      <td>9600</td>\n",
       "      <td>Pave</td>\n",
       "      <td>Grvl</td>\n",
       "      <td>Reg</td>\n",
       "      <td>Lvl</td>\n",
       "      <td>AllPub</td>\n",
       "      <td>...</td>\n",
       "      <td>0</td>\n",
       "      <td>NaN</td>\n",
       "      <td>GdWo</td>\n",
       "      <td>NaN</td>\n",
       "      <td>0</td>\n",
       "      <td>7</td>\n",
       "      <td>2007</td>\n",
       "      <td>WD</td>\n",
       "      <td>Normal</td>\n",
       "      <td>125000</td>\n",
       "    </tr>\n",
       "    <tr>\n",
       "      <th>872</th>\n",
       "      <td>873</td>\n",
       "      <td>20</td>\n",
       "      <td>RL</td>\n",
       "      <td>74.0</td>\n",
       "      <td>8892</td>\n",
       "      <td>Pave</td>\n",
       "      <td>NaN</td>\n",
       "      <td>Reg</td>\n",
       "      <td>Lvl</td>\n",
       "      <td>AllPub</td>\n",
       "      <td>...</td>\n",
       "      <td>0</td>\n",
       "      <td>NaN</td>\n",
       "      <td>GdWo</td>\n",
       "      <td>NaN</td>\n",
       "      <td>0</td>\n",
       "      <td>10</td>\n",
       "      <td>2008</td>\n",
       "      <td>WD</td>\n",
       "      <td>Normal</td>\n",
       "      <td>116000</td>\n",
       "    </tr>\n",
       "    <tr>\n",
       "      <th>1011</th>\n",
       "      <td>1012</td>\n",
       "      <td>90</td>\n",
       "      <td>RL</td>\n",
       "      <td>75.0</td>\n",
       "      <td>9825</td>\n",
       "      <td>Pave</td>\n",
       "      <td>NaN</td>\n",
       "      <td>Reg</td>\n",
       "      <td>Lvl</td>\n",
       "      <td>AllPub</td>\n",
       "      <td>...</td>\n",
       "      <td>0</td>\n",
       "      <td>NaN</td>\n",
       "      <td>NaN</td>\n",
       "      <td>NaN</td>\n",
       "      <td>0</td>\n",
       "      <td>5</td>\n",
       "      <td>2010</td>\n",
       "      <td>WD</td>\n",
       "      <td>Normal</td>\n",
       "      <td>100000</td>\n",
       "    </tr>\n",
       "    <tr>\n",
       "      <th>392</th>\n",
       "      <td>393</td>\n",
       "      <td>20</td>\n",
       "      <td>RL</td>\n",
       "      <td>NaN</td>\n",
       "      <td>8339</td>\n",
       "      <td>Pave</td>\n",
       "      <td>NaN</td>\n",
       "      <td>IR1</td>\n",
       "      <td>Lvl</td>\n",
       "      <td>AllPub</td>\n",
       "      <td>...</td>\n",
       "      <td>0</td>\n",
       "      <td>NaN</td>\n",
       "      <td>MnPrv</td>\n",
       "      <td>Shed</td>\n",
       "      <td>1200</td>\n",
       "      <td>7</td>\n",
       "      <td>2007</td>\n",
       "      <td>WD</td>\n",
       "      <td>Normal</td>\n",
       "      <td>106500</td>\n",
       "    </tr>\n",
       "    <tr>\n",
       "      <th>...</th>\n",
       "      <td>...</td>\n",
       "      <td>...</td>\n",
       "      <td>...</td>\n",
       "      <td>...</td>\n",
       "      <td>...</td>\n",
       "      <td>...</td>\n",
       "      <td>...</td>\n",
       "      <td>...</td>\n",
       "      <td>...</td>\n",
       "      <td>...</td>\n",
       "      <td>...</td>\n",
       "      <td>...</td>\n",
       "      <td>...</td>\n",
       "      <td>...</td>\n",
       "      <td>...</td>\n",
       "      <td>...</td>\n",
       "      <td>...</td>\n",
       "      <td>...</td>\n",
       "      <td>...</td>\n",
       "      <td>...</td>\n",
       "      <td>...</td>\n",
       "    </tr>\n",
       "    <tr>\n",
       "      <th>576</th>\n",
       "      <td>577</td>\n",
       "      <td>50</td>\n",
       "      <td>RL</td>\n",
       "      <td>52.0</td>\n",
       "      <td>6292</td>\n",
       "      <td>Pave</td>\n",
       "      <td>NaN</td>\n",
       "      <td>Reg</td>\n",
       "      <td>Lvl</td>\n",
       "      <td>AllPub</td>\n",
       "      <td>...</td>\n",
       "      <td>0</td>\n",
       "      <td>NaN</td>\n",
       "      <td>NaN</td>\n",
       "      <td>NaN</td>\n",
       "      <td>0</td>\n",
       "      <td>8</td>\n",
       "      <td>2009</td>\n",
       "      <td>WD</td>\n",
       "      <td>Normal</td>\n",
       "      <td>145000</td>\n",
       "    </tr>\n",
       "    <tr>\n",
       "      <th>1030</th>\n",
       "      <td>1031</td>\n",
       "      <td>190</td>\n",
       "      <td>RH</td>\n",
       "      <td>NaN</td>\n",
       "      <td>7082</td>\n",
       "      <td>Pave</td>\n",
       "      <td>NaN</td>\n",
       "      <td>Reg</td>\n",
       "      <td>Lvl</td>\n",
       "      <td>AllPub</td>\n",
       "      <td>...</td>\n",
       "      <td>0</td>\n",
       "      <td>NaN</td>\n",
       "      <td>NaN</td>\n",
       "      <td>NaN</td>\n",
       "      <td>0</td>\n",
       "      <td>7</td>\n",
       "      <td>2006</td>\n",
       "      <td>WD</td>\n",
       "      <td>Normal</td>\n",
       "      <td>160000</td>\n",
       "    </tr>\n",
       "    <tr>\n",
       "      <th>823</th>\n",
       "      <td>824</td>\n",
       "      <td>50</td>\n",
       "      <td>RL</td>\n",
       "      <td>60.0</td>\n",
       "      <td>9900</td>\n",
       "      <td>Pave</td>\n",
       "      <td>NaN</td>\n",
       "      <td>Reg</td>\n",
       "      <td>Lvl</td>\n",
       "      <td>AllPub</td>\n",
       "      <td>...</td>\n",
       "      <td>0</td>\n",
       "      <td>NaN</td>\n",
       "      <td>GdWo</td>\n",
       "      <td>NaN</td>\n",
       "      <td>0</td>\n",
       "      <td>7</td>\n",
       "      <td>2009</td>\n",
       "      <td>WD</td>\n",
       "      <td>Normal</td>\n",
       "      <td>139500</td>\n",
       "    </tr>\n",
       "    <tr>\n",
       "      <th>1235</th>\n",
       "      <td>1236</td>\n",
       "      <td>70</td>\n",
       "      <td>RL</td>\n",
       "      <td>96.0</td>\n",
       "      <td>13132</td>\n",
       "      <td>Pave</td>\n",
       "      <td>NaN</td>\n",
       "      <td>Reg</td>\n",
       "      <td>Lvl</td>\n",
       "      <td>AllPub</td>\n",
       "      <td>...</td>\n",
       "      <td>0</td>\n",
       "      <td>NaN</td>\n",
       "      <td>NaN</td>\n",
       "      <td>NaN</td>\n",
       "      <td>0</td>\n",
       "      <td>7</td>\n",
       "      <td>2006</td>\n",
       "      <td>WD</td>\n",
       "      <td>Normal</td>\n",
       "      <td>138887</td>\n",
       "    </tr>\n",
       "    <tr>\n",
       "      <th>822</th>\n",
       "      <td>823</td>\n",
       "      <td>60</td>\n",
       "      <td>RL</td>\n",
       "      <td>NaN</td>\n",
       "      <td>12394</td>\n",
       "      <td>Pave</td>\n",
       "      <td>NaN</td>\n",
       "      <td>IR1</td>\n",
       "      <td>Lvl</td>\n",
       "      <td>AllPub</td>\n",
       "      <td>...</td>\n",
       "      <td>0</td>\n",
       "      <td>NaN</td>\n",
       "      <td>NaN</td>\n",
       "      <td>NaN</td>\n",
       "      <td>0</td>\n",
       "      <td>10</td>\n",
       "      <td>2007</td>\n",
       "      <td>WD</td>\n",
       "      <td>Family</td>\n",
       "      <td>225000</td>\n",
       "    </tr>\n",
       "    <tr>\n",
       "      <th>578</th>\n",
       "      <td>579</td>\n",
       "      <td>160</td>\n",
       "      <td>FV</td>\n",
       "      <td>34.0</td>\n",
       "      <td>3604</td>\n",
       "      <td>Pave</td>\n",
       "      <td>Pave</td>\n",
       "      <td>Reg</td>\n",
       "      <td>Lvl</td>\n",
       "      <td>AllPub</td>\n",
       "      <td>...</td>\n",
       "      <td>0</td>\n",
       "      <td>NaN</td>\n",
       "      <td>NaN</td>\n",
       "      <td>NaN</td>\n",
       "      <td>0</td>\n",
       "      <td>2</td>\n",
       "      <td>2008</td>\n",
       "      <td>WD</td>\n",
       "      <td>Abnorml</td>\n",
       "      <td>146000</td>\n",
       "    </tr>\n",
       "    <tr>\n",
       "      <th>279</th>\n",
       "      <td>280</td>\n",
       "      <td>60</td>\n",
       "      <td>RL</td>\n",
       "      <td>83.0</td>\n",
       "      <td>10005</td>\n",
       "      <td>Pave</td>\n",
       "      <td>NaN</td>\n",
       "      <td>Reg</td>\n",
       "      <td>Lvl</td>\n",
       "      <td>AllPub</td>\n",
       "      <td>...</td>\n",
       "      <td>0</td>\n",
       "      <td>NaN</td>\n",
       "      <td>NaN</td>\n",
       "      <td>NaN</td>\n",
       "      <td>0</td>\n",
       "      <td>3</td>\n",
       "      <td>2008</td>\n",
       "      <td>WD</td>\n",
       "      <td>Normal</td>\n",
       "      <td>192000</td>\n",
       "    </tr>\n",
       "    <tr>\n",
       "      <th>234</th>\n",
       "      <td>235</td>\n",
       "      <td>60</td>\n",
       "      <td>RL</td>\n",
       "      <td>NaN</td>\n",
       "      <td>7851</td>\n",
       "      <td>Pave</td>\n",
       "      <td>NaN</td>\n",
       "      <td>Reg</td>\n",
       "      <td>Lvl</td>\n",
       "      <td>AllPub</td>\n",
       "      <td>...</td>\n",
       "      <td>0</td>\n",
       "      <td>NaN</td>\n",
       "      <td>NaN</td>\n",
       "      <td>NaN</td>\n",
       "      <td>0</td>\n",
       "      <td>5</td>\n",
       "      <td>2010</td>\n",
       "      <td>WD</td>\n",
       "      <td>Normal</td>\n",
       "      <td>216500</td>\n",
       "    </tr>\n",
       "    <tr>\n",
       "      <th>154</th>\n",
       "      <td>155</td>\n",
       "      <td>30</td>\n",
       "      <td>RM</td>\n",
       "      <td>84.0</td>\n",
       "      <td>11340</td>\n",
       "      <td>Pave</td>\n",
       "      <td>NaN</td>\n",
       "      <td>Reg</td>\n",
       "      <td>Lvl</td>\n",
       "      <td>AllPub</td>\n",
       "      <td>...</td>\n",
       "      <td>0</td>\n",
       "      <td>NaN</td>\n",
       "      <td>NaN</td>\n",
       "      <td>NaN</td>\n",
       "      <td>0</td>\n",
       "      <td>3</td>\n",
       "      <td>2006</td>\n",
       "      <td>WD</td>\n",
       "      <td>Family</td>\n",
       "      <td>125000</td>\n",
       "    </tr>\n",
       "    <tr>\n",
       "      <th>1165</th>\n",
       "      <td>1166</td>\n",
       "      <td>20</td>\n",
       "      <td>RL</td>\n",
       "      <td>79.0</td>\n",
       "      <td>9541</td>\n",
       "      <td>Pave</td>\n",
       "      <td>NaN</td>\n",
       "      <td>IR1</td>\n",
       "      <td>Lvl</td>\n",
       "      <td>AllPub</td>\n",
       "      <td>...</td>\n",
       "      <td>0</td>\n",
       "      <td>NaN</td>\n",
       "      <td>NaN</td>\n",
       "      <td>NaN</td>\n",
       "      <td>0</td>\n",
       "      <td>9</td>\n",
       "      <td>2009</td>\n",
       "      <td>New</td>\n",
       "      <td>Partial</td>\n",
       "      <td>233170</td>\n",
       "    </tr>\n",
       "    <tr>\n",
       "      <th>1386</th>\n",
       "      <td>1387</td>\n",
       "      <td>60</td>\n",
       "      <td>RL</td>\n",
       "      <td>80.0</td>\n",
       "      <td>16692</td>\n",
       "      <td>Pave</td>\n",
       "      <td>NaN</td>\n",
       "      <td>IR1</td>\n",
       "      <td>Lvl</td>\n",
       "      <td>AllPub</td>\n",
       "      <td>...</td>\n",
       "      <td>519</td>\n",
       "      <td>Fa</td>\n",
       "      <td>MnPrv</td>\n",
       "      <td>TenC</td>\n",
       "      <td>2000</td>\n",
       "      <td>7</td>\n",
       "      <td>2006</td>\n",
       "      <td>WD</td>\n",
       "      <td>Normal</td>\n",
       "      <td>250000</td>\n",
       "    </tr>\n",
       "    <tr>\n",
       "      <th>836</th>\n",
       "      <td>837</td>\n",
       "      <td>30</td>\n",
       "      <td>RM</td>\n",
       "      <td>90.0</td>\n",
       "      <td>8100</td>\n",
       "      <td>Pave</td>\n",
       "      <td>Pave</td>\n",
       "      <td>Reg</td>\n",
       "      <td>Lvl</td>\n",
       "      <td>AllPub</td>\n",
       "      <td>...</td>\n",
       "      <td>0</td>\n",
       "      <td>NaN</td>\n",
       "      <td>GdWo</td>\n",
       "      <td>NaN</td>\n",
       "      <td>0</td>\n",
       "      <td>6</td>\n",
       "      <td>2007</td>\n",
       "      <td>COD</td>\n",
       "      <td>Normal</td>\n",
       "      <td>153500</td>\n",
       "    </tr>\n",
       "    <tr>\n",
       "      <th>867</th>\n",
       "      <td>868</td>\n",
       "      <td>20</td>\n",
       "      <td>RL</td>\n",
       "      <td>85.0</td>\n",
       "      <td>6970</td>\n",
       "      <td>Pave</td>\n",
       "      <td>NaN</td>\n",
       "      <td>Reg</td>\n",
       "      <td>Lvl</td>\n",
       "      <td>AllPub</td>\n",
       "      <td>...</td>\n",
       "      <td>0</td>\n",
       "      <td>NaN</td>\n",
       "      <td>NaN</td>\n",
       "      <td>Shed</td>\n",
       "      <td>400</td>\n",
       "      <td>5</td>\n",
       "      <td>2007</td>\n",
       "      <td>WD</td>\n",
       "      <td>Normal</td>\n",
       "      <td>129000</td>\n",
       "    </tr>\n",
       "    <tr>\n",
       "      <th>345</th>\n",
       "      <td>346</td>\n",
       "      <td>50</td>\n",
       "      <td>RL</td>\n",
       "      <td>65.0</td>\n",
       "      <td>6435</td>\n",
       "      <td>Pave</td>\n",
       "      <td>NaN</td>\n",
       "      <td>Reg</td>\n",
       "      <td>Lvl</td>\n",
       "      <td>AllPub</td>\n",
       "      <td>...</td>\n",
       "      <td>0</td>\n",
       "      <td>NaN</td>\n",
       "      <td>NaN</td>\n",
       "      <td>NaN</td>\n",
       "      <td>0</td>\n",
       "      <td>10</td>\n",
       "      <td>2006</td>\n",
       "      <td>WD</td>\n",
       "      <td>Normal</td>\n",
       "      <td>140200</td>\n",
       "    </tr>\n",
       "    <tr>\n",
       "      <th>1000</th>\n",
       "      <td>1001</td>\n",
       "      <td>20</td>\n",
       "      <td>RL</td>\n",
       "      <td>74.0</td>\n",
       "      <td>10206</td>\n",
       "      <td>Pave</td>\n",
       "      <td>NaN</td>\n",
       "      <td>Reg</td>\n",
       "      <td>Lvl</td>\n",
       "      <td>AllPub</td>\n",
       "      <td>...</td>\n",
       "      <td>0</td>\n",
       "      <td>NaN</td>\n",
       "      <td>NaN</td>\n",
       "      <td>NaN</td>\n",
       "      <td>0</td>\n",
       "      <td>7</td>\n",
       "      <td>2009</td>\n",
       "      <td>WD</td>\n",
       "      <td>Normal</td>\n",
       "      <td>82000</td>\n",
       "    </tr>\n",
       "    <tr>\n",
       "      <th>753</th>\n",
       "      <td>754</td>\n",
       "      <td>60</td>\n",
       "      <td>RL</td>\n",
       "      <td>80.0</td>\n",
       "      <td>10240</td>\n",
       "      <td>Pave</td>\n",
       "      <td>NaN</td>\n",
       "      <td>Reg</td>\n",
       "      <td>Lvl</td>\n",
       "      <td>AllPub</td>\n",
       "      <td>...</td>\n",
       "      <td>0</td>\n",
       "      <td>NaN</td>\n",
       "      <td>NaN</td>\n",
       "      <td>NaN</td>\n",
       "      <td>0</td>\n",
       "      <td>3</td>\n",
       "      <td>2006</td>\n",
       "      <td>WD</td>\n",
       "      <td>Normal</td>\n",
       "      <td>275500</td>\n",
       "    </tr>\n",
       "    <tr>\n",
       "      <th>80</th>\n",
       "      <td>81</td>\n",
       "      <td>60</td>\n",
       "      <td>RL</td>\n",
       "      <td>100.0</td>\n",
       "      <td>13000</td>\n",
       "      <td>Pave</td>\n",
       "      <td>NaN</td>\n",
       "      <td>Reg</td>\n",
       "      <td>Lvl</td>\n",
       "      <td>AllPub</td>\n",
       "      <td>...</td>\n",
       "      <td>0</td>\n",
       "      <td>NaN</td>\n",
       "      <td>NaN</td>\n",
       "      <td>NaN</td>\n",
       "      <td>0</td>\n",
       "      <td>6</td>\n",
       "      <td>2009</td>\n",
       "      <td>WD</td>\n",
       "      <td>Normal</td>\n",
       "      <td>193500</td>\n",
       "    </tr>\n",
       "    <tr>\n",
       "      <th>975</th>\n",
       "      <td>976</td>\n",
       "      <td>160</td>\n",
       "      <td>FV</td>\n",
       "      <td>NaN</td>\n",
       "      <td>2651</td>\n",
       "      <td>Pave</td>\n",
       "      <td>NaN</td>\n",
       "      <td>Reg</td>\n",
       "      <td>Lvl</td>\n",
       "      <td>AllPub</td>\n",
       "      <td>...</td>\n",
       "      <td>0</td>\n",
       "      <td>NaN</td>\n",
       "      <td>NaN</td>\n",
       "      <td>NaN</td>\n",
       "      <td>0</td>\n",
       "      <td>4</td>\n",
       "      <td>2006</td>\n",
       "      <td>WD</td>\n",
       "      <td>Normal</td>\n",
       "      <td>165000</td>\n",
       "    </tr>\n",
       "    <tr>\n",
       "      <th>404</th>\n",
       "      <td>405</td>\n",
       "      <td>60</td>\n",
       "      <td>RL</td>\n",
       "      <td>NaN</td>\n",
       "      <td>10364</td>\n",
       "      <td>Pave</td>\n",
       "      <td>NaN</td>\n",
       "      <td>IR1</td>\n",
       "      <td>Lvl</td>\n",
       "      <td>AllPub</td>\n",
       "      <td>...</td>\n",
       "      <td>0</td>\n",
       "      <td>NaN</td>\n",
       "      <td>NaN</td>\n",
       "      <td>NaN</td>\n",
       "      <td>0</td>\n",
       "      <td>5</td>\n",
       "      <td>2007</td>\n",
       "      <td>WD</td>\n",
       "      <td>Normal</td>\n",
       "      <td>168000</td>\n",
       "    </tr>\n",
       "    <tr>\n",
       "      <th>466</th>\n",
       "      <td>467</td>\n",
       "      <td>20</td>\n",
       "      <td>RL</td>\n",
       "      <td>85.0</td>\n",
       "      <td>10628</td>\n",
       "      <td>Pave</td>\n",
       "      <td>NaN</td>\n",
       "      <td>Reg</td>\n",
       "      <td>Lvl</td>\n",
       "      <td>AllPub</td>\n",
       "      <td>...</td>\n",
       "      <td>0</td>\n",
       "      <td>NaN</td>\n",
       "      <td>GdWo</td>\n",
       "      <td>NaN</td>\n",
       "      <td>0</td>\n",
       "      <td>4</td>\n",
       "      <td>2007</td>\n",
       "      <td>WD</td>\n",
       "      <td>Normal</td>\n",
       "      <td>167000</td>\n",
       "    </tr>\n",
       "    <tr>\n",
       "      <th>362</th>\n",
       "      <td>363</td>\n",
       "      <td>85</td>\n",
       "      <td>RL</td>\n",
       "      <td>64.0</td>\n",
       "      <td>7301</td>\n",
       "      <td>Pave</td>\n",
       "      <td>NaN</td>\n",
       "      <td>Reg</td>\n",
       "      <td>Lvl</td>\n",
       "      <td>AllPub</td>\n",
       "      <td>...</td>\n",
       "      <td>0</td>\n",
       "      <td>NaN</td>\n",
       "      <td>NaN</td>\n",
       "      <td>NaN</td>\n",
       "      <td>0</td>\n",
       "      <td>7</td>\n",
       "      <td>2009</td>\n",
       "      <td>ConLD</td>\n",
       "      <td>Normal</td>\n",
       "      <td>198500</td>\n",
       "    </tr>\n",
       "    <tr>\n",
       "      <th>331</th>\n",
       "      <td>332</td>\n",
       "      <td>20</td>\n",
       "      <td>RL</td>\n",
       "      <td>70.0</td>\n",
       "      <td>8176</td>\n",
       "      <td>Pave</td>\n",
       "      <td>NaN</td>\n",
       "      <td>Reg</td>\n",
       "      <td>Lvl</td>\n",
       "      <td>AllPub</td>\n",
       "      <td>...</td>\n",
       "      <td>0</td>\n",
       "      <td>NaN</td>\n",
       "      <td>NaN</td>\n",
       "      <td>NaN</td>\n",
       "      <td>0</td>\n",
       "      <td>8</td>\n",
       "      <td>2007</td>\n",
       "      <td>WD</td>\n",
       "      <td>Normal</td>\n",
       "      <td>139000</td>\n",
       "    </tr>\n",
       "    <tr>\n",
       "      <th>786</th>\n",
       "      <td>787</td>\n",
       "      <td>50</td>\n",
       "      <td>RM</td>\n",
       "      <td>60.0</td>\n",
       "      <td>10800</td>\n",
       "      <td>Pave</td>\n",
       "      <td>NaN</td>\n",
       "      <td>Reg</td>\n",
       "      <td>Lvl</td>\n",
       "      <td>AllPub</td>\n",
       "      <td>...</td>\n",
       "      <td>0</td>\n",
       "      <td>NaN</td>\n",
       "      <td>NaN</td>\n",
       "      <td>Shed</td>\n",
       "      <td>1200</td>\n",
       "      <td>6</td>\n",
       "      <td>2010</td>\n",
       "      <td>WD</td>\n",
       "      <td>Normal</td>\n",
       "      <td>139000</td>\n",
       "    </tr>\n",
       "    <tr>\n",
       "      <th>1255</th>\n",
       "      <td>1256</td>\n",
       "      <td>50</td>\n",
       "      <td>RM</td>\n",
       "      <td>52.0</td>\n",
       "      <td>6240</td>\n",
       "      <td>Pave</td>\n",
       "      <td>NaN</td>\n",
       "      <td>Reg</td>\n",
       "      <td>Lvl</td>\n",
       "      <td>AllPub</td>\n",
       "      <td>...</td>\n",
       "      <td>0</td>\n",
       "      <td>NaN</td>\n",
       "      <td>NaN</td>\n",
       "      <td>NaN</td>\n",
       "      <td>0</td>\n",
       "      <td>11</td>\n",
       "      <td>2007</td>\n",
       "      <td>WD</td>\n",
       "      <td>Normal</td>\n",
       "      <td>127500</td>\n",
       "    </tr>\n",
       "    <tr>\n",
       "      <th>1170</th>\n",
       "      <td>1171</td>\n",
       "      <td>80</td>\n",
       "      <td>RL</td>\n",
       "      <td>76.0</td>\n",
       "      <td>9880</td>\n",
       "      <td>Pave</td>\n",
       "      <td>NaN</td>\n",
       "      <td>Reg</td>\n",
       "      <td>Lvl</td>\n",
       "      <td>AllPub</td>\n",
       "      <td>...</td>\n",
       "      <td>576</td>\n",
       "      <td>Gd</td>\n",
       "      <td>GdPrv</td>\n",
       "      <td>NaN</td>\n",
       "      <td>0</td>\n",
       "      <td>7</td>\n",
       "      <td>2008</td>\n",
       "      <td>WD</td>\n",
       "      <td>Normal</td>\n",
       "      <td>171000</td>\n",
       "    </tr>\n",
       "    <tr>\n",
       "      <th>1254</th>\n",
       "      <td>1255</td>\n",
       "      <td>60</td>\n",
       "      <td>RL</td>\n",
       "      <td>60.0</td>\n",
       "      <td>6931</td>\n",
       "      <td>Pave</td>\n",
       "      <td>NaN</td>\n",
       "      <td>Reg</td>\n",
       "      <td>Lvl</td>\n",
       "      <td>AllPub</td>\n",
       "      <td>...</td>\n",
       "      <td>0</td>\n",
       "      <td>NaN</td>\n",
       "      <td>NaN</td>\n",
       "      <td>NaN</td>\n",
       "      <td>0</td>\n",
       "      <td>7</td>\n",
       "      <td>2008</td>\n",
       "      <td>WD</td>\n",
       "      <td>Normal</td>\n",
       "      <td>165400</td>\n",
       "    </tr>\n",
       "    <tr>\n",
       "      <th>386</th>\n",
       "      <td>387</td>\n",
       "      <td>50</td>\n",
       "      <td>RL</td>\n",
       "      <td>58.0</td>\n",
       "      <td>8410</td>\n",
       "      <td>Pave</td>\n",
       "      <td>NaN</td>\n",
       "      <td>Reg</td>\n",
       "      <td>Lvl</td>\n",
       "      <td>AllPub</td>\n",
       "      <td>...</td>\n",
       "      <td>0</td>\n",
       "      <td>NaN</td>\n",
       "      <td>NaN</td>\n",
       "      <td>NaN</td>\n",
       "      <td>0</td>\n",
       "      <td>5</td>\n",
       "      <td>2006</td>\n",
       "      <td>WD</td>\n",
       "      <td>AdjLand</td>\n",
       "      <td>81000</td>\n",
       "    </tr>\n",
       "    <tr>\n",
       "      <th>274</th>\n",
       "      <td>275</td>\n",
       "      <td>20</td>\n",
       "      <td>RL</td>\n",
       "      <td>76.0</td>\n",
       "      <td>8314</td>\n",
       "      <td>Pave</td>\n",
       "      <td>NaN</td>\n",
       "      <td>Reg</td>\n",
       "      <td>Lvl</td>\n",
       "      <td>AllPub</td>\n",
       "      <td>...</td>\n",
       "      <td>0</td>\n",
       "      <td>NaN</td>\n",
       "      <td>NaN</td>\n",
       "      <td>NaN</td>\n",
       "      <td>0</td>\n",
       "      <td>6</td>\n",
       "      <td>2007</td>\n",
       "      <td>WD</td>\n",
       "      <td>Normal</td>\n",
       "      <td>124500</td>\n",
       "    </tr>\n",
       "    <tr>\n",
       "      <th>784</th>\n",
       "      <td>785</td>\n",
       "      <td>75</td>\n",
       "      <td>RM</td>\n",
       "      <td>35.0</td>\n",
       "      <td>6300</td>\n",
       "      <td>Pave</td>\n",
       "      <td>Grvl</td>\n",
       "      <td>Reg</td>\n",
       "      <td>Lvl</td>\n",
       "      <td>AllPub</td>\n",
       "      <td>...</td>\n",
       "      <td>0</td>\n",
       "      <td>NaN</td>\n",
       "      <td>NaN</td>\n",
       "      <td>NaN</td>\n",
       "      <td>0</td>\n",
       "      <td>6</td>\n",
       "      <td>2008</td>\n",
       "      <td>WD</td>\n",
       "      <td>Normal</td>\n",
       "      <td>128000</td>\n",
       "    </tr>\n",
       "    <tr>\n",
       "      <th>496</th>\n",
       "      <td>497</td>\n",
       "      <td>20</td>\n",
       "      <td>RL</td>\n",
       "      <td>NaN</td>\n",
       "      <td>12692</td>\n",
       "      <td>Pave</td>\n",
       "      <td>NaN</td>\n",
       "      <td>IR1</td>\n",
       "      <td>Lvl</td>\n",
       "      <td>AllPub</td>\n",
       "      <td>...</td>\n",
       "      <td>0</td>\n",
       "      <td>NaN</td>\n",
       "      <td>NaN</td>\n",
       "      <td>NaN</td>\n",
       "      <td>0</td>\n",
       "      <td>5</td>\n",
       "      <td>2007</td>\n",
       "      <td>WD</td>\n",
       "      <td>Normal</td>\n",
       "      <td>430000</td>\n",
       "    </tr>\n",
       "  </tbody>\n",
       "</table>\n",
       "<p>876 rows × 81 columns</p>\n",
       "</div>"
      ],
      "text/plain": [
       "         s  MSSubClass MSZoning  LotFrontage  LotArea Street Alley LotShape  \\\n",
       "539    540          20       RL          NaN    11423   Pave   NaN      Reg   \n",
       "791    792          80       RL          NaN    11333   Pave   NaN      IR1   \n",
       "816    817          20       RL          NaN    11425   Pave   NaN      IR1   \n",
       "989    990          60       FV         65.0     8125   Pave   NaN      Reg   \n",
       "890    891          50       RL         60.0     8064   Pave   NaN      Reg   \n",
       "1291  1292         160       RM         21.0     1680   Pave   NaN      Reg   \n",
       "272    273          60       RL         92.0    11764   Pave   NaN      IR1   \n",
       "794    795          60       RL          NaN    10832   Pave   NaN      IR1   \n",
       "1019  1020         120       RL         43.0     3013   Pave   NaN      Reg   \n",
       "515    516          20       RL         94.0    12220   Pave   NaN      Reg   \n",
       "273    274          20       RL         80.0     9600   Pave   NaN      Reg   \n",
       "494    495          30       RM         50.0     5784   Pave   NaN      Reg   \n",
       "1168  1169          70       RL        120.0    13728   Pave   NaN      Reg   \n",
       "665    666          60       RL        106.0    11194   Pave   NaN      IR1   \n",
       "278    279          20       RL        107.0    14450   Pave   NaN      Reg   \n",
       "198    199          75       RM         92.0     5520   Pave   NaN      Reg   \n",
       "645    646          20       RL          NaN    10530   Pave   NaN      IR1   \n",
       "713    714         190       RL         60.0     9873   Pave   NaN      Reg   \n",
       "187    188          50       RL         60.0    10410   Pave   NaN      Reg   \n",
       "941    942          60       RL          NaN     8755   Pave   NaN      IR1   \n",
       "1171  1172          20       RL         76.0     9120   Pave   NaN      Reg   \n",
       "598    599          20       RL         80.0    12984   Pave   NaN      Reg   \n",
       "748    749          20       RL         59.0    10593   Pave   NaN      IR1   \n",
       "865    866          20       RL          NaN     8750   Pave   NaN      IR1   \n",
       "1287  1288          20       RL          NaN    36500   Pave   NaN      IR1   \n",
       "1158  1159          20       RL         92.0    11932   Pave   NaN      Reg   \n",
       "1192  1193          50       RM         60.0     9600   Pave  Grvl      Reg   \n",
       "872    873          20       RL         74.0     8892   Pave   NaN      Reg   \n",
       "1011  1012          90       RL         75.0     9825   Pave   NaN      Reg   \n",
       "392    393          20       RL          NaN     8339   Pave   NaN      IR1   \n",
       "...    ...         ...      ...          ...      ...    ...   ...      ...   \n",
       "576    577          50       RL         52.0     6292   Pave   NaN      Reg   \n",
       "1030  1031         190       RH          NaN     7082   Pave   NaN      Reg   \n",
       "823    824          50       RL         60.0     9900   Pave   NaN      Reg   \n",
       "1235  1236          70       RL         96.0    13132   Pave   NaN      Reg   \n",
       "822    823          60       RL          NaN    12394   Pave   NaN      IR1   \n",
       "578    579         160       FV         34.0     3604   Pave  Pave      Reg   \n",
       "279    280          60       RL         83.0    10005   Pave   NaN      Reg   \n",
       "234    235          60       RL          NaN     7851   Pave   NaN      Reg   \n",
       "154    155          30       RM         84.0    11340   Pave   NaN      Reg   \n",
       "1165  1166          20       RL         79.0     9541   Pave   NaN      IR1   \n",
       "1386  1387          60       RL         80.0    16692   Pave   NaN      IR1   \n",
       "836    837          30       RM         90.0     8100   Pave  Pave      Reg   \n",
       "867    868          20       RL         85.0     6970   Pave   NaN      Reg   \n",
       "345    346          50       RL         65.0     6435   Pave   NaN      Reg   \n",
       "1000  1001          20       RL         74.0    10206   Pave   NaN      Reg   \n",
       "753    754          60       RL         80.0    10240   Pave   NaN      Reg   \n",
       "80      81          60       RL        100.0    13000   Pave   NaN      Reg   \n",
       "975    976         160       FV          NaN     2651   Pave   NaN      Reg   \n",
       "404    405          60       RL          NaN    10364   Pave   NaN      IR1   \n",
       "466    467          20       RL         85.0    10628   Pave   NaN      Reg   \n",
       "362    363          85       RL         64.0     7301   Pave   NaN      Reg   \n",
       "331    332          20       RL         70.0     8176   Pave   NaN      Reg   \n",
       "786    787          50       RM         60.0    10800   Pave   NaN      Reg   \n",
       "1255  1256          50       RM         52.0     6240   Pave   NaN      Reg   \n",
       "1170  1171          80       RL         76.0     9880   Pave   NaN      Reg   \n",
       "1254  1255          60       RL         60.0     6931   Pave   NaN      Reg   \n",
       "386    387          50       RL         58.0     8410   Pave   NaN      Reg   \n",
       "274    275          20       RL         76.0     8314   Pave   NaN      Reg   \n",
       "784    785          75       RM         35.0     6300   Pave  Grvl      Reg   \n",
       "496    497          20       RL          NaN    12692   Pave   NaN      IR1   \n",
       "\n",
       "     LandContour Utilities    ...     PoolArea PoolQC  Fence MiscFeature  \\\n",
       "539          Lvl    AllPub    ...            0    NaN  MnPrv        Shed   \n",
       "791          Lvl    AllPub    ...            0    NaN    NaN         NaN   \n",
       "816          Lvl    AllPub    ...            0    NaN    NaN         NaN   \n",
       "989          Lvl    AllPub    ...            0    NaN    NaN         NaN   \n",
       "890          Lvl    AllPub    ...            0    NaN  MnPrv        Shed   \n",
       "1291         Lvl    AllPub    ...            0    NaN    NaN         NaN   \n",
       "272          Lvl    AllPub    ...            0    NaN    NaN         NaN   \n",
       "794          Lvl    AllPub    ...            0    NaN    NaN        Shed   \n",
       "1019         Lvl    AllPub    ...            0    NaN    NaN         NaN   \n",
       "515          Lvl    AllPub    ...            0    NaN    NaN         NaN   \n",
       "273          Lvl    AllPub    ...            0    NaN  MnPrv         NaN   \n",
       "494          Lvl    AllPub    ...            0    NaN    NaN         NaN   \n",
       "1168         Lvl    AllPub    ...            0    NaN    NaN         NaN   \n",
       "665          Lvl    AllPub    ...            0    NaN    NaN         NaN   \n",
       "278          Lvl    AllPub    ...            0    NaN    NaN         NaN   \n",
       "198          Lvl    AllPub    ...            0    NaN  MnPrv         NaN   \n",
       "645          Lvl    AllPub    ...            0    NaN    NaN         NaN   \n",
       "713          Lvl    AllPub    ...            0    NaN    NaN         NaN   \n",
       "187          Lvl    AllPub    ...            0    NaN  MnPrv         NaN   \n",
       "941          Lvl    AllPub    ...            0    NaN  GdPrv         NaN   \n",
       "1171         Lvl    AllPub    ...            0    NaN    NaN        Shed   \n",
       "598          Bnk    AllPub    ...            0    NaN    NaN         NaN   \n",
       "748          Lvl    AllPub    ...            0    NaN    NaN         NaN   \n",
       "865          Lvl    AllPub    ...            0    NaN  MnPrv         NaN   \n",
       "1287         Low    AllPub    ...            0    NaN    NaN         NaN   \n",
       "1158         Lvl    AllPub    ...            0    NaN    NaN         NaN   \n",
       "1192         Lvl    AllPub    ...            0    NaN   GdWo         NaN   \n",
       "872          Lvl    AllPub    ...            0    NaN   GdWo         NaN   \n",
       "1011         Lvl    AllPub    ...            0    NaN    NaN         NaN   \n",
       "392          Lvl    AllPub    ...            0    NaN  MnPrv        Shed   \n",
       "...          ...       ...    ...          ...    ...    ...         ...   \n",
       "576          Lvl    AllPub    ...            0    NaN    NaN         NaN   \n",
       "1030         Lvl    AllPub    ...            0    NaN    NaN         NaN   \n",
       "823          Lvl    AllPub    ...            0    NaN   GdWo         NaN   \n",
       "1235         Lvl    AllPub    ...            0    NaN    NaN         NaN   \n",
       "822          Lvl    AllPub    ...            0    NaN    NaN         NaN   \n",
       "578          Lvl    AllPub    ...            0    NaN    NaN         NaN   \n",
       "279          Lvl    AllPub    ...            0    NaN    NaN         NaN   \n",
       "234          Lvl    AllPub    ...            0    NaN    NaN         NaN   \n",
       "154          Lvl    AllPub    ...            0    NaN    NaN         NaN   \n",
       "1165         Lvl    AllPub    ...            0    NaN    NaN         NaN   \n",
       "1386         Lvl    AllPub    ...          519     Fa  MnPrv        TenC   \n",
       "836          Lvl    AllPub    ...            0    NaN   GdWo         NaN   \n",
       "867          Lvl    AllPub    ...            0    NaN    NaN        Shed   \n",
       "345          Lvl    AllPub    ...            0    NaN    NaN         NaN   \n",
       "1000         Lvl    AllPub    ...            0    NaN    NaN         NaN   \n",
       "753          Lvl    AllPub    ...            0    NaN    NaN         NaN   \n",
       "80           Lvl    AllPub    ...            0    NaN    NaN         NaN   \n",
       "975          Lvl    AllPub    ...            0    NaN    NaN         NaN   \n",
       "404          Lvl    AllPub    ...            0    NaN    NaN         NaN   \n",
       "466          Lvl    AllPub    ...            0    NaN   GdWo         NaN   \n",
       "362          Lvl    AllPub    ...            0    NaN    NaN         NaN   \n",
       "331          Lvl    AllPub    ...            0    NaN    NaN         NaN   \n",
       "786          Lvl    AllPub    ...            0    NaN    NaN        Shed   \n",
       "1255         Lvl    AllPub    ...            0    NaN    NaN         NaN   \n",
       "1170         Lvl    AllPub    ...          576     Gd  GdPrv         NaN   \n",
       "1254         Lvl    AllPub    ...            0    NaN    NaN         NaN   \n",
       "386          Lvl    AllPub    ...            0    NaN    NaN         NaN   \n",
       "274          Lvl    AllPub    ...            0    NaN    NaN         NaN   \n",
       "784          Lvl    AllPub    ...            0    NaN    NaN         NaN   \n",
       "496          Lvl    AllPub    ...            0    NaN    NaN         NaN   \n",
       "\n",
       "     MiscVal MoSold YrSold  SaleType  SaleCondition  SalePrice  \n",
       "539     2000      5   2010        WD         Normal     272000  \n",
       "791        0      5   2007        WD         Normal     146800  \n",
       "816        0      7   2006        WD         Normal     137000  \n",
       "989        0      8   2006       New        Partial     197000  \n",
       "890     2000      7   2007        WD         Normal     122900  \n",
       "1291       0      2   2009        WD         Normal     119500  \n",
       "272        0      4   2010        WD         Normal     290000  \n",
       "794      500     10   2008        WD         Normal     194500  \n",
       "1019       0      4   2006        WD         Normal     213490  \n",
       "515        0      9   2009       New        Partial     402861  \n",
       "273        0      4   2009        WD         Normal     139000  \n",
       "494        0     12   2009        WD         Normal      91300  \n",
       "1168       0      7   2008        WD         Normal     235000  \n",
       "665        0     11   2006        WD         Normal     230500  \n",
       "278        0      5   2007       New        Partial     415298  \n",
       "198        0      7   2009        WD        Abnorml     104000  \n",
       "645        0      3   2007        WD         Normal     143250  \n",
       "713        0      5   2006        WD         Normal     129000  \n",
       "187        0      8   2009        WD         Normal     135000  \n",
       "941        0      6   2009        WD         Normal     214000  \n",
       "1171    1400     11   2008        WD         Normal     163000  \n",
       "598        0      3   2006        WD         Normal     217500  \n",
       "748        0      3   2010        WD         Normal     260400  \n",
       "865        0      8   2009        WD         Normal     148500  \n",
       "1287       0      6   2006        WD         Normal     190000  \n",
       "1158       0      6   2008     ConLD        Partial     235128  \n",
       "1192       0      7   2007        WD         Normal     125000  \n",
       "872        0     10   2008        WD         Normal     116000  \n",
       "1011       0      5   2010        WD         Normal     100000  \n",
       "392     1200      7   2007        WD         Normal     106500  \n",
       "...      ...    ...    ...       ...            ...        ...  \n",
       "576        0      8   2009        WD         Normal     145000  \n",
       "1030       0      7   2006        WD         Normal     160000  \n",
       "823        0      7   2009        WD         Normal     139500  \n",
       "1235       0      7   2006        WD         Normal     138887  \n",
       "822        0     10   2007        WD         Family     225000  \n",
       "578        0      2   2008        WD        Abnorml     146000  \n",
       "279        0      3   2008        WD         Normal     192000  \n",
       "234        0      5   2010        WD         Normal     216500  \n",
       "154        0      3   2006        WD         Family     125000  \n",
       "1165       0      9   2009       New        Partial     233170  \n",
       "1386    2000      7   2006        WD         Normal     250000  \n",
       "836        0      6   2007       COD         Normal     153500  \n",
       "867      400      5   2007        WD         Normal     129000  \n",
       "345        0     10   2006        WD         Normal     140200  \n",
       "1000       0      7   2009        WD         Normal      82000  \n",
       "753        0      3   2006        WD         Normal     275500  \n",
       "80         0      6   2009        WD         Normal     193500  \n",
       "975        0      4   2006        WD         Normal     165000  \n",
       "404        0      5   2007        WD         Normal     168000  \n",
       "466        0      4   2007        WD         Normal     167000  \n",
       "362        0      7   2009     ConLD         Normal     198500  \n",
       "331        0      8   2007        WD         Normal     139000  \n",
       "786     1200      6   2010        WD         Normal     139000  \n",
       "1255       0     11   2007        WD         Normal     127500  \n",
       "1170       0      7   2008        WD         Normal     171000  \n",
       "1254       0      7   2008        WD         Normal     165400  \n",
       "386        0      5   2006        WD        AdjLand      81000  \n",
       "274        0      6   2007        WD         Normal     124500  \n",
       "784        0      6   2008        WD         Normal     128000  \n",
       "496        0      5   2007        WD         Normal     430000  \n",
       "\n",
       "[876 rows x 81 columns]"
      ]
     },
     "execution_count": 210,
     "metadata": {},
     "output_type": "execute_result"
    }
   ],
   "source": [
    "train_data"
   ]
  },
  {
   "cell_type": "code",
   "execution_count": 211,
   "metadata": {
    "collapsed": false
   },
   "outputs": [],
   "source": [
    "val_data=data_1[int(len(data_1)*0.60):]"
   ]
  },
  {
   "cell_type": "code",
   "execution_count": 212,
   "metadata": {
    "collapsed": false
   },
   "outputs": [
    {
     "data": {
      "text/plain": [
       "584"
      ]
     },
     "execution_count": 212,
     "metadata": {},
     "output_type": "execute_result"
    }
   ],
   "source": [
    "len(val_data)"
   ]
  },
  {
   "cell_type": "code",
   "execution_count": 213,
   "metadata": {
    "collapsed": false
   },
   "outputs": [
    {
     "data": {
      "text/html": [
       "<div>\n",
       "<table border=\"1\" class=\"dataframe\">\n",
       "  <thead>\n",
       "    <tr style=\"text-align: right;\">\n",
       "      <th></th>\n",
       "      <th>s</th>\n",
       "      <th>MSSubClass</th>\n",
       "      <th>MSZoning</th>\n",
       "      <th>LotFrontage</th>\n",
       "      <th>LotArea</th>\n",
       "      <th>Street</th>\n",
       "      <th>Alley</th>\n",
       "      <th>LotShape</th>\n",
       "      <th>LandContour</th>\n",
       "      <th>Utilities</th>\n",
       "      <th>...</th>\n",
       "      <th>PoolArea</th>\n",
       "      <th>PoolQC</th>\n",
       "      <th>Fence</th>\n",
       "      <th>MiscFeature</th>\n",
       "      <th>MiscVal</th>\n",
       "      <th>MoSold</th>\n",
       "      <th>YrSold</th>\n",
       "      <th>SaleType</th>\n",
       "      <th>SaleCondition</th>\n",
       "      <th>SalePrice</th>\n",
       "    </tr>\n",
       "  </thead>\n",
       "  <tbody>\n",
       "    <tr>\n",
       "      <th>1051</th>\n",
       "      <td>1052</td>\n",
       "      <td>20</td>\n",
       "      <td>RL</td>\n",
       "      <td>103.0</td>\n",
       "      <td>11175</td>\n",
       "      <td>Pave</td>\n",
       "      <td>NaN</td>\n",
       "      <td>IR1</td>\n",
       "      <td>Lvl</td>\n",
       "      <td>AllPub</td>\n",
       "      <td>...</td>\n",
       "      <td>0</td>\n",
       "      <td>NaN</td>\n",
       "      <td>NaN</td>\n",
       "      <td>NaN</td>\n",
       "      <td>0</td>\n",
       "      <td>10</td>\n",
       "      <td>2007</td>\n",
       "      <td>New</td>\n",
       "      <td>Partial</td>\n",
       "      <td>200141</td>\n",
       "    </tr>\n",
       "    <tr>\n",
       "      <th>131</th>\n",
       "      <td>132</td>\n",
       "      <td>60</td>\n",
       "      <td>RL</td>\n",
       "      <td>NaN</td>\n",
       "      <td>12224</td>\n",
       "      <td>Pave</td>\n",
       "      <td>NaN</td>\n",
       "      <td>IR1</td>\n",
       "      <td>Lvl</td>\n",
       "      <td>AllPub</td>\n",
       "      <td>...</td>\n",
       "      <td>0</td>\n",
       "      <td>NaN</td>\n",
       "      <td>NaN</td>\n",
       "      <td>NaN</td>\n",
       "      <td>0</td>\n",
       "      <td>7</td>\n",
       "      <td>2009</td>\n",
       "      <td>WD</td>\n",
       "      <td>Normal</td>\n",
       "      <td>244000</td>\n",
       "    </tr>\n",
       "    <tr>\n",
       "      <th>599</th>\n",
       "      <td>600</td>\n",
       "      <td>160</td>\n",
       "      <td>RM</td>\n",
       "      <td>24.0</td>\n",
       "      <td>1950</td>\n",
       "      <td>Pave</td>\n",
       "      <td>NaN</td>\n",
       "      <td>Reg</td>\n",
       "      <td>Lvl</td>\n",
       "      <td>AllPub</td>\n",
       "      <td>...</td>\n",
       "      <td>0</td>\n",
       "      <td>NaN</td>\n",
       "      <td>GdPrv</td>\n",
       "      <td>NaN</td>\n",
       "      <td>0</td>\n",
       "      <td>7</td>\n",
       "      <td>2008</td>\n",
       "      <td>COD</td>\n",
       "      <td>Normal</td>\n",
       "      <td>151000</td>\n",
       "    </tr>\n",
       "    <tr>\n",
       "      <th>1451</th>\n",
       "      <td>1452</td>\n",
       "      <td>20</td>\n",
       "      <td>RL</td>\n",
       "      <td>78.0</td>\n",
       "      <td>9262</td>\n",
       "      <td>Pave</td>\n",
       "      <td>NaN</td>\n",
       "      <td>Reg</td>\n",
       "      <td>Lvl</td>\n",
       "      <td>AllPub</td>\n",
       "      <td>...</td>\n",
       "      <td>0</td>\n",
       "      <td>NaN</td>\n",
       "      <td>NaN</td>\n",
       "      <td>NaN</td>\n",
       "      <td>0</td>\n",
       "      <td>5</td>\n",
       "      <td>2009</td>\n",
       "      <td>New</td>\n",
       "      <td>Partial</td>\n",
       "      <td>287090</td>\n",
       "    </tr>\n",
       "    <tr>\n",
       "      <th>427</th>\n",
       "      <td>428</td>\n",
       "      <td>20</td>\n",
       "      <td>RL</td>\n",
       "      <td>77.0</td>\n",
       "      <td>8593</td>\n",
       "      <td>Pave</td>\n",
       "      <td>NaN</td>\n",
       "      <td>IR1</td>\n",
       "      <td>Lvl</td>\n",
       "      <td>AllPub</td>\n",
       "      <td>...</td>\n",
       "      <td>0</td>\n",
       "      <td>NaN</td>\n",
       "      <td>NaN</td>\n",
       "      <td>NaN</td>\n",
       "      <td>0</td>\n",
       "      <td>7</td>\n",
       "      <td>2008</td>\n",
       "      <td>WD</td>\n",
       "      <td>Normal</td>\n",
       "      <td>109008</td>\n",
       "    </tr>\n",
       "    <tr>\n",
       "      <th>1431</th>\n",
       "      <td>1432</td>\n",
       "      <td>120</td>\n",
       "      <td>RL</td>\n",
       "      <td>NaN</td>\n",
       "      <td>4928</td>\n",
       "      <td>Pave</td>\n",
       "      <td>NaN</td>\n",
       "      <td>IR1</td>\n",
       "      <td>Lvl</td>\n",
       "      <td>AllPub</td>\n",
       "      <td>...</td>\n",
       "      <td>0</td>\n",
       "      <td>NaN</td>\n",
       "      <td>NaN</td>\n",
       "      <td>NaN</td>\n",
       "      <td>0</td>\n",
       "      <td>10</td>\n",
       "      <td>2009</td>\n",
       "      <td>WD</td>\n",
       "      <td>Normal</td>\n",
       "      <td>143750</td>\n",
       "    </tr>\n",
       "    <tr>\n",
       "      <th>1307</th>\n",
       "      <td>1308</td>\n",
       "      <td>20</td>\n",
       "      <td>RL</td>\n",
       "      <td>60.0</td>\n",
       "      <td>8072</td>\n",
       "      <td>Pave</td>\n",
       "      <td>NaN</td>\n",
       "      <td>Reg</td>\n",
       "      <td>Lvl</td>\n",
       "      <td>AllPub</td>\n",
       "      <td>...</td>\n",
       "      <td>0</td>\n",
       "      <td>NaN</td>\n",
       "      <td>NaN</td>\n",
       "      <td>NaN</td>\n",
       "      <td>0</td>\n",
       "      <td>5</td>\n",
       "      <td>2009</td>\n",
       "      <td>WD</td>\n",
       "      <td>Normal</td>\n",
       "      <td>138000</td>\n",
       "    </tr>\n",
       "    <tr>\n",
       "      <th>1082</th>\n",
       "      <td>1083</td>\n",
       "      <td>20</td>\n",
       "      <td>RL</td>\n",
       "      <td>70.0</td>\n",
       "      <td>8749</td>\n",
       "      <td>Pave</td>\n",
       "      <td>NaN</td>\n",
       "      <td>Reg</td>\n",
       "      <td>Lvl</td>\n",
       "      <td>AllPub</td>\n",
       "      <td>...</td>\n",
       "      <td>0</td>\n",
       "      <td>NaN</td>\n",
       "      <td>NaN</td>\n",
       "      <td>NaN</td>\n",
       "      <td>0</td>\n",
       "      <td>9</td>\n",
       "      <td>2007</td>\n",
       "      <td>WD</td>\n",
       "      <td>Normal</td>\n",
       "      <td>192000</td>\n",
       "    </tr>\n",
       "    <tr>\n",
       "      <th>930</th>\n",
       "      <td>931</td>\n",
       "      <td>20</td>\n",
       "      <td>RL</td>\n",
       "      <td>73.0</td>\n",
       "      <td>8925</td>\n",
       "      <td>Pave</td>\n",
       "      <td>NaN</td>\n",
       "      <td>IR1</td>\n",
       "      <td>HLS</td>\n",
       "      <td>AllPub</td>\n",
       "      <td>...</td>\n",
       "      <td>0</td>\n",
       "      <td>NaN</td>\n",
       "      <td>NaN</td>\n",
       "      <td>NaN</td>\n",
       "      <td>0</td>\n",
       "      <td>7</td>\n",
       "      <td>2009</td>\n",
       "      <td>WD</td>\n",
       "      <td>Normal</td>\n",
       "      <td>201000</td>\n",
       "    </tr>\n",
       "    <tr>\n",
       "      <th>857</th>\n",
       "      <td>858</td>\n",
       "      <td>60</td>\n",
       "      <td>RL</td>\n",
       "      <td>65.0</td>\n",
       "      <td>8125</td>\n",
       "      <td>Pave</td>\n",
       "      <td>NaN</td>\n",
       "      <td>Reg</td>\n",
       "      <td>Lvl</td>\n",
       "      <td>AllPub</td>\n",
       "      <td>...</td>\n",
       "      <td>0</td>\n",
       "      <td>NaN</td>\n",
       "      <td>NaN</td>\n",
       "      <td>NaN</td>\n",
       "      <td>0</td>\n",
       "      <td>3</td>\n",
       "      <td>2009</td>\n",
       "      <td>WD</td>\n",
       "      <td>Normal</td>\n",
       "      <td>174000</td>\n",
       "    </tr>\n",
       "    <tr>\n",
       "      <th>1455</th>\n",
       "      <td>1456</td>\n",
       "      <td>60</td>\n",
       "      <td>RL</td>\n",
       "      <td>62.0</td>\n",
       "      <td>7917</td>\n",
       "      <td>Pave</td>\n",
       "      <td>NaN</td>\n",
       "      <td>Reg</td>\n",
       "      <td>Lvl</td>\n",
       "      <td>AllPub</td>\n",
       "      <td>...</td>\n",
       "      <td>0</td>\n",
       "      <td>NaN</td>\n",
       "      <td>NaN</td>\n",
       "      <td>NaN</td>\n",
       "      <td>0</td>\n",
       "      <td>8</td>\n",
       "      <td>2007</td>\n",
       "      <td>WD</td>\n",
       "      <td>Normal</td>\n",
       "      <td>175000</td>\n",
       "    </tr>\n",
       "    <tr>\n",
       "      <th>1096</th>\n",
       "      <td>1097</td>\n",
       "      <td>70</td>\n",
       "      <td>RM</td>\n",
       "      <td>60.0</td>\n",
       "      <td>6882</td>\n",
       "      <td>Pave</td>\n",
       "      <td>NaN</td>\n",
       "      <td>Reg</td>\n",
       "      <td>Lvl</td>\n",
       "      <td>AllPub</td>\n",
       "      <td>...</td>\n",
       "      <td>0</td>\n",
       "      <td>NaN</td>\n",
       "      <td>NaN</td>\n",
       "      <td>NaN</td>\n",
       "      <td>0</td>\n",
       "      <td>3</td>\n",
       "      <td>2007</td>\n",
       "      <td>WD</td>\n",
       "      <td>Normal</td>\n",
       "      <td>127000</td>\n",
       "    </tr>\n",
       "    <tr>\n",
       "      <th>1071</th>\n",
       "      <td>1072</td>\n",
       "      <td>60</td>\n",
       "      <td>RL</td>\n",
       "      <td>78.0</td>\n",
       "      <td>11700</td>\n",
       "      <td>Pave</td>\n",
       "      <td>NaN</td>\n",
       "      <td>Reg</td>\n",
       "      <td>Lvl</td>\n",
       "      <td>AllPub</td>\n",
       "      <td>...</td>\n",
       "      <td>0</td>\n",
       "      <td>NaN</td>\n",
       "      <td>NaN</td>\n",
       "      <td>NaN</td>\n",
       "      <td>0</td>\n",
       "      <td>5</td>\n",
       "      <td>2009</td>\n",
       "      <td>WD</td>\n",
       "      <td>Normal</td>\n",
       "      <td>154000</td>\n",
       "    </tr>\n",
       "    <tr>\n",
       "      <th>434</th>\n",
       "      <td>435</td>\n",
       "      <td>180</td>\n",
       "      <td>RM</td>\n",
       "      <td>21.0</td>\n",
       "      <td>1890</td>\n",
       "      <td>Pave</td>\n",
       "      <td>NaN</td>\n",
       "      <td>Reg</td>\n",
       "      <td>Lvl</td>\n",
       "      <td>AllPub</td>\n",
       "      <td>...</td>\n",
       "      <td>0</td>\n",
       "      <td>NaN</td>\n",
       "      <td>NaN</td>\n",
       "      <td>NaN</td>\n",
       "      <td>0</td>\n",
       "      <td>6</td>\n",
       "      <td>2008</td>\n",
       "      <td>WD</td>\n",
       "      <td>Normal</td>\n",
       "      <td>81000</td>\n",
       "    </tr>\n",
       "    <tr>\n",
       "      <th>942</th>\n",
       "      <td>943</td>\n",
       "      <td>90</td>\n",
       "      <td>RL</td>\n",
       "      <td>42.0</td>\n",
       "      <td>7711</td>\n",
       "      <td>Pave</td>\n",
       "      <td>NaN</td>\n",
       "      <td>IR1</td>\n",
       "      <td>Lvl</td>\n",
       "      <td>AllPub</td>\n",
       "      <td>...</td>\n",
       "      <td>0</td>\n",
       "      <td>NaN</td>\n",
       "      <td>NaN</td>\n",
       "      <td>NaN</td>\n",
       "      <td>0</td>\n",
       "      <td>8</td>\n",
       "      <td>2007</td>\n",
       "      <td>Oth</td>\n",
       "      <td>Abnorml</td>\n",
       "      <td>150000</td>\n",
       "    </tr>\n",
       "    <tr>\n",
       "      <th>336</th>\n",
       "      <td>337</td>\n",
       "      <td>20</td>\n",
       "      <td>RL</td>\n",
       "      <td>86.0</td>\n",
       "      <td>14157</td>\n",
       "      <td>Pave</td>\n",
       "      <td>NaN</td>\n",
       "      <td>IR1</td>\n",
       "      <td>HLS</td>\n",
       "      <td>AllPub</td>\n",
       "      <td>...</td>\n",
       "      <td>0</td>\n",
       "      <td>NaN</td>\n",
       "      <td>NaN</td>\n",
       "      <td>NaN</td>\n",
       "      <td>0</td>\n",
       "      <td>7</td>\n",
       "      <td>2007</td>\n",
       "      <td>WD</td>\n",
       "      <td>Normal</td>\n",
       "      <td>377426</td>\n",
       "    </tr>\n",
       "    <tr>\n",
       "      <th>1178</th>\n",
       "      <td>1179</td>\n",
       "      <td>50</td>\n",
       "      <td>RL</td>\n",
       "      <td>54.0</td>\n",
       "      <td>7681</td>\n",
       "      <td>Pave</td>\n",
       "      <td>NaN</td>\n",
       "      <td>IR1</td>\n",
       "      <td>Lvl</td>\n",
       "      <td>AllPub</td>\n",
       "      <td>...</td>\n",
       "      <td>0</td>\n",
       "      <td>NaN</td>\n",
       "      <td>NaN</td>\n",
       "      <td>NaN</td>\n",
       "      <td>0</td>\n",
       "      <td>7</td>\n",
       "      <td>2009</td>\n",
       "      <td>WD</td>\n",
       "      <td>Normal</td>\n",
       "      <td>154900</td>\n",
       "    </tr>\n",
       "    <tr>\n",
       "      <th>1434</th>\n",
       "      <td>1435</td>\n",
       "      <td>20</td>\n",
       "      <td>RL</td>\n",
       "      <td>80.0</td>\n",
       "      <td>17400</td>\n",
       "      <td>Pave</td>\n",
       "      <td>NaN</td>\n",
       "      <td>Reg</td>\n",
       "      <td>Low</td>\n",
       "      <td>AllPub</td>\n",
       "      <td>...</td>\n",
       "      <td>0</td>\n",
       "      <td>NaN</td>\n",
       "      <td>NaN</td>\n",
       "      <td>NaN</td>\n",
       "      <td>0</td>\n",
       "      <td>5</td>\n",
       "      <td>2006</td>\n",
       "      <td>WD</td>\n",
       "      <td>Normal</td>\n",
       "      <td>160000</td>\n",
       "    </tr>\n",
       "    <tr>\n",
       "      <th>233</th>\n",
       "      <td>234</td>\n",
       "      <td>20</td>\n",
       "      <td>RL</td>\n",
       "      <td>75.0</td>\n",
       "      <td>10650</td>\n",
       "      <td>Pave</td>\n",
       "      <td>NaN</td>\n",
       "      <td>Reg</td>\n",
       "      <td>Lvl</td>\n",
       "      <td>AllPub</td>\n",
       "      <td>...</td>\n",
       "      <td>0</td>\n",
       "      <td>NaN</td>\n",
       "      <td>MnPrv</td>\n",
       "      <td>NaN</td>\n",
       "      <td>0</td>\n",
       "      <td>2</td>\n",
       "      <td>2010</td>\n",
       "      <td>WD</td>\n",
       "      <td>Normal</td>\n",
       "      <td>128200</td>\n",
       "    </tr>\n",
       "    <tr>\n",
       "      <th>376</th>\n",
       "      <td>377</td>\n",
       "      <td>85</td>\n",
       "      <td>RL</td>\n",
       "      <td>57.0</td>\n",
       "      <td>8846</td>\n",
       "      <td>Pave</td>\n",
       "      <td>NaN</td>\n",
       "      <td>IR1</td>\n",
       "      <td>Lvl</td>\n",
       "      <td>AllPub</td>\n",
       "      <td>...</td>\n",
       "      <td>0</td>\n",
       "      <td>NaN</td>\n",
       "      <td>NaN</td>\n",
       "      <td>NaN</td>\n",
       "      <td>0</td>\n",
       "      <td>7</td>\n",
       "      <td>2006</td>\n",
       "      <td>WD</td>\n",
       "      <td>Normal</td>\n",
       "      <td>148000</td>\n",
       "    </tr>\n",
       "    <tr>\n",
       "      <th>92</th>\n",
       "      <td>93</td>\n",
       "      <td>30</td>\n",
       "      <td>RL</td>\n",
       "      <td>80.0</td>\n",
       "      <td>13360</td>\n",
       "      <td>Pave</td>\n",
       "      <td>Grvl</td>\n",
       "      <td>IR1</td>\n",
       "      <td>HLS</td>\n",
       "      <td>AllPub</td>\n",
       "      <td>...</td>\n",
       "      <td>0</td>\n",
       "      <td>NaN</td>\n",
       "      <td>NaN</td>\n",
       "      <td>NaN</td>\n",
       "      <td>0</td>\n",
       "      <td>8</td>\n",
       "      <td>2009</td>\n",
       "      <td>WD</td>\n",
       "      <td>Normal</td>\n",
       "      <td>163500</td>\n",
       "    </tr>\n",
       "    <tr>\n",
       "      <th>1353</th>\n",
       "      <td>1354</td>\n",
       "      <td>50</td>\n",
       "      <td>RL</td>\n",
       "      <td>56.0</td>\n",
       "      <td>14720</td>\n",
       "      <td>Pave</td>\n",
       "      <td>NaN</td>\n",
       "      <td>IR1</td>\n",
       "      <td>Lvl</td>\n",
       "      <td>AllPub</td>\n",
       "      <td>...</td>\n",
       "      <td>0</td>\n",
       "      <td>NaN</td>\n",
       "      <td>NaN</td>\n",
       "      <td>NaN</td>\n",
       "      <td>0</td>\n",
       "      <td>3</td>\n",
       "      <td>2010</td>\n",
       "      <td>WD</td>\n",
       "      <td>Normal</td>\n",
       "      <td>410000</td>\n",
       "    </tr>\n",
       "    <tr>\n",
       "      <th>672</th>\n",
       "      <td>673</td>\n",
       "      <td>20</td>\n",
       "      <td>RL</td>\n",
       "      <td>NaN</td>\n",
       "      <td>11250</td>\n",
       "      <td>Pave</td>\n",
       "      <td>NaN</td>\n",
       "      <td>IR1</td>\n",
       "      <td>Lvl</td>\n",
       "      <td>AllPub</td>\n",
       "      <td>...</td>\n",
       "      <td>0</td>\n",
       "      <td>NaN</td>\n",
       "      <td>NaN</td>\n",
       "      <td>NaN</td>\n",
       "      <td>0</td>\n",
       "      <td>6</td>\n",
       "      <td>2006</td>\n",
       "      <td>WD</td>\n",
       "      <td>Normal</td>\n",
       "      <td>165000</td>\n",
       "    </tr>\n",
       "    <tr>\n",
       "      <th>313</th>\n",
       "      <td>314</td>\n",
       "      <td>20</td>\n",
       "      <td>RL</td>\n",
       "      <td>150.0</td>\n",
       "      <td>215245</td>\n",
       "      <td>Pave</td>\n",
       "      <td>NaN</td>\n",
       "      <td>IR3</td>\n",
       "      <td>Low</td>\n",
       "      <td>AllPub</td>\n",
       "      <td>...</td>\n",
       "      <td>0</td>\n",
       "      <td>NaN</td>\n",
       "      <td>NaN</td>\n",
       "      <td>NaN</td>\n",
       "      <td>0</td>\n",
       "      <td>6</td>\n",
       "      <td>2009</td>\n",
       "      <td>WD</td>\n",
       "      <td>Normal</td>\n",
       "      <td>375000</td>\n",
       "    </tr>\n",
       "    <tr>\n",
       "      <th>1305</th>\n",
       "      <td>1306</td>\n",
       "      <td>20</td>\n",
       "      <td>RL</td>\n",
       "      <td>108.0</td>\n",
       "      <td>13173</td>\n",
       "      <td>Pave</td>\n",
       "      <td>NaN</td>\n",
       "      <td>IR1</td>\n",
       "      <td>Lvl</td>\n",
       "      <td>AllPub</td>\n",
       "      <td>...</td>\n",
       "      <td>0</td>\n",
       "      <td>NaN</td>\n",
       "      <td>NaN</td>\n",
       "      <td>NaN</td>\n",
       "      <td>0</td>\n",
       "      <td>11</td>\n",
       "      <td>2009</td>\n",
       "      <td>WD</td>\n",
       "      <td>Normal</td>\n",
       "      <td>325000</td>\n",
       "    </tr>\n",
       "    <tr>\n",
       "      <th>493</th>\n",
       "      <td>494</td>\n",
       "      <td>20</td>\n",
       "      <td>RL</td>\n",
       "      <td>70.0</td>\n",
       "      <td>7931</td>\n",
       "      <td>Pave</td>\n",
       "      <td>NaN</td>\n",
       "      <td>Reg</td>\n",
       "      <td>Lvl</td>\n",
       "      <td>AllPub</td>\n",
       "      <td>...</td>\n",
       "      <td>0</td>\n",
       "      <td>NaN</td>\n",
       "      <td>NaN</td>\n",
       "      <td>NaN</td>\n",
       "      <td>0</td>\n",
       "      <td>6</td>\n",
       "      <td>2008</td>\n",
       "      <td>WD</td>\n",
       "      <td>Normal</td>\n",
       "      <td>155000</td>\n",
       "    </tr>\n",
       "    <tr>\n",
       "      <th>1447</th>\n",
       "      <td>1448</td>\n",
       "      <td>60</td>\n",
       "      <td>RL</td>\n",
       "      <td>80.0</td>\n",
       "      <td>10000</td>\n",
       "      <td>Pave</td>\n",
       "      <td>NaN</td>\n",
       "      <td>Reg</td>\n",
       "      <td>Lvl</td>\n",
       "      <td>AllPub</td>\n",
       "      <td>...</td>\n",
       "      <td>0</td>\n",
       "      <td>NaN</td>\n",
       "      <td>NaN</td>\n",
       "      <td>NaN</td>\n",
       "      <td>0</td>\n",
       "      <td>12</td>\n",
       "      <td>2007</td>\n",
       "      <td>WD</td>\n",
       "      <td>Normal</td>\n",
       "      <td>240000</td>\n",
       "    </tr>\n",
       "    <tr>\n",
       "      <th>467</th>\n",
       "      <td>468</td>\n",
       "      <td>70</td>\n",
       "      <td>RL</td>\n",
       "      <td>79.0</td>\n",
       "      <td>9480</td>\n",
       "      <td>Pave</td>\n",
       "      <td>NaN</td>\n",
       "      <td>Reg</td>\n",
       "      <td>Lvl</td>\n",
       "      <td>AllPub</td>\n",
       "      <td>...</td>\n",
       "      <td>0</td>\n",
       "      <td>NaN</td>\n",
       "      <td>NaN</td>\n",
       "      <td>NaN</td>\n",
       "      <td>0</td>\n",
       "      <td>6</td>\n",
       "      <td>2007</td>\n",
       "      <td>WD</td>\n",
       "      <td>Normal</td>\n",
       "      <td>146500</td>\n",
       "    </tr>\n",
       "    <tr>\n",
       "      <th>267</th>\n",
       "      <td>268</td>\n",
       "      <td>75</td>\n",
       "      <td>RL</td>\n",
       "      <td>60.0</td>\n",
       "      <td>8400</td>\n",
       "      <td>Pave</td>\n",
       "      <td>NaN</td>\n",
       "      <td>Reg</td>\n",
       "      <td>Bnk</td>\n",
       "      <td>AllPub</td>\n",
       "      <td>...</td>\n",
       "      <td>0</td>\n",
       "      <td>NaN</td>\n",
       "      <td>NaN</td>\n",
       "      <td>NaN</td>\n",
       "      <td>0</td>\n",
       "      <td>7</td>\n",
       "      <td>2008</td>\n",
       "      <td>WD</td>\n",
       "      <td>Normal</td>\n",
       "      <td>179500</td>\n",
       "    </tr>\n",
       "    <tr>\n",
       "      <th>409</th>\n",
       "      <td>410</td>\n",
       "      <td>60</td>\n",
       "      <td>FV</td>\n",
       "      <td>85.0</td>\n",
       "      <td>10800</td>\n",
       "      <td>Pave</td>\n",
       "      <td>NaN</td>\n",
       "      <td>Reg</td>\n",
       "      <td>Lvl</td>\n",
       "      <td>AllPub</td>\n",
       "      <td>...</td>\n",
       "      <td>0</td>\n",
       "      <td>NaN</td>\n",
       "      <td>NaN</td>\n",
       "      <td>NaN</td>\n",
       "      <td>0</td>\n",
       "      <td>4</td>\n",
       "      <td>2008</td>\n",
       "      <td>New</td>\n",
       "      <td>Partial</td>\n",
       "      <td>339750</td>\n",
       "    </tr>\n",
       "    <tr>\n",
       "      <th>...</th>\n",
       "      <td>...</td>\n",
       "      <td>...</td>\n",
       "      <td>...</td>\n",
       "      <td>...</td>\n",
       "      <td>...</td>\n",
       "      <td>...</td>\n",
       "      <td>...</td>\n",
       "      <td>...</td>\n",
       "      <td>...</td>\n",
       "      <td>...</td>\n",
       "      <td>...</td>\n",
       "      <td>...</td>\n",
       "      <td>...</td>\n",
       "      <td>...</td>\n",
       "      <td>...</td>\n",
       "      <td>...</td>\n",
       "      <td>...</td>\n",
       "      <td>...</td>\n",
       "      <td>...</td>\n",
       "      <td>...</td>\n",
       "      <td>...</td>\n",
       "    </tr>\n",
       "    <tr>\n",
       "      <th>504</th>\n",
       "      <td>505</td>\n",
       "      <td>160</td>\n",
       "      <td>RL</td>\n",
       "      <td>24.0</td>\n",
       "      <td>2308</td>\n",
       "      <td>Pave</td>\n",
       "      <td>NaN</td>\n",
       "      <td>Reg</td>\n",
       "      <td>Lvl</td>\n",
       "      <td>AllPub</td>\n",
       "      <td>...</td>\n",
       "      <td>0</td>\n",
       "      <td>NaN</td>\n",
       "      <td>NaN</td>\n",
       "      <td>NaN</td>\n",
       "      <td>0</td>\n",
       "      <td>6</td>\n",
       "      <td>2009</td>\n",
       "      <td>WD</td>\n",
       "      <td>Normal</td>\n",
       "      <td>147000</td>\n",
       "    </tr>\n",
       "    <tr>\n",
       "      <th>692</th>\n",
       "      <td>693</td>\n",
       "      <td>60</td>\n",
       "      <td>RL</td>\n",
       "      <td>42.0</td>\n",
       "      <td>26178</td>\n",
       "      <td>Pave</td>\n",
       "      <td>NaN</td>\n",
       "      <td>IR1</td>\n",
       "      <td>Lvl</td>\n",
       "      <td>AllPub</td>\n",
       "      <td>...</td>\n",
       "      <td>0</td>\n",
       "      <td>NaN</td>\n",
       "      <td>NaN</td>\n",
       "      <td>NaN</td>\n",
       "      <td>0</td>\n",
       "      <td>4</td>\n",
       "      <td>2006</td>\n",
       "      <td>WD</td>\n",
       "      <td>Normal</td>\n",
       "      <td>335000</td>\n",
       "    </tr>\n",
       "    <tr>\n",
       "      <th>140</th>\n",
       "      <td>141</td>\n",
       "      <td>20</td>\n",
       "      <td>RL</td>\n",
       "      <td>70.0</td>\n",
       "      <td>10500</td>\n",
       "      <td>Pave</td>\n",
       "      <td>NaN</td>\n",
       "      <td>Reg</td>\n",
       "      <td>Lvl</td>\n",
       "      <td>AllPub</td>\n",
       "      <td>...</td>\n",
       "      <td>0</td>\n",
       "      <td>NaN</td>\n",
       "      <td>NaN</td>\n",
       "      <td>NaN</td>\n",
       "      <td>0</td>\n",
       "      <td>4</td>\n",
       "      <td>2010</td>\n",
       "      <td>ConLI</td>\n",
       "      <td>Normal</td>\n",
       "      <td>115000</td>\n",
       "    </tr>\n",
       "    <tr>\n",
       "      <th>1308</th>\n",
       "      <td>1309</td>\n",
       "      <td>20</td>\n",
       "      <td>RM</td>\n",
       "      <td>100.0</td>\n",
       "      <td>12000</td>\n",
       "      <td>Pave</td>\n",
       "      <td>NaN</td>\n",
       "      <td>Reg</td>\n",
       "      <td>Lvl</td>\n",
       "      <td>AllPub</td>\n",
       "      <td>...</td>\n",
       "      <td>0</td>\n",
       "      <td>NaN</td>\n",
       "      <td>GdWo</td>\n",
       "      <td>NaN</td>\n",
       "      <td>0</td>\n",
       "      <td>5</td>\n",
       "      <td>2008</td>\n",
       "      <td>WD</td>\n",
       "      <td>Normal</td>\n",
       "      <td>147000</td>\n",
       "    </tr>\n",
       "    <tr>\n",
       "      <th>517</th>\n",
       "      <td>518</td>\n",
       "      <td>60</td>\n",
       "      <td>RL</td>\n",
       "      <td>79.0</td>\n",
       "      <td>10208</td>\n",
       "      <td>Pave</td>\n",
       "      <td>NaN</td>\n",
       "      <td>IR1</td>\n",
       "      <td>Lvl</td>\n",
       "      <td>AllPub</td>\n",
       "      <td>...</td>\n",
       "      <td>0</td>\n",
       "      <td>NaN</td>\n",
       "      <td>NaN</td>\n",
       "      <td>NaN</td>\n",
       "      <td>0</td>\n",
       "      <td>7</td>\n",
       "      <td>2009</td>\n",
       "      <td>WD</td>\n",
       "      <td>Normal</td>\n",
       "      <td>265000</td>\n",
       "    </tr>\n",
       "    <tr>\n",
       "      <th>499</th>\n",
       "      <td>500</td>\n",
       "      <td>20</td>\n",
       "      <td>RL</td>\n",
       "      <td>70.0</td>\n",
       "      <td>7535</td>\n",
       "      <td>Pave</td>\n",
       "      <td>NaN</td>\n",
       "      <td>IR1</td>\n",
       "      <td>Lvl</td>\n",
       "      <td>AllPub</td>\n",
       "      <td>...</td>\n",
       "      <td>0</td>\n",
       "      <td>NaN</td>\n",
       "      <td>MnWw</td>\n",
       "      <td>Shed</td>\n",
       "      <td>480</td>\n",
       "      <td>6</td>\n",
       "      <td>2007</td>\n",
       "      <td>WD</td>\n",
       "      <td>Normal</td>\n",
       "      <td>120000</td>\n",
       "    </tr>\n",
       "    <tr>\n",
       "      <th>1217</th>\n",
       "      <td>1218</td>\n",
       "      <td>20</td>\n",
       "      <td>FV</td>\n",
       "      <td>72.0</td>\n",
       "      <td>8640</td>\n",
       "      <td>Pave</td>\n",
       "      <td>NaN</td>\n",
       "      <td>Reg</td>\n",
       "      <td>Lvl</td>\n",
       "      <td>AllPub</td>\n",
       "      <td>...</td>\n",
       "      <td>0</td>\n",
       "      <td>NaN</td>\n",
       "      <td>NaN</td>\n",
       "      <td>NaN</td>\n",
       "      <td>0</td>\n",
       "      <td>9</td>\n",
       "      <td>2009</td>\n",
       "      <td>New</td>\n",
       "      <td>Partial</td>\n",
       "      <td>229456</td>\n",
       "    </tr>\n",
       "    <tr>\n",
       "      <th>1390</th>\n",
       "      <td>1391</td>\n",
       "      <td>20</td>\n",
       "      <td>RL</td>\n",
       "      <td>70.0</td>\n",
       "      <td>9100</td>\n",
       "      <td>Pave</td>\n",
       "      <td>NaN</td>\n",
       "      <td>Reg</td>\n",
       "      <td>Lvl</td>\n",
       "      <td>AllPub</td>\n",
       "      <td>...</td>\n",
       "      <td>0</td>\n",
       "      <td>NaN</td>\n",
       "      <td>NaN</td>\n",
       "      <td>NaN</td>\n",
       "      <td>0</td>\n",
       "      <td>9</td>\n",
       "      <td>2006</td>\n",
       "      <td>WD</td>\n",
       "      <td>Normal</td>\n",
       "      <td>235000</td>\n",
       "    </tr>\n",
       "    <tr>\n",
       "      <th>320</th>\n",
       "      <td>321</td>\n",
       "      <td>60</td>\n",
       "      <td>RL</td>\n",
       "      <td>111.0</td>\n",
       "      <td>16259</td>\n",
       "      <td>Pave</td>\n",
       "      <td>NaN</td>\n",
       "      <td>Reg</td>\n",
       "      <td>Lvl</td>\n",
       "      <td>AllPub</td>\n",
       "      <td>...</td>\n",
       "      <td>0</td>\n",
       "      <td>NaN</td>\n",
       "      <td>NaN</td>\n",
       "      <td>NaN</td>\n",
       "      <td>0</td>\n",
       "      <td>9</td>\n",
       "      <td>2006</td>\n",
       "      <td>New</td>\n",
       "      <td>Partial</td>\n",
       "      <td>342643</td>\n",
       "    </tr>\n",
       "    <tr>\n",
       "      <th>63</th>\n",
       "      <td>64</td>\n",
       "      <td>70</td>\n",
       "      <td>RM</td>\n",
       "      <td>50.0</td>\n",
       "      <td>10300</td>\n",
       "      <td>Pave</td>\n",
       "      <td>NaN</td>\n",
       "      <td>IR1</td>\n",
       "      <td>Bnk</td>\n",
       "      <td>AllPub</td>\n",
       "      <td>...</td>\n",
       "      <td>0</td>\n",
       "      <td>NaN</td>\n",
       "      <td>GdPrv</td>\n",
       "      <td>NaN</td>\n",
       "      <td>0</td>\n",
       "      <td>4</td>\n",
       "      <td>2010</td>\n",
       "      <td>WD</td>\n",
       "      <td>Normal</td>\n",
       "      <td>140000</td>\n",
       "    </tr>\n",
       "    <tr>\n",
       "      <th>304</th>\n",
       "      <td>305</td>\n",
       "      <td>75</td>\n",
       "      <td>RM</td>\n",
       "      <td>87.0</td>\n",
       "      <td>18386</td>\n",
       "      <td>Pave</td>\n",
       "      <td>NaN</td>\n",
       "      <td>Reg</td>\n",
       "      <td>Lvl</td>\n",
       "      <td>AllPub</td>\n",
       "      <td>...</td>\n",
       "      <td>0</td>\n",
       "      <td>NaN</td>\n",
       "      <td>NaN</td>\n",
       "      <td>NaN</td>\n",
       "      <td>0</td>\n",
       "      <td>5</td>\n",
       "      <td>2008</td>\n",
       "      <td>WD</td>\n",
       "      <td>Normal</td>\n",
       "      <td>295000</td>\n",
       "    </tr>\n",
       "    <tr>\n",
       "      <th>559</th>\n",
       "      <td>560</td>\n",
       "      <td>120</td>\n",
       "      <td>RL</td>\n",
       "      <td>NaN</td>\n",
       "      <td>3196</td>\n",
       "      <td>Pave</td>\n",
       "      <td>NaN</td>\n",
       "      <td>Reg</td>\n",
       "      <td>Lvl</td>\n",
       "      <td>AllPub</td>\n",
       "      <td>...</td>\n",
       "      <td>0</td>\n",
       "      <td>NaN</td>\n",
       "      <td>NaN</td>\n",
       "      <td>NaN</td>\n",
       "      <td>0</td>\n",
       "      <td>10</td>\n",
       "      <td>2006</td>\n",
       "      <td>WD</td>\n",
       "      <td>Normal</td>\n",
       "      <td>234000</td>\n",
       "    </tr>\n",
       "    <tr>\n",
       "      <th>1348</th>\n",
       "      <td>1349</td>\n",
       "      <td>20</td>\n",
       "      <td>RL</td>\n",
       "      <td>NaN</td>\n",
       "      <td>16196</td>\n",
       "      <td>Pave</td>\n",
       "      <td>NaN</td>\n",
       "      <td>IR3</td>\n",
       "      <td>Low</td>\n",
       "      <td>AllPub</td>\n",
       "      <td>...</td>\n",
       "      <td>0</td>\n",
       "      <td>NaN</td>\n",
       "      <td>NaN</td>\n",
       "      <td>NaN</td>\n",
       "      <td>0</td>\n",
       "      <td>8</td>\n",
       "      <td>2007</td>\n",
       "      <td>WD</td>\n",
       "      <td>Normal</td>\n",
       "      <td>215000</td>\n",
       "    </tr>\n",
       "    <tr>\n",
       "      <th>422</th>\n",
       "      <td>423</td>\n",
       "      <td>20</td>\n",
       "      <td>RL</td>\n",
       "      <td>100.0</td>\n",
       "      <td>21750</td>\n",
       "      <td>Pave</td>\n",
       "      <td>NaN</td>\n",
       "      <td>Reg</td>\n",
       "      <td>HLS</td>\n",
       "      <td>AllPub</td>\n",
       "      <td>...</td>\n",
       "      <td>0</td>\n",
       "      <td>NaN</td>\n",
       "      <td>NaN</td>\n",
       "      <td>NaN</td>\n",
       "      <td>0</td>\n",
       "      <td>2</td>\n",
       "      <td>2008</td>\n",
       "      <td>WD</td>\n",
       "      <td>Normal</td>\n",
       "      <td>113000</td>\n",
       "    </tr>\n",
       "    <tr>\n",
       "      <th>622</th>\n",
       "      <td>623</td>\n",
       "      <td>20</td>\n",
       "      <td>RL</td>\n",
       "      <td>71.0</td>\n",
       "      <td>7064</td>\n",
       "      <td>Pave</td>\n",
       "      <td>NaN</td>\n",
       "      <td>Reg</td>\n",
       "      <td>Lvl</td>\n",
       "      <td>AllPub</td>\n",
       "      <td>...</td>\n",
       "      <td>0</td>\n",
       "      <td>NaN</td>\n",
       "      <td>NaN</td>\n",
       "      <td>NaN</td>\n",
       "      <td>0</td>\n",
       "      <td>7</td>\n",
       "      <td>2009</td>\n",
       "      <td>WD</td>\n",
       "      <td>Normal</td>\n",
       "      <td>135000</td>\n",
       "    </tr>\n",
       "    <tr>\n",
       "      <th>301</th>\n",
       "      <td>302</td>\n",
       "      <td>60</td>\n",
       "      <td>RL</td>\n",
       "      <td>66.0</td>\n",
       "      <td>16226</td>\n",
       "      <td>Pave</td>\n",
       "      <td>NaN</td>\n",
       "      <td>IR3</td>\n",
       "      <td>Lvl</td>\n",
       "      <td>AllPub</td>\n",
       "      <td>...</td>\n",
       "      <td>0</td>\n",
       "      <td>NaN</td>\n",
       "      <td>NaN</td>\n",
       "      <td>NaN</td>\n",
       "      <td>0</td>\n",
       "      <td>5</td>\n",
       "      <td>2007</td>\n",
       "      <td>WD</td>\n",
       "      <td>Normal</td>\n",
       "      <td>267000</td>\n",
       "    </tr>\n",
       "    <tr>\n",
       "      <th>1440</th>\n",
       "      <td>1441</td>\n",
       "      <td>70</td>\n",
       "      <td>RL</td>\n",
       "      <td>79.0</td>\n",
       "      <td>11526</td>\n",
       "      <td>Pave</td>\n",
       "      <td>NaN</td>\n",
       "      <td>IR1</td>\n",
       "      <td>Bnk</td>\n",
       "      <td>AllPub</td>\n",
       "      <td>...</td>\n",
       "      <td>0</td>\n",
       "      <td>NaN</td>\n",
       "      <td>NaN</td>\n",
       "      <td>NaN</td>\n",
       "      <td>0</td>\n",
       "      <td>9</td>\n",
       "      <td>2008</td>\n",
       "      <td>WD</td>\n",
       "      <td>Normal</td>\n",
       "      <td>191000</td>\n",
       "    </tr>\n",
       "    <tr>\n",
       "      <th>818</th>\n",
       "      <td>819</td>\n",
       "      <td>80</td>\n",
       "      <td>RL</td>\n",
       "      <td>80.0</td>\n",
       "      <td>8816</td>\n",
       "      <td>Pave</td>\n",
       "      <td>NaN</td>\n",
       "      <td>Reg</td>\n",
       "      <td>Lvl</td>\n",
       "      <td>AllPub</td>\n",
       "      <td>...</td>\n",
       "      <td>0</td>\n",
       "      <td>NaN</td>\n",
       "      <td>MnPrv</td>\n",
       "      <td>NaN</td>\n",
       "      <td>0</td>\n",
       "      <td>6</td>\n",
       "      <td>2010</td>\n",
       "      <td>WD</td>\n",
       "      <td>Normal</td>\n",
       "      <td>155000</td>\n",
       "    </tr>\n",
       "    <tr>\n",
       "      <th>1401</th>\n",
       "      <td>1402</td>\n",
       "      <td>60</td>\n",
       "      <td>RL</td>\n",
       "      <td>62.0</td>\n",
       "      <td>7415</td>\n",
       "      <td>Pave</td>\n",
       "      <td>NaN</td>\n",
       "      <td>IR1</td>\n",
       "      <td>Lvl</td>\n",
       "      <td>AllPub</td>\n",
       "      <td>...</td>\n",
       "      <td>0</td>\n",
       "      <td>NaN</td>\n",
       "      <td>NaN</td>\n",
       "      <td>NaN</td>\n",
       "      <td>0</td>\n",
       "      <td>4</td>\n",
       "      <td>2008</td>\n",
       "      <td>WD</td>\n",
       "      <td>Normal</td>\n",
       "      <td>193000</td>\n",
       "    </tr>\n",
       "    <tr>\n",
       "      <th>203</th>\n",
       "      <td>204</td>\n",
       "      <td>120</td>\n",
       "      <td>RM</td>\n",
       "      <td>NaN</td>\n",
       "      <td>4438</td>\n",
       "      <td>Pave</td>\n",
       "      <td>NaN</td>\n",
       "      <td>Reg</td>\n",
       "      <td>Lvl</td>\n",
       "      <td>AllPub</td>\n",
       "      <td>...</td>\n",
       "      <td>0</td>\n",
       "      <td>NaN</td>\n",
       "      <td>NaN</td>\n",
       "      <td>NaN</td>\n",
       "      <td>0</td>\n",
       "      <td>1</td>\n",
       "      <td>2008</td>\n",
       "      <td>WD</td>\n",
       "      <td>Normal</td>\n",
       "      <td>149000</td>\n",
       "    </tr>\n",
       "    <tr>\n",
       "      <th>508</th>\n",
       "      <td>509</td>\n",
       "      <td>70</td>\n",
       "      <td>RM</td>\n",
       "      <td>60.0</td>\n",
       "      <td>9600</td>\n",
       "      <td>Pave</td>\n",
       "      <td>NaN</td>\n",
       "      <td>Reg</td>\n",
       "      <td>Lvl</td>\n",
       "      <td>AllPub</td>\n",
       "      <td>...</td>\n",
       "      <td>0</td>\n",
       "      <td>NaN</td>\n",
       "      <td>NaN</td>\n",
       "      <td>NaN</td>\n",
       "      <td>0</td>\n",
       "      <td>10</td>\n",
       "      <td>2008</td>\n",
       "      <td>WD</td>\n",
       "      <td>Normal</td>\n",
       "      <td>161000</td>\n",
       "    </tr>\n",
       "    <tr>\n",
       "      <th>524</th>\n",
       "      <td>525</td>\n",
       "      <td>60</td>\n",
       "      <td>RL</td>\n",
       "      <td>95.0</td>\n",
       "      <td>11787</td>\n",
       "      <td>Pave</td>\n",
       "      <td>NaN</td>\n",
       "      <td>IR1</td>\n",
       "      <td>Lvl</td>\n",
       "      <td>AllPub</td>\n",
       "      <td>...</td>\n",
       "      <td>0</td>\n",
       "      <td>NaN</td>\n",
       "      <td>NaN</td>\n",
       "      <td>NaN</td>\n",
       "      <td>0</td>\n",
       "      <td>8</td>\n",
       "      <td>2007</td>\n",
       "      <td>WD</td>\n",
       "      <td>Normal</td>\n",
       "      <td>315750</td>\n",
       "    </tr>\n",
       "    <tr>\n",
       "      <th>1362</th>\n",
       "      <td>1363</td>\n",
       "      <td>50</td>\n",
       "      <td>RL</td>\n",
       "      <td>NaN</td>\n",
       "      <td>12513</td>\n",
       "      <td>Pave</td>\n",
       "      <td>NaN</td>\n",
       "      <td>IR1</td>\n",
       "      <td>Lvl</td>\n",
       "      <td>AllPub</td>\n",
       "      <td>...</td>\n",
       "      <td>0</td>\n",
       "      <td>NaN</td>\n",
       "      <td>NaN</td>\n",
       "      <td>NaN</td>\n",
       "      <td>0</td>\n",
       "      <td>6</td>\n",
       "      <td>2009</td>\n",
       "      <td>WD</td>\n",
       "      <td>Normal</td>\n",
       "      <td>104900</td>\n",
       "    </tr>\n",
       "    <tr>\n",
       "      <th>461</th>\n",
       "      <td>462</td>\n",
       "      <td>70</td>\n",
       "      <td>RL</td>\n",
       "      <td>60.0</td>\n",
       "      <td>7200</td>\n",
       "      <td>Pave</td>\n",
       "      <td>NaN</td>\n",
       "      <td>Reg</td>\n",
       "      <td>Lvl</td>\n",
       "      <td>AllPub</td>\n",
       "      <td>...</td>\n",
       "      <td>0</td>\n",
       "      <td>NaN</td>\n",
       "      <td>MnPrv</td>\n",
       "      <td>NaN</td>\n",
       "      <td>0</td>\n",
       "      <td>4</td>\n",
       "      <td>2009</td>\n",
       "      <td>WD</td>\n",
       "      <td>Normal</td>\n",
       "      <td>155000</td>\n",
       "    </tr>\n",
       "    <tr>\n",
       "      <th>698</th>\n",
       "      <td>699</td>\n",
       "      <td>20</td>\n",
       "      <td>RL</td>\n",
       "      <td>65.0</td>\n",
       "      <td>8450</td>\n",
       "      <td>Pave</td>\n",
       "      <td>NaN</td>\n",
       "      <td>Reg</td>\n",
       "      <td>Lvl</td>\n",
       "      <td>AllPub</td>\n",
       "      <td>...</td>\n",
       "      <td>0</td>\n",
       "      <td>NaN</td>\n",
       "      <td>MnPrv</td>\n",
       "      <td>NaN</td>\n",
       "      <td>0</td>\n",
       "      <td>4</td>\n",
       "      <td>2010</td>\n",
       "      <td>WD</td>\n",
       "      <td>Normal</td>\n",
       "      <td>138500</td>\n",
       "    </tr>\n",
       "    <tr>\n",
       "      <th>789</th>\n",
       "      <td>790</td>\n",
       "      <td>60</td>\n",
       "      <td>RL</td>\n",
       "      <td>NaN</td>\n",
       "      <td>12205</td>\n",
       "      <td>Pave</td>\n",
       "      <td>NaN</td>\n",
       "      <td>IR1</td>\n",
       "      <td>Low</td>\n",
       "      <td>AllPub</td>\n",
       "      <td>...</td>\n",
       "      <td>0</td>\n",
       "      <td>NaN</td>\n",
       "      <td>NaN</td>\n",
       "      <td>NaN</td>\n",
       "      <td>0</td>\n",
       "      <td>7</td>\n",
       "      <td>2007</td>\n",
       "      <td>WD</td>\n",
       "      <td>Normal</td>\n",
       "      <td>187500</td>\n",
       "    </tr>\n",
       "    <tr>\n",
       "      <th>86</th>\n",
       "      <td>87</td>\n",
       "      <td>60</td>\n",
       "      <td>RL</td>\n",
       "      <td>122.0</td>\n",
       "      <td>11911</td>\n",
       "      <td>Pave</td>\n",
       "      <td>NaN</td>\n",
       "      <td>IR2</td>\n",
       "      <td>Lvl</td>\n",
       "      <td>AllPub</td>\n",
       "      <td>...</td>\n",
       "      <td>0</td>\n",
       "      <td>NaN</td>\n",
       "      <td>NaN</td>\n",
       "      <td>NaN</td>\n",
       "      <td>0</td>\n",
       "      <td>3</td>\n",
       "      <td>2009</td>\n",
       "      <td>WD</td>\n",
       "      <td>Normal</td>\n",
       "      <td>174000</td>\n",
       "    </tr>\n",
       "    <tr>\n",
       "      <th>639</th>\n",
       "      <td>640</td>\n",
       "      <td>120</td>\n",
       "      <td>RL</td>\n",
       "      <td>53.0</td>\n",
       "      <td>3982</td>\n",
       "      <td>Pave</td>\n",
       "      <td>NaN</td>\n",
       "      <td>Reg</td>\n",
       "      <td>Lvl</td>\n",
       "      <td>AllPub</td>\n",
       "      <td>...</td>\n",
       "      <td>0</td>\n",
       "      <td>NaN</td>\n",
       "      <td>NaN</td>\n",
       "      <td>NaN</td>\n",
       "      <td>0</td>\n",
       "      <td>10</td>\n",
       "      <td>2006</td>\n",
       "      <td>New</td>\n",
       "      <td>Partial</td>\n",
       "      <td>264561</td>\n",
       "    </tr>\n",
       "    <tr>\n",
       "      <th>48</th>\n",
       "      <td>49</td>\n",
       "      <td>190</td>\n",
       "      <td>RM</td>\n",
       "      <td>33.0</td>\n",
       "      <td>4456</td>\n",
       "      <td>Pave</td>\n",
       "      <td>NaN</td>\n",
       "      <td>Reg</td>\n",
       "      <td>Lvl</td>\n",
       "      <td>AllPub</td>\n",
       "      <td>...</td>\n",
       "      <td>0</td>\n",
       "      <td>NaN</td>\n",
       "      <td>NaN</td>\n",
       "      <td>NaN</td>\n",
       "      <td>0</td>\n",
       "      <td>6</td>\n",
       "      <td>2009</td>\n",
       "      <td>New</td>\n",
       "      <td>Partial</td>\n",
       "      <td>113000</td>\n",
       "    </tr>\n",
       "    <tr>\n",
       "      <th>97</th>\n",
       "      <td>98</td>\n",
       "      <td>20</td>\n",
       "      <td>RL</td>\n",
       "      <td>73.0</td>\n",
       "      <td>10921</td>\n",
       "      <td>Pave</td>\n",
       "      <td>NaN</td>\n",
       "      <td>Reg</td>\n",
       "      <td>HLS</td>\n",
       "      <td>AllPub</td>\n",
       "      <td>...</td>\n",
       "      <td>0</td>\n",
       "      <td>NaN</td>\n",
       "      <td>NaN</td>\n",
       "      <td>NaN</td>\n",
       "      <td>0</td>\n",
       "      <td>5</td>\n",
       "      <td>2007</td>\n",
       "      <td>WD</td>\n",
       "      <td>Normal</td>\n",
       "      <td>94750</td>\n",
       "    </tr>\n",
       "  </tbody>\n",
       "</table>\n",
       "<p>584 rows × 81 columns</p>\n",
       "</div>"
      ],
      "text/plain": [
       "         s  MSSubClass MSZoning  LotFrontage  LotArea Street Alley LotShape  \\\n",
       "1051  1052          20       RL        103.0    11175   Pave   NaN      IR1   \n",
       "131    132          60       RL          NaN    12224   Pave   NaN      IR1   \n",
       "599    600         160       RM         24.0     1950   Pave   NaN      Reg   \n",
       "1451  1452          20       RL         78.0     9262   Pave   NaN      Reg   \n",
       "427    428          20       RL         77.0     8593   Pave   NaN      IR1   \n",
       "1431  1432         120       RL          NaN     4928   Pave   NaN      IR1   \n",
       "1307  1308          20       RL         60.0     8072   Pave   NaN      Reg   \n",
       "1082  1083          20       RL         70.0     8749   Pave   NaN      Reg   \n",
       "930    931          20       RL         73.0     8925   Pave   NaN      IR1   \n",
       "857    858          60       RL         65.0     8125   Pave   NaN      Reg   \n",
       "1455  1456          60       RL         62.0     7917   Pave   NaN      Reg   \n",
       "1096  1097          70       RM         60.0     6882   Pave   NaN      Reg   \n",
       "1071  1072          60       RL         78.0    11700   Pave   NaN      Reg   \n",
       "434    435         180       RM         21.0     1890   Pave   NaN      Reg   \n",
       "942    943          90       RL         42.0     7711   Pave   NaN      IR1   \n",
       "336    337          20       RL         86.0    14157   Pave   NaN      IR1   \n",
       "1178  1179          50       RL         54.0     7681   Pave   NaN      IR1   \n",
       "1434  1435          20       RL         80.0    17400   Pave   NaN      Reg   \n",
       "233    234          20       RL         75.0    10650   Pave   NaN      Reg   \n",
       "376    377          85       RL         57.0     8846   Pave   NaN      IR1   \n",
       "92      93          30       RL         80.0    13360   Pave  Grvl      IR1   \n",
       "1353  1354          50       RL         56.0    14720   Pave   NaN      IR1   \n",
       "672    673          20       RL          NaN    11250   Pave   NaN      IR1   \n",
       "313    314          20       RL        150.0   215245   Pave   NaN      IR3   \n",
       "1305  1306          20       RL        108.0    13173   Pave   NaN      IR1   \n",
       "493    494          20       RL         70.0     7931   Pave   NaN      Reg   \n",
       "1447  1448          60       RL         80.0    10000   Pave   NaN      Reg   \n",
       "467    468          70       RL         79.0     9480   Pave   NaN      Reg   \n",
       "267    268          75       RL         60.0     8400   Pave   NaN      Reg   \n",
       "409    410          60       FV         85.0    10800   Pave   NaN      Reg   \n",
       "...    ...         ...      ...          ...      ...    ...   ...      ...   \n",
       "504    505         160       RL         24.0     2308   Pave   NaN      Reg   \n",
       "692    693          60       RL         42.0    26178   Pave   NaN      IR1   \n",
       "140    141          20       RL         70.0    10500   Pave   NaN      Reg   \n",
       "1308  1309          20       RM        100.0    12000   Pave   NaN      Reg   \n",
       "517    518          60       RL         79.0    10208   Pave   NaN      IR1   \n",
       "499    500          20       RL         70.0     7535   Pave   NaN      IR1   \n",
       "1217  1218          20       FV         72.0     8640   Pave   NaN      Reg   \n",
       "1390  1391          20       RL         70.0     9100   Pave   NaN      Reg   \n",
       "320    321          60       RL        111.0    16259   Pave   NaN      Reg   \n",
       "63      64          70       RM         50.0    10300   Pave   NaN      IR1   \n",
       "304    305          75       RM         87.0    18386   Pave   NaN      Reg   \n",
       "559    560         120       RL          NaN     3196   Pave   NaN      Reg   \n",
       "1348  1349          20       RL          NaN    16196   Pave   NaN      IR3   \n",
       "422    423          20       RL        100.0    21750   Pave   NaN      Reg   \n",
       "622    623          20       RL         71.0     7064   Pave   NaN      Reg   \n",
       "301    302          60       RL         66.0    16226   Pave   NaN      IR3   \n",
       "1440  1441          70       RL         79.0    11526   Pave   NaN      IR1   \n",
       "818    819          80       RL         80.0     8816   Pave   NaN      Reg   \n",
       "1401  1402          60       RL         62.0     7415   Pave   NaN      IR1   \n",
       "203    204         120       RM          NaN     4438   Pave   NaN      Reg   \n",
       "508    509          70       RM         60.0     9600   Pave   NaN      Reg   \n",
       "524    525          60       RL         95.0    11787   Pave   NaN      IR1   \n",
       "1362  1363          50       RL          NaN    12513   Pave   NaN      IR1   \n",
       "461    462          70       RL         60.0     7200   Pave   NaN      Reg   \n",
       "698    699          20       RL         65.0     8450   Pave   NaN      Reg   \n",
       "789    790          60       RL          NaN    12205   Pave   NaN      IR1   \n",
       "86      87          60       RL        122.0    11911   Pave   NaN      IR2   \n",
       "639    640         120       RL         53.0     3982   Pave   NaN      Reg   \n",
       "48      49         190       RM         33.0     4456   Pave   NaN      Reg   \n",
       "97      98          20       RL         73.0    10921   Pave   NaN      Reg   \n",
       "\n",
       "     LandContour Utilities    ...     PoolArea PoolQC  Fence MiscFeature  \\\n",
       "1051         Lvl    AllPub    ...            0    NaN    NaN         NaN   \n",
       "131          Lvl    AllPub    ...            0    NaN    NaN         NaN   \n",
       "599          Lvl    AllPub    ...            0    NaN  GdPrv         NaN   \n",
       "1451         Lvl    AllPub    ...            0    NaN    NaN         NaN   \n",
       "427          Lvl    AllPub    ...            0    NaN    NaN         NaN   \n",
       "1431         Lvl    AllPub    ...            0    NaN    NaN         NaN   \n",
       "1307         Lvl    AllPub    ...            0    NaN    NaN         NaN   \n",
       "1082         Lvl    AllPub    ...            0    NaN    NaN         NaN   \n",
       "930          HLS    AllPub    ...            0    NaN    NaN         NaN   \n",
       "857          Lvl    AllPub    ...            0    NaN    NaN         NaN   \n",
       "1455         Lvl    AllPub    ...            0    NaN    NaN         NaN   \n",
       "1096         Lvl    AllPub    ...            0    NaN    NaN         NaN   \n",
       "1071         Lvl    AllPub    ...            0    NaN    NaN         NaN   \n",
       "434          Lvl    AllPub    ...            0    NaN    NaN         NaN   \n",
       "942          Lvl    AllPub    ...            0    NaN    NaN         NaN   \n",
       "336          HLS    AllPub    ...            0    NaN    NaN         NaN   \n",
       "1178         Lvl    AllPub    ...            0    NaN    NaN         NaN   \n",
       "1434         Low    AllPub    ...            0    NaN    NaN         NaN   \n",
       "233          Lvl    AllPub    ...            0    NaN  MnPrv         NaN   \n",
       "376          Lvl    AllPub    ...            0    NaN    NaN         NaN   \n",
       "92           HLS    AllPub    ...            0    NaN    NaN         NaN   \n",
       "1353         Lvl    AllPub    ...            0    NaN    NaN         NaN   \n",
       "672          Lvl    AllPub    ...            0    NaN    NaN         NaN   \n",
       "313          Low    AllPub    ...            0    NaN    NaN         NaN   \n",
       "1305         Lvl    AllPub    ...            0    NaN    NaN         NaN   \n",
       "493          Lvl    AllPub    ...            0    NaN    NaN         NaN   \n",
       "1447         Lvl    AllPub    ...            0    NaN    NaN         NaN   \n",
       "467          Lvl    AllPub    ...            0    NaN    NaN         NaN   \n",
       "267          Bnk    AllPub    ...            0    NaN    NaN         NaN   \n",
       "409          Lvl    AllPub    ...            0    NaN    NaN         NaN   \n",
       "...          ...       ...    ...          ...    ...    ...         ...   \n",
       "504          Lvl    AllPub    ...            0    NaN    NaN         NaN   \n",
       "692          Lvl    AllPub    ...            0    NaN    NaN         NaN   \n",
       "140          Lvl    AllPub    ...            0    NaN    NaN         NaN   \n",
       "1308         Lvl    AllPub    ...            0    NaN   GdWo         NaN   \n",
       "517          Lvl    AllPub    ...            0    NaN    NaN         NaN   \n",
       "499          Lvl    AllPub    ...            0    NaN   MnWw        Shed   \n",
       "1217         Lvl    AllPub    ...            0    NaN    NaN         NaN   \n",
       "1390         Lvl    AllPub    ...            0    NaN    NaN         NaN   \n",
       "320          Lvl    AllPub    ...            0    NaN    NaN         NaN   \n",
       "63           Bnk    AllPub    ...            0    NaN  GdPrv         NaN   \n",
       "304          Lvl    AllPub    ...            0    NaN    NaN         NaN   \n",
       "559          Lvl    AllPub    ...            0    NaN    NaN         NaN   \n",
       "1348         Low    AllPub    ...            0    NaN    NaN         NaN   \n",
       "422          HLS    AllPub    ...            0    NaN    NaN         NaN   \n",
       "622          Lvl    AllPub    ...            0    NaN    NaN         NaN   \n",
       "301          Lvl    AllPub    ...            0    NaN    NaN         NaN   \n",
       "1440         Bnk    AllPub    ...            0    NaN    NaN         NaN   \n",
       "818          Lvl    AllPub    ...            0    NaN  MnPrv         NaN   \n",
       "1401         Lvl    AllPub    ...            0    NaN    NaN         NaN   \n",
       "203          Lvl    AllPub    ...            0    NaN    NaN         NaN   \n",
       "508          Lvl    AllPub    ...            0    NaN    NaN         NaN   \n",
       "524          Lvl    AllPub    ...            0    NaN    NaN         NaN   \n",
       "1362         Lvl    AllPub    ...            0    NaN    NaN         NaN   \n",
       "461          Lvl    AllPub    ...            0    NaN  MnPrv         NaN   \n",
       "698          Lvl    AllPub    ...            0    NaN  MnPrv         NaN   \n",
       "789          Low    AllPub    ...            0    NaN    NaN         NaN   \n",
       "86           Lvl    AllPub    ...            0    NaN    NaN         NaN   \n",
       "639          Lvl    AllPub    ...            0    NaN    NaN         NaN   \n",
       "48           Lvl    AllPub    ...            0    NaN    NaN         NaN   \n",
       "97           HLS    AllPub    ...            0    NaN    NaN         NaN   \n",
       "\n",
       "     MiscVal MoSold YrSold  SaleType  SaleCondition  SalePrice  \n",
       "1051       0     10   2007       New        Partial     200141  \n",
       "131        0      7   2009        WD         Normal     244000  \n",
       "599        0      7   2008       COD         Normal     151000  \n",
       "1451       0      5   2009       New        Partial     287090  \n",
       "427        0      7   2008        WD         Normal     109008  \n",
       "1431       0     10   2009        WD         Normal     143750  \n",
       "1307       0      5   2009        WD         Normal     138000  \n",
       "1082       0      9   2007        WD         Normal     192000  \n",
       "930        0      7   2009        WD         Normal     201000  \n",
       "857        0      3   2009        WD         Normal     174000  \n",
       "1455       0      8   2007        WD         Normal     175000  \n",
       "1096       0      3   2007        WD         Normal     127000  \n",
       "1071       0      5   2009        WD         Normal     154000  \n",
       "434        0      6   2008        WD         Normal      81000  \n",
       "942        0      8   2007       Oth        Abnorml     150000  \n",
       "336        0      7   2007        WD         Normal     377426  \n",
       "1178       0      7   2009        WD         Normal     154900  \n",
       "1434       0      5   2006        WD         Normal     160000  \n",
       "233        0      2   2010        WD         Normal     128200  \n",
       "376        0      7   2006        WD         Normal     148000  \n",
       "92         0      8   2009        WD         Normal     163500  \n",
       "1353       0      3   2010        WD         Normal     410000  \n",
       "672        0      6   2006        WD         Normal     165000  \n",
       "313        0      6   2009        WD         Normal     375000  \n",
       "1305       0     11   2009        WD         Normal     325000  \n",
       "493        0      6   2008        WD         Normal     155000  \n",
       "1447       0     12   2007        WD         Normal     240000  \n",
       "467        0      6   2007        WD         Normal     146500  \n",
       "267        0      7   2008        WD         Normal     179500  \n",
       "409        0      4   2008       New        Partial     339750  \n",
       "...      ...    ...    ...       ...            ...        ...  \n",
       "504        0      6   2009        WD         Normal     147000  \n",
       "692        0      4   2006        WD         Normal     335000  \n",
       "140        0      4   2010     ConLI         Normal     115000  \n",
       "1308       0      5   2008        WD         Normal     147000  \n",
       "517        0      7   2009        WD         Normal     265000  \n",
       "499      480      6   2007        WD         Normal     120000  \n",
       "1217       0      9   2009       New        Partial     229456  \n",
       "1390       0      9   2006        WD         Normal     235000  \n",
       "320        0      9   2006       New        Partial     342643  \n",
       "63         0      4   2010        WD         Normal     140000  \n",
       "304        0      5   2008        WD         Normal     295000  \n",
       "559        0     10   2006        WD         Normal     234000  \n",
       "1348       0      8   2007        WD         Normal     215000  \n",
       "422        0      2   2008        WD         Normal     113000  \n",
       "622        0      7   2009        WD         Normal     135000  \n",
       "301        0      5   2007        WD         Normal     267000  \n",
       "1440       0      9   2008        WD         Normal     191000  \n",
       "818        0      6   2010        WD         Normal     155000  \n",
       "1401       0      4   2008        WD         Normal     193000  \n",
       "203        0      1   2008        WD         Normal     149000  \n",
       "508        0     10   2008        WD         Normal     161000  \n",
       "524        0      8   2007        WD         Normal     315750  \n",
       "1362       0      6   2009        WD         Normal     104900  \n",
       "461        0      4   2009        WD         Normal     155000  \n",
       "698        0      4   2010        WD         Normal     138500  \n",
       "789        0      7   2007        WD         Normal     187500  \n",
       "86         0      3   2009        WD         Normal     174000  \n",
       "639        0     10   2006       New        Partial     264561  \n",
       "48         0      6   2009       New        Partial     113000  \n",
       "97         0      5   2007        WD         Normal      94750  \n",
       "\n",
       "[584 rows x 81 columns]"
      ]
     },
     "execution_count": 213,
     "metadata": {},
     "output_type": "execute_result"
    }
   ],
   "source": [
    "val_data"
   ]
  },
  {
   "cell_type": "code",
   "execution_count": 214,
   "metadata": {
    "collapsed": false
   },
   "outputs": [
    {
     "data": {
      "text/plain": [
       "1460"
      ]
     },
     "execution_count": 214,
     "metadata": {},
     "output_type": "execute_result"
    }
   ],
   "source": [
    "len(train_data)+len(val_data)"
   ]
  },
  {
   "cell_type": "code",
   "execution_count": 215,
   "metadata": {
    "collapsed": true
   },
   "outputs": [],
   "source": [
    "# now we need to impute the missing values in test and training datasets\n",
    "# there are 2 columns with missing values \"Lot Frontage\" and \"GarageYrBlt\""
   ]
  },
  {
   "cell_type": "code",
   "execution_count": 216,
   "metadata": {
    "collapsed": true
   },
   "outputs": [],
   "source": [
    "#Imputing the training data set columns"
   ]
  },
  {
   "cell_type": "code",
   "execution_count": 217,
   "metadata": {
    "collapsed": false
   },
   "outputs": [
    {
     "name": "stderr",
     "output_type": "stream",
     "text": [
      "C:\\Users\\Rithvik\\Anaconda3\\lib\\site-packages\\sklearn\\utils\\validation.py:395: DeprecationWarning: Passing 1d arrays as data is deprecated in 0.17 and will raise ValueError in 0.19. Reshape your data either using X.reshape(-1, 1) if your data has a single feature or X.reshape(1, -1) if it contains a single sample.\n",
      "  DeprecationWarning)\n"
     ]
    },
    {
     "name": "stdout",
     "output_type": "stream",
     "text": [
      "         s  MSSubClass MSZoning  LotFrontage  LotArea Street Alley LotShape  \\\n",
      "539    540          20       RL         68.0    11423   Pave   NaN      Reg   \n",
      "791    792          80       RL         68.0    11333   Pave   NaN      IR1   \n",
      "816    817          20       RL         68.0    11425   Pave   NaN      IR1   \n",
      "989    990          60       FV         65.0     8125   Pave   NaN      Reg   \n",
      "890    891          50       RL         60.0     8064   Pave   NaN      Reg   \n",
      "1291  1292         160       RM         21.0     1680   Pave   NaN      Reg   \n",
      "272    273          60       RL         92.0    11764   Pave   NaN      IR1   \n",
      "794    795          60       RL         68.0    10832   Pave   NaN      IR1   \n",
      "1019  1020         120       RL         43.0     3013   Pave   NaN      Reg   \n",
      "515    516          20       RL         94.0    12220   Pave   NaN      Reg   \n",
      "273    274          20       RL         80.0     9600   Pave   NaN      Reg   \n",
      "494    495          30       RM         50.0     5784   Pave   NaN      Reg   \n",
      "1168  1169          70       RL        120.0    13728   Pave   NaN      Reg   \n",
      "665    666          60       RL        106.0    11194   Pave   NaN      IR1   \n",
      "278    279          20       RL        107.0    14450   Pave   NaN      Reg   \n",
      "198    199          75       RM         92.0     5520   Pave   NaN      Reg   \n",
      "645    646          20       RL         68.0    10530   Pave   NaN      IR1   \n",
      "713    714         190       RL         60.0     9873   Pave   NaN      Reg   \n",
      "187    188          50       RL         60.0    10410   Pave   NaN      Reg   \n",
      "941    942          60       RL         68.0     8755   Pave   NaN      IR1   \n",
      "1171  1172          20       RL         76.0     9120   Pave   NaN      Reg   \n",
      "598    599          20       RL         80.0    12984   Pave   NaN      Reg   \n",
      "748    749          20       RL         59.0    10593   Pave   NaN      IR1   \n",
      "865    866          20       RL         68.0     8750   Pave   NaN      IR1   \n",
      "1287  1288          20       RL         68.0    36500   Pave   NaN      IR1   \n",
      "1158  1159          20       RL         92.0    11932   Pave   NaN      Reg   \n",
      "1192  1193          50       RM         60.0     9600   Pave  Grvl      Reg   \n",
      "872    873          20       RL         74.0     8892   Pave   NaN      Reg   \n",
      "1011  1012          90       RL         75.0     9825   Pave   NaN      Reg   \n",
      "392    393          20       RL         68.0     8339   Pave   NaN      IR1   \n",
      "...    ...         ...      ...          ...      ...    ...   ...      ...   \n",
      "576    577          50       RL         52.0     6292   Pave   NaN      Reg   \n",
      "1030  1031         190       RH         68.0     7082   Pave   NaN      Reg   \n",
      "823    824          50       RL         60.0     9900   Pave   NaN      Reg   \n",
      "1235  1236          70       RL         96.0    13132   Pave   NaN      Reg   \n",
      "822    823          60       RL         68.0    12394   Pave   NaN      IR1   \n",
      "578    579         160       FV         34.0     3604   Pave  Pave      Reg   \n",
      "279    280          60       RL         83.0    10005   Pave   NaN      Reg   \n",
      "234    235          60       RL         68.0     7851   Pave   NaN      Reg   \n",
      "154    155          30       RM         84.0    11340   Pave   NaN      Reg   \n",
      "1165  1166          20       RL         79.0     9541   Pave   NaN      IR1   \n",
      "1386  1387          60       RL         80.0    16692   Pave   NaN      IR1   \n",
      "836    837          30       RM         90.0     8100   Pave  Pave      Reg   \n",
      "867    868          20       RL         85.0     6970   Pave   NaN      Reg   \n",
      "345    346          50       RL         65.0     6435   Pave   NaN      Reg   \n",
      "1000  1001          20       RL         74.0    10206   Pave   NaN      Reg   \n",
      "753    754          60       RL         80.0    10240   Pave   NaN      Reg   \n",
      "80      81          60       RL        100.0    13000   Pave   NaN      Reg   \n",
      "975    976         160       FV         68.0     2651   Pave   NaN      Reg   \n",
      "404    405          60       RL         68.0    10364   Pave   NaN      IR1   \n",
      "466    467          20       RL         85.0    10628   Pave   NaN      Reg   \n",
      "362    363          85       RL         64.0     7301   Pave   NaN      Reg   \n",
      "331    332          20       RL         70.0     8176   Pave   NaN      Reg   \n",
      "786    787          50       RM         60.0    10800   Pave   NaN      Reg   \n",
      "1255  1256          50       RM         52.0     6240   Pave   NaN      Reg   \n",
      "1170  1171          80       RL         76.0     9880   Pave   NaN      Reg   \n",
      "1254  1255          60       RL         60.0     6931   Pave   NaN      Reg   \n",
      "386    387          50       RL         58.0     8410   Pave   NaN      Reg   \n",
      "274    275          20       RL         76.0     8314   Pave   NaN      Reg   \n",
      "784    785          75       RM         35.0     6300   Pave  Grvl      Reg   \n",
      "496    497          20       RL         68.0    12692   Pave   NaN      IR1   \n",
      "\n",
      "     LandContour Utilities    ...     PoolArea PoolQC  Fence MiscFeature  \\\n",
      "539          Lvl    AllPub    ...            0    NaN  MnPrv        Shed   \n",
      "791          Lvl    AllPub    ...            0    NaN    NaN         NaN   \n",
      "816          Lvl    AllPub    ...            0    NaN    NaN         NaN   \n",
      "989          Lvl    AllPub    ...            0    NaN    NaN         NaN   \n",
      "890          Lvl    AllPub    ...            0    NaN  MnPrv        Shed   \n",
      "1291         Lvl    AllPub    ...            0    NaN    NaN         NaN   \n",
      "272          Lvl    AllPub    ...            0    NaN    NaN         NaN   \n",
      "794          Lvl    AllPub    ...            0    NaN    NaN        Shed   \n",
      "1019         Lvl    AllPub    ...            0    NaN    NaN         NaN   \n",
      "515          Lvl    AllPub    ...            0    NaN    NaN         NaN   \n",
      "273          Lvl    AllPub    ...            0    NaN  MnPrv         NaN   \n",
      "494          Lvl    AllPub    ...            0    NaN    NaN         NaN   \n",
      "1168         Lvl    AllPub    ...            0    NaN    NaN         NaN   \n",
      "665          Lvl    AllPub    ...            0    NaN    NaN         NaN   \n",
      "278          Lvl    AllPub    ...            0    NaN    NaN         NaN   \n",
      "198          Lvl    AllPub    ...            0    NaN  MnPrv         NaN   \n",
      "645          Lvl    AllPub    ...            0    NaN    NaN         NaN   \n",
      "713          Lvl    AllPub    ...            0    NaN    NaN         NaN   \n",
      "187          Lvl    AllPub    ...            0    NaN  MnPrv         NaN   \n",
      "941          Lvl    AllPub    ...            0    NaN  GdPrv         NaN   \n",
      "1171         Lvl    AllPub    ...            0    NaN    NaN        Shed   \n",
      "598          Bnk    AllPub    ...            0    NaN    NaN         NaN   \n",
      "748          Lvl    AllPub    ...            0    NaN    NaN         NaN   \n",
      "865          Lvl    AllPub    ...            0    NaN  MnPrv         NaN   \n",
      "1287         Low    AllPub    ...            0    NaN    NaN         NaN   \n",
      "1158         Lvl    AllPub    ...            0    NaN    NaN         NaN   \n",
      "1192         Lvl    AllPub    ...            0    NaN   GdWo         NaN   \n",
      "872          Lvl    AllPub    ...            0    NaN   GdWo         NaN   \n",
      "1011         Lvl    AllPub    ...            0    NaN    NaN         NaN   \n",
      "392          Lvl    AllPub    ...            0    NaN  MnPrv        Shed   \n",
      "...          ...       ...    ...          ...    ...    ...         ...   \n",
      "576          Lvl    AllPub    ...            0    NaN    NaN         NaN   \n",
      "1030         Lvl    AllPub    ...            0    NaN    NaN         NaN   \n",
      "823          Lvl    AllPub    ...            0    NaN   GdWo         NaN   \n",
      "1235         Lvl    AllPub    ...            0    NaN    NaN         NaN   \n",
      "822          Lvl    AllPub    ...            0    NaN    NaN         NaN   \n",
      "578          Lvl    AllPub    ...            0    NaN    NaN         NaN   \n",
      "279          Lvl    AllPub    ...            0    NaN    NaN         NaN   \n",
      "234          Lvl    AllPub    ...            0    NaN    NaN         NaN   \n",
      "154          Lvl    AllPub    ...            0    NaN    NaN         NaN   \n",
      "1165         Lvl    AllPub    ...            0    NaN    NaN         NaN   \n",
      "1386         Lvl    AllPub    ...          519     Fa  MnPrv        TenC   \n",
      "836          Lvl    AllPub    ...            0    NaN   GdWo         NaN   \n",
      "867          Lvl    AllPub    ...            0    NaN    NaN        Shed   \n",
      "345          Lvl    AllPub    ...            0    NaN    NaN         NaN   \n",
      "1000         Lvl    AllPub    ...            0    NaN    NaN         NaN   \n",
      "753          Lvl    AllPub    ...            0    NaN    NaN         NaN   \n",
      "80           Lvl    AllPub    ...            0    NaN    NaN         NaN   \n",
      "975          Lvl    AllPub    ...            0    NaN    NaN         NaN   \n",
      "404          Lvl    AllPub    ...            0    NaN    NaN         NaN   \n",
      "466          Lvl    AllPub    ...            0    NaN   GdWo         NaN   \n",
      "362          Lvl    AllPub    ...            0    NaN    NaN         NaN   \n",
      "331          Lvl    AllPub    ...            0    NaN    NaN         NaN   \n",
      "786          Lvl    AllPub    ...            0    NaN    NaN        Shed   \n",
      "1255         Lvl    AllPub    ...            0    NaN    NaN         NaN   \n",
      "1170         Lvl    AllPub    ...          576     Gd  GdPrv         NaN   \n",
      "1254         Lvl    AllPub    ...            0    NaN    NaN         NaN   \n",
      "386          Lvl    AllPub    ...            0    NaN    NaN         NaN   \n",
      "274          Lvl    AllPub    ...            0    NaN    NaN         NaN   \n",
      "784          Lvl    AllPub    ...            0    NaN    NaN         NaN   \n",
      "496          Lvl    AllPub    ...            0    NaN    NaN         NaN   \n",
      "\n",
      "     MiscVal MoSold YrSold  SaleType  SaleCondition  SalePrice  \n",
      "539     2000      5   2010        WD         Normal     272000  \n",
      "791        0      5   2007        WD         Normal     146800  \n",
      "816        0      7   2006        WD         Normal     137000  \n",
      "989        0      8   2006       New        Partial     197000  \n",
      "890     2000      7   2007        WD         Normal     122900  \n",
      "1291       0      2   2009        WD         Normal     119500  \n",
      "272        0      4   2010        WD         Normal     290000  \n",
      "794      500     10   2008        WD         Normal     194500  \n",
      "1019       0      4   2006        WD         Normal     213490  \n",
      "515        0      9   2009       New        Partial     402861  \n",
      "273        0      4   2009        WD         Normal     139000  \n",
      "494        0     12   2009        WD         Normal      91300  \n",
      "1168       0      7   2008        WD         Normal     235000  \n",
      "665        0     11   2006        WD         Normal     230500  \n",
      "278        0      5   2007       New        Partial     415298  \n",
      "198        0      7   2009        WD        Abnorml     104000  \n",
      "645        0      3   2007        WD         Normal     143250  \n",
      "713        0      5   2006        WD         Normal     129000  \n",
      "187        0      8   2009        WD         Normal     135000  \n",
      "941        0      6   2009        WD         Normal     214000  \n",
      "1171    1400     11   2008        WD         Normal     163000  \n",
      "598        0      3   2006        WD         Normal     217500  \n",
      "748        0      3   2010        WD         Normal     260400  \n",
      "865        0      8   2009        WD         Normal     148500  \n",
      "1287       0      6   2006        WD         Normal     190000  \n",
      "1158       0      6   2008     ConLD        Partial     235128  \n",
      "1192       0      7   2007        WD         Normal     125000  \n",
      "872        0     10   2008        WD         Normal     116000  \n",
      "1011       0      5   2010        WD         Normal     100000  \n",
      "392     1200      7   2007        WD         Normal     106500  \n",
      "...      ...    ...    ...       ...            ...        ...  \n",
      "576        0      8   2009        WD         Normal     145000  \n",
      "1030       0      7   2006        WD         Normal     160000  \n",
      "823        0      7   2009        WD         Normal     139500  \n",
      "1235       0      7   2006        WD         Normal     138887  \n",
      "822        0     10   2007        WD         Family     225000  \n",
      "578        0      2   2008        WD        Abnorml     146000  \n",
      "279        0      3   2008        WD         Normal     192000  \n",
      "234        0      5   2010        WD         Normal     216500  \n",
      "154        0      3   2006        WD         Family     125000  \n",
      "1165       0      9   2009       New        Partial     233170  \n",
      "1386    2000      7   2006        WD         Normal     250000  \n",
      "836        0      6   2007       COD         Normal     153500  \n",
      "867      400      5   2007        WD         Normal     129000  \n",
      "345        0     10   2006        WD         Normal     140200  \n",
      "1000       0      7   2009        WD         Normal      82000  \n",
      "753        0      3   2006        WD         Normal     275500  \n",
      "80         0      6   2009        WD         Normal     193500  \n",
      "975        0      4   2006        WD         Normal     165000  \n",
      "404        0      5   2007        WD         Normal     168000  \n",
      "466        0      4   2007        WD         Normal     167000  \n",
      "362        0      7   2009     ConLD         Normal     198500  \n",
      "331        0      8   2007        WD         Normal     139000  \n",
      "786     1200      6   2010        WD         Normal     139000  \n",
      "1255       0     11   2007        WD         Normal     127500  \n",
      "1170       0      7   2008        WD         Normal     171000  \n",
      "1254       0      7   2008        WD         Normal     165400  \n",
      "386        0      5   2006        WD        AdjLand      81000  \n",
      "274        0      6   2007        WD         Normal     124500  \n",
      "784        0      6   2008        WD         Normal     128000  \n",
      "496        0      5   2007        WD         Normal     430000  \n",
      "\n",
      "[876 rows x 81 columns]\n"
     ]
    },
    {
     "name": "stderr",
     "output_type": "stream",
     "text": [
      "C:\\Users\\Rithvik\\Anaconda3\\lib\\site-packages\\ipykernel\\__main__.py:3: SettingWithCopyWarning: \n",
      "A value is trying to be set on a copy of a slice from a DataFrame.\n",
      "Try using .loc[row_indexer,col_indexer] = value instead\n",
      "\n",
      "See the caveats in the documentation: http://pandas.pydata.org/pandas-docs/stable/indexing.html#indexing-view-versus-copy\n",
      "  app.launch_new_instance()\n"
     ]
    }
   ],
   "source": [
    "imp=Imputer(missing_values=\"NaN\", strategy=\"median\",axis=1 ) #specify axis\n",
    "q = imp.fit_transform(train_data[\"LotFrontage\"]).T #perform a transpose operation\n",
    "train_data['LotFrontage']=q\n",
    "print (train_data)"
   ]
  },
  {
   "cell_type": "code",
   "execution_count": 218,
   "metadata": {
    "collapsed": false
   },
   "outputs": [
    {
     "data": {
      "text/plain": [
       "68.0"
      ]
     },
     "execution_count": 218,
     "metadata": {},
     "output_type": "execute_result"
    }
   ],
   "source": [
    "train_data['LotFrontage'].median()"
   ]
  },
  {
   "cell_type": "code",
   "execution_count": 219,
   "metadata": {
    "collapsed": false
   },
   "outputs": [
    {
     "name": "stdout",
     "output_type": "stream",
     "text": [
      "539     2001.0\n",
      "791     1976.0\n",
      "816     1954.0\n",
      "989     2006.0\n",
      "890     2003.0\n",
      "1291    1972.0\n",
      "272     1999.0\n",
      "794     1994.0\n",
      "1019    2005.0\n",
      "515     2009.0\n",
      "273     1958.0\n",
      "494     1938.0\n",
      "1168    1935.0\n",
      "665     2000.0\n",
      "278     2007.0\n",
      "198     2005.0\n",
      "645     1979.0\n",
      "713     1970.0\n",
      "187     1916.0\n",
      "941     1999.0\n",
      "1171    1958.0\n",
      "598     1977.0\n",
      "748     1996.0\n",
      "865     1973.0\n",
      "1287    1964.0\n",
      "1158    2008.0\n",
      "1192    1925.0\n",
      "872     1953.0\n",
      "1011    2005.0\n",
      "392     1959.0\n",
      "         ...  \n",
      "576     1928.0\n",
      "1030    2005.0\n",
      "823     1940.0\n",
      "1235    1914.0\n",
      "822     2003.0\n",
      "578     2007.0\n",
      "279     1977.0\n",
      "234     2002.0\n",
      "154     1923.0\n",
      "1165    2009.0\n",
      "1386    1978.0\n",
      "836     1948.0\n",
      "867     1961.0\n",
      "345     1939.0\n",
      "1000    1956.0\n",
      "753     2005.0\n",
      "80      1968.0\n",
      "975     2000.0\n",
      "404     1995.0\n",
      "466     1970.0\n",
      "362     2003.0\n",
      "331     1958.0\n",
      "786     1961.0\n",
      "1255    1978.0\n",
      "1170    1977.0\n",
      "1254    2003.0\n",
      "386     2005.0\n",
      "274     1982.0\n",
      "784     2005.0\n",
      "496     1992.0\n",
      "Name: GarageYrBlt, dtype: float64\n"
     ]
    },
    {
     "name": "stderr",
     "output_type": "stream",
     "text": [
      "C:\\Users\\Rithvik\\Anaconda3\\lib\\site-packages\\sklearn\\utils\\validation.py:395: DeprecationWarning: Passing 1d arrays as data is deprecated in 0.17 and will raise ValueError in 0.19. Reshape your data either using X.reshape(-1, 1) if your data has a single feature or X.reshape(1, -1) if it contains a single sample.\n",
      "  DeprecationWarning)\n",
      "C:\\Users\\Rithvik\\Anaconda3\\lib\\site-packages\\ipykernel\\__main__.py:3: SettingWithCopyWarning: \n",
      "A value is trying to be set on a copy of a slice from a DataFrame.\n",
      "Try using .loc[row_indexer,col_indexer] = value instead\n",
      "\n",
      "See the caveats in the documentation: http://pandas.pydata.org/pandas-docs/stable/indexing.html#indexing-view-versus-copy\n",
      "  app.launch_new_instance()\n"
     ]
    }
   ],
   "source": [
    "imp=Imputer(missing_values=\"NaN\",strategy=\"most_frequent\",axis=1)\n",
    "q=imp.fit_transform(train_data['GarageYrBlt']).T\n",
    "train_data['GarageYrBlt']=q\n",
    "print (train_data['GarageYrBlt'])"
   ]
  },
  {
   "cell_type": "code",
   "execution_count": 220,
   "metadata": {
    "collapsed": true
   },
   "outputs": [],
   "source": [
    "#Imputing the test data set columns"
   ]
  },
  {
   "cell_type": "code",
   "execution_count": 221,
   "metadata": {
    "collapsed": false
   },
   "outputs": [
    {
     "name": "stdout",
     "output_type": "stream",
     "text": [
      "1051    103.0\n",
      "131      70.0\n",
      "599      24.0\n",
      "1451     78.0\n",
      "427      77.0\n",
      "1431     70.0\n",
      "1307     60.0\n",
      "1082     70.0\n",
      "930      73.0\n",
      "857      65.0\n",
      "1455     62.0\n",
      "1096     60.0\n",
      "1071     78.0\n",
      "434      21.0\n",
      "942      42.0\n",
      "336      86.0\n",
      "1178     54.0\n",
      "1434     80.0\n",
      "233      75.0\n",
      "376      57.0\n",
      "92       80.0\n",
      "1353     56.0\n",
      "672      70.0\n",
      "313     150.0\n",
      "1305    108.0\n",
      "493      70.0\n",
      "1447     80.0\n",
      "467      79.0\n",
      "267      60.0\n",
      "409      85.0\n",
      "        ...  \n",
      "504      24.0\n",
      "692      42.0\n",
      "140      70.0\n",
      "1308    100.0\n",
      "517      79.0\n",
      "499      70.0\n",
      "1217     72.0\n",
      "1390     70.0\n",
      "320     111.0\n",
      "63       50.0\n",
      "304      87.0\n",
      "559      70.0\n",
      "1348     70.0\n",
      "422     100.0\n",
      "622      71.0\n",
      "301      66.0\n",
      "1440     79.0\n",
      "818      80.0\n",
      "1401     62.0\n",
      "203      70.0\n",
      "508      60.0\n",
      "524      95.0\n",
      "1362     70.0\n",
      "461      60.0\n",
      "698      65.0\n",
      "789      70.0\n",
      "86      122.0\n",
      "639      53.0\n",
      "48       33.0\n",
      "97       73.0\n",
      "Name: LotFrontage, dtype: float64\n"
     ]
    },
    {
     "name": "stderr",
     "output_type": "stream",
     "text": [
      "C:\\Users\\Rithvik\\Anaconda3\\lib\\site-packages\\sklearn\\utils\\validation.py:395: DeprecationWarning: Passing 1d arrays as data is deprecated in 0.17 and will raise ValueError in 0.19. Reshape your data either using X.reshape(-1, 1) if your data has a single feature or X.reshape(1, -1) if it contains a single sample.\n",
      "  DeprecationWarning)\n",
      "C:\\Users\\Rithvik\\Anaconda3\\lib\\site-packages\\ipykernel\\__main__.py:3: SettingWithCopyWarning: \n",
      "A value is trying to be set on a copy of a slice from a DataFrame.\n",
      "Try using .loc[row_indexer,col_indexer] = value instead\n",
      "\n",
      "See the caveats in the documentation: http://pandas.pydata.org/pandas-docs/stable/indexing.html#indexing-view-versus-copy\n",
      "  app.launch_new_instance()\n"
     ]
    }
   ],
   "source": [
    "imp=Imputer(missing_values=\"NaN\", strategy=\"median\",axis=1 ) #specify axis\n",
    "q = imp.fit_transform(val_data[\"LotFrontage\"]).T #perform a transpose operation\n",
    "val_data['LotFrontage']=q\n",
    "print (val_data['LotFrontage'])"
   ]
  },
  {
   "cell_type": "code",
   "execution_count": 222,
   "metadata": {
    "collapsed": false
   },
   "outputs": [
    {
     "name": "stdout",
     "output_type": "stream",
     "text": [
      "1051    2007.0\n",
      "131     2000.0\n",
      "599     1980.0\n",
      "1451    2008.0\n",
      "427     1964.0\n",
      "1431    1976.0\n",
      "1307    2000.0\n",
      "1082    2002.0\n",
      "930     2007.0\n",
      "857     1994.0\n",
      "1455    1999.0\n",
      "1096    2006.0\n",
      "1071    1968.0\n",
      "434     2006.0\n",
      "942     2006.0\n",
      "336     2005.0\n",
      "1178    1921.0\n",
      "1434    1977.0\n",
      "233     1976.0\n",
      "376     1998.0\n",
      "92      1921.0\n",
      "1353    1996.0\n",
      "672     1977.0\n",
      "313     1965.0\n",
      "1305    2006.0\n",
      "493     1964.0\n",
      "1447    1995.0\n",
      "467     1942.0\n",
      "267     1939.0\n",
      "409     2008.0\n",
      "         ...  \n",
      "504     1974.0\n",
      "692     1989.0\n",
      "140     2006.0\n",
      "1308    1948.0\n",
      "517     1996.0\n",
      "499     1958.0\n",
      "1217    2009.0\n",
      "1390    2000.0\n",
      "320     2006.0\n",
      "63      1990.0\n",
      "304     2003.0\n",
      "559     2003.0\n",
      "1348    1998.0\n",
      "422     1954.0\n",
      "622     1986.0\n",
      "301     1998.0\n",
      "1440    1993.0\n",
      "818     1971.0\n",
      "1401    2004.0\n",
      "203     2004.0\n",
      "508     1928.0\n",
      "524     1996.0\n",
      "1362    1920.0\n",
      "461     1971.0\n",
      "698     1973.0\n",
      "789     1966.0\n",
      "86      2005.0\n",
      "639     2006.0\n",
      "48      2006.0\n",
      "97      1965.0\n",
      "Name: GarageYrBlt, dtype: float64\n"
     ]
    },
    {
     "name": "stderr",
     "output_type": "stream",
     "text": [
      "C:\\Users\\Rithvik\\Anaconda3\\lib\\site-packages\\sklearn\\utils\\validation.py:395: DeprecationWarning: Passing 1d arrays as data is deprecated in 0.17 and will raise ValueError in 0.19. Reshape your data either using X.reshape(-1, 1) if your data has a single feature or X.reshape(1, -1) if it contains a single sample.\n",
      "  DeprecationWarning)\n",
      "C:\\Users\\Rithvik\\Anaconda3\\lib\\site-packages\\ipykernel\\__main__.py:3: SettingWithCopyWarning: \n",
      "A value is trying to be set on a copy of a slice from a DataFrame.\n",
      "Try using .loc[row_indexer,col_indexer] = value instead\n",
      "\n",
      "See the caveats in the documentation: http://pandas.pydata.org/pandas-docs/stable/indexing.html#indexing-view-versus-copy\n",
      "  app.launch_new_instance()\n"
     ]
    }
   ],
   "source": [
    "imp=Imputer(missing_values=\"NaN\",strategy=\"most_frequent\",axis=1)\n",
    "q=imp.fit_transform(val_data['GarageYrBlt']).T\n",
    "val_data['GarageYrBlt']=q\n",
    "print (val_data['GarageYrBlt'])"
   ]
  },
  {
   "cell_type": "code",
   "execution_count": 223,
   "metadata": {
    "collapsed": true
   },
   "outputs": [],
   "source": [
    "#There are many columns in the data which have \"None\" as a value which actually has a meaning."
   ]
  },
  {
   "cell_type": "code",
   "execution_count": 224,
   "metadata": {
    "collapsed": false
   },
   "outputs": [],
   "source": [
    "a=pd.DataFrame(data.isnull().sum())\n",
    "a['count']=pd.DataFrame(data.isnull().sum())"
   ]
  },
  {
   "cell_type": "code",
   "execution_count": 225,
   "metadata": {
    "collapsed": false
   },
   "outputs": [
    {
     "data": {
      "text/html": [
       "<div>\n",
       "<table border=\"1\" class=\"dataframe\">\n",
       "  <thead>\n",
       "    <tr style=\"text-align: right;\">\n",
       "      <th></th>\n",
       "      <th>0</th>\n",
       "      <th>count</th>\n",
       "    </tr>\n",
       "  </thead>\n",
       "  <tbody>\n",
       "    <tr>\n",
       "      <th>LotFrontage</th>\n",
       "      <td>259</td>\n",
       "      <td>259</td>\n",
       "    </tr>\n",
       "    <tr>\n",
       "      <th>Alley</th>\n",
       "      <td>1369</td>\n",
       "      <td>1369</td>\n",
       "    </tr>\n",
       "    <tr>\n",
       "      <th>MasVnrType</th>\n",
       "      <td>8</td>\n",
       "      <td>8</td>\n",
       "    </tr>\n",
       "    <tr>\n",
       "      <th>MasVnrArea</th>\n",
       "      <td>8</td>\n",
       "      <td>8</td>\n",
       "    </tr>\n",
       "    <tr>\n",
       "      <th>BsmtQual</th>\n",
       "      <td>37</td>\n",
       "      <td>37</td>\n",
       "    </tr>\n",
       "    <tr>\n",
       "      <th>BsmtCond</th>\n",
       "      <td>37</td>\n",
       "      <td>37</td>\n",
       "    </tr>\n",
       "    <tr>\n",
       "      <th>BsmtExposure</th>\n",
       "      <td>38</td>\n",
       "      <td>38</td>\n",
       "    </tr>\n",
       "    <tr>\n",
       "      <th>BsmtFinType1</th>\n",
       "      <td>37</td>\n",
       "      <td>37</td>\n",
       "    </tr>\n",
       "    <tr>\n",
       "      <th>BsmtFinType2</th>\n",
       "      <td>38</td>\n",
       "      <td>38</td>\n",
       "    </tr>\n",
       "    <tr>\n",
       "      <th>Electrical</th>\n",
       "      <td>1</td>\n",
       "      <td>1</td>\n",
       "    </tr>\n",
       "    <tr>\n",
       "      <th>FireplaceQu</th>\n",
       "      <td>690</td>\n",
       "      <td>690</td>\n",
       "    </tr>\n",
       "    <tr>\n",
       "      <th>GarageType</th>\n",
       "      <td>81</td>\n",
       "      <td>81</td>\n",
       "    </tr>\n",
       "    <tr>\n",
       "      <th>GarageYrBlt</th>\n",
       "      <td>81</td>\n",
       "      <td>81</td>\n",
       "    </tr>\n",
       "    <tr>\n",
       "      <th>GarageFinish</th>\n",
       "      <td>81</td>\n",
       "      <td>81</td>\n",
       "    </tr>\n",
       "    <tr>\n",
       "      <th>GarageQual</th>\n",
       "      <td>81</td>\n",
       "      <td>81</td>\n",
       "    </tr>\n",
       "    <tr>\n",
       "      <th>GarageCond</th>\n",
       "      <td>81</td>\n",
       "      <td>81</td>\n",
       "    </tr>\n",
       "    <tr>\n",
       "      <th>PoolQC</th>\n",
       "      <td>1453</td>\n",
       "      <td>1453</td>\n",
       "    </tr>\n",
       "    <tr>\n",
       "      <th>Fence</th>\n",
       "      <td>1179</td>\n",
       "      <td>1179</td>\n",
       "    </tr>\n",
       "    <tr>\n",
       "      <th>MiscFeature</th>\n",
       "      <td>1406</td>\n",
       "      <td>1406</td>\n",
       "    </tr>\n",
       "  </tbody>\n",
       "</table>\n",
       "</div>"
      ],
      "text/plain": [
       "                 0  count\n",
       "LotFrontage    259    259\n",
       "Alley         1369   1369\n",
       "MasVnrType       8      8\n",
       "MasVnrArea       8      8\n",
       "BsmtQual        37     37\n",
       "BsmtCond        37     37\n",
       "BsmtExposure    38     38\n",
       "BsmtFinType1    37     37\n",
       "BsmtFinType2    38     38\n",
       "Electrical       1      1\n",
       "FireplaceQu    690    690\n",
       "GarageType      81     81\n",
       "GarageYrBlt     81     81\n",
       "GarageFinish    81     81\n",
       "GarageQual      81     81\n",
       "GarageCond      81     81\n",
       "PoolQC        1453   1453\n",
       "Fence         1179   1179\n",
       "MiscFeature   1406   1406"
      ]
     },
     "execution_count": 225,
     "metadata": {},
     "output_type": "execute_result"
    }
   ],
   "source": [
    "a[a['count']>0]"
   ]
  },
  {
   "cell_type": "code",
   "execution_count": 226,
   "metadata": {
    "collapsed": false
   },
   "outputs": [
    {
     "data": {
      "text/plain": [
       "19"
      ]
     },
     "execution_count": 226,
     "metadata": {},
     "output_type": "execute_result"
    }
   ],
   "source": [
    "len(a[a['count']>0])"
   ]
  },
  {
   "cell_type": "code",
   "execution_count": 227,
   "metadata": {
    "collapsed": true
   },
   "outputs": [],
   "source": [
    "#Alley Column"
   ]
  },
  {
   "cell_type": "code",
   "execution_count": 228,
   "metadata": {
    "collapsed": false
   },
   "outputs": [
    {
     "name": "stderr",
     "output_type": "stream",
     "text": [
      "C:\\Users\\Rithvik\\Anaconda3\\lib\\site-packages\\ipykernel\\__main__.py:1: SettingWithCopyWarning: \n",
      "A value is trying to be set on a copy of a slice from a DataFrame.\n",
      "Try using .loc[row_indexer,col_indexer] = value instead\n",
      "\n",
      "See the caveats in the documentation: http://pandas.pydata.org/pandas-docs/stable/indexing.html#indexing-view-versus-copy\n",
      "  if __name__ == '__main__':\n"
     ]
    }
   ],
   "source": [
    "train_data['Alley']=train_data['Alley'].replace(np.NaN, 'No Alley Access')"
   ]
  },
  {
   "cell_type": "code",
   "execution_count": 229,
   "metadata": {
    "collapsed": false
   },
   "outputs": [
    {
     "name": "stderr",
     "output_type": "stream",
     "text": [
      "C:\\Users\\Rithvik\\Anaconda3\\lib\\site-packages\\ipykernel\\__main__.py:1: SettingWithCopyWarning: \n",
      "A value is trying to be set on a copy of a slice from a DataFrame.\n",
      "Try using .loc[row_indexer,col_indexer] = value instead\n",
      "\n",
      "See the caveats in the documentation: http://pandas.pydata.org/pandas-docs/stable/indexing.html#indexing-view-versus-copy\n",
      "  if __name__ == '__main__':\n"
     ]
    }
   ],
   "source": [
    "val_data['Alley']=val_data['Alley'].replace(np.NaN, 'No Alley Access')"
   ]
  },
  {
   "cell_type": "code",
   "execution_count": 230,
   "metadata": {
    "collapsed": false
   },
   "outputs": [
    {
     "data": {
      "text/plain": [
       "539    No Alley Access\n",
       "791    No Alley Access\n",
       "816    No Alley Access\n",
       "989    No Alley Access\n",
       "890    No Alley Access\n",
       "Name: Alley, dtype: object"
      ]
     },
     "execution_count": 230,
     "metadata": {},
     "output_type": "execute_result"
    }
   ],
   "source": [
    "train_data['Alley'].head()"
   ]
  },
  {
   "cell_type": "code",
   "execution_count": 231,
   "metadata": {
    "collapsed": false
   },
   "outputs": [
    {
     "data": {
      "text/plain": [
       "1051    No Alley Access\n",
       "131     No Alley Access\n",
       "599     No Alley Access\n",
       "1451    No Alley Access\n",
       "427     No Alley Access\n",
       "Name: Alley, dtype: object"
      ]
     },
     "execution_count": 231,
     "metadata": {},
     "output_type": "execute_result"
    }
   ],
   "source": [
    "val_data['Alley'].head()"
   ]
  },
  {
   "cell_type": "code",
   "execution_count": 232,
   "metadata": {
    "collapsed": true
   },
   "outputs": [],
   "source": [
    "#MasVnrType Column"
   ]
  },
  {
   "cell_type": "code",
   "execution_count": 233,
   "metadata": {
    "collapsed": false
   },
   "outputs": [
    {
     "data": {
      "text/plain": [
       "array(['BrkFace', 'None', 'BrkCmn', 'Stone', nan], dtype=object)"
      ]
     },
     "execution_count": 233,
     "metadata": {},
     "output_type": "execute_result"
    }
   ],
   "source": [
    "train_data['MasVnrType'].unique()"
   ]
  },
  {
   "cell_type": "code",
   "execution_count": 234,
   "metadata": {
    "collapsed": false
   },
   "outputs": [
    {
     "name": "stderr",
     "output_type": "stream",
     "text": [
      "C:\\Users\\Rithvik\\Anaconda3\\lib\\site-packages\\ipykernel\\__main__.py:1: SettingWithCopyWarning: \n",
      "A value is trying to be set on a copy of a slice from a DataFrame.\n",
      "Try using .loc[row_indexer,col_indexer] = value instead\n",
      "\n",
      "See the caveats in the documentation: http://pandas.pydata.org/pandas-docs/stable/indexing.html#indexing-view-versus-copy\n",
      "  if __name__ == '__main__':\n"
     ]
    }
   ],
   "source": [
    "train_data['MasVnrType']=train_data['MasVnrType'].replace(np.NaN,train_data['MasVnrType'].mode().values[0])"
   ]
  },
  {
   "cell_type": "code",
   "execution_count": 235,
   "metadata": {
    "collapsed": false
   },
   "outputs": [
    {
     "data": {
      "text/plain": [
       "0"
      ]
     },
     "execution_count": 235,
     "metadata": {},
     "output_type": "execute_result"
    }
   ],
   "source": [
    "train_data['MasVnrType'].isnull().sum()"
   ]
  },
  {
   "cell_type": "code",
   "execution_count": 236,
   "metadata": {
    "collapsed": false
   },
   "outputs": [
    {
     "data": {
      "text/plain": [
       "array(['None', 'BrkFace', 'Stone', nan, 'BrkCmn'], dtype=object)"
      ]
     },
     "execution_count": 236,
     "metadata": {},
     "output_type": "execute_result"
    }
   ],
   "source": [
    "val_data['MasVnrType'].unique()"
   ]
  },
  {
   "cell_type": "code",
   "execution_count": 237,
   "metadata": {
    "collapsed": false
   },
   "outputs": [
    {
     "data": {
      "text/plain": [
       "'None'"
      ]
     },
     "execution_count": 237,
     "metadata": {},
     "output_type": "execute_result"
    }
   ],
   "source": [
    "val_data['MasVnrType'].mode().values[0]"
   ]
  },
  {
   "cell_type": "code",
   "execution_count": 238,
   "metadata": {
    "collapsed": false
   },
   "outputs": [
    {
     "name": "stderr",
     "output_type": "stream",
     "text": [
      "C:\\Users\\Rithvik\\Anaconda3\\lib\\site-packages\\ipykernel\\__main__.py:1: SettingWithCopyWarning: \n",
      "A value is trying to be set on a copy of a slice from a DataFrame.\n",
      "Try using .loc[row_indexer,col_indexer] = value instead\n",
      "\n",
      "See the caveats in the documentation: http://pandas.pydata.org/pandas-docs/stable/indexing.html#indexing-view-versus-copy\n",
      "  if __name__ == '__main__':\n"
     ]
    }
   ],
   "source": [
    "val_data['MasVnrType']=val_data['MasVnrType'].replace(np.NaN,val_data['MasVnrType'].mode().values[0])"
   ]
  },
  {
   "cell_type": "code",
   "execution_count": 239,
   "metadata": {
    "collapsed": false
   },
   "outputs": [
    {
     "data": {
      "text/plain": [
       "array(['None', 'BrkFace', 'Stone', 'BrkCmn'], dtype=object)"
      ]
     },
     "execution_count": 239,
     "metadata": {},
     "output_type": "execute_result"
    }
   ],
   "source": [
    "val_data['MasVnrType'].unique()"
   ]
  },
  {
   "cell_type": "code",
   "execution_count": 240,
   "metadata": {
    "collapsed": true
   },
   "outputs": [],
   "source": [
    "#MasVnrArea Column"
   ]
  },
  {
   "cell_type": "code",
   "execution_count": 241,
   "metadata": {
    "collapsed": false
   },
   "outputs": [
    {
     "data": {
      "text/plain": [
       "4"
      ]
     },
     "execution_count": 241,
     "metadata": {},
     "output_type": "execute_result"
    }
   ],
   "source": [
    "train_data['MasVnrArea'].isnull().sum()"
   ]
  },
  {
   "cell_type": "code",
   "execution_count": 242,
   "metadata": {
    "collapsed": false
   },
   "outputs": [
    {
     "data": {
      "text/plain": [
       "0.0"
      ]
     },
     "execution_count": 242,
     "metadata": {},
     "output_type": "execute_result"
    }
   ],
   "source": [
    "train_data['MasVnrArea'].median()"
   ]
  },
  {
   "cell_type": "code",
   "execution_count": 243,
   "metadata": {
    "collapsed": false
   },
   "outputs": [
    {
     "name": "stderr",
     "output_type": "stream",
     "text": [
      "C:\\Users\\Rithvik\\Anaconda3\\lib\\site-packages\\ipykernel\\__main__.py:1: SettingWithCopyWarning: \n",
      "A value is trying to be set on a copy of a slice from a DataFrame.\n",
      "Try using .loc[row_indexer,col_indexer] = value instead\n",
      "\n",
      "See the caveats in the documentation: http://pandas.pydata.org/pandas-docs/stable/indexing.html#indexing-view-versus-copy\n",
      "  if __name__ == '__main__':\n"
     ]
    }
   ],
   "source": [
    "train_data['MasVnrArea']=train_data['MasVnrArea'].replace(np.NaN,train_data['MasVnrArea'].median())"
   ]
  },
  {
   "cell_type": "code",
   "execution_count": 244,
   "metadata": {
    "collapsed": false
   },
   "outputs": [
    {
     "data": {
      "text/plain": [
       "4"
      ]
     },
     "execution_count": 244,
     "metadata": {},
     "output_type": "execute_result"
    }
   ],
   "source": [
    "val_data['MasVnrArea'].isnull().sum()"
   ]
  },
  {
   "cell_type": "code",
   "execution_count": 245,
   "metadata": {
    "collapsed": false
   },
   "outputs": [
    {
     "data": {
      "text/plain": [
       "0.0"
      ]
     },
     "execution_count": 245,
     "metadata": {},
     "output_type": "execute_result"
    }
   ],
   "source": [
    "val_data['MasVnrArea'].median()"
   ]
  },
  {
   "cell_type": "code",
   "execution_count": 246,
   "metadata": {
    "collapsed": false
   },
   "outputs": [
    {
     "name": "stderr",
     "output_type": "stream",
     "text": [
      "C:\\Users\\Rithvik\\Anaconda3\\lib\\site-packages\\ipykernel\\__main__.py:1: SettingWithCopyWarning: \n",
      "A value is trying to be set on a copy of a slice from a DataFrame.\n",
      "Try using .loc[row_indexer,col_indexer] = value instead\n",
      "\n",
      "See the caveats in the documentation: http://pandas.pydata.org/pandas-docs/stable/indexing.html#indexing-view-versus-copy\n",
      "  if __name__ == '__main__':\n"
     ]
    }
   ],
   "source": [
    "val_data['MasVnrArea']=val_data['MasVnrArea'].replace(np.NaN,val_data['MasVnrArea'].median())"
   ]
  },
  {
   "cell_type": "code",
   "execution_count": 247,
   "metadata": {
    "collapsed": true
   },
   "outputs": [],
   "source": [
    "#BsmtQual Column"
   ]
  },
  {
   "cell_type": "code",
   "execution_count": 248,
   "metadata": {
    "collapsed": false
   },
   "outputs": [
    {
     "data": {
      "text/plain": [
       "24"
      ]
     },
     "execution_count": 248,
     "metadata": {},
     "output_type": "execute_result"
    }
   ],
   "source": [
    "train_data['BsmtQual'].isnull().sum()"
   ]
  },
  {
   "cell_type": "code",
   "execution_count": 249,
   "metadata": {
    "collapsed": false
   },
   "outputs": [
    {
     "data": {
      "text/plain": [
       "array(['Gd', 'TA', 'Ex', 'Fa', nan], dtype=object)"
      ]
     },
     "execution_count": 249,
     "metadata": {},
     "output_type": "execute_result"
    }
   ],
   "source": [
    "train_data['BsmtQual'].unique()"
   ]
  },
  {
   "cell_type": "code",
   "execution_count": 250,
   "metadata": {
    "collapsed": false
   },
   "outputs": [
    {
     "name": "stderr",
     "output_type": "stream",
     "text": [
      "C:\\Users\\Rithvik\\Anaconda3\\lib\\site-packages\\ipykernel\\__main__.py:1: SettingWithCopyWarning: \n",
      "A value is trying to be set on a copy of a slice from a DataFrame.\n",
      "Try using .loc[row_indexer,col_indexer] = value instead\n",
      "\n",
      "See the caveats in the documentation: http://pandas.pydata.org/pandas-docs/stable/indexing.html#indexing-view-versus-copy\n",
      "  if __name__ == '__main__':\n"
     ]
    }
   ],
   "source": [
    "train_data['BsmtQual']=train_data['BsmtQual'].replace(np.NaN,\"No Basement\")"
   ]
  },
  {
   "cell_type": "code",
   "execution_count": 251,
   "metadata": {
    "collapsed": false
   },
   "outputs": [
    {
     "data": {
      "text/plain": [
       "13"
      ]
     },
     "execution_count": 251,
     "metadata": {},
     "output_type": "execute_result"
    }
   ],
   "source": [
    "val_data['BsmtQual'].isnull().sum()"
   ]
  },
  {
   "cell_type": "code",
   "execution_count": 252,
   "metadata": {
    "collapsed": false
   },
   "outputs": [
    {
     "data": {
      "text/plain": [
       "array(['Gd', 'TA', 'Ex', nan, 'Fa'], dtype=object)"
      ]
     },
     "execution_count": 252,
     "metadata": {},
     "output_type": "execute_result"
    }
   ],
   "source": [
    "val_data['BsmtQual'].unique()"
   ]
  },
  {
   "cell_type": "code",
   "execution_count": 253,
   "metadata": {
    "collapsed": false
   },
   "outputs": [
    {
     "name": "stderr",
     "output_type": "stream",
     "text": [
      "C:\\Users\\Rithvik\\Anaconda3\\lib\\site-packages\\ipykernel\\__main__.py:1: SettingWithCopyWarning: \n",
      "A value is trying to be set on a copy of a slice from a DataFrame.\n",
      "Try using .loc[row_indexer,col_indexer] = value instead\n",
      "\n",
      "See the caveats in the documentation: http://pandas.pydata.org/pandas-docs/stable/indexing.html#indexing-view-versus-copy\n",
      "  if __name__ == '__main__':\n"
     ]
    }
   ],
   "source": [
    "val_data['BsmtQual']=val_data['BsmtQual'].replace(np.NaN,\"No Basement\")"
   ]
  },
  {
   "cell_type": "code",
   "execution_count": 254,
   "metadata": {
    "collapsed": true
   },
   "outputs": [],
   "source": [
    "#BsmtCond Column"
   ]
  },
  {
   "cell_type": "code",
   "execution_count": 255,
   "metadata": {
    "collapsed": false
   },
   "outputs": [
    {
     "data": {
      "text/plain": [
       "24"
      ]
     },
     "execution_count": 255,
     "metadata": {},
     "output_type": "execute_result"
    }
   ],
   "source": [
    "train_data['BsmtCond'].isnull().sum()"
   ]
  },
  {
   "cell_type": "code",
   "execution_count": 256,
   "metadata": {
    "collapsed": false
   },
   "outputs": [
    {
     "data": {
      "text/plain": [
       "array(['TA', 'Gd', nan, 'Fa', 'Po'], dtype=object)"
      ]
     },
     "execution_count": 256,
     "metadata": {},
     "output_type": "execute_result"
    }
   ],
   "source": [
    "train_data['BsmtCond'].unique()"
   ]
  },
  {
   "cell_type": "code",
   "execution_count": 257,
   "metadata": {
    "collapsed": false
   },
   "outputs": [
    {
     "name": "stderr",
     "output_type": "stream",
     "text": [
      "C:\\Users\\Rithvik\\Anaconda3\\lib\\site-packages\\ipykernel\\__main__.py:1: SettingWithCopyWarning: \n",
      "A value is trying to be set on a copy of a slice from a DataFrame.\n",
      "Try using .loc[row_indexer,col_indexer] = value instead\n",
      "\n",
      "See the caveats in the documentation: http://pandas.pydata.org/pandas-docs/stable/indexing.html#indexing-view-versus-copy\n",
      "  if __name__ == '__main__':\n"
     ]
    }
   ],
   "source": [
    "train_data['BsmtCond']=train_data['BsmtCond'].replace(np.NaN,\"No Basement\")"
   ]
  },
  {
   "cell_type": "code",
   "execution_count": 258,
   "metadata": {
    "collapsed": false
   },
   "outputs": [
    {
     "data": {
      "text/plain": [
       "13"
      ]
     },
     "execution_count": 258,
     "metadata": {},
     "output_type": "execute_result"
    }
   ],
   "source": [
    "val_data['BsmtCond'].isnull().sum()"
   ]
  },
  {
   "cell_type": "code",
   "execution_count": 259,
   "metadata": {
    "collapsed": false
   },
   "outputs": [
    {
     "data": {
      "text/plain": [
       "array(['TA', 'Gd', nan, 'Fa'], dtype=object)"
      ]
     },
     "execution_count": 259,
     "metadata": {},
     "output_type": "execute_result"
    }
   ],
   "source": [
    "val_data['BsmtCond'].unique()"
   ]
  },
  {
   "cell_type": "code",
   "execution_count": 260,
   "metadata": {
    "collapsed": false
   },
   "outputs": [
    {
     "name": "stderr",
     "output_type": "stream",
     "text": [
      "C:\\Users\\Rithvik\\Anaconda3\\lib\\site-packages\\ipykernel\\__main__.py:1: SettingWithCopyWarning: \n",
      "A value is trying to be set on a copy of a slice from a DataFrame.\n",
      "Try using .loc[row_indexer,col_indexer] = value instead\n",
      "\n",
      "See the caveats in the documentation: http://pandas.pydata.org/pandas-docs/stable/indexing.html#indexing-view-versus-copy\n",
      "  if __name__ == '__main__':\n"
     ]
    }
   ],
   "source": [
    "val_data['BsmtCond']=val_data['BsmtCond'].replace(np.NaN,\"No Basement\")"
   ]
  },
  {
   "cell_type": "code",
   "execution_count": 261,
   "metadata": {
    "collapsed": true
   },
   "outputs": [],
   "source": [
    "#BsmtExposure column"
   ]
  },
  {
   "cell_type": "code",
   "execution_count": 262,
   "metadata": {
    "collapsed": false
   },
   "outputs": [
    {
     "data": {
      "text/plain": [
       "25"
      ]
     },
     "execution_count": 262,
     "metadata": {},
     "output_type": "execute_result"
    }
   ],
   "source": [
    "train_data['BsmtExposure'].isnull().sum()"
   ]
  },
  {
   "cell_type": "code",
   "execution_count": 263,
   "metadata": {
    "collapsed": false
   },
   "outputs": [
    {
     "data": {
      "text/plain": [
       "array(['Av', 'No', 'Mn', 'Gd', nan], dtype=object)"
      ]
     },
     "execution_count": 263,
     "metadata": {},
     "output_type": "execute_result"
    }
   ],
   "source": [
    "train_data['BsmtExposure'].unique()"
   ]
  },
  {
   "cell_type": "code",
   "execution_count": 264,
   "metadata": {
    "collapsed": false
   },
   "outputs": [
    {
     "name": "stderr",
     "output_type": "stream",
     "text": [
      "C:\\Users\\Rithvik\\Anaconda3\\lib\\site-packages\\ipykernel\\__main__.py:1: SettingWithCopyWarning: \n",
      "A value is trying to be set on a copy of a slice from a DataFrame.\n",
      "Try using .loc[row_indexer,col_indexer] = value instead\n",
      "\n",
      "See the caveats in the documentation: http://pandas.pydata.org/pandas-docs/stable/indexing.html#indexing-view-versus-copy\n",
      "  if __name__ == '__main__':\n"
     ]
    }
   ],
   "source": [
    "train_data['BsmtExposure']=train_data['BsmtExposure'].replace(np.NaN,\"No Basement\")"
   ]
  },
  {
   "cell_type": "code",
   "execution_count": 265,
   "metadata": {
    "collapsed": false
   },
   "outputs": [
    {
     "data": {
      "text/plain": [
       "13"
      ]
     },
     "execution_count": 265,
     "metadata": {},
     "output_type": "execute_result"
    }
   ],
   "source": [
    "val_data['BsmtExposure'].isnull().sum()"
   ]
  },
  {
   "cell_type": "code",
   "execution_count": 266,
   "metadata": {
    "collapsed": false
   },
   "outputs": [
    {
     "data": {
      "text/plain": [
       "array(['Av', 'No', 'Gd', 'Mn', nan], dtype=object)"
      ]
     },
     "execution_count": 266,
     "metadata": {},
     "output_type": "execute_result"
    }
   ],
   "source": [
    "val_data['BsmtExposure'].unique()"
   ]
  },
  {
   "cell_type": "code",
   "execution_count": 267,
   "metadata": {
    "collapsed": false
   },
   "outputs": [
    {
     "name": "stderr",
     "output_type": "stream",
     "text": [
      "C:\\Users\\Rithvik\\Anaconda3\\lib\\site-packages\\ipykernel\\__main__.py:1: SettingWithCopyWarning: \n",
      "A value is trying to be set on a copy of a slice from a DataFrame.\n",
      "Try using .loc[row_indexer,col_indexer] = value instead\n",
      "\n",
      "See the caveats in the documentation: http://pandas.pydata.org/pandas-docs/stable/indexing.html#indexing-view-versus-copy\n",
      "  if __name__ == '__main__':\n"
     ]
    }
   ],
   "source": [
    "val_data['BsmtExposure']=val_data['BsmtExposure'].replace(np.NaN,\"No Basement\")"
   ]
  },
  {
   "cell_type": "code",
   "execution_count": 268,
   "metadata": {
    "collapsed": true
   },
   "outputs": [],
   "source": [
    "#BsmtFinType1 Column"
   ]
  },
  {
   "cell_type": "code",
   "execution_count": 269,
   "metadata": {
    "collapsed": false
   },
   "outputs": [
    {
     "data": {
      "text/plain": [
       "24"
      ]
     },
     "execution_count": 269,
     "metadata": {},
     "output_type": "execute_result"
    }
   ],
   "source": [
    "train_data['BsmtFinType1'].isnull().sum()"
   ]
  },
  {
   "cell_type": "code",
   "execution_count": 270,
   "metadata": {
    "collapsed": false
   },
   "outputs": [
    {
     "data": {
      "text/plain": [
       "array(['GLQ', 'ALQ', 'BLQ', 'Unf', 'Rec', nan, 'LwQ'], dtype=object)"
      ]
     },
     "execution_count": 270,
     "metadata": {},
     "output_type": "execute_result"
    }
   ],
   "source": [
    "train_data['BsmtFinType1'].unique()"
   ]
  },
  {
   "cell_type": "code",
   "execution_count": 271,
   "metadata": {
    "collapsed": false
   },
   "outputs": [
    {
     "name": "stderr",
     "output_type": "stream",
     "text": [
      "C:\\Users\\Rithvik\\Anaconda3\\lib\\site-packages\\ipykernel\\__main__.py:1: SettingWithCopyWarning: \n",
      "A value is trying to be set on a copy of a slice from a DataFrame.\n",
      "Try using .loc[row_indexer,col_indexer] = value instead\n",
      "\n",
      "See the caveats in the documentation: http://pandas.pydata.org/pandas-docs/stable/indexing.html#indexing-view-versus-copy\n",
      "  if __name__ == '__main__':\n"
     ]
    }
   ],
   "source": [
    "train_data['BsmtFinType1']=train_data['BsmtFinType1'].replace(np.NaN,\"No Basement\")"
   ]
  },
  {
   "cell_type": "code",
   "execution_count": 272,
   "metadata": {
    "collapsed": false
   },
   "outputs": [
    {
     "data": {
      "text/plain": [
       "13"
      ]
     },
     "execution_count": 272,
     "metadata": {},
     "output_type": "execute_result"
    }
   ],
   "source": [
    "val_data['BsmtFinType1'].isnull().sum()"
   ]
  },
  {
   "cell_type": "code",
   "execution_count": 273,
   "metadata": {
    "collapsed": false
   },
   "outputs": [
    {
     "data": {
      "text/plain": [
       "array(['Unf', 'GLQ', 'LwQ', 'Rec', 'ALQ', 'BLQ', nan], dtype=object)"
      ]
     },
     "execution_count": 273,
     "metadata": {},
     "output_type": "execute_result"
    }
   ],
   "source": [
    "val_data['BsmtFinType1'].unique()"
   ]
  },
  {
   "cell_type": "code",
   "execution_count": 274,
   "metadata": {
    "collapsed": false
   },
   "outputs": [
    {
     "name": "stderr",
     "output_type": "stream",
     "text": [
      "C:\\Users\\Rithvik\\Anaconda3\\lib\\site-packages\\ipykernel\\__main__.py:1: SettingWithCopyWarning: \n",
      "A value is trying to be set on a copy of a slice from a DataFrame.\n",
      "Try using .loc[row_indexer,col_indexer] = value instead\n",
      "\n",
      "See the caveats in the documentation: http://pandas.pydata.org/pandas-docs/stable/indexing.html#indexing-view-versus-copy\n",
      "  if __name__ == '__main__':\n"
     ]
    }
   ],
   "source": [
    "val_data['BsmtFinType1']=val_data['BsmtFinType1'].replace(np.NaN,\"No Basement\")"
   ]
  },
  {
   "cell_type": "code",
   "execution_count": 275,
   "metadata": {
    "collapsed": true
   },
   "outputs": [],
   "source": [
    "#BsmtFinType2 Column"
   ]
  },
  {
   "cell_type": "code",
   "execution_count": 276,
   "metadata": {
    "collapsed": false
   },
   "outputs": [
    {
     "data": {
      "text/plain": [
       "24"
      ]
     },
     "execution_count": 276,
     "metadata": {},
     "output_type": "execute_result"
    }
   ],
   "source": [
    "train_data['BsmtFinType2'].isnull().sum()"
   ]
  },
  {
   "cell_type": "code",
   "execution_count": 277,
   "metadata": {
    "collapsed": false
   },
   "outputs": [
    {
     "data": {
      "text/plain": [
       "array(['Unf', 'LwQ', nan, 'Rec', 'BLQ', 'ALQ', 'GLQ'], dtype=object)"
      ]
     },
     "execution_count": 277,
     "metadata": {},
     "output_type": "execute_result"
    }
   ],
   "source": [
    "train_data['BsmtFinType2'].unique()"
   ]
  },
  {
   "cell_type": "code",
   "execution_count": 278,
   "metadata": {
    "collapsed": false
   },
   "outputs": [
    {
     "name": "stderr",
     "output_type": "stream",
     "text": [
      "C:\\Users\\Rithvik\\Anaconda3\\lib\\site-packages\\ipykernel\\__main__.py:1: SettingWithCopyWarning: \n",
      "A value is trying to be set on a copy of a slice from a DataFrame.\n",
      "Try using .loc[row_indexer,col_indexer] = value instead\n",
      "\n",
      "See the caveats in the documentation: http://pandas.pydata.org/pandas-docs/stable/indexing.html#indexing-view-versus-copy\n",
      "  if __name__ == '__main__':\n"
     ]
    }
   ],
   "source": [
    "train_data['BsmtFinType2']=train_data['BsmtFinType2'].replace(np.NaN,\"No Basement\")"
   ]
  },
  {
   "cell_type": "code",
   "execution_count": 279,
   "metadata": {
    "collapsed": false
   },
   "outputs": [
    {
     "data": {
      "text/plain": [
       "14"
      ]
     },
     "execution_count": 279,
     "metadata": {},
     "output_type": "execute_result"
    }
   ],
   "source": [
    "val_data['BsmtFinType2'].isnull().sum()"
   ]
  },
  {
   "cell_type": "code",
   "execution_count": 280,
   "metadata": {
    "collapsed": false
   },
   "outputs": [
    {
     "data": {
      "text/plain": [
       "array(['Unf', 'GLQ', 'ALQ', 'Rec', 'LwQ', nan, 'BLQ'], dtype=object)"
      ]
     },
     "execution_count": 280,
     "metadata": {},
     "output_type": "execute_result"
    }
   ],
   "source": [
    "val_data['BsmtFinType2'].unique()"
   ]
  },
  {
   "cell_type": "code",
   "execution_count": 281,
   "metadata": {
    "collapsed": false
   },
   "outputs": [
    {
     "name": "stderr",
     "output_type": "stream",
     "text": [
      "C:\\Users\\Rithvik\\Anaconda3\\lib\\site-packages\\ipykernel\\__main__.py:1: SettingWithCopyWarning: \n",
      "A value is trying to be set on a copy of a slice from a DataFrame.\n",
      "Try using .loc[row_indexer,col_indexer] = value instead\n",
      "\n",
      "See the caveats in the documentation: http://pandas.pydata.org/pandas-docs/stable/indexing.html#indexing-view-versus-copy\n",
      "  if __name__ == '__main__':\n"
     ]
    }
   ],
   "source": [
    "val_data['BsmtFinType2']=val_data['BsmtFinType2'].replace(np.NaN,\"No Basement\")"
   ]
  },
  {
   "cell_type": "code",
   "execution_count": 282,
   "metadata": {
    "collapsed": true
   },
   "outputs": [],
   "source": [
    "#Electrical column"
   ]
  },
  {
   "cell_type": "code",
   "execution_count": 283,
   "metadata": {
    "collapsed": false
   },
   "outputs": [
    {
     "data": {
      "text/plain": [
       "0"
      ]
     },
     "execution_count": 283,
     "metadata": {},
     "output_type": "execute_result"
    }
   ],
   "source": [
    "train_data['Electrical'].isnull().sum()"
   ]
  },
  {
   "cell_type": "code",
   "execution_count": 284,
   "metadata": {
    "collapsed": false
   },
   "outputs": [
    {
     "data": {
      "text/plain": [
       "array(['SBrkr', 'FuseA', 'FuseF', 'Mix', 'FuseP'], dtype=object)"
      ]
     },
     "execution_count": 284,
     "metadata": {},
     "output_type": "execute_result"
    }
   ],
   "source": [
    "train_data['Electrical'].unique()"
   ]
  },
  {
   "cell_type": "code",
   "execution_count": 285,
   "metadata": {
    "collapsed": false
   },
   "outputs": [
    {
     "data": {
      "text/plain": [
       "'SBrkr'"
      ]
     },
     "execution_count": 285,
     "metadata": {},
     "output_type": "execute_result"
    }
   ],
   "source": [
    "train_data['Electrical'].mode().values[0]"
   ]
  },
  {
   "cell_type": "code",
   "execution_count": 286,
   "metadata": {
    "collapsed": false,
    "scrolled": true
   },
   "outputs": [
    {
     "name": "stderr",
     "output_type": "stream",
     "text": [
      "C:\\Users\\Rithvik\\Anaconda3\\lib\\site-packages\\ipykernel\\__main__.py:1: SettingWithCopyWarning: \n",
      "A value is trying to be set on a copy of a slice from a DataFrame.\n",
      "Try using .loc[row_indexer,col_indexer] = value instead\n",
      "\n",
      "See the caveats in the documentation: http://pandas.pydata.org/pandas-docs/stable/indexing.html#indexing-view-versus-copy\n",
      "  if __name__ == '__main__':\n"
     ]
    }
   ],
   "source": [
    "train_data['Electrical']=train_data['Electrical'].replace(np.NaN,train_data['Electrical'].mode().values[0])"
   ]
  },
  {
   "cell_type": "code",
   "execution_count": 287,
   "metadata": {
    "collapsed": false
   },
   "outputs": [
    {
     "data": {
      "text/plain": [
       "1"
      ]
     },
     "execution_count": 287,
     "metadata": {},
     "output_type": "execute_result"
    }
   ],
   "source": [
    "val_data['Electrical'].isnull().sum()"
   ]
  },
  {
   "cell_type": "code",
   "execution_count": 288,
   "metadata": {
    "collapsed": false
   },
   "outputs": [
    {
     "data": {
      "text/plain": [
       "array(['SBrkr', 'FuseA', 'FuseP', 'FuseF', nan], dtype=object)"
      ]
     },
     "execution_count": 288,
     "metadata": {},
     "output_type": "execute_result"
    }
   ],
   "source": [
    "val_data['Electrical'].unique()"
   ]
  },
  {
   "cell_type": "code",
   "execution_count": 289,
   "metadata": {
    "collapsed": false
   },
   "outputs": [
    {
     "data": {
      "text/plain": [
       "'SBrkr'"
      ]
     },
     "execution_count": 289,
     "metadata": {},
     "output_type": "execute_result"
    }
   ],
   "source": [
    "val_data['Electrical'].mode().values[0]"
   ]
  },
  {
   "cell_type": "code",
   "execution_count": 290,
   "metadata": {
    "collapsed": false
   },
   "outputs": [
    {
     "name": "stderr",
     "output_type": "stream",
     "text": [
      "C:\\Users\\Rithvik\\Anaconda3\\lib\\site-packages\\ipykernel\\__main__.py:1: SettingWithCopyWarning: \n",
      "A value is trying to be set on a copy of a slice from a DataFrame.\n",
      "Try using .loc[row_indexer,col_indexer] = value instead\n",
      "\n",
      "See the caveats in the documentation: http://pandas.pydata.org/pandas-docs/stable/indexing.html#indexing-view-versus-copy\n",
      "  if __name__ == '__main__':\n"
     ]
    }
   ],
   "source": [
    "val_data['Electrical']=val_data['Electrical'].replace(np.NaN,val_data['Electrical'].mode().values[0])"
   ]
  },
  {
   "cell_type": "code",
   "execution_count": 291,
   "metadata": {
    "collapsed": true
   },
   "outputs": [],
   "source": [
    "#FireplaceQu Column"
   ]
  },
  {
   "cell_type": "code",
   "execution_count": 292,
   "metadata": {
    "collapsed": false
   },
   "outputs": [
    {
     "data": {
      "text/plain": [
       "417"
      ]
     },
     "execution_count": 292,
     "metadata": {},
     "output_type": "execute_result"
    }
   ],
   "source": [
    "train_data['FireplaceQu'].isnull().sum()"
   ]
  },
  {
   "cell_type": "code",
   "execution_count": 293,
   "metadata": {
    "collapsed": false
   },
   "outputs": [
    {
     "data": {
      "text/plain": [
       "array(['TA', 'Gd', nan, 'Po', 'Ex', 'Fa'], dtype=object)"
      ]
     },
     "execution_count": 293,
     "metadata": {},
     "output_type": "execute_result"
    }
   ],
   "source": [
    "train_data['FireplaceQu'].unique()"
   ]
  },
  {
   "cell_type": "code",
   "execution_count": 294,
   "metadata": {
    "collapsed": false
   },
   "outputs": [
    {
     "name": "stderr",
     "output_type": "stream",
     "text": [
      "C:\\Users\\Rithvik\\Anaconda3\\lib\\site-packages\\ipykernel\\__main__.py:1: SettingWithCopyWarning: \n",
      "A value is trying to be set on a copy of a slice from a DataFrame.\n",
      "Try using .loc[row_indexer,col_indexer] = value instead\n",
      "\n",
      "See the caveats in the documentation: http://pandas.pydata.org/pandas-docs/stable/indexing.html#indexing-view-versus-copy\n",
      "  if __name__ == '__main__':\n"
     ]
    }
   ],
   "source": [
    "train_data['FireplaceQu']=train_data['FireplaceQu'].replace(np.NaN,\"No Fireplace\")"
   ]
  },
  {
   "cell_type": "code",
   "execution_count": 295,
   "metadata": {
    "collapsed": false
   },
   "outputs": [
    {
     "data": {
      "text/plain": [
       "273"
      ]
     },
     "execution_count": 295,
     "metadata": {},
     "output_type": "execute_result"
    }
   ],
   "source": [
    "val_data['FireplaceQu'].isnull().sum()"
   ]
  },
  {
   "cell_type": "code",
   "execution_count": 296,
   "metadata": {
    "collapsed": false
   },
   "outputs": [
    {
     "data": {
      "text/plain": [
       "array(['Gd', 'TA', nan, 'Ex', 'Fa', 'Po'], dtype=object)"
      ]
     },
     "execution_count": 296,
     "metadata": {},
     "output_type": "execute_result"
    }
   ],
   "source": [
    "val_data['FireplaceQu'].unique()"
   ]
  },
  {
   "cell_type": "code",
   "execution_count": 297,
   "metadata": {
    "collapsed": false
   },
   "outputs": [
    {
     "name": "stderr",
     "output_type": "stream",
     "text": [
      "C:\\Users\\Rithvik\\Anaconda3\\lib\\site-packages\\ipykernel\\__main__.py:1: SettingWithCopyWarning: \n",
      "A value is trying to be set on a copy of a slice from a DataFrame.\n",
      "Try using .loc[row_indexer,col_indexer] = value instead\n",
      "\n",
      "See the caveats in the documentation: http://pandas.pydata.org/pandas-docs/stable/indexing.html#indexing-view-versus-copy\n",
      "  if __name__ == '__main__':\n"
     ]
    }
   ],
   "source": [
    "val_data['FireplaceQu']=val_data['FireplaceQu'].replace(np.NaN,\"No Fireplace\")"
   ]
  },
  {
   "cell_type": "code",
   "execution_count": 298,
   "metadata": {
    "collapsed": true
   },
   "outputs": [],
   "source": [
    "# GarageType column"
   ]
  },
  {
   "cell_type": "code",
   "execution_count": 299,
   "metadata": {
    "collapsed": false
   },
   "outputs": [
    {
     "data": {
      "text/plain": [
       "45"
      ]
     },
     "execution_count": 299,
     "metadata": {},
     "output_type": "execute_result"
    }
   ],
   "source": [
    "train_data['GarageType'].isnull().sum()"
   ]
  },
  {
   "cell_type": "code",
   "execution_count": 300,
   "metadata": {
    "collapsed": false
   },
   "outputs": [
    {
     "data": {
      "text/plain": [
       "array(['Attchd', 'Detchd', 'Basment', nan, 'BuiltIn', '2Types', 'CarPort'], dtype=object)"
      ]
     },
     "execution_count": 300,
     "metadata": {},
     "output_type": "execute_result"
    }
   ],
   "source": [
    "train_data['GarageType'].unique()"
   ]
  },
  {
   "cell_type": "code",
   "execution_count": 301,
   "metadata": {
    "collapsed": false
   },
   "outputs": [
    {
     "name": "stderr",
     "output_type": "stream",
     "text": [
      "C:\\Users\\Rithvik\\Anaconda3\\lib\\site-packages\\ipykernel\\__main__.py:1: SettingWithCopyWarning: \n",
      "A value is trying to be set on a copy of a slice from a DataFrame.\n",
      "Try using .loc[row_indexer,col_indexer] = value instead\n",
      "\n",
      "See the caveats in the documentation: http://pandas.pydata.org/pandas-docs/stable/indexing.html#indexing-view-versus-copy\n",
      "  if __name__ == '__main__':\n"
     ]
    }
   ],
   "source": [
    "train_data['GarageType']=train_data['GarageType'].replace(np.NaN,\"No Garage\")"
   ]
  },
  {
   "cell_type": "code",
   "execution_count": 302,
   "metadata": {
    "collapsed": false
   },
   "outputs": [
    {
     "data": {
      "text/plain": [
       "36"
      ]
     },
     "execution_count": 302,
     "metadata": {},
     "output_type": "execute_result"
    }
   ],
   "source": [
    "val_data['GarageType'].isnull().sum()"
   ]
  },
  {
   "cell_type": "code",
   "execution_count": 303,
   "metadata": {
    "collapsed": false
   },
   "outputs": [
    {
     "data": {
      "text/plain": [
       "array(['Attchd', 'BuiltIn', 'Detchd', nan, '2Types', 'CarPort', 'Basment'], dtype=object)"
      ]
     },
     "execution_count": 303,
     "metadata": {},
     "output_type": "execute_result"
    }
   ],
   "source": [
    "val_data['GarageType'].unique()"
   ]
  },
  {
   "cell_type": "code",
   "execution_count": 304,
   "metadata": {
    "collapsed": false
   },
   "outputs": [
    {
     "name": "stderr",
     "output_type": "stream",
     "text": [
      "C:\\Users\\Rithvik\\Anaconda3\\lib\\site-packages\\ipykernel\\__main__.py:1: SettingWithCopyWarning: \n",
      "A value is trying to be set on a copy of a slice from a DataFrame.\n",
      "Try using .loc[row_indexer,col_indexer] = value instead\n",
      "\n",
      "See the caveats in the documentation: http://pandas.pydata.org/pandas-docs/stable/indexing.html#indexing-view-versus-copy\n",
      "  if __name__ == '__main__':\n"
     ]
    }
   ],
   "source": [
    "val_data['GarageType']=val_data['GarageType'].replace(np.NaN,\"No Garage\")"
   ]
  },
  {
   "cell_type": "code",
   "execution_count": 305,
   "metadata": {
    "collapsed": true
   },
   "outputs": [],
   "source": [
    "# GarageFinish column"
   ]
  },
  {
   "cell_type": "code",
   "execution_count": 306,
   "metadata": {
    "collapsed": false
   },
   "outputs": [
    {
     "data": {
      "text/plain": [
       "45"
      ]
     },
     "execution_count": 306,
     "metadata": {},
     "output_type": "execute_result"
    }
   ],
   "source": [
    "train_data['GarageFinish'].isnull().sum()"
   ]
  },
  {
   "cell_type": "code",
   "execution_count": 307,
   "metadata": {
    "collapsed": false
   },
   "outputs": [
    {
     "data": {
      "text/plain": [
       "array(['RFn', 'Unf', 'Fin', nan], dtype=object)"
      ]
     },
     "execution_count": 307,
     "metadata": {},
     "output_type": "execute_result"
    }
   ],
   "source": [
    "train_data['GarageFinish'].unique()"
   ]
  },
  {
   "cell_type": "code",
   "execution_count": 308,
   "metadata": {
    "collapsed": false
   },
   "outputs": [
    {
     "name": "stderr",
     "output_type": "stream",
     "text": [
      "C:\\Users\\Rithvik\\Anaconda3\\lib\\site-packages\\ipykernel\\__main__.py:1: SettingWithCopyWarning: \n",
      "A value is trying to be set on a copy of a slice from a DataFrame.\n",
      "Try using .loc[row_indexer,col_indexer] = value instead\n",
      "\n",
      "See the caveats in the documentation: http://pandas.pydata.org/pandas-docs/stable/indexing.html#indexing-view-versus-copy\n",
      "  if __name__ == '__main__':\n"
     ]
    }
   ],
   "source": [
    "train_data['GarageFinish']=train_data['GarageFinish'].replace(np.NaN,\"No Garage\")"
   ]
  },
  {
   "cell_type": "code",
   "execution_count": 309,
   "metadata": {
    "collapsed": false
   },
   "outputs": [
    {
     "data": {
      "text/plain": [
       "36"
      ]
     },
     "execution_count": 309,
     "metadata": {},
     "output_type": "execute_result"
    }
   ],
   "source": [
    "val_data['GarageFinish'].isnull().sum()"
   ]
  },
  {
   "cell_type": "code",
   "execution_count": 310,
   "metadata": {
    "collapsed": false
   },
   "outputs": [
    {
     "data": {
      "text/plain": [
       "array(['Fin', 'RFn', 'Unf', nan], dtype=object)"
      ]
     },
     "execution_count": 310,
     "metadata": {},
     "output_type": "execute_result"
    }
   ],
   "source": [
    "val_data['GarageFinish'].unique()"
   ]
  },
  {
   "cell_type": "code",
   "execution_count": 311,
   "metadata": {
    "collapsed": false
   },
   "outputs": [
    {
     "name": "stderr",
     "output_type": "stream",
     "text": [
      "C:\\Users\\Rithvik\\Anaconda3\\lib\\site-packages\\ipykernel\\__main__.py:1: SettingWithCopyWarning: \n",
      "A value is trying to be set on a copy of a slice from a DataFrame.\n",
      "Try using .loc[row_indexer,col_indexer] = value instead\n",
      "\n",
      "See the caveats in the documentation: http://pandas.pydata.org/pandas-docs/stable/indexing.html#indexing-view-versus-copy\n",
      "  if __name__ == '__main__':\n"
     ]
    }
   ],
   "source": [
    "val_data['GarageFinish']=val_data['GarageFinish'].replace(np.NaN,\"No Garage\")"
   ]
  },
  {
   "cell_type": "code",
   "execution_count": 312,
   "metadata": {
    "collapsed": true
   },
   "outputs": [],
   "source": [
    "#GarageQual Column"
   ]
  },
  {
   "cell_type": "code",
   "execution_count": 313,
   "metadata": {
    "collapsed": false
   },
   "outputs": [
    {
     "data": {
      "text/plain": [
       "45"
      ]
     },
     "execution_count": 313,
     "metadata": {},
     "output_type": "execute_result"
    }
   ],
   "source": [
    "train_data['GarageQual'].isnull().sum()"
   ]
  },
  {
   "cell_type": "code",
   "execution_count": 314,
   "metadata": {
    "collapsed": false
   },
   "outputs": [
    {
     "data": {
      "text/plain": [
       "array(['TA', nan, 'Fa', 'Gd', 'Ex', 'Po'], dtype=object)"
      ]
     },
     "execution_count": 314,
     "metadata": {},
     "output_type": "execute_result"
    }
   ],
   "source": [
    "train_data['GarageQual'].unique()"
   ]
  },
  {
   "cell_type": "code",
   "execution_count": 315,
   "metadata": {
    "collapsed": false
   },
   "outputs": [
    {
     "name": "stderr",
     "output_type": "stream",
     "text": [
      "C:\\Users\\Rithvik\\Anaconda3\\lib\\site-packages\\ipykernel\\__main__.py:1: SettingWithCopyWarning: \n",
      "A value is trying to be set on a copy of a slice from a DataFrame.\n",
      "Try using .loc[row_indexer,col_indexer] = value instead\n",
      "\n",
      "See the caveats in the documentation: http://pandas.pydata.org/pandas-docs/stable/indexing.html#indexing-view-versus-copy\n",
      "  if __name__ == '__main__':\n"
     ]
    }
   ],
   "source": [
    "train_data['GarageQual']=train_data['GarageQual'].replace(np.NaN,\"No Garage\")"
   ]
  },
  {
   "cell_type": "code",
   "execution_count": 316,
   "metadata": {
    "collapsed": false
   },
   "outputs": [
    {
     "data": {
      "text/plain": [
       "36"
      ]
     },
     "execution_count": 316,
     "metadata": {},
     "output_type": "execute_result"
    }
   ],
   "source": [
    "val_data['GarageQual'].isnull().sum()"
   ]
  },
  {
   "cell_type": "code",
   "execution_count": 317,
   "metadata": {
    "collapsed": false
   },
   "outputs": [
    {
     "data": {
      "text/plain": [
       "array(['TA', nan, 'Fa', 'Gd'], dtype=object)"
      ]
     },
     "execution_count": 317,
     "metadata": {},
     "output_type": "execute_result"
    }
   ],
   "source": [
    "val_data['GarageQual'].unique()"
   ]
  },
  {
   "cell_type": "code",
   "execution_count": 318,
   "metadata": {
    "collapsed": false
   },
   "outputs": [
    {
     "name": "stderr",
     "output_type": "stream",
     "text": [
      "C:\\Users\\Rithvik\\Anaconda3\\lib\\site-packages\\ipykernel\\__main__.py:1: SettingWithCopyWarning: \n",
      "A value is trying to be set on a copy of a slice from a DataFrame.\n",
      "Try using .loc[row_indexer,col_indexer] = value instead\n",
      "\n",
      "See the caveats in the documentation: http://pandas.pydata.org/pandas-docs/stable/indexing.html#indexing-view-versus-copy\n",
      "  if __name__ == '__main__':\n"
     ]
    }
   ],
   "source": [
    "val_data['GarageQual']=val_data['GarageQual'].replace(np.NaN,\"No Garage\")"
   ]
  },
  {
   "cell_type": "code",
   "execution_count": 319,
   "metadata": {
    "collapsed": true
   },
   "outputs": [],
   "source": [
    "#GarageCond Column"
   ]
  },
  {
   "cell_type": "code",
   "execution_count": 320,
   "metadata": {
    "collapsed": false
   },
   "outputs": [
    {
     "data": {
      "text/plain": [
       "45"
      ]
     },
     "execution_count": 320,
     "metadata": {},
     "output_type": "execute_result"
    }
   ],
   "source": [
    "train_data['GarageCond'].isnull().sum()"
   ]
  },
  {
   "cell_type": "code",
   "execution_count": 321,
   "metadata": {
    "collapsed": false
   },
   "outputs": [
    {
     "data": {
      "text/plain": [
       "array(['TA', nan, 'Fa', 'Gd', 'Po', 'Ex'], dtype=object)"
      ]
     },
     "execution_count": 321,
     "metadata": {},
     "output_type": "execute_result"
    }
   ],
   "source": [
    "train_data['GarageCond'].unique()"
   ]
  },
  {
   "cell_type": "code",
   "execution_count": 322,
   "metadata": {
    "collapsed": false
   },
   "outputs": [
    {
     "name": "stderr",
     "output_type": "stream",
     "text": [
      "C:\\Users\\Rithvik\\Anaconda3\\lib\\site-packages\\ipykernel\\__main__.py:1: SettingWithCopyWarning: \n",
      "A value is trying to be set on a copy of a slice from a DataFrame.\n",
      "Try using .loc[row_indexer,col_indexer] = value instead\n",
      "\n",
      "See the caveats in the documentation: http://pandas.pydata.org/pandas-docs/stable/indexing.html#indexing-view-versus-copy\n",
      "  if __name__ == '__main__':\n"
     ]
    }
   ],
   "source": [
    "train_data['GarageCond']=train_data['GarageCond'].replace(np.NaN,\"No Garage\")"
   ]
  },
  {
   "cell_type": "code",
   "execution_count": 323,
   "metadata": {
    "collapsed": false
   },
   "outputs": [
    {
     "data": {
      "text/plain": [
       "36"
      ]
     },
     "execution_count": 323,
     "metadata": {},
     "output_type": "execute_result"
    }
   ],
   "source": [
    "val_data['GarageCond'].isnull().sum()"
   ]
  },
  {
   "cell_type": "code",
   "execution_count": 324,
   "metadata": {
    "collapsed": false
   },
   "outputs": [
    {
     "data": {
      "text/plain": [
       "array(['TA', nan, 'Fa', 'Gd'], dtype=object)"
      ]
     },
     "execution_count": 324,
     "metadata": {},
     "output_type": "execute_result"
    }
   ],
   "source": [
    "val_data['GarageCond'].unique()"
   ]
  },
  {
   "cell_type": "code",
   "execution_count": 325,
   "metadata": {
    "collapsed": false
   },
   "outputs": [
    {
     "name": "stderr",
     "output_type": "stream",
     "text": [
      "C:\\Users\\Rithvik\\Anaconda3\\lib\\site-packages\\ipykernel\\__main__.py:1: SettingWithCopyWarning: \n",
      "A value is trying to be set on a copy of a slice from a DataFrame.\n",
      "Try using .loc[row_indexer,col_indexer] = value instead\n",
      "\n",
      "See the caveats in the documentation: http://pandas.pydata.org/pandas-docs/stable/indexing.html#indexing-view-versus-copy\n",
      "  if __name__ == '__main__':\n"
     ]
    }
   ],
   "source": [
    "val_data['GarageCond']=val_data['GarageCond'].replace(np.NaN,\"No Garage\")"
   ]
  },
  {
   "cell_type": "code",
   "execution_count": 326,
   "metadata": {
    "collapsed": true
   },
   "outputs": [],
   "source": [
    "#PoolQC column"
   ]
  },
  {
   "cell_type": "code",
   "execution_count": 327,
   "metadata": {
    "collapsed": false
   },
   "outputs": [
    {
     "data": {
      "text/plain": [
       "871"
      ]
     },
     "execution_count": 327,
     "metadata": {},
     "output_type": "execute_result"
    }
   ],
   "source": [
    "train_data['PoolQC'].isnull().sum()"
   ]
  },
  {
   "cell_type": "code",
   "execution_count": 328,
   "metadata": {
    "collapsed": false
   },
   "outputs": [
    {
     "data": {
      "text/plain": [
       "array([nan, 'Ex', 'Gd', 'Fa'], dtype=object)"
      ]
     },
     "execution_count": 328,
     "metadata": {},
     "output_type": "execute_result"
    }
   ],
   "source": [
    "train_data['PoolQC'].unique()"
   ]
  },
  {
   "cell_type": "code",
   "execution_count": 329,
   "metadata": {
    "collapsed": false
   },
   "outputs": [
    {
     "name": "stderr",
     "output_type": "stream",
     "text": [
      "C:\\Users\\Rithvik\\Anaconda3\\lib\\site-packages\\ipykernel\\__main__.py:1: SettingWithCopyWarning: \n",
      "A value is trying to be set on a copy of a slice from a DataFrame.\n",
      "Try using .loc[row_indexer,col_indexer] = value instead\n",
      "\n",
      "See the caveats in the documentation: http://pandas.pydata.org/pandas-docs/stable/indexing.html#indexing-view-versus-copy\n",
      "  if __name__ == '__main__':\n"
     ]
    }
   ],
   "source": [
    "train_data['PoolQC']=train_data['PoolQC'].replace(np.NaN,\"No Pool\")"
   ]
  },
  {
   "cell_type": "code",
   "execution_count": 330,
   "metadata": {
    "collapsed": false
   },
   "outputs": [
    {
     "data": {
      "text/plain": [
       "582"
      ]
     },
     "execution_count": 330,
     "metadata": {},
     "output_type": "execute_result"
    }
   ],
   "source": [
    "val_data['PoolQC'].isnull().sum()"
   ]
  },
  {
   "cell_type": "code",
   "execution_count": 331,
   "metadata": {
    "collapsed": false
   },
   "outputs": [
    {
     "data": {
      "text/plain": [
       "array([nan, 'Gd', 'Fa'], dtype=object)"
      ]
     },
     "execution_count": 331,
     "metadata": {},
     "output_type": "execute_result"
    }
   ],
   "source": [
    "val_data['PoolQC'].unique()"
   ]
  },
  {
   "cell_type": "code",
   "execution_count": 332,
   "metadata": {
    "collapsed": false
   },
   "outputs": [
    {
     "name": "stderr",
     "output_type": "stream",
     "text": [
      "C:\\Users\\Rithvik\\Anaconda3\\lib\\site-packages\\ipykernel\\__main__.py:1: SettingWithCopyWarning: \n",
      "A value is trying to be set on a copy of a slice from a DataFrame.\n",
      "Try using .loc[row_indexer,col_indexer] = value instead\n",
      "\n",
      "See the caveats in the documentation: http://pandas.pydata.org/pandas-docs/stable/indexing.html#indexing-view-versus-copy\n",
      "  if __name__ == '__main__':\n"
     ]
    }
   ],
   "source": [
    "val_data['PoolQC']=val_data['PoolQC'].replace(np.NaN,\"No Pool\")"
   ]
  },
  {
   "cell_type": "code",
   "execution_count": 333,
   "metadata": {
    "collapsed": true
   },
   "outputs": [],
   "source": [
    "#Fence Column"
   ]
  },
  {
   "cell_type": "code",
   "execution_count": 334,
   "metadata": {
    "collapsed": false
   },
   "outputs": [
    {
     "data": {
      "text/plain": [
       "702"
      ]
     },
     "execution_count": 334,
     "metadata": {},
     "output_type": "execute_result"
    }
   ],
   "source": [
    "train_data['Fence'].isnull().sum()"
   ]
  },
  {
   "cell_type": "code",
   "execution_count": 335,
   "metadata": {
    "collapsed": false
   },
   "outputs": [
    {
     "data": {
      "text/plain": [
       "array(['MnPrv', nan, 'GdPrv', 'GdWo', 'MnWw'], dtype=object)"
      ]
     },
     "execution_count": 335,
     "metadata": {},
     "output_type": "execute_result"
    }
   ],
   "source": [
    "train_data['Fence'].unique()"
   ]
  },
  {
   "cell_type": "code",
   "execution_count": 336,
   "metadata": {
    "collapsed": false
   },
   "outputs": [
    {
     "name": "stderr",
     "output_type": "stream",
     "text": [
      "C:\\Users\\Rithvik\\Anaconda3\\lib\\site-packages\\ipykernel\\__main__.py:1: SettingWithCopyWarning: \n",
      "A value is trying to be set on a copy of a slice from a DataFrame.\n",
      "Try using .loc[row_indexer,col_indexer] = value instead\n",
      "\n",
      "See the caveats in the documentation: http://pandas.pydata.org/pandas-docs/stable/indexing.html#indexing-view-versus-copy\n",
      "  if __name__ == '__main__':\n"
     ]
    }
   ],
   "source": [
    "train_data['Fence']=train_data['Fence'].replace(np.NaN,\"No Fence\")"
   ]
  },
  {
   "cell_type": "code",
   "execution_count": 337,
   "metadata": {
    "collapsed": false
   },
   "outputs": [
    {
     "data": {
      "text/plain": [
       "477"
      ]
     },
     "execution_count": 337,
     "metadata": {},
     "output_type": "execute_result"
    }
   ],
   "source": [
    "val_data['Fence'].isnull().sum()"
   ]
  },
  {
   "cell_type": "code",
   "execution_count": 338,
   "metadata": {
    "collapsed": false
   },
   "outputs": [
    {
     "data": {
      "text/plain": [
       "array([nan, 'GdPrv', 'MnPrv', 'GdWo', 'MnWw'], dtype=object)"
      ]
     },
     "execution_count": 338,
     "metadata": {},
     "output_type": "execute_result"
    }
   ],
   "source": [
    "val_data['Fence'].unique()"
   ]
  },
  {
   "cell_type": "code",
   "execution_count": 339,
   "metadata": {
    "collapsed": false
   },
   "outputs": [
    {
     "name": "stderr",
     "output_type": "stream",
     "text": [
      "C:\\Users\\Rithvik\\Anaconda3\\lib\\site-packages\\ipykernel\\__main__.py:1: SettingWithCopyWarning: \n",
      "A value is trying to be set on a copy of a slice from a DataFrame.\n",
      "Try using .loc[row_indexer,col_indexer] = value instead\n",
      "\n",
      "See the caveats in the documentation: http://pandas.pydata.org/pandas-docs/stable/indexing.html#indexing-view-versus-copy\n",
      "  if __name__ == '__main__':\n"
     ]
    }
   ],
   "source": [
    "val_data['Fence']=val_data['Fence'].replace(np.NaN,\"No Fence\")"
   ]
  },
  {
   "cell_type": "code",
   "execution_count": 340,
   "metadata": {
    "collapsed": true
   },
   "outputs": [],
   "source": [
    "#MiscFeature Column"
   ]
  },
  {
   "cell_type": "code",
   "execution_count": 341,
   "metadata": {
    "collapsed": false
   },
   "outputs": [
    {
     "data": {
      "text/plain": [
       "838"
      ]
     },
     "execution_count": 341,
     "metadata": {},
     "output_type": "execute_result"
    }
   ],
   "source": [
    "train_data['MiscFeature'].isnull().sum()"
   ]
  },
  {
   "cell_type": "code",
   "execution_count": 342,
   "metadata": {
    "collapsed": false
   },
   "outputs": [
    {
     "data": {
      "text/plain": [
       "array(['Shed', nan, 'Othr', 'Gar2', 'TenC'], dtype=object)"
      ]
     },
     "execution_count": 342,
     "metadata": {},
     "output_type": "execute_result"
    }
   ],
   "source": [
    "train_data['MiscFeature'].unique()"
   ]
  },
  {
   "cell_type": "code",
   "execution_count": 343,
   "metadata": {
    "collapsed": false
   },
   "outputs": [
    {
     "name": "stderr",
     "output_type": "stream",
     "text": [
      "C:\\Users\\Rithvik\\Anaconda3\\lib\\site-packages\\ipykernel\\__main__.py:1: SettingWithCopyWarning: \n",
      "A value is trying to be set on a copy of a slice from a DataFrame.\n",
      "Try using .loc[row_indexer,col_indexer] = value instead\n",
      "\n",
      "See the caveats in the documentation: http://pandas.pydata.org/pandas-docs/stable/indexing.html#indexing-view-versus-copy\n",
      "  if __name__ == '__main__':\n"
     ]
    }
   ],
   "source": [
    "train_data['MiscFeature']=train_data['MiscFeature'].replace(np.NaN,'None')"
   ]
  },
  {
   "cell_type": "code",
   "execution_count": 344,
   "metadata": {
    "collapsed": false
   },
   "outputs": [
    {
     "data": {
      "text/plain": [
       "568"
      ]
     },
     "execution_count": 344,
     "metadata": {},
     "output_type": "execute_result"
    }
   ],
   "source": [
    "val_data['MiscFeature'].isnull().sum()"
   ]
  },
  {
   "cell_type": "code",
   "execution_count": 345,
   "metadata": {
    "collapsed": false
   },
   "outputs": [
    {
     "data": {
      "text/plain": [
       "array([nan, 'Shed', 'Gar2', 'Othr'], dtype=object)"
      ]
     },
     "execution_count": 345,
     "metadata": {},
     "output_type": "execute_result"
    }
   ],
   "source": [
    "val_data['MiscFeature'].unique()"
   ]
  },
  {
   "cell_type": "code",
   "execution_count": 346,
   "metadata": {
    "collapsed": false
   },
   "outputs": [
    {
     "name": "stderr",
     "output_type": "stream",
     "text": [
      "C:\\Users\\Rithvik\\Anaconda3\\lib\\site-packages\\ipykernel\\__main__.py:1: SettingWithCopyWarning: \n",
      "A value is trying to be set on a copy of a slice from a DataFrame.\n",
      "Try using .loc[row_indexer,col_indexer] = value instead\n",
      "\n",
      "See the caveats in the documentation: http://pandas.pydata.org/pandas-docs/stable/indexing.html#indexing-view-versus-copy\n",
      "  if __name__ == '__main__':\n"
     ]
    }
   ],
   "source": [
    "val_data['MiscFeature']=val_data['MiscFeature'].replace(np.NaN,'None')"
   ]
  },
  {
   "cell_type": "code",
   "execution_count": 347,
   "metadata": {
    "collapsed": false
   },
   "outputs": [
    {
     "data": {
      "text/plain": [
       "s                0\n",
       "MSSubClass       0\n",
       "MSZoning         0\n",
       "LotFrontage      0\n",
       "LotArea          0\n",
       "Street           0\n",
       "Alley            0\n",
       "LotShape         0\n",
       "LandContour      0\n",
       "Utilities        0\n",
       "LotConfig        0\n",
       "LandSlope        0\n",
       "Neighborhood     0\n",
       "Condition1       0\n",
       "Condition2       0\n",
       "BldgType         0\n",
       "HouseStyle       0\n",
       "OverallQual      0\n",
       "OverallCond      0\n",
       "YearBuilt        0\n",
       "YearRemodAdd     0\n",
       "RoofStyle        0\n",
       "RoofMatl         0\n",
       "Exterior1st      0\n",
       "Exterior2nd      0\n",
       "MasVnrType       0\n",
       "MasVnrArea       0\n",
       "ExterQual        0\n",
       "ExterCond        0\n",
       "Foundation       0\n",
       "                ..\n",
       "BedroomAbvGr     0\n",
       "KitchenAbvGr     0\n",
       "KitchenQual      0\n",
       "TotRmsAbvGrd     0\n",
       "Functional       0\n",
       "Fireplaces       0\n",
       "FireplaceQu      0\n",
       "GarageType       0\n",
       "GarageYrBlt      0\n",
       "GarageFinish     0\n",
       "GarageCars       0\n",
       "GarageArea       0\n",
       "GarageQual       0\n",
       "GarageCond       0\n",
       "PavedDrive       0\n",
       "WoodDeckSF       0\n",
       "OpenPorchSF      0\n",
       "EnclosedPorch    0\n",
       "3SsnPorch        0\n",
       "ScreenPorch      0\n",
       "PoolArea         0\n",
       "PoolQC           0\n",
       "Fence            0\n",
       "MiscFeature      0\n",
       "MiscVal          0\n",
       "MoSold           0\n",
       "YrSold           0\n",
       "SaleType         0\n",
       "SaleCondition    0\n",
       "SalePrice        0\n",
       "dtype: int64"
      ]
     },
     "execution_count": 347,
     "metadata": {},
     "output_type": "execute_result"
    }
   ],
   "source": [
    "train_data.isnull().sum()"
   ]
  },
  {
   "cell_type": "code",
   "execution_count": 348,
   "metadata": {
    "collapsed": true
   },
   "outputs": [],
   "source": [
    "#From the Above code we can see that all the columns now are not having any null values."
   ]
  },
  {
   "cell_type": "code",
   "execution_count": 349,
   "metadata": {
    "collapsed": true
   },
   "outputs": [],
   "source": [
    "#Now we need to convert the categorical variables to numerical by using average by level."
   ]
  },
  {
   "cell_type": "code",
   "execution_count": 350,
   "metadata": {
    "collapsed": false
   },
   "outputs": [
    {
     "data": {
      "text/plain": [
       "Index(['s', 'MSSubClass', 'MSZoning', 'LotFrontage', 'LotArea', 'Street',\n",
       "       'Alley', 'LotShape', 'LandContour', 'Utilities', 'LotConfig',\n",
       "       'LandSlope', 'Neighborhood', 'Condition1', 'Condition2', 'BldgType',\n",
       "       'HouseStyle', 'OverallQual', 'OverallCond', 'YearBuilt', 'YearRemodAdd',\n",
       "       'RoofStyle', 'RoofMatl', 'Exterior1st', 'Exterior2nd', 'MasVnrType',\n",
       "       'MasVnrArea', 'ExterQual', 'ExterCond', 'Foundation', 'BsmtQual',\n",
       "       'BsmtCond', 'BsmtExposure', 'BsmtFinType1', 'BsmtFinSF1',\n",
       "       'BsmtFinType2', 'BsmtFinSF2', 'BsmtUnfSF', 'TotalBsmtSF', 'Heating',\n",
       "       'HeatingQC', 'CentralAir', 'Electrical', '1stFlrSF', '2ndFlrSF',\n",
       "       'LowQualFinSF', 'GrLivArea', 'BsmtFullBath', 'BsmtHalfBath', 'FullBath',\n",
       "       'HalfBath', 'BedroomAbvGr', 'KitchenAbvGr', 'KitchenQual',\n",
       "       'TotRmsAbvGrd', 'Functional', 'Fireplaces', 'FireplaceQu', 'GarageType',\n",
       "       'GarageYrBlt', 'GarageFinish', 'GarageCars', 'GarageArea', 'GarageQual',\n",
       "       'GarageCond', 'PavedDrive', 'WoodDeckSF', 'OpenPorchSF',\n",
       "       'EnclosedPorch', '3SsnPorch', 'ScreenPorch', 'PoolArea', 'PoolQC',\n",
       "       'Fence', 'MiscFeature', 'MiscVal', 'MoSold', 'YrSold', 'SaleType',\n",
       "       'SaleCondition', 'SalePrice'],\n",
       "      dtype='object')"
      ]
     },
     "execution_count": 350,
     "metadata": {},
     "output_type": "execute_result"
    }
   ],
   "source": [
    "train_data.columns"
   ]
  },
  {
   "cell_type": "code",
   "execution_count": 351,
   "metadata": {
    "collapsed": false
   },
   "outputs": [],
   "source": [
    "numerical_columns=train_data._get_numeric_data().columns"
   ]
  },
  {
   "cell_type": "code",
   "execution_count": 352,
   "metadata": {
    "collapsed": false
   },
   "outputs": [
    {
     "data": {
      "text/plain": [
       "Index(['s', 'MSSubClass', 'LotFrontage', 'LotArea', 'OverallQual',\n",
       "       'OverallCond', 'YearBuilt', 'YearRemodAdd', 'MasVnrArea', 'BsmtFinSF1',\n",
       "       'BsmtFinSF2', 'BsmtUnfSF', 'TotalBsmtSF', '1stFlrSF', '2ndFlrSF',\n",
       "       'LowQualFinSF', 'GrLivArea', 'BsmtFullBath', 'BsmtHalfBath', 'FullBath',\n",
       "       'HalfBath', 'BedroomAbvGr', 'KitchenAbvGr', 'TotRmsAbvGrd',\n",
       "       'Fireplaces', 'GarageYrBlt', 'GarageCars', 'GarageArea', 'WoodDeckSF',\n",
       "       'OpenPorchSF', 'EnclosedPorch', '3SsnPorch', 'ScreenPorch', 'PoolArea',\n",
       "       'MiscVal', 'MoSold', 'YrSold', 'SalePrice'],\n",
       "      dtype='object')"
      ]
     },
     "execution_count": 352,
     "metadata": {},
     "output_type": "execute_result"
    }
   ],
   "source": [
    "numerical_columns"
   ]
  },
  {
   "cell_type": "code",
   "execution_count": 353,
   "metadata": {
    "collapsed": false
   },
   "outputs": [],
   "source": [
    "categorical_columns=list(set(train_data.columns)-set(numerical_columns))"
   ]
  },
  {
   "cell_type": "code",
   "execution_count": 354,
   "metadata": {
    "collapsed": false
   },
   "outputs": [
    {
     "data": {
      "text/plain": [
       "['BsmtExposure',\n",
       " 'HeatingQC',\n",
       " 'Fence',\n",
       " 'RoofStyle',\n",
       " 'BldgType',\n",
       " 'MasVnrType',\n",
       " 'Functional',\n",
       " 'Foundation',\n",
       " 'MiscFeature',\n",
       " 'BsmtCond',\n",
       " 'BsmtFinType2',\n",
       " 'Exterior2nd',\n",
       " 'RoofMatl',\n",
       " 'ExterCond',\n",
       " 'FireplaceQu',\n",
       " 'KitchenQual',\n",
       " 'Street',\n",
       " 'LandSlope',\n",
       " 'PavedDrive',\n",
       " 'BsmtQual',\n",
       " 'Heating',\n",
       " 'Condition1',\n",
       " 'Condition2',\n",
       " 'HouseStyle',\n",
       " 'ExterQual',\n",
       " 'LotConfig',\n",
       " 'CentralAir',\n",
       " 'SaleType',\n",
       " 'LandContour',\n",
       " 'MSZoning',\n",
       " 'Alley',\n",
       " 'GarageQual',\n",
       " 'GarageType',\n",
       " 'LotShape',\n",
       " 'PoolQC',\n",
       " 'GarageCond',\n",
       " 'Exterior1st',\n",
       " 'SaleCondition',\n",
       " 'Electrical',\n",
       " 'Neighborhood',\n",
       " 'GarageFinish',\n",
       " 'Utilities',\n",
       " 'BsmtFinType1']"
      ]
     },
     "execution_count": 354,
     "metadata": {},
     "output_type": "execute_result"
    }
   ],
   "source": [
    "categorical_columns"
   ]
  },
  {
   "cell_type": "code",
   "execution_count": 355,
   "metadata": {
    "collapsed": false
   },
   "outputs": [
    {
     "data": {
      "text/plain": [
       "43"
      ]
     },
     "execution_count": 355,
     "metadata": {},
     "output_type": "execute_result"
    }
   ],
   "source": [
    "len(categorical_columns)"
   ]
  },
  {
   "cell_type": "code",
   "execution_count": 356,
   "metadata": {
    "collapsed": true
   },
   "outputs": [],
   "source": [
    "#Average By Level for categorical columns"
   ]
  },
  {
   "cell_type": "code",
   "execution_count": 357,
   "metadata": {
    "collapsed": false
   },
   "outputs": [],
   "source": [
    "train_data_copy=train_data.copy()\n",
    "\n",
    "for each_column in categorical_columns:\n",
    "    new_col_name=each_column+\"_encode\"\n",
    "    #now lets create a dictionary for each of the levels in each categorical column\n",
    "    dict={}\n",
    "    \n",
    "    for level in train_data[each_column].unique():\n",
    "        dict[level]=train_data[train_data[each_column]==level]['SalePrice'].mean()\n",
    "        \n",
    "    train_data_copy[new_col_name]=train_data[each_column].apply(lambda i: dict[i])"
   ]
  },
  {
   "cell_type": "code",
   "execution_count": 358,
   "metadata": {
    "collapsed": false,
    "scrolled": true
   },
   "outputs": [
    {
     "data": {
      "text/html": [
       "<div>\n",
       "<table border=\"1\" class=\"dataframe\">\n",
       "  <thead>\n",
       "    <tr style=\"text-align: right;\">\n",
       "      <th></th>\n",
       "      <th>s</th>\n",
       "      <th>MSSubClass</th>\n",
       "      <th>MSZoning</th>\n",
       "      <th>LotFrontage</th>\n",
       "      <th>LotArea</th>\n",
       "      <th>Street</th>\n",
       "      <th>Alley</th>\n",
       "      <th>LotShape</th>\n",
       "      <th>LandContour</th>\n",
       "      <th>Utilities</th>\n",
       "      <th>...</th>\n",
       "      <th>LotShape_encode</th>\n",
       "      <th>PoolQC_encode</th>\n",
       "      <th>GarageCond_encode</th>\n",
       "      <th>Exterior1st_encode</th>\n",
       "      <th>SaleCondition_encode</th>\n",
       "      <th>Electrical_encode</th>\n",
       "      <th>Neighborhood_encode</th>\n",
       "      <th>GarageFinish_encode</th>\n",
       "      <th>Utilities_encode</th>\n",
       "      <th>BsmtFinType1_encode</th>\n",
       "    </tr>\n",
       "  </thead>\n",
       "  <tbody>\n",
       "    <tr>\n",
       "      <th>539</th>\n",
       "      <td>540</td>\n",
       "      <td>20</td>\n",
       "      <td>RL</td>\n",
       "      <td>68.0</td>\n",
       "      <td>11423</td>\n",
       "      <td>Pave</td>\n",
       "      <td>No Alley Access</td>\n",
       "      <td>Reg</td>\n",
       "      <td>Lvl</td>\n",
       "      <td>AllPub</td>\n",
       "      <td>...</td>\n",
       "      <td>162897.237347</td>\n",
       "      <td>176474.559127</td>\n",
       "      <td>184945.859873</td>\n",
       "      <td>207522.464286</td>\n",
       "      <td>171991.713267</td>\n",
       "      <td>183510.461538</td>\n",
       "      <td>204203.566265</td>\n",
       "      <td>201957.974576</td>\n",
       "      <td>177294.675429</td>\n",
       "      <td>234410.458167</td>\n",
       "    </tr>\n",
       "    <tr>\n",
       "      <th>791</th>\n",
       "      <td>792</td>\n",
       "      <td>80</td>\n",
       "      <td>RL</td>\n",
       "      <td>68.0</td>\n",
       "      <td>11333</td>\n",
       "      <td>Pave</td>\n",
       "      <td>No Alley Access</td>\n",
       "      <td>IR1</td>\n",
       "      <td>Lvl</td>\n",
       "      <td>AllPub</td>\n",
       "      <td>...</td>\n",
       "      <td>200882.727273</td>\n",
       "      <td>176474.559127</td>\n",
       "      <td>184945.859873</td>\n",
       "      <td>158618.902256</td>\n",
       "      <td>171991.713267</td>\n",
       "      <td>183510.461538</td>\n",
       "      <td>157443.939394</td>\n",
       "      <td>201957.974576</td>\n",
       "      <td>177294.675429</td>\n",
       "      <td>160814.122137</td>\n",
       "    </tr>\n",
       "    <tr>\n",
       "      <th>816</th>\n",
       "      <td>817</td>\n",
       "      <td>20</td>\n",
       "      <td>RL</td>\n",
       "      <td>68.0</td>\n",
       "      <td>11425</td>\n",
       "      <td>Pave</td>\n",
       "      <td>No Alley Access</td>\n",
       "      <td>IR1</td>\n",
       "      <td>Lvl</td>\n",
       "      <td>AllPub</td>\n",
       "      <td>...</td>\n",
       "      <td>200882.727273</td>\n",
       "      <td>176474.559127</td>\n",
       "      <td>184945.859873</td>\n",
       "      <td>189960.294118</td>\n",
       "      <td>171991.713267</td>\n",
       "      <td>183510.461538</td>\n",
       "      <td>145773.936170</td>\n",
       "      <td>201957.974576</td>\n",
       "      <td>177294.675429</td>\n",
       "      <td>148553.967033</td>\n",
       "    </tr>\n",
       "    <tr>\n",
       "      <th>989</th>\n",
       "      <td>990</td>\n",
       "      <td>60</td>\n",
       "      <td>FV</td>\n",
       "      <td>65.0</td>\n",
       "      <td>8125</td>\n",
       "      <td>Pave</td>\n",
       "      <td>No Alley Access</td>\n",
       "      <td>Reg</td>\n",
       "      <td>Lvl</td>\n",
       "      <td>AllPub</td>\n",
       "      <td>...</td>\n",
       "      <td>162897.237347</td>\n",
       "      <td>176474.559127</td>\n",
       "      <td>184945.859873</td>\n",
       "      <td>207522.464286</td>\n",
       "      <td>263357.039474</td>\n",
       "      <td>183510.461538</td>\n",
       "      <td>219119.234043</td>\n",
       "      <td>201957.974576</td>\n",
       "      <td>177294.675429</td>\n",
       "      <td>160366.077220</td>\n",
       "    </tr>\n",
       "    <tr>\n",
       "      <th>890</th>\n",
       "      <td>891</td>\n",
       "      <td>50</td>\n",
       "      <td>RL</td>\n",
       "      <td>60.0</td>\n",
       "      <td>8064</td>\n",
       "      <td>Pave</td>\n",
       "      <td>No Alley Access</td>\n",
       "      <td>Reg</td>\n",
       "      <td>Lvl</td>\n",
       "      <td>AllPub</td>\n",
       "      <td>...</td>\n",
       "      <td>162897.237347</td>\n",
       "      <td>176474.559127</td>\n",
       "      <td>184945.859873</td>\n",
       "      <td>150358.977099</td>\n",
       "      <td>171991.713267</td>\n",
       "      <td>183510.461538</td>\n",
       "      <td>145773.936170</td>\n",
       "      <td>139514.384416</td>\n",
       "      <td>177294.675429</td>\n",
       "      <td>160366.077220</td>\n",
       "    </tr>\n",
       "    <tr>\n",
       "      <th>1291</th>\n",
       "      <td>1292</td>\n",
       "      <td>160</td>\n",
       "      <td>RM</td>\n",
       "      <td>21.0</td>\n",
       "      <td>1680</td>\n",
       "      <td>Pave</td>\n",
       "      <td>No Alley Access</td>\n",
       "      <td>Reg</td>\n",
       "      <td>Lvl</td>\n",
       "      <td>AllPub</td>\n",
       "      <td>...</td>\n",
       "      <td>162897.237347</td>\n",
       "      <td>176474.559127</td>\n",
       "      <td>184945.859873</td>\n",
       "      <td>240769.518519</td>\n",
       "      <td>171991.713267</td>\n",
       "      <td>183510.461538</td>\n",
       "      <td>105433.333333</td>\n",
       "      <td>139514.384416</td>\n",
       "      <td>177294.675429</td>\n",
       "      <td>160814.122137</td>\n",
       "    </tr>\n",
       "    <tr>\n",
       "      <th>272</th>\n",
       "      <td>273</td>\n",
       "      <td>60</td>\n",
       "      <td>RL</td>\n",
       "      <td>92.0</td>\n",
       "      <td>11764</td>\n",
       "      <td>Pave</td>\n",
       "      <td>No Alley Access</td>\n",
       "      <td>IR1</td>\n",
       "      <td>Lvl</td>\n",
       "      <td>AllPub</td>\n",
       "      <td>...</td>\n",
       "      <td>200882.727273</td>\n",
       "      <td>176474.559127</td>\n",
       "      <td>184945.859873</td>\n",
       "      <td>207522.464286</td>\n",
       "      <td>171991.713267</td>\n",
       "      <td>183510.461538</td>\n",
       "      <td>322322.689655</td>\n",
       "      <td>234660.814286</td>\n",
       "      <td>177294.675429</td>\n",
       "      <td>234410.458167</td>\n",
       "    </tr>\n",
       "    <tr>\n",
       "      <th>794</th>\n",
       "      <td>795</td>\n",
       "      <td>60</td>\n",
       "      <td>RL</td>\n",
       "      <td>68.0</td>\n",
       "      <td>10832</td>\n",
       "      <td>Pave</td>\n",
       "      <td>No Alley Access</td>\n",
       "      <td>IR1</td>\n",
       "      <td>Lvl</td>\n",
       "      <td>AllPub</td>\n",
       "      <td>...</td>\n",
       "      <td>200882.727273</td>\n",
       "      <td>176474.559127</td>\n",
       "      <td>184945.859873</td>\n",
       "      <td>150358.977099</td>\n",
       "      <td>171991.713267</td>\n",
       "      <td>183510.461538</td>\n",
       "      <td>193959.043478</td>\n",
       "      <td>234660.814286</td>\n",
       "      <td>177294.675429</td>\n",
       "      <td>160366.077220</td>\n",
       "    </tr>\n",
       "    <tr>\n",
       "      <th>1019</th>\n",
       "      <td>1020</td>\n",
       "      <td>120</td>\n",
       "      <td>RL</td>\n",
       "      <td>43.0</td>\n",
       "      <td>3013</td>\n",
       "      <td>Pave</td>\n",
       "      <td>No Alley Access</td>\n",
       "      <td>Reg</td>\n",
       "      <td>Lvl</td>\n",
       "      <td>AllPub</td>\n",
       "      <td>...</td>\n",
       "      <td>162897.237347</td>\n",
       "      <td>176474.559127</td>\n",
       "      <td>184945.859873</td>\n",
       "      <td>207522.464286</td>\n",
       "      <td>171991.713267</td>\n",
       "      <td>183510.461538</td>\n",
       "      <td>188760.900000</td>\n",
       "      <td>234660.814286</td>\n",
       "      <td>177294.675429</td>\n",
       "      <td>234410.458167</td>\n",
       "    </tr>\n",
       "    <tr>\n",
       "      <th>515</th>\n",
       "      <td>516</td>\n",
       "      <td>20</td>\n",
       "      <td>RL</td>\n",
       "      <td>94.0</td>\n",
       "      <td>12220</td>\n",
       "      <td>Pave</td>\n",
       "      <td>No Alley Access</td>\n",
       "      <td>Reg</td>\n",
       "      <td>Lvl</td>\n",
       "      <td>AllPub</td>\n",
       "      <td>...</td>\n",
       "      <td>162897.237347</td>\n",
       "      <td>176474.559127</td>\n",
       "      <td>184945.859873</td>\n",
       "      <td>240769.518519</td>\n",
       "      <td>263357.039474</td>\n",
       "      <td>183510.461538</td>\n",
       "      <td>308062.930233</td>\n",
       "      <td>234660.814286</td>\n",
       "      <td>177294.675429</td>\n",
       "      <td>234410.458167</td>\n",
       "    </tr>\n",
       "    <tr>\n",
       "      <th>273</th>\n",
       "      <td>274</td>\n",
       "      <td>20</td>\n",
       "      <td>RL</td>\n",
       "      <td>80.0</td>\n",
       "      <td>9600</td>\n",
       "      <td>Pave</td>\n",
       "      <td>No Alley Access</td>\n",
       "      <td>Reg</td>\n",
       "      <td>Lvl</td>\n",
       "      <td>AllPub</td>\n",
       "      <td>...</td>\n",
       "      <td>162897.237347</td>\n",
       "      <td>176474.559127</td>\n",
       "      <td>184945.859873</td>\n",
       "      <td>149852.909836</td>\n",
       "      <td>171991.713267</td>\n",
       "      <td>183510.461538</td>\n",
       "      <td>145773.936170</td>\n",
       "      <td>201957.974576</td>\n",
       "      <td>177294.675429</td>\n",
       "      <td>147359.532468</td>\n",
       "    </tr>\n",
       "    <tr>\n",
       "      <th>494</th>\n",
       "      <td>495</td>\n",
       "      <td>30</td>\n",
       "      <td>RM</td>\n",
       "      <td>50.0</td>\n",
       "      <td>5784</td>\n",
       "      <td>Pave</td>\n",
       "      <td>No Alley Access</td>\n",
       "      <td>Reg</td>\n",
       "      <td>Lvl</td>\n",
       "      <td>AllPub</td>\n",
       "      <td>...</td>\n",
       "      <td>162897.237347</td>\n",
       "      <td>176474.559127</td>\n",
       "      <td>184945.859873</td>\n",
       "      <td>150358.977099</td>\n",
       "      <td>171991.713267</td>\n",
       "      <td>118979.967742</td>\n",
       "      <td>125873.550000</td>\n",
       "      <td>139514.384416</td>\n",
       "      <td>177294.675429</td>\n",
       "      <td>160366.077220</td>\n",
       "    </tr>\n",
       "    <tr>\n",
       "      <th>1168</th>\n",
       "      <td>1169</td>\n",
       "      <td>70</td>\n",
       "      <td>RL</td>\n",
       "      <td>120.0</td>\n",
       "      <td>13728</td>\n",
       "      <td>Pave</td>\n",
       "      <td>No Alley Access</td>\n",
       "      <td>Reg</td>\n",
       "      <td>Lvl</td>\n",
       "      <td>AllPub</td>\n",
       "      <td>...</td>\n",
       "      <td>162897.237347</td>\n",
       "      <td>176474.559127</td>\n",
       "      <td>184945.859873</td>\n",
       "      <td>154000.000000</td>\n",
       "      <td>171991.713267</td>\n",
       "      <td>183510.461538</td>\n",
       "      <td>125558.474576</td>\n",
       "      <td>139514.384416</td>\n",
       "      <td>177294.675429</td>\n",
       "      <td>147359.532468</td>\n",
       "    </tr>\n",
       "    <tr>\n",
       "      <th>665</th>\n",
       "      <td>666</td>\n",
       "      <td>60</td>\n",
       "      <td>RL</td>\n",
       "      <td>106.0</td>\n",
       "      <td>11194</td>\n",
       "      <td>Pave</td>\n",
       "      <td>No Alley Access</td>\n",
       "      <td>IR1</td>\n",
       "      <td>Lvl</td>\n",
       "      <td>AllPub</td>\n",
       "      <td>...</td>\n",
       "      <td>200882.727273</td>\n",
       "      <td>176474.559127</td>\n",
       "      <td>184945.859873</td>\n",
       "      <td>207522.464286</td>\n",
       "      <td>171991.713267</td>\n",
       "      <td>183510.461538</td>\n",
       "      <td>193959.043478</td>\n",
       "      <td>201957.974576</td>\n",
       "      <td>177294.675429</td>\n",
       "      <td>160366.077220</td>\n",
       "    </tr>\n",
       "    <tr>\n",
       "      <th>278</th>\n",
       "      <td>279</td>\n",
       "      <td>20</td>\n",
       "      <td>RL</td>\n",
       "      <td>107.0</td>\n",
       "      <td>14450</td>\n",
       "      <td>Pave</td>\n",
       "      <td>No Alley Access</td>\n",
       "      <td>Reg</td>\n",
       "      <td>Lvl</td>\n",
       "      <td>AllPub</td>\n",
       "      <td>...</td>\n",
       "      <td>162897.237347</td>\n",
       "      <td>176474.559127</td>\n",
       "      <td>184945.859873</td>\n",
       "      <td>240769.518519</td>\n",
       "      <td>263357.039474</td>\n",
       "      <td>183510.461538</td>\n",
       "      <td>308062.930233</td>\n",
       "      <td>234660.814286</td>\n",
       "      <td>177294.675429</td>\n",
       "      <td>160366.077220</td>\n",
       "    </tr>\n",
       "    <tr>\n",
       "      <th>198</th>\n",
       "      <td>199</td>\n",
       "      <td>75</td>\n",
       "      <td>RM</td>\n",
       "      <td>92.0</td>\n",
       "      <td>5520</td>\n",
       "      <td>Pave</td>\n",
       "      <td>No Alley Access</td>\n",
       "      <td>Reg</td>\n",
       "      <td>Lvl</td>\n",
       "      <td>AllPub</td>\n",
       "      <td>...</td>\n",
       "      <td>162897.237347</td>\n",
       "      <td>176474.559127</td>\n",
       "      <td>102587.777778</td>\n",
       "      <td>149852.909836</td>\n",
       "      <td>146931.263889</td>\n",
       "      <td>183510.461538</td>\n",
       "      <td>125873.550000</td>\n",
       "      <td>102587.777778</td>\n",
       "      <td>177294.675429</td>\n",
       "      <td>160366.077220</td>\n",
       "    </tr>\n",
       "    <tr>\n",
       "      <th>645</th>\n",
       "      <td>646</td>\n",
       "      <td>20</td>\n",
       "      <td>RL</td>\n",
       "      <td>68.0</td>\n",
       "      <td>10530</td>\n",
       "      <td>Pave</td>\n",
       "      <td>No Alley Access</td>\n",
       "      <td>IR1</td>\n",
       "      <td>Lvl</td>\n",
       "      <td>AllPub</td>\n",
       "      <td>...</td>\n",
       "      <td>200882.727273</td>\n",
       "      <td>176474.559127</td>\n",
       "      <td>184945.859873</td>\n",
       "      <td>176620.391304</td>\n",
       "      <td>171991.713267</td>\n",
       "      <td>183510.461538</td>\n",
       "      <td>145773.936170</td>\n",
       "      <td>139514.384416</td>\n",
       "      <td>177294.675429</td>\n",
       "      <td>160814.122137</td>\n",
       "    </tr>\n",
       "    <tr>\n",
       "      <th>713</th>\n",
       "      <td>714</td>\n",
       "      <td>190</td>\n",
       "      <td>RL</td>\n",
       "      <td>60.0</td>\n",
       "      <td>9873</td>\n",
       "      <td>Pave</td>\n",
       "      <td>No Alley Access</td>\n",
       "      <td>Reg</td>\n",
       "      <td>Lvl</td>\n",
       "      <td>AllPub</td>\n",
       "      <td>...</td>\n",
       "      <td>162897.237347</td>\n",
       "      <td>176474.559127</td>\n",
       "      <td>184945.859873</td>\n",
       "      <td>158618.902256</td>\n",
       "      <td>171991.713267</td>\n",
       "      <td>183510.461538</td>\n",
       "      <td>120854.861111</td>\n",
       "      <td>139514.384416</td>\n",
       "      <td>177294.675429</td>\n",
       "      <td>160814.122137</td>\n",
       "    </tr>\n",
       "    <tr>\n",
       "      <th>187</th>\n",
       "      <td>188</td>\n",
       "      <td>50</td>\n",
       "      <td>RL</td>\n",
       "      <td>60.0</td>\n",
       "      <td>10410</td>\n",
       "      <td>Pave</td>\n",
       "      <td>No Alley Access</td>\n",
       "      <td>Reg</td>\n",
       "      <td>Lvl</td>\n",
       "      <td>AllPub</td>\n",
       "      <td>...</td>\n",
       "      <td>162897.237347</td>\n",
       "      <td>176474.559127</td>\n",
       "      <td>110528.741935</td>\n",
       "      <td>158618.902256</td>\n",
       "      <td>171991.713267</td>\n",
       "      <td>183510.461538</td>\n",
       "      <td>125873.550000</td>\n",
       "      <td>139514.384416</td>\n",
       "      <td>177294.675429</td>\n",
       "      <td>160366.077220</td>\n",
       "    </tr>\n",
       "    <tr>\n",
       "      <th>941</th>\n",
       "      <td>942</td>\n",
       "      <td>60</td>\n",
       "      <td>RL</td>\n",
       "      <td>68.0</td>\n",
       "      <td>8755</td>\n",
       "      <td>Pave</td>\n",
       "      <td>No Alley Access</td>\n",
       "      <td>IR1</td>\n",
       "      <td>Lvl</td>\n",
       "      <td>AllPub</td>\n",
       "      <td>...</td>\n",
       "      <td>200882.727273</td>\n",
       "      <td>176474.559127</td>\n",
       "      <td>184945.859873</td>\n",
       "      <td>207522.464286</td>\n",
       "      <td>171991.713267</td>\n",
       "      <td>183510.461538</td>\n",
       "      <td>193959.043478</td>\n",
       "      <td>201957.974576</td>\n",
       "      <td>177294.675429</td>\n",
       "      <td>160814.122137</td>\n",
       "    </tr>\n",
       "    <tr>\n",
       "      <th>1171</th>\n",
       "      <td>1172</td>\n",
       "      <td>20</td>\n",
       "      <td>RL</td>\n",
       "      <td>76.0</td>\n",
       "      <td>9120</td>\n",
       "      <td>Pave</td>\n",
       "      <td>No Alley Access</td>\n",
       "      <td>Reg</td>\n",
       "      <td>Lvl</td>\n",
       "      <td>AllPub</td>\n",
       "      <td>...</td>\n",
       "      <td>162897.237347</td>\n",
       "      <td>176474.559127</td>\n",
       "      <td>184945.859873</td>\n",
       "      <td>150358.977099</td>\n",
       "      <td>171991.713267</td>\n",
       "      <td>183510.461538</td>\n",
       "      <td>145773.936170</td>\n",
       "      <td>201957.974576</td>\n",
       "      <td>177294.675429</td>\n",
       "      <td>160814.122137</td>\n",
       "    </tr>\n",
       "    <tr>\n",
       "      <th>598</th>\n",
       "      <td>599</td>\n",
       "      <td>20</td>\n",
       "      <td>RL</td>\n",
       "      <td>80.0</td>\n",
       "      <td>12984</td>\n",
       "      <td>Pave</td>\n",
       "      <td>No Alley Access</td>\n",
       "      <td>Reg</td>\n",
       "      <td>Bnk</td>\n",
       "      <td>AllPub</td>\n",
       "      <td>...</td>\n",
       "      <td>162897.237347</td>\n",
       "      <td>176474.559127</td>\n",
       "      <td>184945.859873</td>\n",
       "      <td>176620.391304</td>\n",
       "      <td>171991.713267</td>\n",
       "      <td>183510.461538</td>\n",
       "      <td>203461.480000</td>\n",
       "      <td>234660.814286</td>\n",
       "      <td>177294.675429</td>\n",
       "      <td>160814.122137</td>\n",
       "    </tr>\n",
       "    <tr>\n",
       "      <th>748</th>\n",
       "      <td>749</td>\n",
       "      <td>20</td>\n",
       "      <td>RL</td>\n",
       "      <td>59.0</td>\n",
       "      <td>10593</td>\n",
       "      <td>Pave</td>\n",
       "      <td>No Alley Access</td>\n",
       "      <td>IR1</td>\n",
       "      <td>Lvl</td>\n",
       "      <td>AllPub</td>\n",
       "      <td>...</td>\n",
       "      <td>200882.727273</td>\n",
       "      <td>176474.559127</td>\n",
       "      <td>184945.859873</td>\n",
       "      <td>207522.464286</td>\n",
       "      <td>171991.713267</td>\n",
       "      <td>183510.461538</td>\n",
       "      <td>322322.689655</td>\n",
       "      <td>234660.814286</td>\n",
       "      <td>177294.675429</td>\n",
       "      <td>234410.458167</td>\n",
       "    </tr>\n",
       "    <tr>\n",
       "      <th>865</th>\n",
       "      <td>866</td>\n",
       "      <td>20</td>\n",
       "      <td>RL</td>\n",
       "      <td>68.0</td>\n",
       "      <td>8750</td>\n",
       "      <td>Pave</td>\n",
       "      <td>No Alley Access</td>\n",
       "      <td>IR1</td>\n",
       "      <td>Lvl</td>\n",
       "      <td>AllPub</td>\n",
       "      <td>...</td>\n",
       "      <td>200882.727273</td>\n",
       "      <td>176474.559127</td>\n",
       "      <td>184945.859873</td>\n",
       "      <td>150358.977099</td>\n",
       "      <td>171991.713267</td>\n",
       "      <td>183510.461538</td>\n",
       "      <td>145773.936170</td>\n",
       "      <td>139514.384416</td>\n",
       "      <td>177294.675429</td>\n",
       "      <td>148553.967033</td>\n",
       "    </tr>\n",
       "    <tr>\n",
       "      <th>1287</th>\n",
       "      <td>1288</td>\n",
       "      <td>20</td>\n",
       "      <td>RL</td>\n",
       "      <td>68.0</td>\n",
       "      <td>36500</td>\n",
       "      <td>Pave</td>\n",
       "      <td>No Alley Access</td>\n",
       "      <td>IR1</td>\n",
       "      <td>Low</td>\n",
       "      <td>AllPub</td>\n",
       "      <td>...</td>\n",
       "      <td>200882.727273</td>\n",
       "      <td>176474.559127</td>\n",
       "      <td>184945.859873</td>\n",
       "      <td>149852.909836</td>\n",
       "      <td>171991.713267</td>\n",
       "      <td>183510.461538</td>\n",
       "      <td>217106.000000</td>\n",
       "      <td>139514.384416</td>\n",
       "      <td>177294.675429</td>\n",
       "      <td>147359.532468</td>\n",
       "    </tr>\n",
       "    <tr>\n",
       "      <th>1158</th>\n",
       "      <td>1159</td>\n",
       "      <td>20</td>\n",
       "      <td>RL</td>\n",
       "      <td>92.0</td>\n",
       "      <td>11932</td>\n",
       "      <td>Pave</td>\n",
       "      <td>No Alley Access</td>\n",
       "      <td>Reg</td>\n",
       "      <td>Lvl</td>\n",
       "      <td>AllPub</td>\n",
       "      <td>...</td>\n",
       "      <td>162897.237347</td>\n",
       "      <td>176474.559127</td>\n",
       "      <td>184945.859873</td>\n",
       "      <td>207522.464286</td>\n",
       "      <td>263357.039474</td>\n",
       "      <td>183510.461538</td>\n",
       "      <td>219119.234043</td>\n",
       "      <td>201957.974576</td>\n",
       "      <td>177294.675429</td>\n",
       "      <td>160366.077220</td>\n",
       "    </tr>\n",
       "    <tr>\n",
       "      <th>1192</th>\n",
       "      <td>1193</td>\n",
       "      <td>50</td>\n",
       "      <td>RM</td>\n",
       "      <td>60.0</td>\n",
       "      <td>9600</td>\n",
       "      <td>Pave</td>\n",
       "      <td>Grvl</td>\n",
       "      <td>Reg</td>\n",
       "      <td>Lvl</td>\n",
       "      <td>AllPub</td>\n",
       "      <td>...</td>\n",
       "      <td>162897.237347</td>\n",
       "      <td>176474.559127</td>\n",
       "      <td>110528.741935</td>\n",
       "      <td>207522.464286</td>\n",
       "      <td>171991.713267</td>\n",
       "      <td>183510.461538</td>\n",
       "      <td>125873.550000</td>\n",
       "      <td>139514.384416</td>\n",
       "      <td>177294.675429</td>\n",
       "      <td>160366.077220</td>\n",
       "    </tr>\n",
       "    <tr>\n",
       "      <th>872</th>\n",
       "      <td>873</td>\n",
       "      <td>20</td>\n",
       "      <td>RL</td>\n",
       "      <td>74.0</td>\n",
       "      <td>8892</td>\n",
       "      <td>Pave</td>\n",
       "      <td>No Alley Access</td>\n",
       "      <td>Reg</td>\n",
       "      <td>Lvl</td>\n",
       "      <td>AllPub</td>\n",
       "      <td>...</td>\n",
       "      <td>162897.237347</td>\n",
       "      <td>176474.559127</td>\n",
       "      <td>184945.859873</td>\n",
       "      <td>151598.875000</td>\n",
       "      <td>171991.713267</td>\n",
       "      <td>183510.461538</td>\n",
       "      <td>145773.936170</td>\n",
       "      <td>139514.384416</td>\n",
       "      <td>177294.675429</td>\n",
       "      <td>160366.077220</td>\n",
       "    </tr>\n",
       "    <tr>\n",
       "      <th>1011</th>\n",
       "      <td>1012</td>\n",
       "      <td>90</td>\n",
       "      <td>RL</td>\n",
       "      <td>75.0</td>\n",
       "      <td>9825</td>\n",
       "      <td>Pave</td>\n",
       "      <td>No Alley Access</td>\n",
       "      <td>Reg</td>\n",
       "      <td>Lvl</td>\n",
       "      <td>AllPub</td>\n",
       "      <td>...</td>\n",
       "      <td>162897.237347</td>\n",
       "      <td>176474.559127</td>\n",
       "      <td>102587.777778</td>\n",
       "      <td>100000.000000</td>\n",
       "      <td>171991.713267</td>\n",
       "      <td>183510.461538</td>\n",
       "      <td>125558.474576</td>\n",
       "      <td>102587.777778</td>\n",
       "      <td>177294.675429</td>\n",
       "      <td>106708.625000</td>\n",
       "    </tr>\n",
       "    <tr>\n",
       "      <th>392</th>\n",
       "      <td>393</td>\n",
       "      <td>20</td>\n",
       "      <td>RL</td>\n",
       "      <td>68.0</td>\n",
       "      <td>8339</td>\n",
       "      <td>Pave</td>\n",
       "      <td>No Alley Access</td>\n",
       "      <td>IR1</td>\n",
       "      <td>Lvl</td>\n",
       "      <td>AllPub</td>\n",
       "      <td>...</td>\n",
       "      <td>200882.727273</td>\n",
       "      <td>176474.559127</td>\n",
       "      <td>184945.859873</td>\n",
       "      <td>150358.977099</td>\n",
       "      <td>171991.713267</td>\n",
       "      <td>183510.461538</td>\n",
       "      <td>145773.936170</td>\n",
       "      <td>201957.974576</td>\n",
       "      <td>177294.675429</td>\n",
       "      <td>106708.625000</td>\n",
       "    </tr>\n",
       "    <tr>\n",
       "      <th>...</th>\n",
       "      <td>...</td>\n",
       "      <td>...</td>\n",
       "      <td>...</td>\n",
       "      <td>...</td>\n",
       "      <td>...</td>\n",
       "      <td>...</td>\n",
       "      <td>...</td>\n",
       "      <td>...</td>\n",
       "      <td>...</td>\n",
       "      <td>...</td>\n",
       "      <td>...</td>\n",
       "      <td>...</td>\n",
       "      <td>...</td>\n",
       "      <td>...</td>\n",
       "      <td>...</td>\n",
       "      <td>...</td>\n",
       "      <td>...</td>\n",
       "      <td>...</td>\n",
       "      <td>...</td>\n",
       "      <td>...</td>\n",
       "      <td>...</td>\n",
       "    </tr>\n",
       "    <tr>\n",
       "      <th>576</th>\n",
       "      <td>577</td>\n",
       "      <td>50</td>\n",
       "      <td>RL</td>\n",
       "      <td>52.0</td>\n",
       "      <td>6292</td>\n",
       "      <td>Pave</td>\n",
       "      <td>No Alley Access</td>\n",
       "      <td>Reg</td>\n",
       "      <td>Lvl</td>\n",
       "      <td>AllPub</td>\n",
       "      <td>...</td>\n",
       "      <td>162897.237347</td>\n",
       "      <td>176474.559127</td>\n",
       "      <td>184945.859873</td>\n",
       "      <td>149852.909836</td>\n",
       "      <td>171991.713267</td>\n",
       "      <td>183510.461538</td>\n",
       "      <td>140187.230769</td>\n",
       "      <td>139514.384416</td>\n",
       "      <td>177294.675429</td>\n",
       "      <td>160366.077220</td>\n",
       "    </tr>\n",
       "    <tr>\n",
       "      <th>1030</th>\n",
       "      <td>1031</td>\n",
       "      <td>190</td>\n",
       "      <td>RH</td>\n",
       "      <td>68.0</td>\n",
       "      <td>7082</td>\n",
       "      <td>Pave</td>\n",
       "      <td>No Alley Access</td>\n",
       "      <td>Reg</td>\n",
       "      <td>Lvl</td>\n",
       "      <td>AllPub</td>\n",
       "      <td>...</td>\n",
       "      <td>162897.237347</td>\n",
       "      <td>176474.559127</td>\n",
       "      <td>102587.777778</td>\n",
       "      <td>207522.464286</td>\n",
       "      <td>171991.713267</td>\n",
       "      <td>183510.461538</td>\n",
       "      <td>140187.230769</td>\n",
       "      <td>102587.777778</td>\n",
       "      <td>177294.675429</td>\n",
       "      <td>160366.077220</td>\n",
       "    </tr>\n",
       "    <tr>\n",
       "      <th>823</th>\n",
       "      <td>824</td>\n",
       "      <td>50</td>\n",
       "      <td>RL</td>\n",
       "      <td>60.0</td>\n",
       "      <td>9900</td>\n",
       "      <td>Pave</td>\n",
       "      <td>No Alley Access</td>\n",
       "      <td>Reg</td>\n",
       "      <td>Lvl</td>\n",
       "      <td>AllPub</td>\n",
       "      <td>...</td>\n",
       "      <td>162897.237347</td>\n",
       "      <td>176474.559127</td>\n",
       "      <td>184945.859873</td>\n",
       "      <td>207522.464286</td>\n",
       "      <td>171991.713267</td>\n",
       "      <td>183510.461538</td>\n",
       "      <td>140187.230769</td>\n",
       "      <td>139514.384416</td>\n",
       "      <td>177294.675429</td>\n",
       "      <td>160366.077220</td>\n",
       "    </tr>\n",
       "    <tr>\n",
       "      <th>1235</th>\n",
       "      <td>1236</td>\n",
       "      <td>70</td>\n",
       "      <td>RL</td>\n",
       "      <td>96.0</td>\n",
       "      <td>13132</td>\n",
       "      <td>Pave</td>\n",
       "      <td>No Alley Access</td>\n",
       "      <td>Reg</td>\n",
       "      <td>Lvl</td>\n",
       "      <td>AllPub</td>\n",
       "      <td>...</td>\n",
       "      <td>162897.237347</td>\n",
       "      <td>176474.559127</td>\n",
       "      <td>110528.741935</td>\n",
       "      <td>149852.909836</td>\n",
       "      <td>171991.713267</td>\n",
       "      <td>115765.944444</td>\n",
       "      <td>203461.480000</td>\n",
       "      <td>139514.384416</td>\n",
       "      <td>177294.675429</td>\n",
       "      <td>160366.077220</td>\n",
       "    </tr>\n",
       "    <tr>\n",
       "      <th>822</th>\n",
       "      <td>823</td>\n",
       "      <td>60</td>\n",
       "      <td>RL</td>\n",
       "      <td>68.0</td>\n",
       "      <td>12394</td>\n",
       "      <td>Pave</td>\n",
       "      <td>No Alley Access</td>\n",
       "      <td>IR1</td>\n",
       "      <td>Lvl</td>\n",
       "      <td>AllPub</td>\n",
       "      <td>...</td>\n",
       "      <td>200882.727273</td>\n",
       "      <td>176474.559127</td>\n",
       "      <td>184945.859873</td>\n",
       "      <td>207522.464286</td>\n",
       "      <td>159687.500000</td>\n",
       "      <td>183510.461538</td>\n",
       "      <td>193959.043478</td>\n",
       "      <td>234660.814286</td>\n",
       "      <td>177294.675429</td>\n",
       "      <td>160366.077220</td>\n",
       "    </tr>\n",
       "    <tr>\n",
       "      <th>578</th>\n",
       "      <td>579</td>\n",
       "      <td>160</td>\n",
       "      <td>FV</td>\n",
       "      <td>34.0</td>\n",
       "      <td>3604</td>\n",
       "      <td>Pave</td>\n",
       "      <td>Pave</td>\n",
       "      <td>Reg</td>\n",
       "      <td>Lvl</td>\n",
       "      <td>AllPub</td>\n",
       "      <td>...</td>\n",
       "      <td>162897.237347</td>\n",
       "      <td>176474.559127</td>\n",
       "      <td>184945.859873</td>\n",
       "      <td>207522.464286</td>\n",
       "      <td>146931.263889</td>\n",
       "      <td>183510.461538</td>\n",
       "      <td>219119.234043</td>\n",
       "      <td>139514.384416</td>\n",
       "      <td>177294.675429</td>\n",
       "      <td>160366.077220</td>\n",
       "    </tr>\n",
       "    <tr>\n",
       "      <th>279</th>\n",
       "      <td>280</td>\n",
       "      <td>60</td>\n",
       "      <td>RL</td>\n",
       "      <td>83.0</td>\n",
       "      <td>10005</td>\n",
       "      <td>Pave</td>\n",
       "      <td>No Alley Access</td>\n",
       "      <td>Reg</td>\n",
       "      <td>Lvl</td>\n",
       "      <td>AllPub</td>\n",
       "      <td>...</td>\n",
       "      <td>162897.237347</td>\n",
       "      <td>176474.559127</td>\n",
       "      <td>184945.859873</td>\n",
       "      <td>176620.391304</td>\n",
       "      <td>171991.713267</td>\n",
       "      <td>183510.461538</td>\n",
       "      <td>217106.000000</td>\n",
       "      <td>234660.814286</td>\n",
       "      <td>177294.675429</td>\n",
       "      <td>148553.967033</td>\n",
       "    </tr>\n",
       "    <tr>\n",
       "      <th>234</th>\n",
       "      <td>235</td>\n",
       "      <td>60</td>\n",
       "      <td>RL</td>\n",
       "      <td>68.0</td>\n",
       "      <td>7851</td>\n",
       "      <td>Pave</td>\n",
       "      <td>No Alley Access</td>\n",
       "      <td>Reg</td>\n",
       "      <td>Lvl</td>\n",
       "      <td>AllPub</td>\n",
       "      <td>...</td>\n",
       "      <td>162897.237347</td>\n",
       "      <td>176474.559127</td>\n",
       "      <td>184945.859873</td>\n",
       "      <td>207522.464286</td>\n",
       "      <td>171991.713267</td>\n",
       "      <td>183510.461538</td>\n",
       "      <td>193959.043478</td>\n",
       "      <td>234660.814286</td>\n",
       "      <td>177294.675429</td>\n",
       "      <td>234410.458167</td>\n",
       "    </tr>\n",
       "    <tr>\n",
       "      <th>154</th>\n",
       "      <td>155</td>\n",
       "      <td>30</td>\n",
       "      <td>RM</td>\n",
       "      <td>84.0</td>\n",
       "      <td>11340</td>\n",
       "      <td>Pave</td>\n",
       "      <td>No Alley Access</td>\n",
       "      <td>Reg</td>\n",
       "      <td>Lvl</td>\n",
       "      <td>AllPub</td>\n",
       "      <td>...</td>\n",
       "      <td>162897.237347</td>\n",
       "      <td>176474.559127</td>\n",
       "      <td>110528.741935</td>\n",
       "      <td>149852.909836</td>\n",
       "      <td>159687.500000</td>\n",
       "      <td>118979.967742</td>\n",
       "      <td>125873.550000</td>\n",
       "      <td>139514.384416</td>\n",
       "      <td>177294.675429</td>\n",
       "      <td>160366.077220</td>\n",
       "    </tr>\n",
       "    <tr>\n",
       "      <th>1165</th>\n",
       "      <td>1166</td>\n",
       "      <td>20</td>\n",
       "      <td>RL</td>\n",
       "      <td>79.0</td>\n",
       "      <td>9541</td>\n",
       "      <td>Pave</td>\n",
       "      <td>No Alley Access</td>\n",
       "      <td>IR1</td>\n",
       "      <td>Lvl</td>\n",
       "      <td>AllPub</td>\n",
       "      <td>...</td>\n",
       "      <td>200882.727273</td>\n",
       "      <td>176474.559127</td>\n",
       "      <td>184945.859873</td>\n",
       "      <td>207522.464286</td>\n",
       "      <td>263357.039474</td>\n",
       "      <td>183510.461538</td>\n",
       "      <td>308062.930233</td>\n",
       "      <td>201957.974576</td>\n",
       "      <td>177294.675429</td>\n",
       "      <td>160366.077220</td>\n",
       "    </tr>\n",
       "    <tr>\n",
       "      <th>1386</th>\n",
       "      <td>1387</td>\n",
       "      <td>60</td>\n",
       "      <td>RL</td>\n",
       "      <td>80.0</td>\n",
       "      <td>16692</td>\n",
       "      <td>Pave</td>\n",
       "      <td>No Alley Access</td>\n",
       "      <td>IR1</td>\n",
       "      <td>Lvl</td>\n",
       "      <td>AllPub</td>\n",
       "      <td>...</td>\n",
       "      <td>200882.727273</td>\n",
       "      <td>250000.000000</td>\n",
       "      <td>184945.859873</td>\n",
       "      <td>176620.391304</td>\n",
       "      <td>171991.713267</td>\n",
       "      <td>183510.461538</td>\n",
       "      <td>192245.357143</td>\n",
       "      <td>201957.974576</td>\n",
       "      <td>177294.675429</td>\n",
       "      <td>148553.967033</td>\n",
       "    </tr>\n",
       "    <tr>\n",
       "      <th>836</th>\n",
       "      <td>837</td>\n",
       "      <td>30</td>\n",
       "      <td>RM</td>\n",
       "      <td>90.0</td>\n",
       "      <td>8100</td>\n",
       "      <td>Pave</td>\n",
       "      <td>Pave</td>\n",
       "      <td>Reg</td>\n",
       "      <td>Lvl</td>\n",
       "      <td>AllPub</td>\n",
       "      <td>...</td>\n",
       "      <td>162897.237347</td>\n",
       "      <td>176474.559127</td>\n",
       "      <td>184945.859873</td>\n",
       "      <td>207522.464286</td>\n",
       "      <td>171991.713267</td>\n",
       "      <td>183510.461538</td>\n",
       "      <td>125873.550000</td>\n",
       "      <td>139514.384416</td>\n",
       "      <td>177294.675429</td>\n",
       "      <td>147359.532468</td>\n",
       "    </tr>\n",
       "    <tr>\n",
       "      <th>867</th>\n",
       "      <td>868</td>\n",
       "      <td>20</td>\n",
       "      <td>RL</td>\n",
       "      <td>85.0</td>\n",
       "      <td>6970</td>\n",
       "      <td>Pave</td>\n",
       "      <td>No Alley Access</td>\n",
       "      <td>Reg</td>\n",
       "      <td>Lvl</td>\n",
       "      <td>AllPub</td>\n",
       "      <td>...</td>\n",
       "      <td>162897.237347</td>\n",
       "      <td>176474.559127</td>\n",
       "      <td>184945.859873</td>\n",
       "      <td>207522.464286</td>\n",
       "      <td>171991.713267</td>\n",
       "      <td>183510.461538</td>\n",
       "      <td>140822.632653</td>\n",
       "      <td>201957.974576</td>\n",
       "      <td>177294.675429</td>\n",
       "      <td>160814.122137</td>\n",
       "    </tr>\n",
       "    <tr>\n",
       "      <th>345</th>\n",
       "      <td>346</td>\n",
       "      <td>50</td>\n",
       "      <td>RL</td>\n",
       "      <td>65.0</td>\n",
       "      <td>6435</td>\n",
       "      <td>Pave</td>\n",
       "      <td>No Alley Access</td>\n",
       "      <td>Reg</td>\n",
       "      <td>Lvl</td>\n",
       "      <td>AllPub</td>\n",
       "      <td>...</td>\n",
       "      <td>162897.237347</td>\n",
       "      <td>176474.559127</td>\n",
       "      <td>184945.859873</td>\n",
       "      <td>150358.977099</td>\n",
       "      <td>171991.713267</td>\n",
       "      <td>183510.461538</td>\n",
       "      <td>120854.861111</td>\n",
       "      <td>139514.384416</td>\n",
       "      <td>177294.675429</td>\n",
       "      <td>160366.077220</td>\n",
       "    </tr>\n",
       "    <tr>\n",
       "      <th>1000</th>\n",
       "      <td>1001</td>\n",
       "      <td>20</td>\n",
       "      <td>RL</td>\n",
       "      <td>74.0</td>\n",
       "      <td>10206</td>\n",
       "      <td>Pave</td>\n",
       "      <td>No Alley Access</td>\n",
       "      <td>Reg</td>\n",
       "      <td>Lvl</td>\n",
       "      <td>AllPub</td>\n",
       "      <td>...</td>\n",
       "      <td>162897.237347</td>\n",
       "      <td>176474.559127</td>\n",
       "      <td>110528.741935</td>\n",
       "      <td>82000.000000</td>\n",
       "      <td>171991.713267</td>\n",
       "      <td>115765.944444</td>\n",
       "      <td>125558.474576</td>\n",
       "      <td>139514.384416</td>\n",
       "      <td>177294.675429</td>\n",
       "      <td>106708.625000</td>\n",
       "    </tr>\n",
       "    <tr>\n",
       "      <th>753</th>\n",
       "      <td>754</td>\n",
       "      <td>60</td>\n",
       "      <td>RL</td>\n",
       "      <td>80.0</td>\n",
       "      <td>10240</td>\n",
       "      <td>Pave</td>\n",
       "      <td>No Alley Access</td>\n",
       "      <td>Reg</td>\n",
       "      <td>Lvl</td>\n",
       "      <td>AllPub</td>\n",
       "      <td>...</td>\n",
       "      <td>162897.237347</td>\n",
       "      <td>176474.559127</td>\n",
       "      <td>184945.859873</td>\n",
       "      <td>207522.464286</td>\n",
       "      <td>171991.713267</td>\n",
       "      <td>183510.461538</td>\n",
       "      <td>308062.930233</td>\n",
       "      <td>201957.974576</td>\n",
       "      <td>177294.675429</td>\n",
       "      <td>160366.077220</td>\n",
       "    </tr>\n",
       "    <tr>\n",
       "      <th>80</th>\n",
       "      <td>81</td>\n",
       "      <td>60</td>\n",
       "      <td>RL</td>\n",
       "      <td>100.0</td>\n",
       "      <td>13000</td>\n",
       "      <td>Pave</td>\n",
       "      <td>No Alley Access</td>\n",
       "      <td>Reg</td>\n",
       "      <td>Lvl</td>\n",
       "      <td>AllPub</td>\n",
       "      <td>...</td>\n",
       "      <td>162897.237347</td>\n",
       "      <td>176474.559127</td>\n",
       "      <td>184945.859873</td>\n",
       "      <td>207522.464286</td>\n",
       "      <td>171991.713267</td>\n",
       "      <td>183510.461538</td>\n",
       "      <td>145773.936170</td>\n",
       "      <td>234660.814286</td>\n",
       "      <td>177294.675429</td>\n",
       "      <td>147359.532468</td>\n",
       "    </tr>\n",
       "    <tr>\n",
       "      <th>975</th>\n",
       "      <td>976</td>\n",
       "      <td>160</td>\n",
       "      <td>FV</td>\n",
       "      <td>68.0</td>\n",
       "      <td>2651</td>\n",
       "      <td>Pave</td>\n",
       "      <td>No Alley Access</td>\n",
       "      <td>Reg</td>\n",
       "      <td>Lvl</td>\n",
       "      <td>AllPub</td>\n",
       "      <td>...</td>\n",
       "      <td>162897.237347</td>\n",
       "      <td>176474.559127</td>\n",
       "      <td>184945.859873</td>\n",
       "      <td>150358.977099</td>\n",
       "      <td>171991.713267</td>\n",
       "      <td>183510.461538</td>\n",
       "      <td>219119.234043</td>\n",
       "      <td>139514.384416</td>\n",
       "      <td>177294.675429</td>\n",
       "      <td>234410.458167</td>\n",
       "    </tr>\n",
       "    <tr>\n",
       "      <th>404</th>\n",
       "      <td>405</td>\n",
       "      <td>60</td>\n",
       "      <td>RL</td>\n",
       "      <td>68.0</td>\n",
       "      <td>10364</td>\n",
       "      <td>Pave</td>\n",
       "      <td>No Alley Access</td>\n",
       "      <td>IR1</td>\n",
       "      <td>Lvl</td>\n",
       "      <td>AllPub</td>\n",
       "      <td>...</td>\n",
       "      <td>200882.727273</td>\n",
       "      <td>176474.559127</td>\n",
       "      <td>184945.859873</td>\n",
       "      <td>150358.977099</td>\n",
       "      <td>171991.713267</td>\n",
       "      <td>183510.461538</td>\n",
       "      <td>193959.043478</td>\n",
       "      <td>234660.814286</td>\n",
       "      <td>177294.675429</td>\n",
       "      <td>160366.077220</td>\n",
       "    </tr>\n",
       "    <tr>\n",
       "      <th>466</th>\n",
       "      <td>467</td>\n",
       "      <td>20</td>\n",
       "      <td>RL</td>\n",
       "      <td>85.0</td>\n",
       "      <td>10628</td>\n",
       "      <td>Pave</td>\n",
       "      <td>No Alley Access</td>\n",
       "      <td>Reg</td>\n",
       "      <td>Lvl</td>\n",
       "      <td>AllPub</td>\n",
       "      <td>...</td>\n",
       "      <td>162897.237347</td>\n",
       "      <td>176474.559127</td>\n",
       "      <td>184945.859873</td>\n",
       "      <td>176620.391304</td>\n",
       "      <td>171991.713267</td>\n",
       "      <td>183510.461538</td>\n",
       "      <td>145773.936170</td>\n",
       "      <td>139514.384416</td>\n",
       "      <td>177294.675429</td>\n",
       "      <td>234410.458167</td>\n",
       "    </tr>\n",
       "    <tr>\n",
       "      <th>362</th>\n",
       "      <td>363</td>\n",
       "      <td>85</td>\n",
       "      <td>RL</td>\n",
       "      <td>64.0</td>\n",
       "      <td>7301</td>\n",
       "      <td>Pave</td>\n",
       "      <td>No Alley Access</td>\n",
       "      <td>Reg</td>\n",
       "      <td>Lvl</td>\n",
       "      <td>AllPub</td>\n",
       "      <td>...</td>\n",
       "      <td>162897.237347</td>\n",
       "      <td>176474.559127</td>\n",
       "      <td>184945.859873</td>\n",
       "      <td>158618.902256</td>\n",
       "      <td>171991.713267</td>\n",
       "      <td>183510.461538</td>\n",
       "      <td>125558.474576</td>\n",
       "      <td>201957.974576</td>\n",
       "      <td>177294.675429</td>\n",
       "      <td>106708.625000</td>\n",
       "    </tr>\n",
       "    <tr>\n",
       "      <th>331</th>\n",
       "      <td>332</td>\n",
       "      <td>20</td>\n",
       "      <td>RL</td>\n",
       "      <td>70.0</td>\n",
       "      <td>8176</td>\n",
       "      <td>Pave</td>\n",
       "      <td>No Alley Access</td>\n",
       "      <td>Reg</td>\n",
       "      <td>Lvl</td>\n",
       "      <td>AllPub</td>\n",
       "      <td>...</td>\n",
       "      <td>162897.237347</td>\n",
       "      <td>176474.559127</td>\n",
       "      <td>184945.859873</td>\n",
       "      <td>149852.909836</td>\n",
       "      <td>171991.713267</td>\n",
       "      <td>183510.461538</td>\n",
       "      <td>145773.936170</td>\n",
       "      <td>201957.974576</td>\n",
       "      <td>177294.675429</td>\n",
       "      <td>147359.532468</td>\n",
       "    </tr>\n",
       "    <tr>\n",
       "      <th>786</th>\n",
       "      <td>787</td>\n",
       "      <td>50</td>\n",
       "      <td>RM</td>\n",
       "      <td>60.0</td>\n",
       "      <td>10800</td>\n",
       "      <td>Pave</td>\n",
       "      <td>No Alley Access</td>\n",
       "      <td>Reg</td>\n",
       "      <td>Lvl</td>\n",
       "      <td>AllPub</td>\n",
       "      <td>...</td>\n",
       "      <td>162897.237347</td>\n",
       "      <td>176474.559127</td>\n",
       "      <td>184945.859873</td>\n",
       "      <td>150358.977099</td>\n",
       "      <td>171991.713267</td>\n",
       "      <td>183510.461538</td>\n",
       "      <td>125873.550000</td>\n",
       "      <td>139514.384416</td>\n",
       "      <td>177294.675429</td>\n",
       "      <td>148970.930233</td>\n",
       "    </tr>\n",
       "    <tr>\n",
       "      <th>1255</th>\n",
       "      <td>1256</td>\n",
       "      <td>50</td>\n",
       "      <td>RM</td>\n",
       "      <td>52.0</td>\n",
       "      <td>6240</td>\n",
       "      <td>Pave</td>\n",
       "      <td>No Alley Access</td>\n",
       "      <td>Reg</td>\n",
       "      <td>Lvl</td>\n",
       "      <td>AllPub</td>\n",
       "      <td>...</td>\n",
       "      <td>162897.237347</td>\n",
       "      <td>176474.559127</td>\n",
       "      <td>184945.859873</td>\n",
       "      <td>149852.909836</td>\n",
       "      <td>171991.713267</td>\n",
       "      <td>118979.967742</td>\n",
       "      <td>120854.861111</td>\n",
       "      <td>139514.384416</td>\n",
       "      <td>177294.675429</td>\n",
       "      <td>148970.930233</td>\n",
       "    </tr>\n",
       "    <tr>\n",
       "      <th>1170</th>\n",
       "      <td>1171</td>\n",
       "      <td>80</td>\n",
       "      <td>RL</td>\n",
       "      <td>76.0</td>\n",
       "      <td>9880</td>\n",
       "      <td>Pave</td>\n",
       "      <td>No Alley Access</td>\n",
       "      <td>Reg</td>\n",
       "      <td>Lvl</td>\n",
       "      <td>AllPub</td>\n",
       "      <td>...</td>\n",
       "      <td>162897.237347</td>\n",
       "      <td>165500.000000</td>\n",
       "      <td>184945.859873</td>\n",
       "      <td>176620.391304</td>\n",
       "      <td>171991.713267</td>\n",
       "      <td>183510.461538</td>\n",
       "      <td>157443.939394</td>\n",
       "      <td>234660.814286</td>\n",
       "      <td>177294.675429</td>\n",
       "      <td>160814.122137</td>\n",
       "    </tr>\n",
       "    <tr>\n",
       "      <th>1254</th>\n",
       "      <td>1255</td>\n",
       "      <td>60</td>\n",
       "      <td>RL</td>\n",
       "      <td>60.0</td>\n",
       "      <td>6931</td>\n",
       "      <td>Pave</td>\n",
       "      <td>No Alley Access</td>\n",
       "      <td>Reg</td>\n",
       "      <td>Lvl</td>\n",
       "      <td>AllPub</td>\n",
       "      <td>...</td>\n",
       "      <td>162897.237347</td>\n",
       "      <td>176474.559127</td>\n",
       "      <td>184945.859873</td>\n",
       "      <td>207522.464286</td>\n",
       "      <td>171991.713267</td>\n",
       "      <td>183510.461538</td>\n",
       "      <td>125558.474576</td>\n",
       "      <td>234660.814286</td>\n",
       "      <td>177294.675429</td>\n",
       "      <td>160366.077220</td>\n",
       "    </tr>\n",
       "    <tr>\n",
       "      <th>386</th>\n",
       "      <td>387</td>\n",
       "      <td>50</td>\n",
       "      <td>RL</td>\n",
       "      <td>58.0</td>\n",
       "      <td>8410</td>\n",
       "      <td>Pave</td>\n",
       "      <td>No Alley Access</td>\n",
       "      <td>Reg</td>\n",
       "      <td>Lvl</td>\n",
       "      <td>AllPub</td>\n",
       "      <td>...</td>\n",
       "      <td>162897.237347</td>\n",
       "      <td>176474.559127</td>\n",
       "      <td>102587.777778</td>\n",
       "      <td>149852.909836</td>\n",
       "      <td>96833.333333</td>\n",
       "      <td>183510.461538</td>\n",
       "      <td>125558.474576</td>\n",
       "      <td>102587.777778</td>\n",
       "      <td>177294.675429</td>\n",
       "      <td>160366.077220</td>\n",
       "    </tr>\n",
       "    <tr>\n",
       "      <th>274</th>\n",
       "      <td>275</td>\n",
       "      <td>20</td>\n",
       "      <td>RL</td>\n",
       "      <td>76.0</td>\n",
       "      <td>8314</td>\n",
       "      <td>Pave</td>\n",
       "      <td>No Alley Access</td>\n",
       "      <td>Reg</td>\n",
       "      <td>Lvl</td>\n",
       "      <td>AllPub</td>\n",
       "      <td>...</td>\n",
       "      <td>162897.237347</td>\n",
       "      <td>176474.559127</td>\n",
       "      <td>184945.859873</td>\n",
       "      <td>158618.902256</td>\n",
       "      <td>171991.713267</td>\n",
       "      <td>183510.461538</td>\n",
       "      <td>157443.939394</td>\n",
       "      <td>139514.384416</td>\n",
       "      <td>177294.675429</td>\n",
       "      <td>160814.122137</td>\n",
       "    </tr>\n",
       "    <tr>\n",
       "      <th>784</th>\n",
       "      <td>785</td>\n",
       "      <td>75</td>\n",
       "      <td>RM</td>\n",
       "      <td>35.0</td>\n",
       "      <td>6300</td>\n",
       "      <td>Pave</td>\n",
       "      <td>Grvl</td>\n",
       "      <td>Reg</td>\n",
       "      <td>Lvl</td>\n",
       "      <td>AllPub</td>\n",
       "      <td>...</td>\n",
       "      <td>162897.237347</td>\n",
       "      <td>176474.559127</td>\n",
       "      <td>102587.777778</td>\n",
       "      <td>149852.909836</td>\n",
       "      <td>171991.713267</td>\n",
       "      <td>183510.461538</td>\n",
       "      <td>125873.550000</td>\n",
       "      <td>102587.777778</td>\n",
       "      <td>177294.675429</td>\n",
       "      <td>160366.077220</td>\n",
       "    </tr>\n",
       "    <tr>\n",
       "      <th>496</th>\n",
       "      <td>497</td>\n",
       "      <td>20</td>\n",
       "      <td>RL</td>\n",
       "      <td>68.0</td>\n",
       "      <td>12692</td>\n",
       "      <td>Pave</td>\n",
       "      <td>No Alley Access</td>\n",
       "      <td>IR1</td>\n",
       "      <td>Lvl</td>\n",
       "      <td>AllPub</td>\n",
       "      <td>...</td>\n",
       "      <td>200882.727273</td>\n",
       "      <td>176474.559127</td>\n",
       "      <td>184945.859873</td>\n",
       "      <td>189960.294118</td>\n",
       "      <td>171991.713267</td>\n",
       "      <td>183510.461538</td>\n",
       "      <td>322322.689655</td>\n",
       "      <td>201957.974576</td>\n",
       "      <td>177294.675429</td>\n",
       "      <td>234410.458167</td>\n",
       "    </tr>\n",
       "  </tbody>\n",
       "</table>\n",
       "<p>876 rows × 124 columns</p>\n",
       "</div>"
      ],
      "text/plain": [
       "         s  MSSubClass MSZoning  LotFrontage  LotArea Street            Alley  \\\n",
       "539    540          20       RL         68.0    11423   Pave  No Alley Access   \n",
       "791    792          80       RL         68.0    11333   Pave  No Alley Access   \n",
       "816    817          20       RL         68.0    11425   Pave  No Alley Access   \n",
       "989    990          60       FV         65.0     8125   Pave  No Alley Access   \n",
       "890    891          50       RL         60.0     8064   Pave  No Alley Access   \n",
       "1291  1292         160       RM         21.0     1680   Pave  No Alley Access   \n",
       "272    273          60       RL         92.0    11764   Pave  No Alley Access   \n",
       "794    795          60       RL         68.0    10832   Pave  No Alley Access   \n",
       "1019  1020         120       RL         43.0     3013   Pave  No Alley Access   \n",
       "515    516          20       RL         94.0    12220   Pave  No Alley Access   \n",
       "273    274          20       RL         80.0     9600   Pave  No Alley Access   \n",
       "494    495          30       RM         50.0     5784   Pave  No Alley Access   \n",
       "1168  1169          70       RL        120.0    13728   Pave  No Alley Access   \n",
       "665    666          60       RL        106.0    11194   Pave  No Alley Access   \n",
       "278    279          20       RL        107.0    14450   Pave  No Alley Access   \n",
       "198    199          75       RM         92.0     5520   Pave  No Alley Access   \n",
       "645    646          20       RL         68.0    10530   Pave  No Alley Access   \n",
       "713    714         190       RL         60.0     9873   Pave  No Alley Access   \n",
       "187    188          50       RL         60.0    10410   Pave  No Alley Access   \n",
       "941    942          60       RL         68.0     8755   Pave  No Alley Access   \n",
       "1171  1172          20       RL         76.0     9120   Pave  No Alley Access   \n",
       "598    599          20       RL         80.0    12984   Pave  No Alley Access   \n",
       "748    749          20       RL         59.0    10593   Pave  No Alley Access   \n",
       "865    866          20       RL         68.0     8750   Pave  No Alley Access   \n",
       "1287  1288          20       RL         68.0    36500   Pave  No Alley Access   \n",
       "1158  1159          20       RL         92.0    11932   Pave  No Alley Access   \n",
       "1192  1193          50       RM         60.0     9600   Pave             Grvl   \n",
       "872    873          20       RL         74.0     8892   Pave  No Alley Access   \n",
       "1011  1012          90       RL         75.0     9825   Pave  No Alley Access   \n",
       "392    393          20       RL         68.0     8339   Pave  No Alley Access   \n",
       "...    ...         ...      ...          ...      ...    ...              ...   \n",
       "576    577          50       RL         52.0     6292   Pave  No Alley Access   \n",
       "1030  1031         190       RH         68.0     7082   Pave  No Alley Access   \n",
       "823    824          50       RL         60.0     9900   Pave  No Alley Access   \n",
       "1235  1236          70       RL         96.0    13132   Pave  No Alley Access   \n",
       "822    823          60       RL         68.0    12394   Pave  No Alley Access   \n",
       "578    579         160       FV         34.0     3604   Pave             Pave   \n",
       "279    280          60       RL         83.0    10005   Pave  No Alley Access   \n",
       "234    235          60       RL         68.0     7851   Pave  No Alley Access   \n",
       "154    155          30       RM         84.0    11340   Pave  No Alley Access   \n",
       "1165  1166          20       RL         79.0     9541   Pave  No Alley Access   \n",
       "1386  1387          60       RL         80.0    16692   Pave  No Alley Access   \n",
       "836    837          30       RM         90.0     8100   Pave             Pave   \n",
       "867    868          20       RL         85.0     6970   Pave  No Alley Access   \n",
       "345    346          50       RL         65.0     6435   Pave  No Alley Access   \n",
       "1000  1001          20       RL         74.0    10206   Pave  No Alley Access   \n",
       "753    754          60       RL         80.0    10240   Pave  No Alley Access   \n",
       "80      81          60       RL        100.0    13000   Pave  No Alley Access   \n",
       "975    976         160       FV         68.0     2651   Pave  No Alley Access   \n",
       "404    405          60       RL         68.0    10364   Pave  No Alley Access   \n",
       "466    467          20       RL         85.0    10628   Pave  No Alley Access   \n",
       "362    363          85       RL         64.0     7301   Pave  No Alley Access   \n",
       "331    332          20       RL         70.0     8176   Pave  No Alley Access   \n",
       "786    787          50       RM         60.0    10800   Pave  No Alley Access   \n",
       "1255  1256          50       RM         52.0     6240   Pave  No Alley Access   \n",
       "1170  1171          80       RL         76.0     9880   Pave  No Alley Access   \n",
       "1254  1255          60       RL         60.0     6931   Pave  No Alley Access   \n",
       "386    387          50       RL         58.0     8410   Pave  No Alley Access   \n",
       "274    275          20       RL         76.0     8314   Pave  No Alley Access   \n",
       "784    785          75       RM         35.0     6300   Pave             Grvl   \n",
       "496    497          20       RL         68.0    12692   Pave  No Alley Access   \n",
       "\n",
       "     LotShape LandContour Utilities         ...          LotShape_encode  \\\n",
       "539       Reg         Lvl    AllPub         ...            162897.237347   \n",
       "791       IR1         Lvl    AllPub         ...            200882.727273   \n",
       "816       IR1         Lvl    AllPub         ...            200882.727273   \n",
       "989       Reg         Lvl    AllPub         ...            162897.237347   \n",
       "890       Reg         Lvl    AllPub         ...            162897.237347   \n",
       "1291      Reg         Lvl    AllPub         ...            162897.237347   \n",
       "272       IR1         Lvl    AllPub         ...            200882.727273   \n",
       "794       IR1         Lvl    AllPub         ...            200882.727273   \n",
       "1019      Reg         Lvl    AllPub         ...            162897.237347   \n",
       "515       Reg         Lvl    AllPub         ...            162897.237347   \n",
       "273       Reg         Lvl    AllPub         ...            162897.237347   \n",
       "494       Reg         Lvl    AllPub         ...            162897.237347   \n",
       "1168      Reg         Lvl    AllPub         ...            162897.237347   \n",
       "665       IR1         Lvl    AllPub         ...            200882.727273   \n",
       "278       Reg         Lvl    AllPub         ...            162897.237347   \n",
       "198       Reg         Lvl    AllPub         ...            162897.237347   \n",
       "645       IR1         Lvl    AllPub         ...            200882.727273   \n",
       "713       Reg         Lvl    AllPub         ...            162897.237347   \n",
       "187       Reg         Lvl    AllPub         ...            162897.237347   \n",
       "941       IR1         Lvl    AllPub         ...            200882.727273   \n",
       "1171      Reg         Lvl    AllPub         ...            162897.237347   \n",
       "598       Reg         Bnk    AllPub         ...            162897.237347   \n",
       "748       IR1         Lvl    AllPub         ...            200882.727273   \n",
       "865       IR1         Lvl    AllPub         ...            200882.727273   \n",
       "1287      IR1         Low    AllPub         ...            200882.727273   \n",
       "1158      Reg         Lvl    AllPub         ...            162897.237347   \n",
       "1192      Reg         Lvl    AllPub         ...            162897.237347   \n",
       "872       Reg         Lvl    AllPub         ...            162897.237347   \n",
       "1011      Reg         Lvl    AllPub         ...            162897.237347   \n",
       "392       IR1         Lvl    AllPub         ...            200882.727273   \n",
       "...       ...         ...       ...         ...                      ...   \n",
       "576       Reg         Lvl    AllPub         ...            162897.237347   \n",
       "1030      Reg         Lvl    AllPub         ...            162897.237347   \n",
       "823       Reg         Lvl    AllPub         ...            162897.237347   \n",
       "1235      Reg         Lvl    AllPub         ...            162897.237347   \n",
       "822       IR1         Lvl    AllPub         ...            200882.727273   \n",
       "578       Reg         Lvl    AllPub         ...            162897.237347   \n",
       "279       Reg         Lvl    AllPub         ...            162897.237347   \n",
       "234       Reg         Lvl    AllPub         ...            162897.237347   \n",
       "154       Reg         Lvl    AllPub         ...            162897.237347   \n",
       "1165      IR1         Lvl    AllPub         ...            200882.727273   \n",
       "1386      IR1         Lvl    AllPub         ...            200882.727273   \n",
       "836       Reg         Lvl    AllPub         ...            162897.237347   \n",
       "867       Reg         Lvl    AllPub         ...            162897.237347   \n",
       "345       Reg         Lvl    AllPub         ...            162897.237347   \n",
       "1000      Reg         Lvl    AllPub         ...            162897.237347   \n",
       "753       Reg         Lvl    AllPub         ...            162897.237347   \n",
       "80        Reg         Lvl    AllPub         ...            162897.237347   \n",
       "975       Reg         Lvl    AllPub         ...            162897.237347   \n",
       "404       IR1         Lvl    AllPub         ...            200882.727273   \n",
       "466       Reg         Lvl    AllPub         ...            162897.237347   \n",
       "362       Reg         Lvl    AllPub         ...            162897.237347   \n",
       "331       Reg         Lvl    AllPub         ...            162897.237347   \n",
       "786       Reg         Lvl    AllPub         ...            162897.237347   \n",
       "1255      Reg         Lvl    AllPub         ...            162897.237347   \n",
       "1170      Reg         Lvl    AllPub         ...            162897.237347   \n",
       "1254      Reg         Lvl    AllPub         ...            162897.237347   \n",
       "386       Reg         Lvl    AllPub         ...            162897.237347   \n",
       "274       Reg         Lvl    AllPub         ...            162897.237347   \n",
       "784       Reg         Lvl    AllPub         ...            162897.237347   \n",
       "496       IR1         Lvl    AllPub         ...            200882.727273   \n",
       "\n",
       "      PoolQC_encode GarageCond_encode Exterior1st_encode SaleCondition_encode  \\\n",
       "539   176474.559127     184945.859873      207522.464286        171991.713267   \n",
       "791   176474.559127     184945.859873      158618.902256        171991.713267   \n",
       "816   176474.559127     184945.859873      189960.294118        171991.713267   \n",
       "989   176474.559127     184945.859873      207522.464286        263357.039474   \n",
       "890   176474.559127     184945.859873      150358.977099        171991.713267   \n",
       "1291  176474.559127     184945.859873      240769.518519        171991.713267   \n",
       "272   176474.559127     184945.859873      207522.464286        171991.713267   \n",
       "794   176474.559127     184945.859873      150358.977099        171991.713267   \n",
       "1019  176474.559127     184945.859873      207522.464286        171991.713267   \n",
       "515   176474.559127     184945.859873      240769.518519        263357.039474   \n",
       "273   176474.559127     184945.859873      149852.909836        171991.713267   \n",
       "494   176474.559127     184945.859873      150358.977099        171991.713267   \n",
       "1168  176474.559127     184945.859873      154000.000000        171991.713267   \n",
       "665   176474.559127     184945.859873      207522.464286        171991.713267   \n",
       "278   176474.559127     184945.859873      240769.518519        263357.039474   \n",
       "198   176474.559127     102587.777778      149852.909836        146931.263889   \n",
       "645   176474.559127     184945.859873      176620.391304        171991.713267   \n",
       "713   176474.559127     184945.859873      158618.902256        171991.713267   \n",
       "187   176474.559127     110528.741935      158618.902256        171991.713267   \n",
       "941   176474.559127     184945.859873      207522.464286        171991.713267   \n",
       "1171  176474.559127     184945.859873      150358.977099        171991.713267   \n",
       "598   176474.559127     184945.859873      176620.391304        171991.713267   \n",
       "748   176474.559127     184945.859873      207522.464286        171991.713267   \n",
       "865   176474.559127     184945.859873      150358.977099        171991.713267   \n",
       "1287  176474.559127     184945.859873      149852.909836        171991.713267   \n",
       "1158  176474.559127     184945.859873      207522.464286        263357.039474   \n",
       "1192  176474.559127     110528.741935      207522.464286        171991.713267   \n",
       "872   176474.559127     184945.859873      151598.875000        171991.713267   \n",
       "1011  176474.559127     102587.777778      100000.000000        171991.713267   \n",
       "392   176474.559127     184945.859873      150358.977099        171991.713267   \n",
       "...             ...               ...                ...                  ...   \n",
       "576   176474.559127     184945.859873      149852.909836        171991.713267   \n",
       "1030  176474.559127     102587.777778      207522.464286        171991.713267   \n",
       "823   176474.559127     184945.859873      207522.464286        171991.713267   \n",
       "1235  176474.559127     110528.741935      149852.909836        171991.713267   \n",
       "822   176474.559127     184945.859873      207522.464286        159687.500000   \n",
       "578   176474.559127     184945.859873      207522.464286        146931.263889   \n",
       "279   176474.559127     184945.859873      176620.391304        171991.713267   \n",
       "234   176474.559127     184945.859873      207522.464286        171991.713267   \n",
       "154   176474.559127     110528.741935      149852.909836        159687.500000   \n",
       "1165  176474.559127     184945.859873      207522.464286        263357.039474   \n",
       "1386  250000.000000     184945.859873      176620.391304        171991.713267   \n",
       "836   176474.559127     184945.859873      207522.464286        171991.713267   \n",
       "867   176474.559127     184945.859873      207522.464286        171991.713267   \n",
       "345   176474.559127     184945.859873      150358.977099        171991.713267   \n",
       "1000  176474.559127     110528.741935       82000.000000        171991.713267   \n",
       "753   176474.559127     184945.859873      207522.464286        171991.713267   \n",
       "80    176474.559127     184945.859873      207522.464286        171991.713267   \n",
       "975   176474.559127     184945.859873      150358.977099        171991.713267   \n",
       "404   176474.559127     184945.859873      150358.977099        171991.713267   \n",
       "466   176474.559127     184945.859873      176620.391304        171991.713267   \n",
       "362   176474.559127     184945.859873      158618.902256        171991.713267   \n",
       "331   176474.559127     184945.859873      149852.909836        171991.713267   \n",
       "786   176474.559127     184945.859873      150358.977099        171991.713267   \n",
       "1255  176474.559127     184945.859873      149852.909836        171991.713267   \n",
       "1170  165500.000000     184945.859873      176620.391304        171991.713267   \n",
       "1254  176474.559127     184945.859873      207522.464286        171991.713267   \n",
       "386   176474.559127     102587.777778      149852.909836         96833.333333   \n",
       "274   176474.559127     184945.859873      158618.902256        171991.713267   \n",
       "784   176474.559127     102587.777778      149852.909836        171991.713267   \n",
       "496   176474.559127     184945.859873      189960.294118        171991.713267   \n",
       "\n",
       "     Electrical_encode Neighborhood_encode  GarageFinish_encode  \\\n",
       "539      183510.461538       204203.566265        201957.974576   \n",
       "791      183510.461538       157443.939394        201957.974576   \n",
       "816      183510.461538       145773.936170        201957.974576   \n",
       "989      183510.461538       219119.234043        201957.974576   \n",
       "890      183510.461538       145773.936170        139514.384416   \n",
       "1291     183510.461538       105433.333333        139514.384416   \n",
       "272      183510.461538       322322.689655        234660.814286   \n",
       "794      183510.461538       193959.043478        234660.814286   \n",
       "1019     183510.461538       188760.900000        234660.814286   \n",
       "515      183510.461538       308062.930233        234660.814286   \n",
       "273      183510.461538       145773.936170        201957.974576   \n",
       "494      118979.967742       125873.550000        139514.384416   \n",
       "1168     183510.461538       125558.474576        139514.384416   \n",
       "665      183510.461538       193959.043478        201957.974576   \n",
       "278      183510.461538       308062.930233        234660.814286   \n",
       "198      183510.461538       125873.550000        102587.777778   \n",
       "645      183510.461538       145773.936170        139514.384416   \n",
       "713      183510.461538       120854.861111        139514.384416   \n",
       "187      183510.461538       125873.550000        139514.384416   \n",
       "941      183510.461538       193959.043478        201957.974576   \n",
       "1171     183510.461538       145773.936170        201957.974576   \n",
       "598      183510.461538       203461.480000        234660.814286   \n",
       "748      183510.461538       322322.689655        234660.814286   \n",
       "865      183510.461538       145773.936170        139514.384416   \n",
       "1287     183510.461538       217106.000000        139514.384416   \n",
       "1158     183510.461538       219119.234043        201957.974576   \n",
       "1192     183510.461538       125873.550000        139514.384416   \n",
       "872      183510.461538       145773.936170        139514.384416   \n",
       "1011     183510.461538       125558.474576        102587.777778   \n",
       "392      183510.461538       145773.936170        201957.974576   \n",
       "...                ...                 ...                  ...   \n",
       "576      183510.461538       140187.230769        139514.384416   \n",
       "1030     183510.461538       140187.230769        102587.777778   \n",
       "823      183510.461538       140187.230769        139514.384416   \n",
       "1235     115765.944444       203461.480000        139514.384416   \n",
       "822      183510.461538       193959.043478        234660.814286   \n",
       "578      183510.461538       219119.234043        139514.384416   \n",
       "279      183510.461538       217106.000000        234660.814286   \n",
       "234      183510.461538       193959.043478        234660.814286   \n",
       "154      118979.967742       125873.550000        139514.384416   \n",
       "1165     183510.461538       308062.930233        201957.974576   \n",
       "1386     183510.461538       192245.357143        201957.974576   \n",
       "836      183510.461538       125873.550000        139514.384416   \n",
       "867      183510.461538       140822.632653        201957.974576   \n",
       "345      183510.461538       120854.861111        139514.384416   \n",
       "1000     115765.944444       125558.474576        139514.384416   \n",
       "753      183510.461538       308062.930233        201957.974576   \n",
       "80       183510.461538       145773.936170        234660.814286   \n",
       "975      183510.461538       219119.234043        139514.384416   \n",
       "404      183510.461538       193959.043478        234660.814286   \n",
       "466      183510.461538       145773.936170        139514.384416   \n",
       "362      183510.461538       125558.474576        201957.974576   \n",
       "331      183510.461538       145773.936170        201957.974576   \n",
       "786      183510.461538       125873.550000        139514.384416   \n",
       "1255     118979.967742       120854.861111        139514.384416   \n",
       "1170     183510.461538       157443.939394        234660.814286   \n",
       "1254     183510.461538       125558.474576        234660.814286   \n",
       "386      183510.461538       125558.474576        102587.777778   \n",
       "274      183510.461538       157443.939394        139514.384416   \n",
       "784      183510.461538       125873.550000        102587.777778   \n",
       "496      183510.461538       322322.689655        201957.974576   \n",
       "\n",
       "      Utilities_encode  BsmtFinType1_encode  \n",
       "539      177294.675429        234410.458167  \n",
       "791      177294.675429        160814.122137  \n",
       "816      177294.675429        148553.967033  \n",
       "989      177294.675429        160366.077220  \n",
       "890      177294.675429        160366.077220  \n",
       "1291     177294.675429        160814.122137  \n",
       "272      177294.675429        234410.458167  \n",
       "794      177294.675429        160366.077220  \n",
       "1019     177294.675429        234410.458167  \n",
       "515      177294.675429        234410.458167  \n",
       "273      177294.675429        147359.532468  \n",
       "494      177294.675429        160366.077220  \n",
       "1168     177294.675429        147359.532468  \n",
       "665      177294.675429        160366.077220  \n",
       "278      177294.675429        160366.077220  \n",
       "198      177294.675429        160366.077220  \n",
       "645      177294.675429        160814.122137  \n",
       "713      177294.675429        160814.122137  \n",
       "187      177294.675429        160366.077220  \n",
       "941      177294.675429        160814.122137  \n",
       "1171     177294.675429        160814.122137  \n",
       "598      177294.675429        160814.122137  \n",
       "748      177294.675429        234410.458167  \n",
       "865      177294.675429        148553.967033  \n",
       "1287     177294.675429        147359.532468  \n",
       "1158     177294.675429        160366.077220  \n",
       "1192     177294.675429        160366.077220  \n",
       "872      177294.675429        160366.077220  \n",
       "1011     177294.675429        106708.625000  \n",
       "392      177294.675429        106708.625000  \n",
       "...                ...                  ...  \n",
       "576      177294.675429        160366.077220  \n",
       "1030     177294.675429        160366.077220  \n",
       "823      177294.675429        160366.077220  \n",
       "1235     177294.675429        160366.077220  \n",
       "822      177294.675429        160366.077220  \n",
       "578      177294.675429        160366.077220  \n",
       "279      177294.675429        148553.967033  \n",
       "234      177294.675429        234410.458167  \n",
       "154      177294.675429        160366.077220  \n",
       "1165     177294.675429        160366.077220  \n",
       "1386     177294.675429        148553.967033  \n",
       "836      177294.675429        147359.532468  \n",
       "867      177294.675429        160814.122137  \n",
       "345      177294.675429        160366.077220  \n",
       "1000     177294.675429        106708.625000  \n",
       "753      177294.675429        160366.077220  \n",
       "80       177294.675429        147359.532468  \n",
       "975      177294.675429        234410.458167  \n",
       "404      177294.675429        160366.077220  \n",
       "466      177294.675429        234410.458167  \n",
       "362      177294.675429        106708.625000  \n",
       "331      177294.675429        147359.532468  \n",
       "786      177294.675429        148970.930233  \n",
       "1255     177294.675429        148970.930233  \n",
       "1170     177294.675429        160814.122137  \n",
       "1254     177294.675429        160366.077220  \n",
       "386      177294.675429        160366.077220  \n",
       "274      177294.675429        160814.122137  \n",
       "784      177294.675429        160366.077220  \n",
       "496      177294.675429        234410.458167  \n",
       "\n",
       "[876 rows x 124 columns]"
      ]
     },
     "execution_count": 358,
     "metadata": {},
     "output_type": "execute_result"
    }
   ],
   "source": [
    "train_data_copy"
   ]
  },
  {
   "cell_type": "code",
   "execution_count": 359,
   "metadata": {
    "collapsed": true
   },
   "outputs": [],
   "source": [
    "#Now removing Categorical columns from the train_data_copy dataset"
   ]
  },
  {
   "cell_type": "code",
   "execution_count": 360,
   "metadata": {
    "collapsed": false
   },
   "outputs": [
    {
     "data": {
      "text/plain": [
       "6"
      ]
     },
     "execution_count": 360,
     "metadata": {},
     "output_type": "execute_result"
    }
   ],
   "source": [
    "train_data_copy['Heating'].nunique()"
   ]
  },
  {
   "cell_type": "code",
   "execution_count": 361,
   "metadata": {
    "collapsed": false
   },
   "outputs": [
    {
     "data": {
      "text/plain": [
       "6"
      ]
     },
     "execution_count": 361,
     "metadata": {},
     "output_type": "execute_result"
    }
   ],
   "source": [
    "train_data_copy['Heating_encode'].nunique()"
   ]
  },
  {
   "cell_type": "code",
   "execution_count": 362,
   "metadata": {
    "collapsed": false
   },
   "outputs": [
    {
     "data": {
      "text/plain": [
       "43"
      ]
     },
     "execution_count": 362,
     "metadata": {},
     "output_type": "execute_result"
    }
   ],
   "source": [
    "#checking number of columns in new dataset with encoded columns\n",
    "len(train_data_copy.columns)-len(train_data.columns)"
   ]
  },
  {
   "cell_type": "code",
   "execution_count": 363,
   "metadata": {
    "collapsed": false
   },
   "outputs": [],
   "source": [
    "train_data_copy=train_data_copy.drop(categorical_columns,axis=1)"
   ]
  },
  {
   "cell_type": "code",
   "execution_count": 364,
   "metadata": {
    "collapsed": false
   },
   "outputs": [
    {
     "data": {
      "text/plain": [
       "81"
      ]
     },
     "execution_count": 364,
     "metadata": {},
     "output_type": "execute_result"
    }
   ],
   "source": [
    "len(train_data_copy.columns)"
   ]
  },
  {
   "cell_type": "code",
   "execution_count": 365,
   "metadata": {
    "collapsed": true
   },
   "outputs": [],
   "source": [
    "#Running XgBoost on the model"
   ]
  },
  {
   "cell_type": "code",
   "execution_count": 366,
   "metadata": {
    "collapsed": false
   },
   "outputs": [],
   "source": [
    "x=train_data_copy.drop('SalePrice',axis=1)\n",
    "x=x.drop('s',axis=1)"
   ]
  },
  {
   "cell_type": "code",
   "execution_count": 367,
   "metadata": {
    "collapsed": false
   },
   "outputs": [
    {
     "data": {
      "text/plain": [
       "Index(['MSSubClass', 'LotFrontage', 'LotArea', 'OverallQual', 'OverallCond',\n",
       "       'YearBuilt', 'YearRemodAdd', 'MasVnrArea', 'BsmtFinSF1', 'BsmtFinSF2',\n",
       "       'BsmtUnfSF', 'TotalBsmtSF', '1stFlrSF', '2ndFlrSF', 'LowQualFinSF',\n",
       "       'GrLivArea', 'BsmtFullBath', 'BsmtHalfBath', 'FullBath', 'HalfBath',\n",
       "       'BedroomAbvGr', 'KitchenAbvGr', 'TotRmsAbvGrd', 'Fireplaces',\n",
       "       'GarageYrBlt', 'GarageCars', 'GarageArea', 'WoodDeckSF', 'OpenPorchSF',\n",
       "       'EnclosedPorch', '3SsnPorch', 'ScreenPorch', 'PoolArea', 'MiscVal',\n",
       "       'MoSold', 'YrSold', 'BsmtExposure_encode', 'HeatingQC_encode',\n",
       "       'Fence_encode', 'RoofStyle_encode', 'BldgType_encode',\n",
       "       'MasVnrType_encode', 'Functional_encode', 'Foundation_encode',\n",
       "       'MiscFeature_encode', 'BsmtCond_encode', 'BsmtFinType2_encode',\n",
       "       'Exterior2nd_encode', 'RoofMatl_encode', 'ExterCond_encode',\n",
       "       'FireplaceQu_encode', 'KitchenQual_encode', 'Street_encode',\n",
       "       'LandSlope_encode', 'PavedDrive_encode', 'BsmtQual_encode',\n",
       "       'Heating_encode', 'Condition1_encode', 'Condition2_encode',\n",
       "       'HouseStyle_encode', 'ExterQual_encode', 'LotConfig_encode',\n",
       "       'CentralAir_encode', 'SaleType_encode', 'LandContour_encode',\n",
       "       'MSZoning_encode', 'Alley_encode', 'GarageQual_encode',\n",
       "       'GarageType_encode', 'LotShape_encode', 'PoolQC_encode',\n",
       "       'GarageCond_encode', 'Exterior1st_encode', 'SaleCondition_encode',\n",
       "       'Electrical_encode', 'Neighborhood_encode', 'GarageFinish_encode',\n",
       "       'Utilities_encode', 'BsmtFinType1_encode'],\n",
       "      dtype='object')"
      ]
     },
     "execution_count": 367,
     "metadata": {},
     "output_type": "execute_result"
    }
   ],
   "source": [
    "x.columns"
   ]
  },
  {
   "cell_type": "code",
   "execution_count": 368,
   "metadata": {
    "collapsed": false
   },
   "outputs": [
    {
     "data": {
      "text/plain": [
       "79"
      ]
     },
     "execution_count": 368,
     "metadata": {},
     "output_type": "execute_result"
    }
   ],
   "source": [
    "len(x.columns)"
   ]
  },
  {
   "cell_type": "code",
   "execution_count": 369,
   "metadata": {
    "collapsed": true
   },
   "outputs": [],
   "source": [
    "y=train_data['SalePrice']"
   ]
  },
  {
   "cell_type": "code",
   "execution_count": 370,
   "metadata": {
    "collapsed": false
   },
   "outputs": [
    {
     "data": {
      "text/plain": [
       "XGBRegressor(base_score=0.5, colsample_bylevel=0.4, colsample_bytree=0.4,\n",
       "       gamma=0, learning_rate=0.01, max_delta_step=0, max_depth=4,\n",
       "       min_child_weight=1, missing=None, n_estimators=500, nthread=-1,\n",
       "       objective='reg:linear', reg_alpha=0.5, reg_lambda=1,\n",
       "       scale_pos_weight=1, seed=0, silent=True, subsample=1)"
      ]
     },
     "execution_count": 370,
     "metadata": {},
     "output_type": "execute_result"
    }
   ],
   "source": [
    "model=XGBRegressor(max_depth=4,n_estimators=500,learning_rate=0.01,colsample_bylevel=0.4, colsample_bytree=0.4,reg_alpha=0.5)\n",
    "model.fit(x,y)"
   ]
  },
  {
   "cell_type": "code",
   "execution_count": 371,
   "metadata": {
    "collapsed": false
   },
   "outputs": [],
   "source": [
    "pred_1=model.predict(x)"
   ]
  },
  {
   "cell_type": "code",
   "execution_count": 372,
   "metadata": {
    "collapsed": false
   },
   "outputs": [
    {
     "data": {
      "text/plain": [
       "14344.874547106147"
      ]
     },
     "execution_count": 372,
     "metadata": {},
     "output_type": "execute_result"
    }
   ],
   "source": [
    "y_array = np.array(y)\n",
    "rmse = sqrt(mean_squared_error(y_array, pred_1))\n",
    "rmse"
   ]
  },
  {
   "cell_type": "code",
   "execution_count": 373,
   "metadata": {
    "collapsed": false
   },
   "outputs": [
    {
     "data": {
      "text/plain": [
       "0.96554784163672691"
      ]
     },
     "execution_count": 373,
     "metadata": {},
     "output_type": "execute_result"
    }
   ],
   "source": [
    "r2_score(y_array,pred_1)"
   ]
  },
  {
   "cell_type": "code",
   "execution_count": 374,
   "metadata": {
    "collapsed": false
   },
   "outputs": [],
   "source": [
    "#Now checking the performance of the model on the Validation data"
   ]
  },
  {
   "cell_type": "code",
   "execution_count": 375,
   "metadata": {
    "collapsed": true
   },
   "outputs": [],
   "source": [
    "val_data_copy=val_data.copy()\n",
    "\n",
    "for each_column in categorical_columns:\n",
    "    new_col_name=each_column+\"_encode\"\n",
    "    #now lets create a dictionary for each of the levels in each categorical column\n",
    "    dict={}\n",
    "    \n",
    "    for level in val_data[each_column].unique():\n",
    "        dict[level]=val_data[val_data[each_column]==level]['SalePrice'].mean()\n",
    "        \n",
    "    val_data_copy[new_col_name]=val_data[each_column].apply(lambda i: dict[i])"
   ]
  },
  {
   "cell_type": "code",
   "execution_count": 376,
   "metadata": {
    "collapsed": false
   },
   "outputs": [
    {
     "data": {
      "text/html": [
       "<div>\n",
       "<table border=\"1\" class=\"dataframe\">\n",
       "  <thead>\n",
       "    <tr style=\"text-align: right;\">\n",
       "      <th></th>\n",
       "      <th>s</th>\n",
       "      <th>MSSubClass</th>\n",
       "      <th>MSZoning</th>\n",
       "      <th>LotFrontage</th>\n",
       "      <th>LotArea</th>\n",
       "      <th>Street</th>\n",
       "      <th>Alley</th>\n",
       "      <th>LotShape</th>\n",
       "      <th>LandContour</th>\n",
       "      <th>Utilities</th>\n",
       "      <th>...</th>\n",
       "      <th>LotShape_encode</th>\n",
       "      <th>PoolQC_encode</th>\n",
       "      <th>GarageCond_encode</th>\n",
       "      <th>Exterior1st_encode</th>\n",
       "      <th>SaleCondition_encode</th>\n",
       "      <th>Electrical_encode</th>\n",
       "      <th>Neighborhood_encode</th>\n",
       "      <th>GarageFinish_encode</th>\n",
       "      <th>Utilities_encode</th>\n",
       "      <th>BsmtFinType1_encode</th>\n",
       "    </tr>\n",
       "  </thead>\n",
       "  <tbody>\n",
       "    <tr>\n",
       "      <th>1051</th>\n",
       "      <td>1052</td>\n",
       "      <td>20</td>\n",
       "      <td>RL</td>\n",
       "      <td>103.0</td>\n",
       "      <td>11175</td>\n",
       "      <td>Pave</td>\n",
       "      <td>No Alley Access</td>\n",
       "      <td>IR1</td>\n",
       "      <td>Lvl</td>\n",
       "      <td>AllPub</td>\n",
       "      <td>...</td>\n",
       "      <td>212968.688995</td>\n",
       "      <td>186286.314433</td>\n",
       "      <td>192151.543438</td>\n",
       "      <td>222973.550725</td>\n",
       "      <td>286149.673469</td>\n",
       "      <td>191639.123616</td>\n",
       "      <td>190238.358209</td>\n",
       "      <td>248026.591549</td>\n",
       "      <td>186429.118151</td>\n",
       "      <td>186277.976608</td>\n",
       "    </tr>\n",
       "    <tr>\n",
       "      <th>131</th>\n",
       "      <td>132</td>\n",
       "      <td>60</td>\n",
       "      <td>RL</td>\n",
       "      <td>70.0</td>\n",
       "      <td>12224</td>\n",
       "      <td>Pave</td>\n",
       "      <td>No Alley Access</td>\n",
       "      <td>IR1</td>\n",
       "      <td>Lvl</td>\n",
       "      <td>AllPub</td>\n",
       "      <td>...</td>\n",
       "      <td>212968.688995</td>\n",
       "      <td>186286.314433</td>\n",
       "      <td>192151.543438</td>\n",
       "      <td>222973.550725</td>\n",
       "      <td>179730.519115</td>\n",
       "      <td>191639.123616</td>\n",
       "      <td>191314.848485</td>\n",
       "      <td>202209.575269</td>\n",
       "      <td>186429.118151</td>\n",
       "      <td>236921.616766</td>\n",
       "    </tr>\n",
       "    <tr>\n",
       "      <th>599</th>\n",
       "      <td>600</td>\n",
       "      <td>160</td>\n",
       "      <td>RM</td>\n",
       "      <td>24.0</td>\n",
       "      <td>1950</td>\n",
       "      <td>Pave</td>\n",
       "      <td>No Alley Access</td>\n",
       "      <td>Reg</td>\n",
       "      <td>Lvl</td>\n",
       "      <td>AllPub</td>\n",
       "      <td>...</td>\n",
       "      <td>167778.664773</td>\n",
       "      <td>186286.314433</td>\n",
       "      <td>192151.543438</td>\n",
       "      <td>148043.292135</td>\n",
       "      <td>179730.519115</td>\n",
       "      <td>191639.123616</td>\n",
       "      <td>151000.000000</td>\n",
       "      <td>248026.591549</td>\n",
       "      <td>186429.118151</td>\n",
       "      <td>155850.000000</td>\n",
       "    </tr>\n",
       "    <tr>\n",
       "      <th>1451</th>\n",
       "      <td>1452</td>\n",
       "      <td>20</td>\n",
       "      <td>RL</td>\n",
       "      <td>78.0</td>\n",
       "      <td>9262</td>\n",
       "      <td>Pave</td>\n",
       "      <td>No Alley Access</td>\n",
       "      <td>Reg</td>\n",
       "      <td>Lvl</td>\n",
       "      <td>AllPub</td>\n",
       "      <td>...</td>\n",
       "      <td>167778.664773</td>\n",
       "      <td>186286.314433</td>\n",
       "      <td>192151.543438</td>\n",
       "      <td>224480.970588</td>\n",
       "      <td>286149.673469</td>\n",
       "      <td>191639.123616</td>\n",
       "      <td>232924.666667</td>\n",
       "      <td>248026.591549</td>\n",
       "      <td>186429.118151</td>\n",
       "      <td>186277.976608</td>\n",
       "    </tr>\n",
       "    <tr>\n",
       "      <th>427</th>\n",
       "      <td>428</td>\n",
       "      <td>20</td>\n",
       "      <td>RL</td>\n",
       "      <td>77.0</td>\n",
       "      <td>8593</td>\n",
       "      <td>Pave</td>\n",
       "      <td>No Alley Access</td>\n",
       "      <td>IR1</td>\n",
       "      <td>Lvl</td>\n",
       "      <td>AllPub</td>\n",
       "      <td>...</td>\n",
       "      <td>212968.688995</td>\n",
       "      <td>186286.314433</td>\n",
       "      <td>192151.543438</td>\n",
       "      <td>148043.292135</td>\n",
       "      <td>179730.519115</td>\n",
       "      <td>191639.123616</td>\n",
       "      <td>145969.857143</td>\n",
       "      <td>146779.990909</td>\n",
       "      <td>186429.118151</td>\n",
       "      <td>146242.607143</td>\n",
       "    </tr>\n",
       "    <tr>\n",
       "      <th>1431</th>\n",
       "      <td>1432</td>\n",
       "      <td>120</td>\n",
       "      <td>RL</td>\n",
       "      <td>70.0</td>\n",
       "      <td>4928</td>\n",
       "      <td>Pave</td>\n",
       "      <td>No Alley Access</td>\n",
       "      <td>IR1</td>\n",
       "      <td>Lvl</td>\n",
       "      <td>AllPub</td>\n",
       "      <td>...</td>\n",
       "      <td>212968.688995</td>\n",
       "      <td>186286.314433</td>\n",
       "      <td>192151.543438</td>\n",
       "      <td>174742.820513</td>\n",
       "      <td>179730.519115</td>\n",
       "      <td>191639.123616</td>\n",
       "      <td>148562.500000</td>\n",
       "      <td>202209.575269</td>\n",
       "      <td>186429.118151</td>\n",
       "      <td>155850.000000</td>\n",
       "    </tr>\n",
       "    <tr>\n",
       "      <th>1307</th>\n",
       "      <td>1308</td>\n",
       "      <td>20</td>\n",
       "      <td>RL</td>\n",
       "      <td>60.0</td>\n",
       "      <td>8072</td>\n",
       "      <td>Pave</td>\n",
       "      <td>No Alley Access</td>\n",
       "      <td>Reg</td>\n",
       "      <td>Lvl</td>\n",
       "      <td>AllPub</td>\n",
       "      <td>...</td>\n",
       "      <td>167778.664773</td>\n",
       "      <td>186286.314433</td>\n",
       "      <td>192151.543438</td>\n",
       "      <td>222973.550725</td>\n",
       "      <td>179730.519115</td>\n",
       "      <td>191639.123616</td>\n",
       "      <td>190238.358209</td>\n",
       "      <td>146779.990909</td>\n",
       "      <td>186429.118151</td>\n",
       "      <td>162690.168539</td>\n",
       "    </tr>\n",
       "    <tr>\n",
       "      <th>1082</th>\n",
       "      <td>1083</td>\n",
       "      <td>20</td>\n",
       "      <td>RL</td>\n",
       "      <td>70.0</td>\n",
       "      <td>8749</td>\n",
       "      <td>Pave</td>\n",
       "      <td>No Alley Access</td>\n",
       "      <td>Reg</td>\n",
       "      <td>Lvl</td>\n",
       "      <td>AllPub</td>\n",
       "      <td>...</td>\n",
       "      <td>167778.664773</td>\n",
       "      <td>186286.314433</td>\n",
       "      <td>192151.543438</td>\n",
       "      <td>222973.550725</td>\n",
       "      <td>179730.519115</td>\n",
       "      <td>191639.123616</td>\n",
       "      <td>190238.358209</td>\n",
       "      <td>202209.575269</td>\n",
       "      <td>186429.118151</td>\n",
       "      <td>186277.976608</td>\n",
       "    </tr>\n",
       "    <tr>\n",
       "      <th>930</th>\n",
       "      <td>931</td>\n",
       "      <td>20</td>\n",
       "      <td>RL</td>\n",
       "      <td>73.0</td>\n",
       "      <td>8925</td>\n",
       "      <td>Pave</td>\n",
       "      <td>No Alley Access</td>\n",
       "      <td>IR1</td>\n",
       "      <td>HLS</td>\n",
       "      <td>AllPub</td>\n",
       "      <td>...</td>\n",
       "      <td>212968.688995</td>\n",
       "      <td>186286.314433</td>\n",
       "      <td>192151.543438</td>\n",
       "      <td>222973.550725</td>\n",
       "      <td>179730.519115</td>\n",
       "      <td>191639.123616</td>\n",
       "      <td>254628.500000</td>\n",
       "      <td>248026.591549</td>\n",
       "      <td>186429.118151</td>\n",
       "      <td>236921.616766</td>\n",
       "    </tr>\n",
       "    <tr>\n",
       "      <th>857</th>\n",
       "      <td>858</td>\n",
       "      <td>60</td>\n",
       "      <td>RL</td>\n",
       "      <td>65.0</td>\n",
       "      <td>8125</td>\n",
       "      <td>Pave</td>\n",
       "      <td>No Alley Access</td>\n",
       "      <td>Reg</td>\n",
       "      <td>Lvl</td>\n",
       "      <td>AllPub</td>\n",
       "      <td>...</td>\n",
       "      <td>167778.664773</td>\n",
       "      <td>186286.314433</td>\n",
       "      <td>192151.543438</td>\n",
       "      <td>169740.224719</td>\n",
       "      <td>179730.519115</td>\n",
       "      <td>191639.123616</td>\n",
       "      <td>191314.848485</td>\n",
       "      <td>248026.591549</td>\n",
       "      <td>186429.118151</td>\n",
       "      <td>186277.976608</td>\n",
       "    </tr>\n",
       "    <tr>\n",
       "      <th>1455</th>\n",
       "      <td>1456</td>\n",
       "      <td>60</td>\n",
       "      <td>RL</td>\n",
       "      <td>62.0</td>\n",
       "      <td>7917</td>\n",
       "      <td>Pave</td>\n",
       "      <td>No Alley Access</td>\n",
       "      <td>Reg</td>\n",
       "      <td>Lvl</td>\n",
       "      <td>AllPub</td>\n",
       "      <td>...</td>\n",
       "      <td>167778.664773</td>\n",
       "      <td>186286.314433</td>\n",
       "      <td>192151.543438</td>\n",
       "      <td>222973.550725</td>\n",
       "      <td>179730.519115</td>\n",
       "      <td>191639.123616</td>\n",
       "      <td>191314.848485</td>\n",
       "      <td>202209.575269</td>\n",
       "      <td>186429.118151</td>\n",
       "      <td>186277.976608</td>\n",
       "    </tr>\n",
       "    <tr>\n",
       "      <th>1096</th>\n",
       "      <td>1097</td>\n",
       "      <td>70</td>\n",
       "      <td>RM</td>\n",
       "      <td>60.0</td>\n",
       "      <td>6882</td>\n",
       "      <td>Pave</td>\n",
       "      <td>No Alley Access</td>\n",
       "      <td>Reg</td>\n",
       "      <td>Lvl</td>\n",
       "      <td>AllPub</td>\n",
       "      <td>...</td>\n",
       "      <td>167778.664773</td>\n",
       "      <td>186286.314433</td>\n",
       "      <td>104229.166667</td>\n",
       "      <td>149825.285714</td>\n",
       "      <td>179730.519115</td>\n",
       "      <td>191639.123616</td>\n",
       "      <td>110644.444444</td>\n",
       "      <td>104229.166667</td>\n",
       "      <td>186429.118151</td>\n",
       "      <td>186277.976608</td>\n",
       "    </tr>\n",
       "    <tr>\n",
       "      <th>1071</th>\n",
       "      <td>1072</td>\n",
       "      <td>60</td>\n",
       "      <td>RL</td>\n",
       "      <td>78.0</td>\n",
       "      <td>11700</td>\n",
       "      <td>Pave</td>\n",
       "      <td>No Alley Access</td>\n",
       "      <td>Reg</td>\n",
       "      <td>Lvl</td>\n",
       "      <td>AllPub</td>\n",
       "      <td>...</td>\n",
       "      <td>167778.664773</td>\n",
       "      <td>186286.314433</td>\n",
       "      <td>192151.543438</td>\n",
       "      <td>148043.292135</td>\n",
       "      <td>179730.519115</td>\n",
       "      <td>191639.123616</td>\n",
       "      <td>184720.967742</td>\n",
       "      <td>146779.990909</td>\n",
       "      <td>186429.118151</td>\n",
       "      <td>146242.607143</td>\n",
       "    </tr>\n",
       "    <tr>\n",
       "      <th>434</th>\n",
       "      <td>435</td>\n",
       "      <td>180</td>\n",
       "      <td>RM</td>\n",
       "      <td>21.0</td>\n",
       "      <td>1890</td>\n",
       "      <td>Pave</td>\n",
       "      <td>No Alley Access</td>\n",
       "      <td>Reg</td>\n",
       "      <td>Lvl</td>\n",
       "      <td>AllPub</td>\n",
       "      <td>...</td>\n",
       "      <td>167778.664773</td>\n",
       "      <td>186286.314433</td>\n",
       "      <td>104229.166667</td>\n",
       "      <td>224480.970588</td>\n",
       "      <td>179730.519115</td>\n",
       "      <td>191639.123616</td>\n",
       "      <td>93172.727273</td>\n",
       "      <td>104229.166667</td>\n",
       "      <td>186429.118151</td>\n",
       "      <td>162690.168539</td>\n",
       "    </tr>\n",
       "    <tr>\n",
       "      <th>942</th>\n",
       "      <td>943</td>\n",
       "      <td>90</td>\n",
       "      <td>RL</td>\n",
       "      <td>42.0</td>\n",
       "      <td>7711</td>\n",
       "      <td>Pave</td>\n",
       "      <td>No Alley Access</td>\n",
       "      <td>IR1</td>\n",
       "      <td>Lvl</td>\n",
       "      <td>AllPub</td>\n",
       "      <td>...</td>\n",
       "      <td>212968.688995</td>\n",
       "      <td>186286.314433</td>\n",
       "      <td>104229.166667</td>\n",
       "      <td>148043.292135</td>\n",
       "      <td>145522.000000</td>\n",
       "      <td>191639.123616</td>\n",
       "      <td>132049.268293</td>\n",
       "      <td>104229.166667</td>\n",
       "      <td>186429.118151</td>\n",
       "      <td>236921.616766</td>\n",
       "    </tr>\n",
       "    <tr>\n",
       "      <th>336</th>\n",
       "      <td>337</td>\n",
       "      <td>20</td>\n",
       "      <td>RL</td>\n",
       "      <td>86.0</td>\n",
       "      <td>14157</td>\n",
       "      <td>Pave</td>\n",
       "      <td>No Alley Access</td>\n",
       "      <td>IR1</td>\n",
       "      <td>HLS</td>\n",
       "      <td>AllPub</td>\n",
       "      <td>...</td>\n",
       "      <td>212968.688995</td>\n",
       "      <td>186286.314433</td>\n",
       "      <td>192151.543438</td>\n",
       "      <td>222973.550725</td>\n",
       "      <td>179730.519115</td>\n",
       "      <td>191639.123616</td>\n",
       "      <td>316517.166667</td>\n",
       "      <td>248026.591549</td>\n",
       "      <td>186429.118151</td>\n",
       "      <td>236921.616766</td>\n",
       "    </tr>\n",
       "    <tr>\n",
       "      <th>1178</th>\n",
       "      <td>1179</td>\n",
       "      <td>50</td>\n",
       "      <td>RL</td>\n",
       "      <td>54.0</td>\n",
       "      <td>7681</td>\n",
       "      <td>Pave</td>\n",
       "      <td>No Alley Access</td>\n",
       "      <td>IR1</td>\n",
       "      <td>Lvl</td>\n",
       "      <td>AllPub</td>\n",
       "      <td>...</td>\n",
       "      <td>212968.688995</td>\n",
       "      <td>186286.314433</td>\n",
       "      <td>192151.543438</td>\n",
       "      <td>149825.285714</td>\n",
       "      <td>179730.519115</td>\n",
       "      <td>191639.123616</td>\n",
       "      <td>217512.461538</td>\n",
       "      <td>146779.990909</td>\n",
       "      <td>186429.118151</td>\n",
       "      <td>186277.976608</td>\n",
       "    </tr>\n",
       "    <tr>\n",
       "      <th>1434</th>\n",
       "      <td>1435</td>\n",
       "      <td>20</td>\n",
       "      <td>RL</td>\n",
       "      <td>80.0</td>\n",
       "      <td>17400</td>\n",
       "      <td>Pave</td>\n",
       "      <td>No Alley Access</td>\n",
       "      <td>Reg</td>\n",
       "      <td>Low</td>\n",
       "      <td>AllPub</td>\n",
       "      <td>...</td>\n",
       "      <td>167778.664773</td>\n",
       "      <td>186286.314433</td>\n",
       "      <td>192151.543438</td>\n",
       "      <td>204375.000000</td>\n",
       "      <td>179730.519115</td>\n",
       "      <td>191639.123616</td>\n",
       "      <td>153849.125000</td>\n",
       "      <td>202209.575269</td>\n",
       "      <td>186429.118151</td>\n",
       "      <td>162690.168539</td>\n",
       "    </tr>\n",
       "    <tr>\n",
       "      <th>233</th>\n",
       "      <td>234</td>\n",
       "      <td>20</td>\n",
       "      <td>RL</td>\n",
       "      <td>75.0</td>\n",
       "      <td>10650</td>\n",
       "      <td>Pave</td>\n",
       "      <td>No Alley Access</td>\n",
       "      <td>Reg</td>\n",
       "      <td>Lvl</td>\n",
       "      <td>AllPub</td>\n",
       "      <td>...</td>\n",
       "      <td>167778.664773</td>\n",
       "      <td>186286.314433</td>\n",
       "      <td>192151.543438</td>\n",
       "      <td>169740.224719</td>\n",
       "      <td>179730.519115</td>\n",
       "      <td>191639.123616</td>\n",
       "      <td>190238.358209</td>\n",
       "      <td>146779.990909</td>\n",
       "      <td>186429.118151</td>\n",
       "      <td>155850.000000</td>\n",
       "    </tr>\n",
       "    <tr>\n",
       "      <th>376</th>\n",
       "      <td>377</td>\n",
       "      <td>85</td>\n",
       "      <td>RL</td>\n",
       "      <td>57.0</td>\n",
       "      <td>8846</td>\n",
       "      <td>Pave</td>\n",
       "      <td>No Alley Access</td>\n",
       "      <td>IR1</td>\n",
       "      <td>Lvl</td>\n",
       "      <td>AllPub</td>\n",
       "      <td>...</td>\n",
       "      <td>212968.688995</td>\n",
       "      <td>186286.314433</td>\n",
       "      <td>192151.543438</td>\n",
       "      <td>222973.550725</td>\n",
       "      <td>179730.519115</td>\n",
       "      <td>191639.123616</td>\n",
       "      <td>190238.358209</td>\n",
       "      <td>146779.990909</td>\n",
       "      <td>186429.118151</td>\n",
       "      <td>236921.616766</td>\n",
       "    </tr>\n",
       "    <tr>\n",
       "      <th>92</th>\n",
       "      <td>93</td>\n",
       "      <td>30</td>\n",
       "      <td>RL</td>\n",
       "      <td>80.0</td>\n",
       "      <td>13360</td>\n",
       "      <td>Pave</td>\n",
       "      <td>Grvl</td>\n",
       "      <td>IR1</td>\n",
       "      <td>HLS</td>\n",
       "      <td>AllPub</td>\n",
       "      <td>...</td>\n",
       "      <td>212968.688995</td>\n",
       "      <td>186286.314433</td>\n",
       "      <td>192151.543438</td>\n",
       "      <td>149825.285714</td>\n",
       "      <td>179730.519115</td>\n",
       "      <td>191639.123616</td>\n",
       "      <td>217512.461538</td>\n",
       "      <td>146779.990909</td>\n",
       "      <td>186429.118151</td>\n",
       "      <td>162690.168539</td>\n",
       "    </tr>\n",
       "    <tr>\n",
       "      <th>1353</th>\n",
       "      <td>1354</td>\n",
       "      <td>50</td>\n",
       "      <td>RL</td>\n",
       "      <td>56.0</td>\n",
       "      <td>14720</td>\n",
       "      <td>Pave</td>\n",
       "      <td>No Alley Access</td>\n",
       "      <td>IR1</td>\n",
       "      <td>Lvl</td>\n",
       "      <td>AllPub</td>\n",
       "      <td>...</td>\n",
       "      <td>212968.688995</td>\n",
       "      <td>186286.314433</td>\n",
       "      <td>192151.543438</td>\n",
       "      <td>222973.550725</td>\n",
       "      <td>179730.519115</td>\n",
       "      <td>191639.123616</td>\n",
       "      <td>366645.833333</td>\n",
       "      <td>248026.591549</td>\n",
       "      <td>186429.118151</td>\n",
       "      <td>236921.616766</td>\n",
       "    </tr>\n",
       "    <tr>\n",
       "      <th>672</th>\n",
       "      <td>673</td>\n",
       "      <td>20</td>\n",
       "      <td>RL</td>\n",
       "      <td>70.0</td>\n",
       "      <td>11250</td>\n",
       "      <td>Pave</td>\n",
       "      <td>No Alley Access</td>\n",
       "      <td>IR1</td>\n",
       "      <td>Lvl</td>\n",
       "      <td>AllPub</td>\n",
       "      <td>...</td>\n",
       "      <td>212968.688995</td>\n",
       "      <td>186286.314433</td>\n",
       "      <td>192151.543438</td>\n",
       "      <td>174742.820513</td>\n",
       "      <td>179730.519115</td>\n",
       "      <td>191639.123616</td>\n",
       "      <td>221700.000000</td>\n",
       "      <td>202209.575269</td>\n",
       "      <td>186429.118151</td>\n",
       "      <td>162690.168539</td>\n",
       "    </tr>\n",
       "    <tr>\n",
       "      <th>313</th>\n",
       "      <td>314</td>\n",
       "      <td>20</td>\n",
       "      <td>RL</td>\n",
       "      <td>150.0</td>\n",
       "      <td>215245</td>\n",
       "      <td>Pave</td>\n",
       "      <td>No Alley Access</td>\n",
       "      <td>IR3</td>\n",
       "      <td>Low</td>\n",
       "      <td>AllPub</td>\n",
       "      <td>...</td>\n",
       "      <td>228037.500000</td>\n",
       "      <td>186286.314433</td>\n",
       "      <td>192151.543438</td>\n",
       "      <td>204375.000000</td>\n",
       "      <td>179730.519115</td>\n",
       "      <td>191639.123616</td>\n",
       "      <td>254628.500000</td>\n",
       "      <td>202209.575269</td>\n",
       "      <td>186429.118151</td>\n",
       "      <td>162690.168539</td>\n",
       "    </tr>\n",
       "    <tr>\n",
       "      <th>1305</th>\n",
       "      <td>1306</td>\n",
       "      <td>20</td>\n",
       "      <td>RL</td>\n",
       "      <td>108.0</td>\n",
       "      <td>13173</td>\n",
       "      <td>Pave</td>\n",
       "      <td>No Alley Access</td>\n",
       "      <td>IR1</td>\n",
       "      <td>Lvl</td>\n",
       "      <td>AllPub</td>\n",
       "      <td>...</td>\n",
       "      <td>212968.688995</td>\n",
       "      <td>186286.314433</td>\n",
       "      <td>192151.543438</td>\n",
       "      <td>222973.550725</td>\n",
       "      <td>179730.519115</td>\n",
       "      <td>191639.123616</td>\n",
       "      <td>326650.941176</td>\n",
       "      <td>248026.591549</td>\n",
       "      <td>186429.118151</td>\n",
       "      <td>236921.616766</td>\n",
       "    </tr>\n",
       "    <tr>\n",
       "      <th>493</th>\n",
       "      <td>494</td>\n",
       "      <td>20</td>\n",
       "      <td>RL</td>\n",
       "      <td>70.0</td>\n",
       "      <td>7931</td>\n",
       "      <td>Pave</td>\n",
       "      <td>No Alley Access</td>\n",
       "      <td>Reg</td>\n",
       "      <td>Lvl</td>\n",
       "      <td>AllPub</td>\n",
       "      <td>...</td>\n",
       "      <td>167778.664773</td>\n",
       "      <td>186286.314433</td>\n",
       "      <td>192151.543438</td>\n",
       "      <td>204375.000000</td>\n",
       "      <td>179730.519115</td>\n",
       "      <td>128429.687500</td>\n",
       "      <td>145969.857143</td>\n",
       "      <td>146779.990909</td>\n",
       "      <td>186429.118151</td>\n",
       "      <td>150993.859649</td>\n",
       "    </tr>\n",
       "    <tr>\n",
       "      <th>1447</th>\n",
       "      <td>1448</td>\n",
       "      <td>60</td>\n",
       "      <td>RL</td>\n",
       "      <td>80.0</td>\n",
       "      <td>10000</td>\n",
       "      <td>Pave</td>\n",
       "      <td>No Alley Access</td>\n",
       "      <td>Reg</td>\n",
       "      <td>Lvl</td>\n",
       "      <td>AllPub</td>\n",
       "      <td>...</td>\n",
       "      <td>167778.664773</td>\n",
       "      <td>186286.314433</td>\n",
       "      <td>192151.543438</td>\n",
       "      <td>222973.550725</td>\n",
       "      <td>179730.519115</td>\n",
       "      <td>191639.123616</td>\n",
       "      <td>190238.358209</td>\n",
       "      <td>202209.575269</td>\n",
       "      <td>186429.118151</td>\n",
       "      <td>236921.616766</td>\n",
       "    </tr>\n",
       "    <tr>\n",
       "      <th>467</th>\n",
       "      <td>468</td>\n",
       "      <td>70</td>\n",
       "      <td>RL</td>\n",
       "      <td>79.0</td>\n",
       "      <td>9480</td>\n",
       "      <td>Pave</td>\n",
       "      <td>No Alley Access</td>\n",
       "      <td>Reg</td>\n",
       "      <td>Lvl</td>\n",
       "      <td>AllPub</td>\n",
       "      <td>...</td>\n",
       "      <td>167778.664773</td>\n",
       "      <td>186286.314433</td>\n",
       "      <td>192151.543438</td>\n",
       "      <td>148043.292135</td>\n",
       "      <td>179730.519115</td>\n",
       "      <td>191639.123616</td>\n",
       "      <td>145969.857143</td>\n",
       "      <td>146779.990909</td>\n",
       "      <td>186429.118151</td>\n",
       "      <td>155850.000000</td>\n",
       "    </tr>\n",
       "    <tr>\n",
       "      <th>267</th>\n",
       "      <td>268</td>\n",
       "      <td>75</td>\n",
       "      <td>RL</td>\n",
       "      <td>60.0</td>\n",
       "      <td>8400</td>\n",
       "      <td>Pave</td>\n",
       "      <td>No Alley Access</td>\n",
       "      <td>Reg</td>\n",
       "      <td>Bnk</td>\n",
       "      <td>AllPub</td>\n",
       "      <td>...</td>\n",
       "      <td>167778.664773</td>\n",
       "      <td>186286.314433</td>\n",
       "      <td>192151.543438</td>\n",
       "      <td>149825.285714</td>\n",
       "      <td>179730.519115</td>\n",
       "      <td>191639.123616</td>\n",
       "      <td>145195.833333</td>\n",
       "      <td>146779.990909</td>\n",
       "      <td>186429.118151</td>\n",
       "      <td>155850.000000</td>\n",
       "    </tr>\n",
       "    <tr>\n",
       "      <th>409</th>\n",
       "      <td>410</td>\n",
       "      <td>60</td>\n",
       "      <td>FV</td>\n",
       "      <td>85.0</td>\n",
       "      <td>10800</td>\n",
       "      <td>Pave</td>\n",
       "      <td>No Alley Access</td>\n",
       "      <td>Reg</td>\n",
       "      <td>Lvl</td>\n",
       "      <td>AllPub</td>\n",
       "      <td>...</td>\n",
       "      <td>167778.664773</td>\n",
       "      <td>186286.314433</td>\n",
       "      <td>192151.543438</td>\n",
       "      <td>222973.550725</td>\n",
       "      <td>286149.673469</td>\n",
       "      <td>191639.123616</td>\n",
       "      <td>232924.666667</td>\n",
       "      <td>248026.591549</td>\n",
       "      <td>186429.118151</td>\n",
       "      <td>236921.616766</td>\n",
       "    </tr>\n",
       "    <tr>\n",
       "      <th>...</th>\n",
       "      <td>...</td>\n",
       "      <td>...</td>\n",
       "      <td>...</td>\n",
       "      <td>...</td>\n",
       "      <td>...</td>\n",
       "      <td>...</td>\n",
       "      <td>...</td>\n",
       "      <td>...</td>\n",
       "      <td>...</td>\n",
       "      <td>...</td>\n",
       "      <td>...</td>\n",
       "      <td>...</td>\n",
       "      <td>...</td>\n",
       "      <td>...</td>\n",
       "      <td>...</td>\n",
       "      <td>...</td>\n",
       "      <td>...</td>\n",
       "      <td>...</td>\n",
       "      <td>...</td>\n",
       "      <td>...</td>\n",
       "      <td>...</td>\n",
       "    </tr>\n",
       "    <tr>\n",
       "      <th>504</th>\n",
       "      <td>505</td>\n",
       "      <td>160</td>\n",
       "      <td>RL</td>\n",
       "      <td>24.0</td>\n",
       "      <td>2308</td>\n",
       "      <td>Pave</td>\n",
       "      <td>No Alley Access</td>\n",
       "      <td>Reg</td>\n",
       "      <td>Lvl</td>\n",
       "      <td>AllPub</td>\n",
       "      <td>...</td>\n",
       "      <td>167778.664773</td>\n",
       "      <td>186286.314433</td>\n",
       "      <td>192151.543438</td>\n",
       "      <td>174742.820513</td>\n",
       "      <td>179730.519115</td>\n",
       "      <td>191639.123616</td>\n",
       "      <td>148562.500000</td>\n",
       "      <td>146779.990909</td>\n",
       "      <td>186429.118151</td>\n",
       "      <td>162690.168539</td>\n",
       "    </tr>\n",
       "    <tr>\n",
       "      <th>692</th>\n",
       "      <td>693</td>\n",
       "      <td>60</td>\n",
       "      <td>RL</td>\n",
       "      <td>42.0</td>\n",
       "      <td>26178</td>\n",
       "      <td>Pave</td>\n",
       "      <td>No Alley Access</td>\n",
       "      <td>IR1</td>\n",
       "      <td>Lvl</td>\n",
       "      <td>AllPub</td>\n",
       "      <td>...</td>\n",
       "      <td>212968.688995</td>\n",
       "      <td>186286.314433</td>\n",
       "      <td>192151.543438</td>\n",
       "      <td>148043.292135</td>\n",
       "      <td>179730.519115</td>\n",
       "      <td>191639.123616</td>\n",
       "      <td>254628.500000</td>\n",
       "      <td>202209.575269</td>\n",
       "      <td>186429.118151</td>\n",
       "      <td>236921.616766</td>\n",
       "    </tr>\n",
       "    <tr>\n",
       "      <th>140</th>\n",
       "      <td>141</td>\n",
       "      <td>20</td>\n",
       "      <td>RL</td>\n",
       "      <td>70.0</td>\n",
       "      <td>10500</td>\n",
       "      <td>Pave</td>\n",
       "      <td>No Alley Access</td>\n",
       "      <td>Reg</td>\n",
       "      <td>Lvl</td>\n",
       "      <td>AllPub</td>\n",
       "      <td>...</td>\n",
       "      <td>167778.664773</td>\n",
       "      <td>186286.314433</td>\n",
       "      <td>104229.166667</td>\n",
       "      <td>169740.224719</td>\n",
       "      <td>179730.519115</td>\n",
       "      <td>191639.123616</td>\n",
       "      <td>145969.857143</td>\n",
       "      <td>104229.166667</td>\n",
       "      <td>186429.118151</td>\n",
       "      <td>162690.168539</td>\n",
       "    </tr>\n",
       "    <tr>\n",
       "      <th>1308</th>\n",
       "      <td>1309</td>\n",
       "      <td>20</td>\n",
       "      <td>RM</td>\n",
       "      <td>100.0</td>\n",
       "      <td>12000</td>\n",
       "      <td>Pave</td>\n",
       "      <td>No Alley Access</td>\n",
       "      <td>Reg</td>\n",
       "      <td>Lvl</td>\n",
       "      <td>AllPub</td>\n",
       "      <td>...</td>\n",
       "      <td>167778.664773</td>\n",
       "      <td>186286.314433</td>\n",
       "      <td>192151.543438</td>\n",
       "      <td>148043.292135</td>\n",
       "      <td>179730.519115</td>\n",
       "      <td>191639.123616</td>\n",
       "      <td>133926.515152</td>\n",
       "      <td>146779.990909</td>\n",
       "      <td>186429.118151</td>\n",
       "      <td>236921.616766</td>\n",
       "    </tr>\n",
       "    <tr>\n",
       "      <th>517</th>\n",
       "      <td>518</td>\n",
       "      <td>60</td>\n",
       "      <td>RL</td>\n",
       "      <td>79.0</td>\n",
       "      <td>10208</td>\n",
       "      <td>Pave</td>\n",
       "      <td>No Alley Access</td>\n",
       "      <td>IR1</td>\n",
       "      <td>Lvl</td>\n",
       "      <td>AllPub</td>\n",
       "      <td>...</td>\n",
       "      <td>212968.688995</td>\n",
       "      <td>186286.314433</td>\n",
       "      <td>192151.543438</td>\n",
       "      <td>222973.550725</td>\n",
       "      <td>179730.519115</td>\n",
       "      <td>191639.123616</td>\n",
       "      <td>366645.833333</td>\n",
       "      <td>202209.575269</td>\n",
       "      <td>186429.118151</td>\n",
       "      <td>186277.976608</td>\n",
       "    </tr>\n",
       "    <tr>\n",
       "      <th>499</th>\n",
       "      <td>500</td>\n",
       "      <td>20</td>\n",
       "      <td>RL</td>\n",
       "      <td>70.0</td>\n",
       "      <td>7535</td>\n",
       "      <td>Pave</td>\n",
       "      <td>No Alley Access</td>\n",
       "      <td>IR1</td>\n",
       "      <td>Lvl</td>\n",
       "      <td>AllPub</td>\n",
       "      <td>...</td>\n",
       "      <td>212968.688995</td>\n",
       "      <td>186286.314433</td>\n",
       "      <td>192151.543438</td>\n",
       "      <td>148043.292135</td>\n",
       "      <td>179730.519115</td>\n",
       "      <td>191639.123616</td>\n",
       "      <td>145969.857143</td>\n",
       "      <td>248026.591549</td>\n",
       "      <td>186429.118151</td>\n",
       "      <td>150993.859649</td>\n",
       "    </tr>\n",
       "    <tr>\n",
       "      <th>1217</th>\n",
       "      <td>1218</td>\n",
       "      <td>20</td>\n",
       "      <td>FV</td>\n",
       "      <td>72.0</td>\n",
       "      <td>8640</td>\n",
       "      <td>Pave</td>\n",
       "      <td>No Alley Access</td>\n",
       "      <td>Reg</td>\n",
       "      <td>Lvl</td>\n",
       "      <td>AllPub</td>\n",
       "      <td>...</td>\n",
       "      <td>167778.664773</td>\n",
       "      <td>186286.314433</td>\n",
       "      <td>192151.543438</td>\n",
       "      <td>224480.970588</td>\n",
       "      <td>286149.673469</td>\n",
       "      <td>191639.123616</td>\n",
       "      <td>232924.666667</td>\n",
       "      <td>202209.575269</td>\n",
       "      <td>186429.118151</td>\n",
       "      <td>236921.616766</td>\n",
       "    </tr>\n",
       "    <tr>\n",
       "      <th>1390</th>\n",
       "      <td>1391</td>\n",
       "      <td>20</td>\n",
       "      <td>RL</td>\n",
       "      <td>70.0</td>\n",
       "      <td>9100</td>\n",
       "      <td>Pave</td>\n",
       "      <td>No Alley Access</td>\n",
       "      <td>Reg</td>\n",
       "      <td>Lvl</td>\n",
       "      <td>AllPub</td>\n",
       "      <td>...</td>\n",
       "      <td>167778.664773</td>\n",
       "      <td>186286.314433</td>\n",
       "      <td>192151.543438</td>\n",
       "      <td>222973.550725</td>\n",
       "      <td>179730.519115</td>\n",
       "      <td>191639.123616</td>\n",
       "      <td>190238.358209</td>\n",
       "      <td>202209.575269</td>\n",
       "      <td>186429.118151</td>\n",
       "      <td>236921.616766</td>\n",
       "    </tr>\n",
       "    <tr>\n",
       "      <th>320</th>\n",
       "      <td>321</td>\n",
       "      <td>60</td>\n",
       "      <td>RL</td>\n",
       "      <td>111.0</td>\n",
       "      <td>16259</td>\n",
       "      <td>Pave</td>\n",
       "      <td>No Alley Access</td>\n",
       "      <td>Reg</td>\n",
       "      <td>Lvl</td>\n",
       "      <td>AllPub</td>\n",
       "      <td>...</td>\n",
       "      <td>167778.664773</td>\n",
       "      <td>186286.314433</td>\n",
       "      <td>192151.543438</td>\n",
       "      <td>222973.550725</td>\n",
       "      <td>286149.673469</td>\n",
       "      <td>191639.123616</td>\n",
       "      <td>326650.941176</td>\n",
       "      <td>202209.575269</td>\n",
       "      <td>186429.118151</td>\n",
       "      <td>186277.976608</td>\n",
       "    </tr>\n",
       "    <tr>\n",
       "      <th>63</th>\n",
       "      <td>64</td>\n",
       "      <td>70</td>\n",
       "      <td>RM</td>\n",
       "      <td>50.0</td>\n",
       "      <td>10300</td>\n",
       "      <td>Pave</td>\n",
       "      <td>No Alley Access</td>\n",
       "      <td>IR1</td>\n",
       "      <td>Bnk</td>\n",
       "      <td>AllPub</td>\n",
       "      <td>...</td>\n",
       "      <td>212968.688995</td>\n",
       "      <td>186286.314433</td>\n",
       "      <td>192151.543438</td>\n",
       "      <td>176475.000000</td>\n",
       "      <td>179730.519115</td>\n",
       "      <td>191639.123616</td>\n",
       "      <td>133926.515152</td>\n",
       "      <td>146779.990909</td>\n",
       "      <td>186429.118151</td>\n",
       "      <td>186277.976608</td>\n",
       "    </tr>\n",
       "    <tr>\n",
       "      <th>304</th>\n",
       "      <td>305</td>\n",
       "      <td>75</td>\n",
       "      <td>RM</td>\n",
       "      <td>87.0</td>\n",
       "      <td>18386</td>\n",
       "      <td>Pave</td>\n",
       "      <td>No Alley Access</td>\n",
       "      <td>Reg</td>\n",
       "      <td>Lvl</td>\n",
       "      <td>AllPub</td>\n",
       "      <td>...</td>\n",
       "      <td>167778.664773</td>\n",
       "      <td>186286.314433</td>\n",
       "      <td>192151.543438</td>\n",
       "      <td>224480.970588</td>\n",
       "      <td>179730.519115</td>\n",
       "      <td>191639.123616</td>\n",
       "      <td>133926.515152</td>\n",
       "      <td>146779.990909</td>\n",
       "      <td>186429.118151</td>\n",
       "      <td>186277.976608</td>\n",
       "    </tr>\n",
       "    <tr>\n",
       "      <th>559</th>\n",
       "      <td>560</td>\n",
       "      <td>120</td>\n",
       "      <td>RL</td>\n",
       "      <td>70.0</td>\n",
       "      <td>3196</td>\n",
       "      <td>Pave</td>\n",
       "      <td>No Alley Access</td>\n",
       "      <td>Reg</td>\n",
       "      <td>Lvl</td>\n",
       "      <td>AllPub</td>\n",
       "      <td>...</td>\n",
       "      <td>167778.664773</td>\n",
       "      <td>186286.314433</td>\n",
       "      <td>192151.543438</td>\n",
       "      <td>222973.550725</td>\n",
       "      <td>179730.519115</td>\n",
       "      <td>191639.123616</td>\n",
       "      <td>203599.428571</td>\n",
       "      <td>248026.591549</td>\n",
       "      <td>186429.118151</td>\n",
       "      <td>186277.976608</td>\n",
       "    </tr>\n",
       "    <tr>\n",
       "      <th>1348</th>\n",
       "      <td>1349</td>\n",
       "      <td>20</td>\n",
       "      <td>RL</td>\n",
       "      <td>70.0</td>\n",
       "      <td>16196</td>\n",
       "      <td>Pave</td>\n",
       "      <td>No Alley Access</td>\n",
       "      <td>IR3</td>\n",
       "      <td>Low</td>\n",
       "      <td>AllPub</td>\n",
       "      <td>...</td>\n",
       "      <td>228037.500000</td>\n",
       "      <td>186286.314433</td>\n",
       "      <td>192151.543438</td>\n",
       "      <td>222973.550725</td>\n",
       "      <td>179730.519115</td>\n",
       "      <td>191639.123616</td>\n",
       "      <td>201826.896552</td>\n",
       "      <td>202209.575269</td>\n",
       "      <td>186429.118151</td>\n",
       "      <td>236921.616766</td>\n",
       "    </tr>\n",
       "    <tr>\n",
       "      <th>422</th>\n",
       "      <td>423</td>\n",
       "      <td>20</td>\n",
       "      <td>RL</td>\n",
       "      <td>100.0</td>\n",
       "      <td>21750</td>\n",
       "      <td>Pave</td>\n",
       "      <td>No Alley Access</td>\n",
       "      <td>Reg</td>\n",
       "      <td>HLS</td>\n",
       "      <td>AllPub</td>\n",
       "      <td>...</td>\n",
       "      <td>167778.664773</td>\n",
       "      <td>186286.314433</td>\n",
       "      <td>192151.543438</td>\n",
       "      <td>169740.224719</td>\n",
       "      <td>179730.519115</td>\n",
       "      <td>128429.687500</td>\n",
       "      <td>153849.125000</td>\n",
       "      <td>202209.575269</td>\n",
       "      <td>186429.118151</td>\n",
       "      <td>186277.976608</td>\n",
       "    </tr>\n",
       "    <tr>\n",
       "      <th>622</th>\n",
       "      <td>623</td>\n",
       "      <td>20</td>\n",
       "      <td>RL</td>\n",
       "      <td>71.0</td>\n",
       "      <td>7064</td>\n",
       "      <td>Pave</td>\n",
       "      <td>No Alley Access</td>\n",
       "      <td>Reg</td>\n",
       "      <td>Lvl</td>\n",
       "      <td>AllPub</td>\n",
       "      <td>...</td>\n",
       "      <td>167778.664773</td>\n",
       "      <td>186286.314433</td>\n",
       "      <td>192151.543438</td>\n",
       "      <td>174742.820513</td>\n",
       "      <td>179730.519115</td>\n",
       "      <td>191639.123616</td>\n",
       "      <td>128895.320000</td>\n",
       "      <td>146779.990909</td>\n",
       "      <td>186429.118151</td>\n",
       "      <td>150993.859649</td>\n",
       "    </tr>\n",
       "    <tr>\n",
       "      <th>301</th>\n",
       "      <td>302</td>\n",
       "      <td>60</td>\n",
       "      <td>RL</td>\n",
       "      <td>66.0</td>\n",
       "      <td>16226</td>\n",
       "      <td>Pave</td>\n",
       "      <td>No Alley Access</td>\n",
       "      <td>IR3</td>\n",
       "      <td>Lvl</td>\n",
       "      <td>AllPub</td>\n",
       "      <td>...</td>\n",
       "      <td>228037.500000</td>\n",
       "      <td>186286.314433</td>\n",
       "      <td>192151.543438</td>\n",
       "      <td>222973.550725</td>\n",
       "      <td>179730.519115</td>\n",
       "      <td>191639.123616</td>\n",
       "      <td>190238.358209</td>\n",
       "      <td>248026.591549</td>\n",
       "      <td>186429.118151</td>\n",
       "      <td>236921.616766</td>\n",
       "    </tr>\n",
       "    <tr>\n",
       "      <th>1440</th>\n",
       "      <td>1441</td>\n",
       "      <td>70</td>\n",
       "      <td>RL</td>\n",
       "      <td>79.0</td>\n",
       "      <td>11526</td>\n",
       "      <td>Pave</td>\n",
       "      <td>No Alley Access</td>\n",
       "      <td>IR1</td>\n",
       "      <td>Bnk</td>\n",
       "      <td>AllPub</td>\n",
       "      <td>...</td>\n",
       "      <td>212968.688995</td>\n",
       "      <td>186286.314433</td>\n",
       "      <td>192151.543438</td>\n",
       "      <td>148043.292135</td>\n",
       "      <td>179730.519115</td>\n",
       "      <td>191639.123616</td>\n",
       "      <td>217512.461538</td>\n",
       "      <td>248026.591549</td>\n",
       "      <td>186429.118151</td>\n",
       "      <td>186277.976608</td>\n",
       "    </tr>\n",
       "    <tr>\n",
       "      <th>818</th>\n",
       "      <td>819</td>\n",
       "      <td>80</td>\n",
       "      <td>RL</td>\n",
       "      <td>80.0</td>\n",
       "      <td>8816</td>\n",
       "      <td>Pave</td>\n",
       "      <td>No Alley Access</td>\n",
       "      <td>Reg</td>\n",
       "      <td>Lvl</td>\n",
       "      <td>AllPub</td>\n",
       "      <td>...</td>\n",
       "      <td>167778.664773</td>\n",
       "      <td>186286.314433</td>\n",
       "      <td>192151.543438</td>\n",
       "      <td>169740.224719</td>\n",
       "      <td>179730.519115</td>\n",
       "      <td>191639.123616</td>\n",
       "      <td>195916.666667</td>\n",
       "      <td>146779.990909</td>\n",
       "      <td>186429.118151</td>\n",
       "      <td>236921.616766</td>\n",
       "    </tr>\n",
       "    <tr>\n",
       "      <th>1401</th>\n",
       "      <td>1402</td>\n",
       "      <td>60</td>\n",
       "      <td>RL</td>\n",
       "      <td>62.0</td>\n",
       "      <td>7415</td>\n",
       "      <td>Pave</td>\n",
       "      <td>No Alley Access</td>\n",
       "      <td>IR1</td>\n",
       "      <td>Lvl</td>\n",
       "      <td>AllPub</td>\n",
       "      <td>...</td>\n",
       "      <td>212968.688995</td>\n",
       "      <td>186286.314433</td>\n",
       "      <td>192151.543438</td>\n",
       "      <td>222973.550725</td>\n",
       "      <td>179730.519115</td>\n",
       "      <td>191639.123616</td>\n",
       "      <td>191314.848485</td>\n",
       "      <td>248026.591549</td>\n",
       "      <td>186429.118151</td>\n",
       "      <td>236921.616766</td>\n",
       "    </tr>\n",
       "    <tr>\n",
       "      <th>203</th>\n",
       "      <td>204</td>\n",
       "      <td>120</td>\n",
       "      <td>RM</td>\n",
       "      <td>70.0</td>\n",
       "      <td>4438</td>\n",
       "      <td>Pave</td>\n",
       "      <td>No Alley Access</td>\n",
       "      <td>Reg</td>\n",
       "      <td>Lvl</td>\n",
       "      <td>AllPub</td>\n",
       "      <td>...</td>\n",
       "      <td>167778.664773</td>\n",
       "      <td>186286.314433</td>\n",
       "      <td>192151.543438</td>\n",
       "      <td>222973.550725</td>\n",
       "      <td>179730.519115</td>\n",
       "      <td>191639.123616</td>\n",
       "      <td>190238.358209</td>\n",
       "      <td>202209.575269</td>\n",
       "      <td>186429.118151</td>\n",
       "      <td>236921.616766</td>\n",
       "    </tr>\n",
       "    <tr>\n",
       "      <th>508</th>\n",
       "      <td>509</td>\n",
       "      <td>70</td>\n",
       "      <td>RM</td>\n",
       "      <td>60.0</td>\n",
       "      <td>9600</td>\n",
       "      <td>Pave</td>\n",
       "      <td>No Alley Access</td>\n",
       "      <td>Reg</td>\n",
       "      <td>Lvl</td>\n",
       "      <td>AllPub</td>\n",
       "      <td>...</td>\n",
       "      <td>167778.664773</td>\n",
       "      <td>186286.314433</td>\n",
       "      <td>192151.543438</td>\n",
       "      <td>148043.292135</td>\n",
       "      <td>179730.519115</td>\n",
       "      <td>191639.123616</td>\n",
       "      <td>133926.515152</td>\n",
       "      <td>146779.990909</td>\n",
       "      <td>186429.118151</td>\n",
       "      <td>146242.607143</td>\n",
       "    </tr>\n",
       "    <tr>\n",
       "      <th>524</th>\n",
       "      <td>525</td>\n",
       "      <td>60</td>\n",
       "      <td>RL</td>\n",
       "      <td>95.0</td>\n",
       "      <td>11787</td>\n",
       "      <td>Pave</td>\n",
       "      <td>No Alley Access</td>\n",
       "      <td>IR1</td>\n",
       "      <td>Lvl</td>\n",
       "      <td>AllPub</td>\n",
       "      <td>...</td>\n",
       "      <td>212968.688995</td>\n",
       "      <td>186286.314433</td>\n",
       "      <td>192151.543438</td>\n",
       "      <td>222973.550725</td>\n",
       "      <td>179730.519115</td>\n",
       "      <td>191639.123616</td>\n",
       "      <td>366645.833333</td>\n",
       "      <td>248026.591549</td>\n",
       "      <td>186429.118151</td>\n",
       "      <td>236921.616766</td>\n",
       "    </tr>\n",
       "    <tr>\n",
       "      <th>1362</th>\n",
       "      <td>1363</td>\n",
       "      <td>50</td>\n",
       "      <td>RL</td>\n",
       "      <td>70.0</td>\n",
       "      <td>12513</td>\n",
       "      <td>Pave</td>\n",
       "      <td>No Alley Access</td>\n",
       "      <td>IR1</td>\n",
       "      <td>Lvl</td>\n",
       "      <td>AllPub</td>\n",
       "      <td>...</td>\n",
       "      <td>212968.688995</td>\n",
       "      <td>186286.314433</td>\n",
       "      <td>192151.543438</td>\n",
       "      <td>222973.550725</td>\n",
       "      <td>179730.519115</td>\n",
       "      <td>191639.123616</td>\n",
       "      <td>145969.857143</td>\n",
       "      <td>146779.990909</td>\n",
       "      <td>186429.118151</td>\n",
       "      <td>186277.976608</td>\n",
       "    </tr>\n",
       "    <tr>\n",
       "      <th>461</th>\n",
       "      <td>462</td>\n",
       "      <td>70</td>\n",
       "      <td>RL</td>\n",
       "      <td>60.0</td>\n",
       "      <td>7200</td>\n",
       "      <td>Pave</td>\n",
       "      <td>No Alley Access</td>\n",
       "      <td>Reg</td>\n",
       "      <td>Lvl</td>\n",
       "      <td>AllPub</td>\n",
       "      <td>...</td>\n",
       "      <td>167778.664773</td>\n",
       "      <td>186286.314433</td>\n",
       "      <td>192151.543438</td>\n",
       "      <td>149825.285714</td>\n",
       "      <td>179730.519115</td>\n",
       "      <td>191639.123616</td>\n",
       "      <td>145195.833333</td>\n",
       "      <td>202209.575269</td>\n",
       "      <td>186429.118151</td>\n",
       "      <td>162690.168539</td>\n",
       "    </tr>\n",
       "    <tr>\n",
       "      <th>698</th>\n",
       "      <td>699</td>\n",
       "      <td>20</td>\n",
       "      <td>RL</td>\n",
       "      <td>65.0</td>\n",
       "      <td>8450</td>\n",
       "      <td>Pave</td>\n",
       "      <td>No Alley Access</td>\n",
       "      <td>Reg</td>\n",
       "      <td>Lvl</td>\n",
       "      <td>AllPub</td>\n",
       "      <td>...</td>\n",
       "      <td>167778.664773</td>\n",
       "      <td>186286.314433</td>\n",
       "      <td>192151.543438</td>\n",
       "      <td>148043.292135</td>\n",
       "      <td>179730.519115</td>\n",
       "      <td>191639.123616</td>\n",
       "      <td>128895.320000</td>\n",
       "      <td>146779.990909</td>\n",
       "      <td>186429.118151</td>\n",
       "      <td>236921.616766</td>\n",
       "    </tr>\n",
       "    <tr>\n",
       "      <th>789</th>\n",
       "      <td>790</td>\n",
       "      <td>60</td>\n",
       "      <td>RL</td>\n",
       "      <td>70.0</td>\n",
       "      <td>12205</td>\n",
       "      <td>Pave</td>\n",
       "      <td>No Alley Access</td>\n",
       "      <td>IR1</td>\n",
       "      <td>Low</td>\n",
       "      <td>AllPub</td>\n",
       "      <td>...</td>\n",
       "      <td>212968.688995</td>\n",
       "      <td>186286.314433</td>\n",
       "      <td>192151.543438</td>\n",
       "      <td>169740.224719</td>\n",
       "      <td>179730.519115</td>\n",
       "      <td>191639.123616</td>\n",
       "      <td>195916.666667</td>\n",
       "      <td>248026.591549</td>\n",
       "      <td>186429.118151</td>\n",
       "      <td>155850.000000</td>\n",
       "    </tr>\n",
       "    <tr>\n",
       "      <th>86</th>\n",
       "      <td>87</td>\n",
       "      <td>60</td>\n",
       "      <td>RL</td>\n",
       "      <td>122.0</td>\n",
       "      <td>11911</td>\n",
       "      <td>Pave</td>\n",
       "      <td>No Alley Access</td>\n",
       "      <td>IR2</td>\n",
       "      <td>Lvl</td>\n",
       "      <td>AllPub</td>\n",
       "      <td>...</td>\n",
       "      <td>231637.294118</td>\n",
       "      <td>186286.314433</td>\n",
       "      <td>192151.543438</td>\n",
       "      <td>222973.550725</td>\n",
       "      <td>179730.519115</td>\n",
       "      <td>191639.123616</td>\n",
       "      <td>191314.848485</td>\n",
       "      <td>248026.591549</td>\n",
       "      <td>186429.118151</td>\n",
       "      <td>186277.976608</td>\n",
       "    </tr>\n",
       "    <tr>\n",
       "      <th>639</th>\n",
       "      <td>640</td>\n",
       "      <td>120</td>\n",
       "      <td>RL</td>\n",
       "      <td>53.0</td>\n",
       "      <td>3982</td>\n",
       "      <td>Pave</td>\n",
       "      <td>No Alley Access</td>\n",
       "      <td>Reg</td>\n",
       "      <td>Lvl</td>\n",
       "      <td>AllPub</td>\n",
       "      <td>...</td>\n",
       "      <td>167778.664773</td>\n",
       "      <td>186286.314433</td>\n",
       "      <td>192151.543438</td>\n",
       "      <td>222973.550725</td>\n",
       "      <td>286149.673469</td>\n",
       "      <td>191639.123616</td>\n",
       "      <td>203599.428571</td>\n",
       "      <td>248026.591549</td>\n",
       "      <td>186429.118151</td>\n",
       "      <td>236921.616766</td>\n",
       "    </tr>\n",
       "    <tr>\n",
       "      <th>48</th>\n",
       "      <td>49</td>\n",
       "      <td>190</td>\n",
       "      <td>RM</td>\n",
       "      <td>33.0</td>\n",
       "      <td>4456</td>\n",
       "      <td>Pave</td>\n",
       "      <td>No Alley Access</td>\n",
       "      <td>Reg</td>\n",
       "      <td>Lvl</td>\n",
       "      <td>AllPub</td>\n",
       "      <td>...</td>\n",
       "      <td>167778.664773</td>\n",
       "      <td>186286.314433</td>\n",
       "      <td>104229.166667</td>\n",
       "      <td>148043.292135</td>\n",
       "      <td>286149.673469</td>\n",
       "      <td>191639.123616</td>\n",
       "      <td>133926.515152</td>\n",
       "      <td>104229.166667</td>\n",
       "      <td>186429.118151</td>\n",
       "      <td>186277.976608</td>\n",
       "    </tr>\n",
       "    <tr>\n",
       "      <th>97</th>\n",
       "      <td>98</td>\n",
       "      <td>20</td>\n",
       "      <td>RL</td>\n",
       "      <td>73.0</td>\n",
       "      <td>10921</td>\n",
       "      <td>Pave</td>\n",
       "      <td>No Alley Access</td>\n",
       "      <td>Reg</td>\n",
       "      <td>HLS</td>\n",
       "      <td>AllPub</td>\n",
       "      <td>...</td>\n",
       "      <td>167778.664773</td>\n",
       "      <td>186286.314433</td>\n",
       "      <td>192151.543438</td>\n",
       "      <td>169740.224719</td>\n",
       "      <td>179730.519115</td>\n",
       "      <td>91494.444444</td>\n",
       "      <td>132049.268293</td>\n",
       "      <td>248026.591549</td>\n",
       "      <td>186429.118151</td>\n",
       "      <td>146242.607143</td>\n",
       "    </tr>\n",
       "  </tbody>\n",
       "</table>\n",
       "<p>584 rows × 124 columns</p>\n",
       "</div>"
      ],
      "text/plain": [
       "         s  MSSubClass MSZoning  LotFrontage  LotArea Street            Alley  \\\n",
       "1051  1052          20       RL        103.0    11175   Pave  No Alley Access   \n",
       "131    132          60       RL         70.0    12224   Pave  No Alley Access   \n",
       "599    600         160       RM         24.0     1950   Pave  No Alley Access   \n",
       "1451  1452          20       RL         78.0     9262   Pave  No Alley Access   \n",
       "427    428          20       RL         77.0     8593   Pave  No Alley Access   \n",
       "1431  1432         120       RL         70.0     4928   Pave  No Alley Access   \n",
       "1307  1308          20       RL         60.0     8072   Pave  No Alley Access   \n",
       "1082  1083          20       RL         70.0     8749   Pave  No Alley Access   \n",
       "930    931          20       RL         73.0     8925   Pave  No Alley Access   \n",
       "857    858          60       RL         65.0     8125   Pave  No Alley Access   \n",
       "1455  1456          60       RL         62.0     7917   Pave  No Alley Access   \n",
       "1096  1097          70       RM         60.0     6882   Pave  No Alley Access   \n",
       "1071  1072          60       RL         78.0    11700   Pave  No Alley Access   \n",
       "434    435         180       RM         21.0     1890   Pave  No Alley Access   \n",
       "942    943          90       RL         42.0     7711   Pave  No Alley Access   \n",
       "336    337          20       RL         86.0    14157   Pave  No Alley Access   \n",
       "1178  1179          50       RL         54.0     7681   Pave  No Alley Access   \n",
       "1434  1435          20       RL         80.0    17400   Pave  No Alley Access   \n",
       "233    234          20       RL         75.0    10650   Pave  No Alley Access   \n",
       "376    377          85       RL         57.0     8846   Pave  No Alley Access   \n",
       "92      93          30       RL         80.0    13360   Pave             Grvl   \n",
       "1353  1354          50       RL         56.0    14720   Pave  No Alley Access   \n",
       "672    673          20       RL         70.0    11250   Pave  No Alley Access   \n",
       "313    314          20       RL        150.0   215245   Pave  No Alley Access   \n",
       "1305  1306          20       RL        108.0    13173   Pave  No Alley Access   \n",
       "493    494          20       RL         70.0     7931   Pave  No Alley Access   \n",
       "1447  1448          60       RL         80.0    10000   Pave  No Alley Access   \n",
       "467    468          70       RL         79.0     9480   Pave  No Alley Access   \n",
       "267    268          75       RL         60.0     8400   Pave  No Alley Access   \n",
       "409    410          60       FV         85.0    10800   Pave  No Alley Access   \n",
       "...    ...         ...      ...          ...      ...    ...              ...   \n",
       "504    505         160       RL         24.0     2308   Pave  No Alley Access   \n",
       "692    693          60       RL         42.0    26178   Pave  No Alley Access   \n",
       "140    141          20       RL         70.0    10500   Pave  No Alley Access   \n",
       "1308  1309          20       RM        100.0    12000   Pave  No Alley Access   \n",
       "517    518          60       RL         79.0    10208   Pave  No Alley Access   \n",
       "499    500          20       RL         70.0     7535   Pave  No Alley Access   \n",
       "1217  1218          20       FV         72.0     8640   Pave  No Alley Access   \n",
       "1390  1391          20       RL         70.0     9100   Pave  No Alley Access   \n",
       "320    321          60       RL        111.0    16259   Pave  No Alley Access   \n",
       "63      64          70       RM         50.0    10300   Pave  No Alley Access   \n",
       "304    305          75       RM         87.0    18386   Pave  No Alley Access   \n",
       "559    560         120       RL         70.0     3196   Pave  No Alley Access   \n",
       "1348  1349          20       RL         70.0    16196   Pave  No Alley Access   \n",
       "422    423          20       RL        100.0    21750   Pave  No Alley Access   \n",
       "622    623          20       RL         71.0     7064   Pave  No Alley Access   \n",
       "301    302          60       RL         66.0    16226   Pave  No Alley Access   \n",
       "1440  1441          70       RL         79.0    11526   Pave  No Alley Access   \n",
       "818    819          80       RL         80.0     8816   Pave  No Alley Access   \n",
       "1401  1402          60       RL         62.0     7415   Pave  No Alley Access   \n",
       "203    204         120       RM         70.0     4438   Pave  No Alley Access   \n",
       "508    509          70       RM         60.0     9600   Pave  No Alley Access   \n",
       "524    525          60       RL         95.0    11787   Pave  No Alley Access   \n",
       "1362  1363          50       RL         70.0    12513   Pave  No Alley Access   \n",
       "461    462          70       RL         60.0     7200   Pave  No Alley Access   \n",
       "698    699          20       RL         65.0     8450   Pave  No Alley Access   \n",
       "789    790          60       RL         70.0    12205   Pave  No Alley Access   \n",
       "86      87          60       RL        122.0    11911   Pave  No Alley Access   \n",
       "639    640         120       RL         53.0     3982   Pave  No Alley Access   \n",
       "48      49         190       RM         33.0     4456   Pave  No Alley Access   \n",
       "97      98          20       RL         73.0    10921   Pave  No Alley Access   \n",
       "\n",
       "     LotShape LandContour Utilities         ...          LotShape_encode  \\\n",
       "1051      IR1         Lvl    AllPub         ...            212968.688995   \n",
       "131       IR1         Lvl    AllPub         ...            212968.688995   \n",
       "599       Reg         Lvl    AllPub         ...            167778.664773   \n",
       "1451      Reg         Lvl    AllPub         ...            167778.664773   \n",
       "427       IR1         Lvl    AllPub         ...            212968.688995   \n",
       "1431      IR1         Lvl    AllPub         ...            212968.688995   \n",
       "1307      Reg         Lvl    AllPub         ...            167778.664773   \n",
       "1082      Reg         Lvl    AllPub         ...            167778.664773   \n",
       "930       IR1         HLS    AllPub         ...            212968.688995   \n",
       "857       Reg         Lvl    AllPub         ...            167778.664773   \n",
       "1455      Reg         Lvl    AllPub         ...            167778.664773   \n",
       "1096      Reg         Lvl    AllPub         ...            167778.664773   \n",
       "1071      Reg         Lvl    AllPub         ...            167778.664773   \n",
       "434       Reg         Lvl    AllPub         ...            167778.664773   \n",
       "942       IR1         Lvl    AllPub         ...            212968.688995   \n",
       "336       IR1         HLS    AllPub         ...            212968.688995   \n",
       "1178      IR1         Lvl    AllPub         ...            212968.688995   \n",
       "1434      Reg         Low    AllPub         ...            167778.664773   \n",
       "233       Reg         Lvl    AllPub         ...            167778.664773   \n",
       "376       IR1         Lvl    AllPub         ...            212968.688995   \n",
       "92        IR1         HLS    AllPub         ...            212968.688995   \n",
       "1353      IR1         Lvl    AllPub         ...            212968.688995   \n",
       "672       IR1         Lvl    AllPub         ...            212968.688995   \n",
       "313       IR3         Low    AllPub         ...            228037.500000   \n",
       "1305      IR1         Lvl    AllPub         ...            212968.688995   \n",
       "493       Reg         Lvl    AllPub         ...            167778.664773   \n",
       "1447      Reg         Lvl    AllPub         ...            167778.664773   \n",
       "467       Reg         Lvl    AllPub         ...            167778.664773   \n",
       "267       Reg         Bnk    AllPub         ...            167778.664773   \n",
       "409       Reg         Lvl    AllPub         ...            167778.664773   \n",
       "...       ...         ...       ...         ...                      ...   \n",
       "504       Reg         Lvl    AllPub         ...            167778.664773   \n",
       "692       IR1         Lvl    AllPub         ...            212968.688995   \n",
       "140       Reg         Lvl    AllPub         ...            167778.664773   \n",
       "1308      Reg         Lvl    AllPub         ...            167778.664773   \n",
       "517       IR1         Lvl    AllPub         ...            212968.688995   \n",
       "499       IR1         Lvl    AllPub         ...            212968.688995   \n",
       "1217      Reg         Lvl    AllPub         ...            167778.664773   \n",
       "1390      Reg         Lvl    AllPub         ...            167778.664773   \n",
       "320       Reg         Lvl    AllPub         ...            167778.664773   \n",
       "63        IR1         Bnk    AllPub         ...            212968.688995   \n",
       "304       Reg         Lvl    AllPub         ...            167778.664773   \n",
       "559       Reg         Lvl    AllPub         ...            167778.664773   \n",
       "1348      IR3         Low    AllPub         ...            228037.500000   \n",
       "422       Reg         HLS    AllPub         ...            167778.664773   \n",
       "622       Reg         Lvl    AllPub         ...            167778.664773   \n",
       "301       IR3         Lvl    AllPub         ...            228037.500000   \n",
       "1440      IR1         Bnk    AllPub         ...            212968.688995   \n",
       "818       Reg         Lvl    AllPub         ...            167778.664773   \n",
       "1401      IR1         Lvl    AllPub         ...            212968.688995   \n",
       "203       Reg         Lvl    AllPub         ...            167778.664773   \n",
       "508       Reg         Lvl    AllPub         ...            167778.664773   \n",
       "524       IR1         Lvl    AllPub         ...            212968.688995   \n",
       "1362      IR1         Lvl    AllPub         ...            212968.688995   \n",
       "461       Reg         Lvl    AllPub         ...            167778.664773   \n",
       "698       Reg         Lvl    AllPub         ...            167778.664773   \n",
       "789       IR1         Low    AllPub         ...            212968.688995   \n",
       "86        IR2         Lvl    AllPub         ...            231637.294118   \n",
       "639       Reg         Lvl    AllPub         ...            167778.664773   \n",
       "48        Reg         Lvl    AllPub         ...            167778.664773   \n",
       "97        Reg         HLS    AllPub         ...            167778.664773   \n",
       "\n",
       "      PoolQC_encode GarageCond_encode Exterior1st_encode SaleCondition_encode  \\\n",
       "1051  186286.314433     192151.543438      222973.550725        286149.673469   \n",
       "131   186286.314433     192151.543438      222973.550725        179730.519115   \n",
       "599   186286.314433     192151.543438      148043.292135        179730.519115   \n",
       "1451  186286.314433     192151.543438      224480.970588        286149.673469   \n",
       "427   186286.314433     192151.543438      148043.292135        179730.519115   \n",
       "1431  186286.314433     192151.543438      174742.820513        179730.519115   \n",
       "1307  186286.314433     192151.543438      222973.550725        179730.519115   \n",
       "1082  186286.314433     192151.543438      222973.550725        179730.519115   \n",
       "930   186286.314433     192151.543438      222973.550725        179730.519115   \n",
       "857   186286.314433     192151.543438      169740.224719        179730.519115   \n",
       "1455  186286.314433     192151.543438      222973.550725        179730.519115   \n",
       "1096  186286.314433     104229.166667      149825.285714        179730.519115   \n",
       "1071  186286.314433     192151.543438      148043.292135        179730.519115   \n",
       "434   186286.314433     104229.166667      224480.970588        179730.519115   \n",
       "942   186286.314433     104229.166667      148043.292135        145522.000000   \n",
       "336   186286.314433     192151.543438      222973.550725        179730.519115   \n",
       "1178  186286.314433     192151.543438      149825.285714        179730.519115   \n",
       "1434  186286.314433     192151.543438      204375.000000        179730.519115   \n",
       "233   186286.314433     192151.543438      169740.224719        179730.519115   \n",
       "376   186286.314433     192151.543438      222973.550725        179730.519115   \n",
       "92    186286.314433     192151.543438      149825.285714        179730.519115   \n",
       "1353  186286.314433     192151.543438      222973.550725        179730.519115   \n",
       "672   186286.314433     192151.543438      174742.820513        179730.519115   \n",
       "313   186286.314433     192151.543438      204375.000000        179730.519115   \n",
       "1305  186286.314433     192151.543438      222973.550725        179730.519115   \n",
       "493   186286.314433     192151.543438      204375.000000        179730.519115   \n",
       "1447  186286.314433     192151.543438      222973.550725        179730.519115   \n",
       "467   186286.314433     192151.543438      148043.292135        179730.519115   \n",
       "267   186286.314433     192151.543438      149825.285714        179730.519115   \n",
       "409   186286.314433     192151.543438      222973.550725        286149.673469   \n",
       "...             ...               ...                ...                  ...   \n",
       "504   186286.314433     192151.543438      174742.820513        179730.519115   \n",
       "692   186286.314433     192151.543438      148043.292135        179730.519115   \n",
       "140   186286.314433     104229.166667      169740.224719        179730.519115   \n",
       "1308  186286.314433     192151.543438      148043.292135        179730.519115   \n",
       "517   186286.314433     192151.543438      222973.550725        179730.519115   \n",
       "499   186286.314433     192151.543438      148043.292135        179730.519115   \n",
       "1217  186286.314433     192151.543438      224480.970588        286149.673469   \n",
       "1390  186286.314433     192151.543438      222973.550725        179730.519115   \n",
       "320   186286.314433     192151.543438      222973.550725        286149.673469   \n",
       "63    186286.314433     192151.543438      176475.000000        179730.519115   \n",
       "304   186286.314433     192151.543438      224480.970588        179730.519115   \n",
       "559   186286.314433     192151.543438      222973.550725        179730.519115   \n",
       "1348  186286.314433     192151.543438      222973.550725        179730.519115   \n",
       "422   186286.314433     192151.543438      169740.224719        179730.519115   \n",
       "622   186286.314433     192151.543438      174742.820513        179730.519115   \n",
       "301   186286.314433     192151.543438      222973.550725        179730.519115   \n",
       "1440  186286.314433     192151.543438      148043.292135        179730.519115   \n",
       "818   186286.314433     192151.543438      169740.224719        179730.519115   \n",
       "1401  186286.314433     192151.543438      222973.550725        179730.519115   \n",
       "203   186286.314433     192151.543438      222973.550725        179730.519115   \n",
       "508   186286.314433     192151.543438      148043.292135        179730.519115   \n",
       "524   186286.314433     192151.543438      222973.550725        179730.519115   \n",
       "1362  186286.314433     192151.543438      222973.550725        179730.519115   \n",
       "461   186286.314433     192151.543438      149825.285714        179730.519115   \n",
       "698   186286.314433     192151.543438      148043.292135        179730.519115   \n",
       "789   186286.314433     192151.543438      169740.224719        179730.519115   \n",
       "86    186286.314433     192151.543438      222973.550725        179730.519115   \n",
       "639   186286.314433     192151.543438      222973.550725        286149.673469   \n",
       "48    186286.314433     104229.166667      148043.292135        286149.673469   \n",
       "97    186286.314433     192151.543438      169740.224719        179730.519115   \n",
       "\n",
       "     Electrical_encode Neighborhood_encode  GarageFinish_encode  \\\n",
       "1051     191639.123616       190238.358209        248026.591549   \n",
       "131      191639.123616       191314.848485        202209.575269   \n",
       "599      191639.123616       151000.000000        248026.591549   \n",
       "1451     191639.123616       232924.666667        248026.591549   \n",
       "427      191639.123616       145969.857143        146779.990909   \n",
       "1431     191639.123616       148562.500000        202209.575269   \n",
       "1307     191639.123616       190238.358209        146779.990909   \n",
       "1082     191639.123616       190238.358209        202209.575269   \n",
       "930      191639.123616       254628.500000        248026.591549   \n",
       "857      191639.123616       191314.848485        248026.591549   \n",
       "1455     191639.123616       191314.848485        202209.575269   \n",
       "1096     191639.123616       110644.444444        104229.166667   \n",
       "1071     191639.123616       184720.967742        146779.990909   \n",
       "434      191639.123616        93172.727273        104229.166667   \n",
       "942      191639.123616       132049.268293        104229.166667   \n",
       "336      191639.123616       316517.166667        248026.591549   \n",
       "1178     191639.123616       217512.461538        146779.990909   \n",
       "1434     191639.123616       153849.125000        202209.575269   \n",
       "233      191639.123616       190238.358209        146779.990909   \n",
       "376      191639.123616       190238.358209        146779.990909   \n",
       "92       191639.123616       217512.461538        146779.990909   \n",
       "1353     191639.123616       366645.833333        248026.591549   \n",
       "672      191639.123616       221700.000000        202209.575269   \n",
       "313      191639.123616       254628.500000        202209.575269   \n",
       "1305     191639.123616       326650.941176        248026.591549   \n",
       "493      128429.687500       145969.857143        146779.990909   \n",
       "1447     191639.123616       190238.358209        202209.575269   \n",
       "467      191639.123616       145969.857143        146779.990909   \n",
       "267      191639.123616       145195.833333        146779.990909   \n",
       "409      191639.123616       232924.666667        248026.591549   \n",
       "...                ...                 ...                  ...   \n",
       "504      191639.123616       148562.500000        146779.990909   \n",
       "692      191639.123616       254628.500000        202209.575269   \n",
       "140      191639.123616       145969.857143        104229.166667   \n",
       "1308     191639.123616       133926.515152        146779.990909   \n",
       "517      191639.123616       366645.833333        202209.575269   \n",
       "499      191639.123616       145969.857143        248026.591549   \n",
       "1217     191639.123616       232924.666667        202209.575269   \n",
       "1390     191639.123616       190238.358209        202209.575269   \n",
       "320      191639.123616       326650.941176        202209.575269   \n",
       "63       191639.123616       133926.515152        146779.990909   \n",
       "304      191639.123616       133926.515152        146779.990909   \n",
       "559      191639.123616       203599.428571        248026.591549   \n",
       "1348     191639.123616       201826.896552        202209.575269   \n",
       "422      128429.687500       153849.125000        202209.575269   \n",
       "622      191639.123616       128895.320000        146779.990909   \n",
       "301      191639.123616       190238.358209        248026.591549   \n",
       "1440     191639.123616       217512.461538        248026.591549   \n",
       "818      191639.123616       195916.666667        146779.990909   \n",
       "1401     191639.123616       191314.848485        248026.591549   \n",
       "203      191639.123616       190238.358209        202209.575269   \n",
       "508      191639.123616       133926.515152        146779.990909   \n",
       "524      191639.123616       366645.833333        248026.591549   \n",
       "1362     191639.123616       145969.857143        146779.990909   \n",
       "461      191639.123616       145195.833333        202209.575269   \n",
       "698      191639.123616       128895.320000        146779.990909   \n",
       "789      191639.123616       195916.666667        248026.591549   \n",
       "86       191639.123616       191314.848485        248026.591549   \n",
       "639      191639.123616       203599.428571        248026.591549   \n",
       "48       191639.123616       133926.515152        104229.166667   \n",
       "97        91494.444444       132049.268293        248026.591549   \n",
       "\n",
       "      Utilities_encode  BsmtFinType1_encode  \n",
       "1051     186429.118151        186277.976608  \n",
       "131      186429.118151        236921.616766  \n",
       "599      186429.118151        155850.000000  \n",
       "1451     186429.118151        186277.976608  \n",
       "427      186429.118151        146242.607143  \n",
       "1431     186429.118151        155850.000000  \n",
       "1307     186429.118151        162690.168539  \n",
       "1082     186429.118151        186277.976608  \n",
       "930      186429.118151        236921.616766  \n",
       "857      186429.118151        186277.976608  \n",
       "1455     186429.118151        186277.976608  \n",
       "1096     186429.118151        186277.976608  \n",
       "1071     186429.118151        146242.607143  \n",
       "434      186429.118151        162690.168539  \n",
       "942      186429.118151        236921.616766  \n",
       "336      186429.118151        236921.616766  \n",
       "1178     186429.118151        186277.976608  \n",
       "1434     186429.118151        162690.168539  \n",
       "233      186429.118151        155850.000000  \n",
       "376      186429.118151        236921.616766  \n",
       "92       186429.118151        162690.168539  \n",
       "1353     186429.118151        236921.616766  \n",
       "672      186429.118151        162690.168539  \n",
       "313      186429.118151        162690.168539  \n",
       "1305     186429.118151        236921.616766  \n",
       "493      186429.118151        150993.859649  \n",
       "1447     186429.118151        236921.616766  \n",
       "467      186429.118151        155850.000000  \n",
       "267      186429.118151        155850.000000  \n",
       "409      186429.118151        236921.616766  \n",
       "...                ...                  ...  \n",
       "504      186429.118151        162690.168539  \n",
       "692      186429.118151        236921.616766  \n",
       "140      186429.118151        162690.168539  \n",
       "1308     186429.118151        236921.616766  \n",
       "517      186429.118151        186277.976608  \n",
       "499      186429.118151        150993.859649  \n",
       "1217     186429.118151        236921.616766  \n",
       "1390     186429.118151        236921.616766  \n",
       "320      186429.118151        186277.976608  \n",
       "63       186429.118151        186277.976608  \n",
       "304      186429.118151        186277.976608  \n",
       "559      186429.118151        186277.976608  \n",
       "1348     186429.118151        236921.616766  \n",
       "422      186429.118151        186277.976608  \n",
       "622      186429.118151        150993.859649  \n",
       "301      186429.118151        236921.616766  \n",
       "1440     186429.118151        186277.976608  \n",
       "818      186429.118151        236921.616766  \n",
       "1401     186429.118151        236921.616766  \n",
       "203      186429.118151        236921.616766  \n",
       "508      186429.118151        146242.607143  \n",
       "524      186429.118151        236921.616766  \n",
       "1362     186429.118151        186277.976608  \n",
       "461      186429.118151        162690.168539  \n",
       "698      186429.118151        236921.616766  \n",
       "789      186429.118151        155850.000000  \n",
       "86       186429.118151        186277.976608  \n",
       "639      186429.118151        236921.616766  \n",
       "48       186429.118151        186277.976608  \n",
       "97       186429.118151        146242.607143  \n",
       "\n",
       "[584 rows x 124 columns]"
      ]
     },
     "execution_count": 376,
     "metadata": {},
     "output_type": "execute_result"
    }
   ],
   "source": [
    "val_data_copy"
   ]
  },
  {
   "cell_type": "code",
   "execution_count": 377,
   "metadata": {
    "collapsed": false
   },
   "outputs": [],
   "source": [
    "val_data_copy=val_data_copy.drop(categorical_columns,axis=1)"
   ]
  },
  {
   "cell_type": "code",
   "execution_count": 378,
   "metadata": {
    "collapsed": false
   },
   "outputs": [
    {
     "data": {
      "text/plain": [
       "81"
      ]
     },
     "execution_count": 378,
     "metadata": {},
     "output_type": "execute_result"
    }
   ],
   "source": [
    "len(val_data_copy.columns)"
   ]
  },
  {
   "cell_type": "code",
   "execution_count": 379,
   "metadata": {
    "collapsed": false
   },
   "outputs": [],
   "source": [
    "x_val=val_data_copy.drop('SalePrice',axis=1)\n",
    "x_val=x_val.drop('s',axis=1)\n",
    "y_val=val_data['SalePrice']"
   ]
  },
  {
   "cell_type": "code",
   "execution_count": 380,
   "metadata": {
    "collapsed": true
   },
   "outputs": [],
   "source": [
    "pred_val=model.predict(x_val)\n",
    "val_y_array=np.array(y_val)\n",
    "rmse_val=sqrt(mean_squared_error(val_y_array,pred_val))"
   ]
  },
  {
   "cell_type": "code",
   "execution_count": 381,
   "metadata": {
    "collapsed": false
   },
   "outputs": [
    {
     "data": {
      "text/plain": [
       "27217.76502683867"
      ]
     },
     "execution_count": 381,
     "metadata": {},
     "output_type": "execute_result"
    }
   ],
   "source": [
    "rmse_val"
   ]
  },
  {
   "cell_type": "code",
   "execution_count": 382,
   "metadata": {
    "collapsed": false
   },
   "outputs": [
    {
     "data": {
      "text/plain": [
       "0.89036824942208004"
      ]
     },
     "execution_count": 382,
     "metadata": {},
     "output_type": "execute_result"
    }
   ],
   "source": [
    "r2_score(val_y_array,pred_val)"
   ]
  },
  {
   "cell_type": "code",
   "execution_count": 383,
   "metadata": {
    "collapsed": false
   },
   "outputs": [],
   "source": [
    "train_data_copy.drop('s',axis=1).to_csv(\"a.csv\")"
   ]
  },
  {
   "cell_type": "code",
   "execution_count": 384,
   "metadata": {
    "collapsed": true
   },
   "outputs": [],
   "source": [
    "val_data_copy.drop('s',axis=1).to_csv(\"b.csv\")"
   ]
  },
  {
   "cell_type": "code",
   "execution_count": 385,
   "metadata": {
    "collapsed": false
   },
   "outputs": [],
   "source": [
    "#train_data_copy[[Neighborhood,Neighborhood_encode]]"
   ]
  },
  {
   "cell_type": "code",
   "execution_count": null,
   "metadata": {
    "collapsed": true
   },
   "outputs": [],
   "source": [
    "#ELASTIC NET"
   ]
  },
  {
   "cell_type": "code",
   "execution_count": 573,
   "metadata": {
    "collapsed": false
   },
   "outputs": [
    {
     "name": "stdout",
     "output_type": "stream",
     "text": [
      "57478.02254750162\n"
     ]
    },
    {
     "name": "stderr",
     "output_type": "stream",
     "text": [
      "C:\\Users\\Rithvik\\Anaconda3\\lib\\site-packages\\sklearn\\linear_model\\coordinate_descent.py:484: ConvergenceWarning: Objective did not converge. You might want to increase the number of iterations. Fitting data with very small alpha may cause precision problems.\n",
      "  ConvergenceWarning)\n"
     ]
    },
    {
     "data": {
      "text/plain": [
       "0.51108308269667913"
      ]
     },
     "execution_count": 573,
     "metadata": {},
     "output_type": "execute_result"
    }
   ],
   "source": [
    "from sklearn.linear_model import ElasticNet\n",
    "alpha = 0.5\n",
    "enet = ElasticNet(alpha=alpha,l1_ratio=0.5,max_iter=3000)\n",
    "pred_enet=enet.fit(x,y).predict(x_val)\n",
    "r2_enet=r2_score(y_val,pred_enet)\n",
    "rmse_enet=sqrt(mean_squared_error(y_val,pred_enet))\n",
    "print(rmse_enet)\n",
    "r2_enet"
   ]
  },
  {
   "cell_type": "markdown",
   "metadata": {},
   "source": [
    "### TEST SET"
   ]
  },
  {
   "cell_type": "code",
   "execution_count": 386,
   "metadata": {
    "collapsed": true
   },
   "outputs": [],
   "source": [
    "# Now repeating the whole set of process for the test set inorder to predict the sales proce of houses in the test set"
   ]
  },
  {
   "cell_type": "code",
   "execution_count": 387,
   "metadata": {
    "collapsed": false
   },
   "outputs": [],
   "source": [
    "### reading the datset\n",
    "\n",
    "test_data=pd.read_csv(\"test.csv\")"
   ]
  },
  {
   "cell_type": "code",
   "execution_count": 388,
   "metadata": {
    "collapsed": true
   },
   "outputs": [],
   "source": [
    "#First we need to deal with the missing values\n",
    "#There are 2 columns with missing values LotFrontage and GarageYrBlt\n",
    "#LotFrontage is a numerical column and hence we impute it with the median \n",
    "#We feel the GarageYrBlt is not a useful column in "
   ]
  },
  {
   "cell_type": "code",
   "execution_count": 389,
   "metadata": {
    "collapsed": false,
    "scrolled": true
   },
   "outputs": [
    {
     "data": {
      "text/html": [
       "<div>\n",
       "<table border=\"1\" class=\"dataframe\">\n",
       "  <thead>\n",
       "    <tr style=\"text-align: right;\">\n",
       "      <th></th>\n",
       "      <th>Id</th>\n",
       "      <th>MSSubClass</th>\n",
       "      <th>LotFrontage</th>\n",
       "      <th>LotArea</th>\n",
       "      <th>OverallQual</th>\n",
       "      <th>OverallCond</th>\n",
       "      <th>YearBuilt</th>\n",
       "      <th>YearRemodAdd</th>\n",
       "      <th>MasVnrArea</th>\n",
       "      <th>BsmtFinSF1</th>\n",
       "      <th>...</th>\n",
       "      <th>GarageArea</th>\n",
       "      <th>WoodDeckSF</th>\n",
       "      <th>OpenPorchSF</th>\n",
       "      <th>EnclosedPorch</th>\n",
       "      <th>3SsnPorch</th>\n",
       "      <th>ScreenPorch</th>\n",
       "      <th>PoolArea</th>\n",
       "      <th>MiscVal</th>\n",
       "      <th>MoSold</th>\n",
       "      <th>YrSold</th>\n",
       "    </tr>\n",
       "  </thead>\n",
       "  <tbody>\n",
       "    <tr>\n",
       "      <th>count</th>\n",
       "      <td>1459.000000</td>\n",
       "      <td>1459.000000</td>\n",
       "      <td>1232.000000</td>\n",
       "      <td>1459.000000</td>\n",
       "      <td>1459.000000</td>\n",
       "      <td>1459.000000</td>\n",
       "      <td>1459.000000</td>\n",
       "      <td>1459.000000</td>\n",
       "      <td>1444.000000</td>\n",
       "      <td>1458.000000</td>\n",
       "      <td>...</td>\n",
       "      <td>1458.000000</td>\n",
       "      <td>1459.000000</td>\n",
       "      <td>1459.000000</td>\n",
       "      <td>1459.000000</td>\n",
       "      <td>1459.000000</td>\n",
       "      <td>1459.000000</td>\n",
       "      <td>1459.000000</td>\n",
       "      <td>1459.000000</td>\n",
       "      <td>1459.000000</td>\n",
       "      <td>1459.000000</td>\n",
       "    </tr>\n",
       "    <tr>\n",
       "      <th>mean</th>\n",
       "      <td>2190.000000</td>\n",
       "      <td>57.378341</td>\n",
       "      <td>68.580357</td>\n",
       "      <td>9819.161069</td>\n",
       "      <td>6.078821</td>\n",
       "      <td>5.553804</td>\n",
       "      <td>1971.357779</td>\n",
       "      <td>1983.662783</td>\n",
       "      <td>100.709141</td>\n",
       "      <td>439.203704</td>\n",
       "      <td>...</td>\n",
       "      <td>472.768861</td>\n",
       "      <td>93.174777</td>\n",
       "      <td>48.313914</td>\n",
       "      <td>24.243317</td>\n",
       "      <td>1.794380</td>\n",
       "      <td>17.064428</td>\n",
       "      <td>1.744345</td>\n",
       "      <td>58.167923</td>\n",
       "      <td>6.104181</td>\n",
       "      <td>2007.769705</td>\n",
       "    </tr>\n",
       "    <tr>\n",
       "      <th>std</th>\n",
       "      <td>421.321334</td>\n",
       "      <td>42.746880</td>\n",
       "      <td>22.376841</td>\n",
       "      <td>4955.517327</td>\n",
       "      <td>1.436812</td>\n",
       "      <td>1.113740</td>\n",
       "      <td>30.390071</td>\n",
       "      <td>21.130467</td>\n",
       "      <td>177.625900</td>\n",
       "      <td>455.268042</td>\n",
       "      <td>...</td>\n",
       "      <td>217.048611</td>\n",
       "      <td>127.744882</td>\n",
       "      <td>68.883364</td>\n",
       "      <td>67.227765</td>\n",
       "      <td>20.207842</td>\n",
       "      <td>56.609763</td>\n",
       "      <td>30.491646</td>\n",
       "      <td>630.806978</td>\n",
       "      <td>2.722432</td>\n",
       "      <td>1.301740</td>\n",
       "    </tr>\n",
       "    <tr>\n",
       "      <th>min</th>\n",
       "      <td>1461.000000</td>\n",
       "      <td>20.000000</td>\n",
       "      <td>21.000000</td>\n",
       "      <td>1470.000000</td>\n",
       "      <td>1.000000</td>\n",
       "      <td>1.000000</td>\n",
       "      <td>1879.000000</td>\n",
       "      <td>1950.000000</td>\n",
       "      <td>0.000000</td>\n",
       "      <td>0.000000</td>\n",
       "      <td>...</td>\n",
       "      <td>0.000000</td>\n",
       "      <td>0.000000</td>\n",
       "      <td>0.000000</td>\n",
       "      <td>0.000000</td>\n",
       "      <td>0.000000</td>\n",
       "      <td>0.000000</td>\n",
       "      <td>0.000000</td>\n",
       "      <td>0.000000</td>\n",
       "      <td>1.000000</td>\n",
       "      <td>2006.000000</td>\n",
       "    </tr>\n",
       "    <tr>\n",
       "      <th>25%</th>\n",
       "      <td>1825.500000</td>\n",
       "      <td>20.000000</td>\n",
       "      <td>58.000000</td>\n",
       "      <td>7391.000000</td>\n",
       "      <td>5.000000</td>\n",
       "      <td>5.000000</td>\n",
       "      <td>1953.000000</td>\n",
       "      <td>1963.000000</td>\n",
       "      <td>0.000000</td>\n",
       "      <td>0.000000</td>\n",
       "      <td>...</td>\n",
       "      <td>318.000000</td>\n",
       "      <td>0.000000</td>\n",
       "      <td>0.000000</td>\n",
       "      <td>0.000000</td>\n",
       "      <td>0.000000</td>\n",
       "      <td>0.000000</td>\n",
       "      <td>0.000000</td>\n",
       "      <td>0.000000</td>\n",
       "      <td>4.000000</td>\n",
       "      <td>2007.000000</td>\n",
       "    </tr>\n",
       "    <tr>\n",
       "      <th>50%</th>\n",
       "      <td>2190.000000</td>\n",
       "      <td>50.000000</td>\n",
       "      <td>67.000000</td>\n",
       "      <td>9399.000000</td>\n",
       "      <td>6.000000</td>\n",
       "      <td>5.000000</td>\n",
       "      <td>1973.000000</td>\n",
       "      <td>1992.000000</td>\n",
       "      <td>0.000000</td>\n",
       "      <td>350.500000</td>\n",
       "      <td>...</td>\n",
       "      <td>480.000000</td>\n",
       "      <td>0.000000</td>\n",
       "      <td>28.000000</td>\n",
       "      <td>0.000000</td>\n",
       "      <td>0.000000</td>\n",
       "      <td>0.000000</td>\n",
       "      <td>0.000000</td>\n",
       "      <td>0.000000</td>\n",
       "      <td>6.000000</td>\n",
       "      <td>2008.000000</td>\n",
       "    </tr>\n",
       "    <tr>\n",
       "      <th>75%</th>\n",
       "      <td>2554.500000</td>\n",
       "      <td>70.000000</td>\n",
       "      <td>80.000000</td>\n",
       "      <td>11517.500000</td>\n",
       "      <td>7.000000</td>\n",
       "      <td>6.000000</td>\n",
       "      <td>2001.000000</td>\n",
       "      <td>2004.000000</td>\n",
       "      <td>164.000000</td>\n",
       "      <td>753.500000</td>\n",
       "      <td>...</td>\n",
       "      <td>576.000000</td>\n",
       "      <td>168.000000</td>\n",
       "      <td>72.000000</td>\n",
       "      <td>0.000000</td>\n",
       "      <td>0.000000</td>\n",
       "      <td>0.000000</td>\n",
       "      <td>0.000000</td>\n",
       "      <td>0.000000</td>\n",
       "      <td>8.000000</td>\n",
       "      <td>2009.000000</td>\n",
       "    </tr>\n",
       "    <tr>\n",
       "      <th>max</th>\n",
       "      <td>2919.000000</td>\n",
       "      <td>190.000000</td>\n",
       "      <td>200.000000</td>\n",
       "      <td>56600.000000</td>\n",
       "      <td>10.000000</td>\n",
       "      <td>9.000000</td>\n",
       "      <td>2010.000000</td>\n",
       "      <td>2010.000000</td>\n",
       "      <td>1290.000000</td>\n",
       "      <td>4010.000000</td>\n",
       "      <td>...</td>\n",
       "      <td>1488.000000</td>\n",
       "      <td>1424.000000</td>\n",
       "      <td>742.000000</td>\n",
       "      <td>1012.000000</td>\n",
       "      <td>360.000000</td>\n",
       "      <td>576.000000</td>\n",
       "      <td>800.000000</td>\n",
       "      <td>17000.000000</td>\n",
       "      <td>12.000000</td>\n",
       "      <td>2010.000000</td>\n",
       "    </tr>\n",
       "  </tbody>\n",
       "</table>\n",
       "<p>8 rows × 37 columns</p>\n",
       "</div>"
      ],
      "text/plain": [
       "                Id   MSSubClass  LotFrontage       LotArea  OverallQual  \\\n",
       "count  1459.000000  1459.000000  1232.000000   1459.000000  1459.000000   \n",
       "mean   2190.000000    57.378341    68.580357   9819.161069     6.078821   \n",
       "std     421.321334    42.746880    22.376841   4955.517327     1.436812   \n",
       "min    1461.000000    20.000000    21.000000   1470.000000     1.000000   \n",
       "25%    1825.500000    20.000000    58.000000   7391.000000     5.000000   \n",
       "50%    2190.000000    50.000000    67.000000   9399.000000     6.000000   \n",
       "75%    2554.500000    70.000000    80.000000  11517.500000     7.000000   \n",
       "max    2919.000000   190.000000   200.000000  56600.000000    10.000000   \n",
       "\n",
       "       OverallCond    YearBuilt  YearRemodAdd   MasVnrArea   BsmtFinSF1  \\\n",
       "count  1459.000000  1459.000000   1459.000000  1444.000000  1458.000000   \n",
       "mean      5.553804  1971.357779   1983.662783   100.709141   439.203704   \n",
       "std       1.113740    30.390071     21.130467   177.625900   455.268042   \n",
       "min       1.000000  1879.000000   1950.000000     0.000000     0.000000   \n",
       "25%       5.000000  1953.000000   1963.000000     0.000000     0.000000   \n",
       "50%       5.000000  1973.000000   1992.000000     0.000000   350.500000   \n",
       "75%       6.000000  2001.000000   2004.000000   164.000000   753.500000   \n",
       "max       9.000000  2010.000000   2010.000000  1290.000000  4010.000000   \n",
       "\n",
       "          ...        GarageArea   WoodDeckSF  OpenPorchSF  EnclosedPorch  \\\n",
       "count     ...       1458.000000  1459.000000  1459.000000    1459.000000   \n",
       "mean      ...        472.768861    93.174777    48.313914      24.243317   \n",
       "std       ...        217.048611   127.744882    68.883364      67.227765   \n",
       "min       ...          0.000000     0.000000     0.000000       0.000000   \n",
       "25%       ...        318.000000     0.000000     0.000000       0.000000   \n",
       "50%       ...        480.000000     0.000000    28.000000       0.000000   \n",
       "75%       ...        576.000000   168.000000    72.000000       0.000000   \n",
       "max       ...       1488.000000  1424.000000   742.000000    1012.000000   \n",
       "\n",
       "         3SsnPorch  ScreenPorch     PoolArea       MiscVal       MoSold  \\\n",
       "count  1459.000000  1459.000000  1459.000000   1459.000000  1459.000000   \n",
       "mean      1.794380    17.064428     1.744345     58.167923     6.104181   \n",
       "std      20.207842    56.609763    30.491646    630.806978     2.722432   \n",
       "min       0.000000     0.000000     0.000000      0.000000     1.000000   \n",
       "25%       0.000000     0.000000     0.000000      0.000000     4.000000   \n",
       "50%       0.000000     0.000000     0.000000      0.000000     6.000000   \n",
       "75%       0.000000     0.000000     0.000000      0.000000     8.000000   \n",
       "max     360.000000   576.000000   800.000000  17000.000000    12.000000   \n",
       "\n",
       "            YrSold  \n",
       "count  1459.000000  \n",
       "mean   2007.769705  \n",
       "std       1.301740  \n",
       "min    2006.000000  \n",
       "25%    2007.000000  \n",
       "50%    2008.000000  \n",
       "75%    2009.000000  \n",
       "max    2010.000000  \n",
       "\n",
       "[8 rows x 37 columns]"
      ]
     },
     "execution_count": 389,
     "metadata": {},
     "output_type": "execute_result"
    }
   ],
   "source": [
    "test_data.describe()"
   ]
  },
  {
   "cell_type": "code",
   "execution_count": 390,
   "metadata": {
    "collapsed": false
   },
   "outputs": [
    {
     "data": {
      "text/plain": [
       "16"
      ]
     },
     "execution_count": 390,
     "metadata": {},
     "output_type": "execute_result"
    }
   ],
   "source": [
    "test_data['MasVnrType'].isnull().sum()"
   ]
  },
  {
   "cell_type": "code",
   "execution_count": 391,
   "metadata": {
    "collapsed": false
   },
   "outputs": [
    {
     "data": {
      "text/plain": [
       "array(['None', 'BrkFace', 'Stone', 'BrkCmn', nan], dtype=object)"
      ]
     },
     "execution_count": 391,
     "metadata": {},
     "output_type": "execute_result"
    }
   ],
   "source": [
    "test_data['MasVnrType'].unique()"
   ]
  },
  {
   "cell_type": "code",
   "execution_count": 392,
   "metadata": {
    "collapsed": true
   },
   "outputs": [],
   "source": [
    "# now we need to impute the missing values in test set\n",
    "# there are 2 columns with missing values \"Lot Frontage\" and \"GarageYrBlt\""
   ]
  },
  {
   "cell_type": "code",
   "execution_count": 393,
   "metadata": {
    "collapsed": true
   },
   "outputs": [],
   "source": [
    "#Imputing the training data set columns"
   ]
  },
  {
   "cell_type": "code",
   "execution_count": 394,
   "metadata": {
    "collapsed": false
   },
   "outputs": [
    {
     "name": "stdout",
     "output_type": "stream",
     "text": [
      "        Id  MSSubClass MSZoning  LotFrontage  LotArea Street Alley LotShape  \\\n",
      "0     1461          20       RH         80.0    11622   Pave   NaN      Reg   \n",
      "1     1462          20       RL         81.0    14267   Pave   NaN      IR1   \n",
      "2     1463          60       RL         74.0    13830   Pave   NaN      IR1   \n",
      "3     1464          60       RL         78.0     9978   Pave   NaN      IR1   \n",
      "4     1465         120       RL         43.0     5005   Pave   NaN      IR1   \n",
      "5     1466          60       RL         75.0    10000   Pave   NaN      IR1   \n",
      "6     1467          20       RL         67.0     7980   Pave   NaN      IR1   \n",
      "7     1468          60       RL         63.0     8402   Pave   NaN      IR1   \n",
      "8     1469          20       RL         85.0    10176   Pave   NaN      Reg   \n",
      "9     1470          20       RL         70.0     8400   Pave   NaN      Reg   \n",
      "10    1471         120       RH         26.0     5858   Pave   NaN      IR1   \n",
      "11    1472         160       RM         21.0     1680   Pave   NaN      Reg   \n",
      "12    1473         160       RM         21.0     1680   Pave   NaN      Reg   \n",
      "13    1474         160       RL         24.0     2280   Pave   NaN      Reg   \n",
      "14    1475         120       RL         24.0     2280   Pave   NaN      Reg   \n",
      "15    1476          60       RL        102.0    12858   Pave   NaN      IR1   \n",
      "16    1477          20       RL         94.0    12883   Pave   NaN      IR1   \n",
      "17    1478          20       RL         90.0    11520   Pave   NaN      Reg   \n",
      "18    1479          20       RL         79.0    14122   Pave   NaN      IR1   \n",
      "19    1480          20       RL        110.0    14300   Pave   NaN      Reg   \n",
      "20    1481          60       RL        105.0    13650   Pave   NaN      Reg   \n",
      "21    1482         120       RL         41.0     7132   Pave   NaN      IR1   \n",
      "22    1483          20       RL        100.0    18494   Pave   NaN      IR1   \n",
      "23    1484         120       RL         43.0     3203   Pave   NaN      Reg   \n",
      "24    1485          80       RL         67.0    13300   Pave   NaN      IR1   \n",
      "25    1486          60       RL         63.0     8577   Pave   NaN      IR1   \n",
      "26    1487          60       RL         60.0    17433   Pave   NaN      IR2   \n",
      "27    1488          20       RL         73.0     8987   Pave   NaN      Reg   \n",
      "28    1489          20       FV         92.0     9215   Pave   NaN      Reg   \n",
      "29    1490          20       FV         84.0    10440   Pave   NaN      Reg   \n",
      "...    ...         ...      ...          ...      ...    ...   ...      ...   \n",
      "1429  2890          30       RM         50.0     7030   Pave   NaN      Reg   \n",
      "1430  2891          50       RM         75.0     9060   Pave   NaN      Reg   \n",
      "1431  2892          30  C (all)         69.0    12366   Pave   NaN      Reg   \n",
      "1432  2893         190  C (all)         50.0     9000   Pave   NaN      Reg   \n",
      "1433  2894          50  C (all)         60.0     8520   Grvl   NaN      Reg   \n",
      "1434  2895         120       RM         41.0     5748   Pave   NaN      IR1   \n",
      "1435  2896         120       RM         44.0     3842   Pave   NaN      IR1   \n",
      "1436  2897          20       RL         69.0    23580   Pave   NaN      IR1   \n",
      "1437  2898          90       RL         65.0     8385   Pave   NaN      Reg   \n",
      "1438  2899          20       RL         70.0     9116   Pave   NaN      Reg   \n",
      "1439  2900          80       RL        140.0    11080   Pave   NaN      Reg   \n",
      "1440  2901          20       RL         67.0    50102   Pave   NaN      IR1   \n",
      "1441  2902          20       RL         67.0     8098   Pave   NaN      IR1   \n",
      "1442  2903          20       RL         95.0    13618   Pave   NaN      Reg   \n",
      "1443  2904          20       RL         88.0    11577   Pave   NaN      Reg   \n",
      "1444  2905          20      NaN        125.0    31250   Pave   NaN      Reg   \n",
      "1445  2906          90       RM         78.0     7020   Pave   NaN      Reg   \n",
      "1446  2907         160       RM         41.0     2665   Pave   NaN      Reg   \n",
      "1447  2908          20       RL         58.0    10172   Pave   NaN      IR1   \n",
      "1448  2909          90       RL         67.0    11836   Pave   NaN      IR1   \n",
      "1449  2910         180       RM         21.0     1470   Pave   NaN      Reg   \n",
      "1450  2911         160       RM         21.0     1484   Pave   NaN      Reg   \n",
      "1451  2912          20       RL         80.0    13384   Pave   NaN      Reg   \n",
      "1452  2913         160       RM         21.0     1533   Pave   NaN      Reg   \n",
      "1453  2914         160       RM         21.0     1526   Pave   NaN      Reg   \n",
      "1454  2915         160       RM         21.0     1936   Pave   NaN      Reg   \n",
      "1455  2916         160       RM         21.0     1894   Pave   NaN      Reg   \n",
      "1456  2917          20       RL        160.0    20000   Pave   NaN      Reg   \n",
      "1457  2918          85       RL         62.0    10441   Pave   NaN      Reg   \n",
      "1458  2919          60       RL         74.0     9627   Pave   NaN      Reg   \n",
      "\n",
      "     LandContour Utilities      ...       ScreenPorch PoolArea PoolQC  Fence  \\\n",
      "0            Lvl    AllPub      ...               120        0    NaN  MnPrv   \n",
      "1            Lvl    AllPub      ...                 0        0    NaN    NaN   \n",
      "2            Lvl    AllPub      ...                 0        0    NaN  MnPrv   \n",
      "3            Lvl    AllPub      ...                 0        0    NaN    NaN   \n",
      "4            HLS    AllPub      ...               144        0    NaN    NaN   \n",
      "5            Lvl    AllPub      ...                 0        0    NaN    NaN   \n",
      "6            Lvl    AllPub      ...                 0        0    NaN  GdPrv   \n",
      "7            Lvl    AllPub      ...                 0        0    NaN    NaN   \n",
      "8            Lvl    AllPub      ...                 0        0    NaN    NaN   \n",
      "9            Lvl    AllPub      ...                 0        0    NaN  MnPrv   \n",
      "10           Lvl    AllPub      ...                 0        0    NaN    NaN   \n",
      "11           Lvl    AllPub      ...                 0        0    NaN    NaN   \n",
      "12           Lvl    AllPub      ...                 0        0    NaN    NaN   \n",
      "13           Lvl    AllPub      ...                 0        0    NaN    NaN   \n",
      "14           Lvl    AllPub      ...                 0        0    NaN    NaN   \n",
      "15           Lvl    AllPub      ...                 0        0    NaN    NaN   \n",
      "16           Lvl    AllPub      ...                 0        0    NaN    NaN   \n",
      "17           Lvl    AllPub      ...                 0        0    NaN    NaN   \n",
      "18           Lvl    AllPub      ...                 0        0    NaN    NaN   \n",
      "19           HLS    AllPub      ...                 0        0    NaN    NaN   \n",
      "20           Lvl    AllPub      ...                 0        0    NaN    NaN   \n",
      "21           Lvl    AllPub      ...                 0        0    NaN    NaN   \n",
      "22           Lvl    AllPub      ...                 0        0    NaN    NaN   \n",
      "23           Lvl    AllPub      ...                 0        0    NaN    NaN   \n",
      "24           Lvl    AllPub      ...                 0        0    NaN    NaN   \n",
      "25           Lvl    AllPub      ...                 0        0    NaN    NaN   \n",
      "26           Lvl    AllPub      ...               256        0    NaN    NaN   \n",
      "27           Lvl    AllPub      ...                 0        0    NaN    NaN   \n",
      "28           Lvl    AllPub      ...                 0        0    NaN    NaN   \n",
      "29           Lvl    AllPub      ...               216        0    NaN    NaN   \n",
      "...          ...       ...      ...               ...      ...    ...    ...   \n",
      "1429         Lvl    AllPub      ...                 0        0    NaN  MnPrv   \n",
      "1430         Lvl    AllPub      ...                 0        0    NaN    NaN   \n",
      "1431         Lvl    AllPub      ...                 0        0    NaN    NaN   \n",
      "1432         Lvl    AllPub      ...                 0        0    NaN    NaN   \n",
      "1433         Bnk    AllPub      ...                 0        0    NaN    NaN   \n",
      "1434         HLS    AllPub      ...               153        0    NaN    NaN   \n",
      "1435         HLS    AllPub      ...               155        0    NaN    NaN   \n",
      "1436         Lvl    AllPub      ...                 0        0    NaN    NaN   \n",
      "1437         Lvl    AllPub      ...                 0        0    NaN    NaN   \n",
      "1438         Lvl    AllPub      ...                 0        0    NaN    NaN   \n",
      "1439         Lvl    AllPub      ...                 0        0    NaN    NaN   \n",
      "1440         Low    AllPub      ...               138        0    NaN    NaN   \n",
      "1441         Lvl    AllPub      ...                 0        0    NaN    NaN   \n",
      "1442         Lvl    AllPub      ...                 0        0    NaN    NaN   \n",
      "1443         Lvl    AllPub      ...                 0        0    NaN    NaN   \n",
      "1444         Lvl    AllPub      ...                 0        0    NaN    NaN   \n",
      "1445         Lvl    AllPub      ...                 0        0    NaN    NaN   \n",
      "1446         Lvl    AllPub      ...                 0        0    NaN    NaN   \n",
      "1447         Lvl    AllPub      ...                 0        0    NaN    NaN   \n",
      "1448         Lvl    AllPub      ...                 0        0    NaN    NaN   \n",
      "1449         Lvl    AllPub      ...                 0        0    NaN    NaN   \n",
      "1450         Lvl    AllPub      ...                 0        0    NaN    NaN   \n",
      "1451         Lvl    AllPub      ...                 0        0    NaN    NaN   \n",
      "1452         Lvl    AllPub      ...                 0        0    NaN    NaN   \n",
      "1453         Lvl    AllPub      ...                 0        0    NaN  GdPrv   \n",
      "1454         Lvl    AllPub      ...                 0        0    NaN    NaN   \n",
      "1455         Lvl    AllPub      ...                 0        0    NaN    NaN   \n",
      "1456         Lvl    AllPub      ...                 0        0    NaN    NaN   \n",
      "1457         Lvl    AllPub      ...                 0        0    NaN  MnPrv   \n",
      "1458         Lvl    AllPub      ...                 0        0    NaN    NaN   \n",
      "\n",
      "     MiscFeature MiscVal MoSold  YrSold  SaleType  SaleCondition  \n",
      "0            NaN       0      6    2010        WD         Normal  \n",
      "1           Gar2   12500      6    2010        WD         Normal  \n",
      "2            NaN       0      3    2010        WD         Normal  \n",
      "3            NaN       0      6    2010        WD         Normal  \n",
      "4            NaN       0      1    2010        WD         Normal  \n",
      "5            NaN       0      4    2010        WD         Normal  \n",
      "6           Shed     500      3    2010        WD         Normal  \n",
      "7            NaN       0      5    2010        WD         Normal  \n",
      "8            NaN       0      2    2010        WD         Normal  \n",
      "9            NaN       0      4    2010        WD         Normal  \n",
      "10           NaN       0      6    2010        WD         Normal  \n",
      "11           NaN       0      2    2010       COD         Normal  \n",
      "12           NaN       0      3    2010        WD         Normal  \n",
      "13           NaN       0      6    2010        WD         Normal  \n",
      "14           NaN       0      6    2010        WD         Normal  \n",
      "15           NaN       0      1    2010       New        Partial  \n",
      "16           NaN       0      6    2010       New        Partial  \n",
      "17           NaN       0      6    2010        WD         Normal  \n",
      "18           NaN       0      2    2010        WD         Normal  \n",
      "19           NaN       0      6    2010        WD         Normal  \n",
      "20           NaN       0      6    2010        WD         Normal  \n",
      "21           NaN       0      4    2010        WD         Normal  \n",
      "22           NaN       0      1    2010        WD         Normal  \n",
      "23           NaN       0      1    2010        WD         Normal  \n",
      "24           NaN       0      6    2010        WD         Normal  \n",
      "25           NaN       0      4    2010        WD         Normal  \n",
      "26           NaN       0      1    2010        WD         Normal  \n",
      "27           NaN       0      5    2010        WD         Normal  \n",
      "28           NaN       0      4    2010       New        Partial  \n",
      "29           NaN       0      5    2010        WD         Normal  \n",
      "...          ...     ...    ...     ...       ...            ...  \n",
      "1429         NaN       0      3    2006        WD         Normal  \n",
      "1430         NaN       0      4    2006        WD         Normal  \n",
      "1431         NaN       0     10    2006        WD        Abnorml  \n",
      "1432         NaN       0     10    2006        WD        Abnorml  \n",
      "1433         NaN       0      4    2006        WD         Normal  \n",
      "1434         NaN       0      2    2006       New        Partial  \n",
      "1435         NaN       0     12    2006        WD         Normal  \n",
      "1436         NaN       0      9    2006        WD         Normal  \n",
      "1437         NaN       0     10    2006        WD         Normal  \n",
      "1438         NaN       0      5    2006        WD         Normal  \n",
      "1439         NaN       0      5    2006        WD         Normal  \n",
      "1440         NaN       0      3    2006        WD         Alloca  \n",
      "1441         NaN       0     10    2006        WD         Normal  \n",
      "1442         NaN       0     11    2006       New        Partial  \n",
      "1443         NaN       0      9    2006       New        Partial  \n",
      "1444         NaN       0      5    2006        WD         Normal  \n",
      "1445         NaN       0     11    2006        WD         Normal  \n",
      "1446         NaN       0      5    2006        WD         Normal  \n",
      "1447         NaN       0     10    2006        WD         Normal  \n",
      "1448         NaN       0      3    2006        WD         Normal  \n",
      "1449         NaN       0      4    2006        WD         Normal  \n",
      "1450         NaN       0      5    2006        WD         Normal  \n",
      "1451         NaN       0      5    2006        WD         Normal  \n",
      "1452         NaN       0     12    2006        WD        Abnorml  \n",
      "1453         NaN       0      6    2006        WD         Normal  \n",
      "1454         NaN       0      6    2006        WD         Normal  \n",
      "1455         NaN       0      4    2006        WD        Abnorml  \n",
      "1456         NaN       0      9    2006        WD        Abnorml  \n",
      "1457        Shed     700      7    2006        WD         Normal  \n",
      "1458         NaN       0     11    2006        WD         Normal  \n",
      "\n",
      "[1459 rows x 80 columns]\n"
     ]
    },
    {
     "name": "stderr",
     "output_type": "stream",
     "text": [
      "C:\\Users\\Rithvik\\Anaconda3\\lib\\site-packages\\sklearn\\utils\\validation.py:395: DeprecationWarning: Passing 1d arrays as data is deprecated in 0.17 and will raise ValueError in 0.19. Reshape your data either using X.reshape(-1, 1) if your data has a single feature or X.reshape(1, -1) if it contains a single sample.\n",
      "  DeprecationWarning)\n"
     ]
    }
   ],
   "source": [
    "imp=Imputer(missing_values=\"NaN\", strategy=\"median\",axis=1 ) #specify axis\n",
    "q = imp.fit_transform(test_data[\"LotFrontage\"]).T #perform a transpose operation\n",
    "test_data['LotFrontage']=q\n",
    "print (test_data)"
   ]
  },
  {
   "cell_type": "code",
   "execution_count": 395,
   "metadata": {
    "collapsed": false
   },
   "outputs": [
    {
     "data": {
      "text/plain": [
       "67.0"
      ]
     },
     "execution_count": 395,
     "metadata": {},
     "output_type": "execute_result"
    }
   ],
   "source": [
    "test_data['LotFrontage'].median()"
   ]
  },
  {
   "cell_type": "code",
   "execution_count": 396,
   "metadata": {
    "collapsed": false
   },
   "outputs": [
    {
     "name": "stdout",
     "output_type": "stream",
     "text": [
      "0       1961.0\n",
      "1       1958.0\n",
      "2       1997.0\n",
      "3       1998.0\n",
      "4       1992.0\n",
      "5       1993.0\n",
      "6       1992.0\n",
      "7       1998.0\n",
      "8       1990.0\n",
      "9       1970.0\n",
      "10      1999.0\n",
      "11      1971.0\n",
      "12      1997.0\n",
      "13      1975.0\n",
      "14      1975.0\n",
      "15      2009.0\n",
      "16      2009.0\n",
      "17      2005.0\n",
      "18      2005.0\n",
      "19      2003.0\n",
      "20      2002.0\n",
      "21      2006.0\n",
      "22      2005.0\n",
      "23      2006.0\n",
      "24      2004.0\n",
      "25      2004.0\n",
      "26      1998.0\n",
      "27      2005.0\n",
      "28      2009.0\n",
      "29      2005.0\n",
      "         ...  \n",
      "1429    1925.0\n",
      "1430    1957.0\n",
      "1431    2005.0\n",
      "1432    2005.0\n",
      "1433    2005.0\n",
      "1434    2005.0\n",
      "1435    2004.0\n",
      "1436    1979.0\n",
      "1437    1978.0\n",
      "1438    2001.0\n",
      "1439    1975.0\n",
      "1440    1958.0\n",
      "1441    2000.0\n",
      "1442    2005.0\n",
      "1443    2005.0\n",
      "1444    1951.0\n",
      "1445    1997.0\n",
      "1446    1977.0\n",
      "1447    1968.0\n",
      "1448    1970.0\n",
      "1449    2005.0\n",
      "1450    1972.0\n",
      "1451    1969.0\n",
      "1452    1970.0\n",
      "1453    2005.0\n",
      "1454    2005.0\n",
      "1455    1970.0\n",
      "1456    1960.0\n",
      "1457    2005.0\n",
      "1458    1993.0\n",
      "Name: GarageYrBlt, dtype: float64\n"
     ]
    },
    {
     "name": "stderr",
     "output_type": "stream",
     "text": [
      "C:\\Users\\Rithvik\\Anaconda3\\lib\\site-packages\\sklearn\\utils\\validation.py:395: DeprecationWarning: Passing 1d arrays as data is deprecated in 0.17 and will raise ValueError in 0.19. Reshape your data either using X.reshape(-1, 1) if your data has a single feature or X.reshape(1, -1) if it contains a single sample.\n",
      "  DeprecationWarning)\n"
     ]
    }
   ],
   "source": [
    "imp=Imputer(missing_values=\"NaN\",strategy=\"most_frequent\",axis=1)\n",
    "q=imp.fit_transform(test_data['GarageYrBlt']).T\n",
    "test_data['GarageYrBlt']=q\n",
    "print (test_data['GarageYrBlt'])"
   ]
  },
  {
   "cell_type": "code",
   "execution_count": 397,
   "metadata": {
    "collapsed": false
   },
   "outputs": [
    {
     "data": {
      "text/plain": [
       "0"
      ]
     },
     "execution_count": 397,
     "metadata": {},
     "output_type": "execute_result"
    }
   ],
   "source": [
    "test_data['GarageYrBlt'].isnull().sum()"
   ]
  },
  {
   "cell_type": "code",
   "execution_count": 398,
   "metadata": {
    "collapsed": false
   },
   "outputs": [
    {
     "data": {
      "text/plain": [
       "0"
      ]
     },
     "execution_count": 398,
     "metadata": {},
     "output_type": "execute_result"
    }
   ],
   "source": [
    "test_data['LotFrontage'].isnull().sum()"
   ]
  },
  {
   "cell_type": "code",
   "execution_count": 399,
   "metadata": {
    "collapsed": true
   },
   "outputs": [],
   "source": [
    "#There are many columns in the data which have \"None\" as a value which actually has a meaning."
   ]
  },
  {
   "cell_type": "code",
   "execution_count": 400,
   "metadata": {
    "collapsed": false
   },
   "outputs": [],
   "source": [
    "a=pd.DataFrame(test_data.isnull().sum())\n",
    "a['count']=pd.DataFrame(test_data.isnull().sum())"
   ]
  },
  {
   "cell_type": "code",
   "execution_count": 401,
   "metadata": {
    "collapsed": false
   },
   "outputs": [
    {
     "data": {
      "text/html": [
       "<div>\n",
       "<table border=\"1\" class=\"dataframe\">\n",
       "  <thead>\n",
       "    <tr style=\"text-align: right;\">\n",
       "      <th></th>\n",
       "      <th>0</th>\n",
       "      <th>count</th>\n",
       "    </tr>\n",
       "  </thead>\n",
       "  <tbody>\n",
       "    <tr>\n",
       "      <th>MSZoning</th>\n",
       "      <td>4</td>\n",
       "      <td>4</td>\n",
       "    </tr>\n",
       "    <tr>\n",
       "      <th>Alley</th>\n",
       "      <td>1352</td>\n",
       "      <td>1352</td>\n",
       "    </tr>\n",
       "    <tr>\n",
       "      <th>Utilities</th>\n",
       "      <td>2</td>\n",
       "      <td>2</td>\n",
       "    </tr>\n",
       "    <tr>\n",
       "      <th>Exterior1st</th>\n",
       "      <td>1</td>\n",
       "      <td>1</td>\n",
       "    </tr>\n",
       "    <tr>\n",
       "      <th>Exterior2nd</th>\n",
       "      <td>1</td>\n",
       "      <td>1</td>\n",
       "    </tr>\n",
       "    <tr>\n",
       "      <th>MasVnrType</th>\n",
       "      <td>16</td>\n",
       "      <td>16</td>\n",
       "    </tr>\n",
       "    <tr>\n",
       "      <th>MasVnrArea</th>\n",
       "      <td>15</td>\n",
       "      <td>15</td>\n",
       "    </tr>\n",
       "    <tr>\n",
       "      <th>BsmtQual</th>\n",
       "      <td>44</td>\n",
       "      <td>44</td>\n",
       "    </tr>\n",
       "    <tr>\n",
       "      <th>BsmtCond</th>\n",
       "      <td>45</td>\n",
       "      <td>45</td>\n",
       "    </tr>\n",
       "    <tr>\n",
       "      <th>BsmtExposure</th>\n",
       "      <td>44</td>\n",
       "      <td>44</td>\n",
       "    </tr>\n",
       "    <tr>\n",
       "      <th>BsmtFinType1</th>\n",
       "      <td>42</td>\n",
       "      <td>42</td>\n",
       "    </tr>\n",
       "    <tr>\n",
       "      <th>BsmtFinSF1</th>\n",
       "      <td>1</td>\n",
       "      <td>1</td>\n",
       "    </tr>\n",
       "    <tr>\n",
       "      <th>BsmtFinType2</th>\n",
       "      <td>42</td>\n",
       "      <td>42</td>\n",
       "    </tr>\n",
       "    <tr>\n",
       "      <th>BsmtFinSF2</th>\n",
       "      <td>1</td>\n",
       "      <td>1</td>\n",
       "    </tr>\n",
       "    <tr>\n",
       "      <th>BsmtUnfSF</th>\n",
       "      <td>1</td>\n",
       "      <td>1</td>\n",
       "    </tr>\n",
       "    <tr>\n",
       "      <th>TotalBsmtSF</th>\n",
       "      <td>1</td>\n",
       "      <td>1</td>\n",
       "    </tr>\n",
       "    <tr>\n",
       "      <th>BsmtFullBath</th>\n",
       "      <td>2</td>\n",
       "      <td>2</td>\n",
       "    </tr>\n",
       "    <tr>\n",
       "      <th>BsmtHalfBath</th>\n",
       "      <td>2</td>\n",
       "      <td>2</td>\n",
       "    </tr>\n",
       "    <tr>\n",
       "      <th>KitchenQual</th>\n",
       "      <td>1</td>\n",
       "      <td>1</td>\n",
       "    </tr>\n",
       "    <tr>\n",
       "      <th>Functional</th>\n",
       "      <td>2</td>\n",
       "      <td>2</td>\n",
       "    </tr>\n",
       "    <tr>\n",
       "      <th>FireplaceQu</th>\n",
       "      <td>730</td>\n",
       "      <td>730</td>\n",
       "    </tr>\n",
       "    <tr>\n",
       "      <th>GarageType</th>\n",
       "      <td>76</td>\n",
       "      <td>76</td>\n",
       "    </tr>\n",
       "    <tr>\n",
       "      <th>GarageFinish</th>\n",
       "      <td>78</td>\n",
       "      <td>78</td>\n",
       "    </tr>\n",
       "    <tr>\n",
       "      <th>GarageCars</th>\n",
       "      <td>1</td>\n",
       "      <td>1</td>\n",
       "    </tr>\n",
       "    <tr>\n",
       "      <th>GarageArea</th>\n",
       "      <td>1</td>\n",
       "      <td>1</td>\n",
       "    </tr>\n",
       "    <tr>\n",
       "      <th>GarageQual</th>\n",
       "      <td>78</td>\n",
       "      <td>78</td>\n",
       "    </tr>\n",
       "    <tr>\n",
       "      <th>GarageCond</th>\n",
       "      <td>78</td>\n",
       "      <td>78</td>\n",
       "    </tr>\n",
       "    <tr>\n",
       "      <th>PoolQC</th>\n",
       "      <td>1456</td>\n",
       "      <td>1456</td>\n",
       "    </tr>\n",
       "    <tr>\n",
       "      <th>Fence</th>\n",
       "      <td>1169</td>\n",
       "      <td>1169</td>\n",
       "    </tr>\n",
       "    <tr>\n",
       "      <th>MiscFeature</th>\n",
       "      <td>1408</td>\n",
       "      <td>1408</td>\n",
       "    </tr>\n",
       "    <tr>\n",
       "      <th>SaleType</th>\n",
       "      <td>1</td>\n",
       "      <td>1</td>\n",
       "    </tr>\n",
       "  </tbody>\n",
       "</table>\n",
       "</div>"
      ],
      "text/plain": [
       "                 0  count\n",
       "MSZoning         4      4\n",
       "Alley         1352   1352\n",
       "Utilities        2      2\n",
       "Exterior1st      1      1\n",
       "Exterior2nd      1      1\n",
       "MasVnrType      16     16\n",
       "MasVnrArea      15     15\n",
       "BsmtQual        44     44\n",
       "BsmtCond        45     45\n",
       "BsmtExposure    44     44\n",
       "BsmtFinType1    42     42\n",
       "BsmtFinSF1       1      1\n",
       "BsmtFinType2    42     42\n",
       "BsmtFinSF2       1      1\n",
       "BsmtUnfSF        1      1\n",
       "TotalBsmtSF      1      1\n",
       "BsmtFullBath     2      2\n",
       "BsmtHalfBath     2      2\n",
       "KitchenQual      1      1\n",
       "Functional       2      2\n",
       "FireplaceQu    730    730\n",
       "GarageType      76     76\n",
       "GarageFinish    78     78\n",
       "GarageCars       1      1\n",
       "GarageArea       1      1\n",
       "GarageQual      78     78\n",
       "GarageCond      78     78\n",
       "PoolQC        1456   1456\n",
       "Fence         1169   1169\n",
       "MiscFeature   1408   1408\n",
       "SaleType         1      1"
      ]
     },
     "execution_count": 401,
     "metadata": {},
     "output_type": "execute_result"
    }
   ],
   "source": [
    "a[a['count']>0]"
   ]
  },
  {
   "cell_type": "code",
   "execution_count": 402,
   "metadata": {
    "collapsed": false
   },
   "outputs": [
    {
     "data": {
      "text/plain": [
       "31"
      ]
     },
     "execution_count": 402,
     "metadata": {},
     "output_type": "execute_result"
    }
   ],
   "source": [
    "len(a[a['count']>0])"
   ]
  },
  {
   "cell_type": "code",
   "execution_count": 403,
   "metadata": {
    "collapsed": true
   },
   "outputs": [],
   "source": [
    "#MSZoning COlumn"
   ]
  },
  {
   "cell_type": "code",
   "execution_count": 404,
   "metadata": {
    "collapsed": false
   },
   "outputs": [
    {
     "data": {
      "text/plain": [
       "4"
      ]
     },
     "execution_count": 404,
     "metadata": {},
     "output_type": "execute_result"
    }
   ],
   "source": [
    "test_data['MSZoning'].isnull().sum()"
   ]
  },
  {
   "cell_type": "code",
   "execution_count": 405,
   "metadata": {
    "collapsed": false
   },
   "outputs": [],
   "source": [
    "test_data['MSZoning']=test_data['MSZoning'].replace(np.NaN,test_data['MSZoning'].mode().values[0])"
   ]
  },
  {
   "cell_type": "code",
   "execution_count": 406,
   "metadata": {
    "collapsed": false
   },
   "outputs": [
    {
     "data": {
      "text/plain": [
       "0"
      ]
     },
     "execution_count": 406,
     "metadata": {},
     "output_type": "execute_result"
    }
   ],
   "source": [
    "test_data['MSZoning'].isnull().sum()"
   ]
  },
  {
   "cell_type": "code",
   "execution_count": 407,
   "metadata": {
    "collapsed": true
   },
   "outputs": [],
   "source": [
    "#Alley Column"
   ]
  },
  {
   "cell_type": "code",
   "execution_count": 408,
   "metadata": {
    "collapsed": false
   },
   "outputs": [
    {
     "data": {
      "text/plain": [
       "1352"
      ]
     },
     "execution_count": 408,
     "metadata": {},
     "output_type": "execute_result"
    }
   ],
   "source": [
    "test_data['Alley'].isnull().sum()"
   ]
  },
  {
   "cell_type": "code",
   "execution_count": 409,
   "metadata": {
    "collapsed": false
   },
   "outputs": [],
   "source": [
    "test_data['Alley']=test_data['Alley'].replace(np.NaN, 'No Alley Access')"
   ]
  },
  {
   "cell_type": "code",
   "execution_count": 410,
   "metadata": {
    "collapsed": true
   },
   "outputs": [],
   "source": [
    "#Utilities Column"
   ]
  },
  {
   "cell_type": "code",
   "execution_count": 411,
   "metadata": {
    "collapsed": false
   },
   "outputs": [
    {
     "data": {
      "text/plain": [
       "2"
      ]
     },
     "execution_count": 411,
     "metadata": {},
     "output_type": "execute_result"
    }
   ],
   "source": [
    "test_data['Utilities'].isnull().sum()"
   ]
  },
  {
   "cell_type": "code",
   "execution_count": 412,
   "metadata": {
    "collapsed": true
   },
   "outputs": [],
   "source": [
    "test_data['Utilities']=test_data['Utilities'].replace(np.NaN,test_data['Utilities'].mode().values[0])"
   ]
  },
  {
   "cell_type": "code",
   "execution_count": 413,
   "metadata": {
    "collapsed": true
   },
   "outputs": [],
   "source": [
    "#Exterior 1st Column"
   ]
  },
  {
   "cell_type": "code",
   "execution_count": 414,
   "metadata": {
    "collapsed": false
   },
   "outputs": [
    {
     "data": {
      "text/plain": [
       "1"
      ]
     },
     "execution_count": 414,
     "metadata": {},
     "output_type": "execute_result"
    }
   ],
   "source": [
    "test_data['Exterior1st'].isnull().sum()"
   ]
  },
  {
   "cell_type": "code",
   "execution_count": 415,
   "metadata": {
    "collapsed": true
   },
   "outputs": [],
   "source": [
    "test_data['Exterior1st']=test_data['Exterior1st'].replace(np.NaN,test_data['Exterior1st'].mode().values[0])"
   ]
  },
  {
   "cell_type": "code",
   "execution_count": 416,
   "metadata": {
    "collapsed": true
   },
   "outputs": [],
   "source": [
    "#Exterior 2nd Column"
   ]
  },
  {
   "cell_type": "code",
   "execution_count": 417,
   "metadata": {
    "collapsed": false
   },
   "outputs": [
    {
     "data": {
      "text/plain": [
       "1"
      ]
     },
     "execution_count": 417,
     "metadata": {},
     "output_type": "execute_result"
    }
   ],
   "source": [
    "test_data['Exterior2nd'].isnull().sum()"
   ]
  },
  {
   "cell_type": "code",
   "execution_count": 418,
   "metadata": {
    "collapsed": true
   },
   "outputs": [],
   "source": [
    "test_data['Exterior2nd']=test_data['Exterior2nd'].replace(np.NaN,test_data['Utilities'].mode().values[0])"
   ]
  },
  {
   "cell_type": "code",
   "execution_count": 419,
   "metadata": {
    "collapsed": true
   },
   "outputs": [],
   "source": [
    "#MasVnrType Column"
   ]
  },
  {
   "cell_type": "code",
   "execution_count": 420,
   "metadata": {
    "collapsed": false
   },
   "outputs": [
    {
     "data": {
      "text/plain": [
       "array(['None', 'BrkFace', 'Stone', 'BrkCmn', nan], dtype=object)"
      ]
     },
     "execution_count": 420,
     "metadata": {},
     "output_type": "execute_result"
    }
   ],
   "source": [
    "test_data['MasVnrType'].unique()"
   ]
  },
  {
   "cell_type": "code",
   "execution_count": 421,
   "metadata": {
    "collapsed": false
   },
   "outputs": [],
   "source": [
    "test_data['MasVnrType']=test_data['MasVnrType'].replace(np.NaN,test_data['MasVnrType'].mode().values[0])"
   ]
  },
  {
   "cell_type": "code",
   "execution_count": 422,
   "metadata": {
    "collapsed": false
   },
   "outputs": [
    {
     "data": {
      "text/plain": [
       "0"
      ]
     },
     "execution_count": 422,
     "metadata": {},
     "output_type": "execute_result"
    }
   ],
   "source": [
    "test_data['MasVnrType'].isnull().sum()"
   ]
  },
  {
   "cell_type": "code",
   "execution_count": 423,
   "metadata": {
    "collapsed": true
   },
   "outputs": [],
   "source": [
    "#MasVnrArea Column"
   ]
  },
  {
   "cell_type": "code",
   "execution_count": 424,
   "metadata": {
    "collapsed": false
   },
   "outputs": [
    {
     "data": {
      "text/plain": [
       "15"
      ]
     },
     "execution_count": 424,
     "metadata": {},
     "output_type": "execute_result"
    }
   ],
   "source": [
    "test_data['MasVnrArea'].isnull().sum()"
   ]
  },
  {
   "cell_type": "code",
   "execution_count": 425,
   "metadata": {
    "collapsed": false
   },
   "outputs": [
    {
     "data": {
      "text/plain": [
       "0.0"
      ]
     },
     "execution_count": 425,
     "metadata": {},
     "output_type": "execute_result"
    }
   ],
   "source": [
    "test_data['MasVnrArea'].median()"
   ]
  },
  {
   "cell_type": "code",
   "execution_count": 426,
   "metadata": {
    "collapsed": false
   },
   "outputs": [],
   "source": [
    "test_data['MasVnrArea']=test_data['MasVnrArea'].replace(np.NaN,test_data['MasVnrArea'].median())"
   ]
  },
  {
   "cell_type": "code",
   "execution_count": 427,
   "metadata": {
    "collapsed": true
   },
   "outputs": [],
   "source": [
    "#BsmtQual Column"
   ]
  },
  {
   "cell_type": "code",
   "execution_count": 428,
   "metadata": {
    "collapsed": false
   },
   "outputs": [
    {
     "data": {
      "text/plain": [
       "44"
      ]
     },
     "execution_count": 428,
     "metadata": {},
     "output_type": "execute_result"
    }
   ],
   "source": [
    "test_data['BsmtQual'].isnull().sum()"
   ]
  },
  {
   "cell_type": "code",
   "execution_count": 429,
   "metadata": {
    "collapsed": false
   },
   "outputs": [
    {
     "data": {
      "text/plain": [
       "array(['TA', 'Gd', 'Ex', 'Fa', nan], dtype=object)"
      ]
     },
     "execution_count": 429,
     "metadata": {},
     "output_type": "execute_result"
    }
   ],
   "source": [
    "test_data['BsmtQual'].unique()"
   ]
  },
  {
   "cell_type": "code",
   "execution_count": 430,
   "metadata": {
    "collapsed": false
   },
   "outputs": [],
   "source": [
    "test_data['BsmtQual']=test_data['BsmtQual'].replace(np.NaN,\"No Basement\")"
   ]
  },
  {
   "cell_type": "code",
   "execution_count": 431,
   "metadata": {
    "collapsed": true
   },
   "outputs": [],
   "source": [
    "#BsmtCond Column"
   ]
  },
  {
   "cell_type": "code",
   "execution_count": 432,
   "metadata": {
    "collapsed": false
   },
   "outputs": [
    {
     "data": {
      "text/plain": [
       "45"
      ]
     },
     "execution_count": 432,
     "metadata": {},
     "output_type": "execute_result"
    }
   ],
   "source": [
    "test_data['BsmtCond'].isnull().sum()"
   ]
  },
  {
   "cell_type": "code",
   "execution_count": 433,
   "metadata": {
    "collapsed": false
   },
   "outputs": [
    {
     "data": {
      "text/plain": [
       "array(['TA', 'Po', 'Fa', 'Gd', nan], dtype=object)"
      ]
     },
     "execution_count": 433,
     "metadata": {},
     "output_type": "execute_result"
    }
   ],
   "source": [
    "test_data['BsmtCond'].unique()"
   ]
  },
  {
   "cell_type": "code",
   "execution_count": 434,
   "metadata": {
    "collapsed": false
   },
   "outputs": [],
   "source": [
    "test_data['BsmtCond']=test_data['BsmtCond'].replace(np.NaN,\"No Basement\")"
   ]
  },
  {
   "cell_type": "code",
   "execution_count": 435,
   "metadata": {
    "collapsed": true
   },
   "outputs": [],
   "source": [
    "#BsmtExposure column"
   ]
  },
  {
   "cell_type": "code",
   "execution_count": 436,
   "metadata": {
    "collapsed": false
   },
   "outputs": [
    {
     "data": {
      "text/plain": [
       "44"
      ]
     },
     "execution_count": 436,
     "metadata": {},
     "output_type": "execute_result"
    }
   ],
   "source": [
    "test_data['BsmtExposure'].isnull().sum()"
   ]
  },
  {
   "cell_type": "code",
   "execution_count": 437,
   "metadata": {
    "collapsed": false
   },
   "outputs": [
    {
     "data": {
      "text/plain": [
       "array(['No', 'Gd', 'Mn', 'Av', nan], dtype=object)"
      ]
     },
     "execution_count": 437,
     "metadata": {},
     "output_type": "execute_result"
    }
   ],
   "source": [
    "test_data['BsmtExposure'].unique()"
   ]
  },
  {
   "cell_type": "code",
   "execution_count": 438,
   "metadata": {
    "collapsed": false
   },
   "outputs": [],
   "source": [
    "test_data['BsmtExposure']=test_data['BsmtExposure'].replace(np.NaN,\"No Basement\")"
   ]
  },
  {
   "cell_type": "code",
   "execution_count": 439,
   "metadata": {
    "collapsed": true
   },
   "outputs": [],
   "source": [
    "#BsmtFinType1 Column"
   ]
  },
  {
   "cell_type": "code",
   "execution_count": 440,
   "metadata": {
    "collapsed": false
   },
   "outputs": [
    {
     "data": {
      "text/plain": [
       "42"
      ]
     },
     "execution_count": 440,
     "metadata": {},
     "output_type": "execute_result"
    }
   ],
   "source": [
    "test_data['BsmtFinType1'].isnull().sum()"
   ]
  },
  {
   "cell_type": "code",
   "execution_count": 441,
   "metadata": {
    "collapsed": false
   },
   "outputs": [
    {
     "data": {
      "text/plain": [
       "array(['Rec', 'ALQ', 'GLQ', 'Unf', 'BLQ', 'LwQ', nan], dtype=object)"
      ]
     },
     "execution_count": 441,
     "metadata": {},
     "output_type": "execute_result"
    }
   ],
   "source": [
    "test_data['BsmtFinType1'].unique()"
   ]
  },
  {
   "cell_type": "code",
   "execution_count": 442,
   "metadata": {
    "collapsed": false
   },
   "outputs": [],
   "source": [
    "test_data['BsmtFinType1']=test_data['BsmtFinType1'].replace(np.NaN,\"No Basement\")"
   ]
  },
  {
   "cell_type": "code",
   "execution_count": 443,
   "metadata": {
    "collapsed": true
   },
   "outputs": [],
   "source": [
    "#BsmtFinType2 Column"
   ]
  },
  {
   "cell_type": "code",
   "execution_count": 444,
   "metadata": {
    "collapsed": false
   },
   "outputs": [
    {
     "data": {
      "text/plain": [
       "42"
      ]
     },
     "execution_count": 444,
     "metadata": {},
     "output_type": "execute_result"
    }
   ],
   "source": [
    "test_data['BsmtFinType2'].isnull().sum()"
   ]
  },
  {
   "cell_type": "code",
   "execution_count": 445,
   "metadata": {
    "collapsed": false
   },
   "outputs": [
    {
     "data": {
      "text/plain": [
       "array(['LwQ', 'Unf', 'Rec', 'BLQ', 'GLQ', 'ALQ', nan], dtype=object)"
      ]
     },
     "execution_count": 445,
     "metadata": {},
     "output_type": "execute_result"
    }
   ],
   "source": [
    "test_data['BsmtFinType2'].unique()"
   ]
  },
  {
   "cell_type": "code",
   "execution_count": 446,
   "metadata": {
    "collapsed": false
   },
   "outputs": [],
   "source": [
    "test_data['BsmtFinType2']=test_data['BsmtFinType2'].replace(np.NaN,\"No Basement\")"
   ]
  },
  {
   "cell_type": "code",
   "execution_count": 447,
   "metadata": {
    "collapsed": true
   },
   "outputs": [],
   "source": [
    "#BsmtFinSF1 Column"
   ]
  },
  {
   "cell_type": "code",
   "execution_count": 448,
   "metadata": {
    "collapsed": false
   },
   "outputs": [
    {
     "data": {
      "text/plain": [
       "1"
      ]
     },
     "execution_count": 448,
     "metadata": {},
     "output_type": "execute_result"
    }
   ],
   "source": [
    "test_data['BsmtFinSF1'].isnull().sum()"
   ]
  },
  {
   "cell_type": "code",
   "execution_count": 449,
   "metadata": {
    "collapsed": false
   },
   "outputs": [
    {
     "data": {
      "text/plain": [
       "350.5"
      ]
     },
     "execution_count": 449,
     "metadata": {},
     "output_type": "execute_result"
    }
   ],
   "source": [
    "test_data['BsmtFinSF1'].median()"
   ]
  },
  {
   "cell_type": "code",
   "execution_count": 450,
   "metadata": {
    "collapsed": true
   },
   "outputs": [],
   "source": [
    "test_data['BsmtFinSF1']=test_data['BsmtFinSF1'].replace(np.NaN,test_data['BsmtFinSF1'].median())"
   ]
  },
  {
   "cell_type": "code",
   "execution_count": null,
   "metadata": {
    "collapsed": true
   },
   "outputs": [],
   "source": []
  },
  {
   "cell_type": "code",
   "execution_count": 451,
   "metadata": {
    "collapsed": true
   },
   "outputs": [],
   "source": [
    "#BsmtFinSF2 Column"
   ]
  },
  {
   "cell_type": "code",
   "execution_count": 452,
   "metadata": {
    "collapsed": false
   },
   "outputs": [
    {
     "data": {
      "text/plain": [
       "1"
      ]
     },
     "execution_count": 452,
     "metadata": {},
     "output_type": "execute_result"
    }
   ],
   "source": [
    "test_data['BsmtFinSF2'].isnull().sum()"
   ]
  },
  {
   "cell_type": "code",
   "execution_count": 453,
   "metadata": {
    "collapsed": false
   },
   "outputs": [
    {
     "data": {
      "text/plain": [
       "0.0"
      ]
     },
     "execution_count": 453,
     "metadata": {},
     "output_type": "execute_result"
    }
   ],
   "source": [
    "test_data['BsmtFinSF2'].median()"
   ]
  },
  {
   "cell_type": "code",
   "execution_count": 454,
   "metadata": {
    "collapsed": true
   },
   "outputs": [],
   "source": [
    "test_data['BsmtFinSF2']=test_data['BsmtFinSF2'].replace(np.NaN,test_data['BsmtFinSF2'].median())"
   ]
  },
  {
   "cell_type": "code",
   "execution_count": 455,
   "metadata": {
    "collapsed": true
   },
   "outputs": [],
   "source": [
    "#BsmtUnfSF Column"
   ]
  },
  {
   "cell_type": "code",
   "execution_count": 456,
   "metadata": {
    "collapsed": false
   },
   "outputs": [
    {
     "data": {
      "text/plain": [
       "1"
      ]
     },
     "execution_count": 456,
     "metadata": {},
     "output_type": "execute_result"
    }
   ],
   "source": [
    "test_data['BsmtUnfSF'].isnull().sum()"
   ]
  },
  {
   "cell_type": "code",
   "execution_count": 457,
   "metadata": {
    "collapsed": false
   },
   "outputs": [
    {
     "data": {
      "text/plain": [
       "460.0"
      ]
     },
     "execution_count": 457,
     "metadata": {},
     "output_type": "execute_result"
    }
   ],
   "source": [
    "test_data['BsmtUnfSF'].median()"
   ]
  },
  {
   "cell_type": "code",
   "execution_count": 458,
   "metadata": {
    "collapsed": true
   },
   "outputs": [],
   "source": [
    "test_data['BsmtUnfSF']=test_data['BsmtUnfSF'].replace(np.NaN,test_data['BsmtUnfSF'].median())"
   ]
  },
  {
   "cell_type": "code",
   "execution_count": null,
   "metadata": {
    "collapsed": true
   },
   "outputs": [],
   "source": []
  },
  {
   "cell_type": "code",
   "execution_count": 459,
   "metadata": {
    "collapsed": true
   },
   "outputs": [],
   "source": [
    "#TotalBsmtSF Column"
   ]
  },
  {
   "cell_type": "code",
   "execution_count": 460,
   "metadata": {
    "collapsed": false
   },
   "outputs": [
    {
     "data": {
      "text/plain": [
       "1"
      ]
     },
     "execution_count": 460,
     "metadata": {},
     "output_type": "execute_result"
    }
   ],
   "source": [
    "test_data['TotalBsmtSF'].isnull().sum()"
   ]
  },
  {
   "cell_type": "code",
   "execution_count": 461,
   "metadata": {
    "collapsed": false
   },
   "outputs": [
    {
     "data": {
      "text/plain": [
       "988.0"
      ]
     },
     "execution_count": 461,
     "metadata": {},
     "output_type": "execute_result"
    }
   ],
   "source": [
    "test_data['TotalBsmtSF'].median()"
   ]
  },
  {
   "cell_type": "code",
   "execution_count": 462,
   "metadata": {
    "collapsed": true
   },
   "outputs": [],
   "source": [
    "test_data['TotalBsmtSF']=test_data['TotalBsmtSF'].replace(np.NaN,test_data['TotalBsmtSF'].median())"
   ]
  },
  {
   "cell_type": "code",
   "execution_count": 463,
   "metadata": {
    "collapsed": true
   },
   "outputs": [],
   "source": [
    "#BsmtFullBath column"
   ]
  },
  {
   "cell_type": "code",
   "execution_count": 464,
   "metadata": {
    "collapsed": false
   },
   "outputs": [
    {
     "data": {
      "text/plain": [
       "2"
      ]
     },
     "execution_count": 464,
     "metadata": {},
     "output_type": "execute_result"
    }
   ],
   "source": [
    "test_data['BsmtFullBath'].isnull().sum()"
   ]
  },
  {
   "cell_type": "code",
   "execution_count": 465,
   "metadata": {
    "collapsed": false
   },
   "outputs": [
    {
     "data": {
      "text/plain": [
       "0.0"
      ]
     },
     "execution_count": 465,
     "metadata": {},
     "output_type": "execute_result"
    }
   ],
   "source": [
    "test_data['BsmtFullBath'].median()"
   ]
  },
  {
   "cell_type": "code",
   "execution_count": 466,
   "metadata": {
    "collapsed": true
   },
   "outputs": [],
   "source": [
    "test_data['BsmtFullBath']=test_data['BsmtFullBath'].replace(np.NaN,test_data['BsmtFullBath'].median())"
   ]
  },
  {
   "cell_type": "code",
   "execution_count": 467,
   "metadata": {
    "collapsed": true
   },
   "outputs": [],
   "source": [
    "#BsmtHalfBath column"
   ]
  },
  {
   "cell_type": "code",
   "execution_count": 468,
   "metadata": {
    "collapsed": false
   },
   "outputs": [
    {
     "data": {
      "text/plain": [
       "2"
      ]
     },
     "execution_count": 468,
     "metadata": {},
     "output_type": "execute_result"
    }
   ],
   "source": [
    "test_data['BsmtHalfBath'].isnull().sum()"
   ]
  },
  {
   "cell_type": "code",
   "execution_count": 469,
   "metadata": {
    "collapsed": false
   },
   "outputs": [
    {
     "data": {
      "text/plain": [
       "0.0"
      ]
     },
     "execution_count": 469,
     "metadata": {},
     "output_type": "execute_result"
    }
   ],
   "source": [
    "test_data['BsmtHalfBath'].median()"
   ]
  },
  {
   "cell_type": "code",
   "execution_count": 470,
   "metadata": {
    "collapsed": true
   },
   "outputs": [],
   "source": [
    "test_data['BsmtHalfBath']=test_data['BsmtHalfBath'].replace(np.NaN,test_data['BsmtHalfBath'].median())"
   ]
  },
  {
   "cell_type": "code",
   "execution_count": 471,
   "metadata": {
    "collapsed": true
   },
   "outputs": [],
   "source": [
    "#KitchenQual Column"
   ]
  },
  {
   "cell_type": "code",
   "execution_count": 472,
   "metadata": {
    "collapsed": false
   },
   "outputs": [
    {
     "data": {
      "text/plain": [
       "1"
      ]
     },
     "execution_count": 472,
     "metadata": {},
     "output_type": "execute_result"
    }
   ],
   "source": [
    "test_data['KitchenQual'].isnull().sum()"
   ]
  },
  {
   "cell_type": "code",
   "execution_count": 473,
   "metadata": {
    "collapsed": false
   },
   "outputs": [
    {
     "data": {
      "text/plain": [
       "'TA'"
      ]
     },
     "execution_count": 473,
     "metadata": {},
     "output_type": "execute_result"
    }
   ],
   "source": [
    "test_data['KitchenQual'].mode().values[0]"
   ]
  },
  {
   "cell_type": "code",
   "execution_count": 474,
   "metadata": {
    "collapsed": true
   },
   "outputs": [],
   "source": [
    "test_data['KitchenQual']=test_data['KitchenQual'].replace(np.NaN,test_data['KitchenQual'].mode().values[0])"
   ]
  },
  {
   "cell_type": "code",
   "execution_count": 475,
   "metadata": {
    "collapsed": true
   },
   "outputs": [],
   "source": [
    "#Functional column"
   ]
  },
  {
   "cell_type": "code",
   "execution_count": 476,
   "metadata": {
    "collapsed": false
   },
   "outputs": [
    {
     "data": {
      "text/plain": [
       "2"
      ]
     },
     "execution_count": 476,
     "metadata": {},
     "output_type": "execute_result"
    }
   ],
   "source": [
    "test_data['Functional'].isnull().sum()"
   ]
  },
  {
   "cell_type": "code",
   "execution_count": 477,
   "metadata": {
    "collapsed": false
   },
   "outputs": [
    {
     "data": {
      "text/plain": [
       "'Typ'"
      ]
     },
     "execution_count": 477,
     "metadata": {},
     "output_type": "execute_result"
    }
   ],
   "source": [
    "test_data['Functional'].mode().values[0]"
   ]
  },
  {
   "cell_type": "code",
   "execution_count": 478,
   "metadata": {
    "collapsed": true
   },
   "outputs": [],
   "source": [
    "test_data['Functional']=test_data['Functional'].replace(np.NaN,test_data['Functional'].mode().values[0])"
   ]
  },
  {
   "cell_type": "code",
   "execution_count": 479,
   "metadata": {
    "collapsed": true
   },
   "outputs": [],
   "source": [
    "#FireplaceQu Column"
   ]
  },
  {
   "cell_type": "code",
   "execution_count": 480,
   "metadata": {
    "collapsed": false
   },
   "outputs": [
    {
     "data": {
      "text/plain": [
       "730"
      ]
     },
     "execution_count": 480,
     "metadata": {},
     "output_type": "execute_result"
    }
   ],
   "source": [
    "test_data['FireplaceQu'].isnull().sum()"
   ]
  },
  {
   "cell_type": "code",
   "execution_count": 481,
   "metadata": {
    "collapsed": false
   },
   "outputs": [
    {
     "data": {
      "text/plain": [
       "array([nan, 'TA', 'Gd', 'Po', 'Fa', 'Ex'], dtype=object)"
      ]
     },
     "execution_count": 481,
     "metadata": {},
     "output_type": "execute_result"
    }
   ],
   "source": [
    "test_data['FireplaceQu'].unique()"
   ]
  },
  {
   "cell_type": "code",
   "execution_count": 482,
   "metadata": {
    "collapsed": false
   },
   "outputs": [],
   "source": [
    "test_data['FireplaceQu']=test_data['FireplaceQu'].replace(np.NaN,\"No Fireplace\")"
   ]
  },
  {
   "cell_type": "code",
   "execution_count": 483,
   "metadata": {
    "collapsed": true
   },
   "outputs": [],
   "source": [
    "# GarageType column"
   ]
  },
  {
   "cell_type": "code",
   "execution_count": 484,
   "metadata": {
    "collapsed": false
   },
   "outputs": [
    {
     "data": {
      "text/plain": [
       "76"
      ]
     },
     "execution_count": 484,
     "metadata": {},
     "output_type": "execute_result"
    }
   ],
   "source": [
    "test_data['GarageType'].isnull().sum()"
   ]
  },
  {
   "cell_type": "code",
   "execution_count": 485,
   "metadata": {
    "collapsed": false
   },
   "outputs": [
    {
     "data": {
      "text/plain": [
       "array(['Attchd', 'Detchd', 'BuiltIn', nan, 'Basment', '2Types', 'CarPort'], dtype=object)"
      ]
     },
     "execution_count": 485,
     "metadata": {},
     "output_type": "execute_result"
    }
   ],
   "source": [
    "test_data['GarageType'].unique()"
   ]
  },
  {
   "cell_type": "code",
   "execution_count": 486,
   "metadata": {
    "collapsed": false
   },
   "outputs": [],
   "source": [
    "test_data['GarageType']=test_data['GarageType'].replace(np.NaN,\"No Garage\")"
   ]
  },
  {
   "cell_type": "code",
   "execution_count": 487,
   "metadata": {
    "collapsed": true
   },
   "outputs": [],
   "source": [
    "# GarageFinish column"
   ]
  },
  {
   "cell_type": "code",
   "execution_count": 488,
   "metadata": {
    "collapsed": false
   },
   "outputs": [
    {
     "data": {
      "text/plain": [
       "78"
      ]
     },
     "execution_count": 488,
     "metadata": {},
     "output_type": "execute_result"
    }
   ],
   "source": [
    "test_data['GarageFinish'].isnull().sum()"
   ]
  },
  {
   "cell_type": "code",
   "execution_count": 489,
   "metadata": {
    "collapsed": false
   },
   "outputs": [
    {
     "data": {
      "text/plain": [
       "array(['Unf', 'Fin', 'RFn', nan], dtype=object)"
      ]
     },
     "execution_count": 489,
     "metadata": {},
     "output_type": "execute_result"
    }
   ],
   "source": [
    "test_data['GarageFinish'].unique()"
   ]
  },
  {
   "cell_type": "code",
   "execution_count": 490,
   "metadata": {
    "collapsed": false
   },
   "outputs": [],
   "source": [
    "test_data['GarageFinish']=test_data['GarageFinish'].replace(np.NaN,\"No Garage\")"
   ]
  },
  {
   "cell_type": "code",
   "execution_count": 491,
   "metadata": {
    "collapsed": true
   },
   "outputs": [],
   "source": [
    "#Garaage Cars COlumn"
   ]
  },
  {
   "cell_type": "code",
   "execution_count": 492,
   "metadata": {
    "collapsed": false
   },
   "outputs": [
    {
     "data": {
      "text/plain": [
       "1"
      ]
     },
     "execution_count": 492,
     "metadata": {},
     "output_type": "execute_result"
    }
   ],
   "source": [
    "test_data['GarageCars'].isnull().sum()"
   ]
  },
  {
   "cell_type": "code",
   "execution_count": 493,
   "metadata": {
    "collapsed": false
   },
   "outputs": [
    {
     "data": {
      "text/plain": [
       "2.0"
      ]
     },
     "execution_count": 493,
     "metadata": {},
     "output_type": "execute_result"
    }
   ],
   "source": [
    "test_data['GarageCars'].median()"
   ]
  },
  {
   "cell_type": "code",
   "execution_count": 494,
   "metadata": {
    "collapsed": true
   },
   "outputs": [],
   "source": [
    "test_data['GarageCars']=test_data['GarageCars'].replace(np.NaN,test_data['GarageCars'].median())"
   ]
  },
  {
   "cell_type": "code",
   "execution_count": 495,
   "metadata": {
    "collapsed": true
   },
   "outputs": [],
   "source": [
    "#Garaage area COlumn"
   ]
  },
  {
   "cell_type": "code",
   "execution_count": 496,
   "metadata": {
    "collapsed": false
   },
   "outputs": [
    {
     "data": {
      "text/plain": [
       "1"
      ]
     },
     "execution_count": 496,
     "metadata": {},
     "output_type": "execute_result"
    }
   ],
   "source": [
    "test_data['GarageArea'].isnull().sum()"
   ]
  },
  {
   "cell_type": "code",
   "execution_count": 497,
   "metadata": {
    "collapsed": false
   },
   "outputs": [
    {
     "data": {
      "text/plain": [
       "480.0"
      ]
     },
     "execution_count": 497,
     "metadata": {},
     "output_type": "execute_result"
    }
   ],
   "source": [
    "test_data['GarageArea'].median()"
   ]
  },
  {
   "cell_type": "code",
   "execution_count": 498,
   "metadata": {
    "collapsed": true
   },
   "outputs": [],
   "source": [
    "test_data['GarageArea']=test_data['GarageArea'].replace(np.NaN,test_data['GarageArea'].median())"
   ]
  },
  {
   "cell_type": "code",
   "execution_count": 499,
   "metadata": {
    "collapsed": true
   },
   "outputs": [],
   "source": [
    "#GarageQual Column"
   ]
  },
  {
   "cell_type": "code",
   "execution_count": 500,
   "metadata": {
    "collapsed": false
   },
   "outputs": [
    {
     "data": {
      "text/plain": [
       "78"
      ]
     },
     "execution_count": 500,
     "metadata": {},
     "output_type": "execute_result"
    }
   ],
   "source": [
    "test_data['GarageQual'].isnull().sum()"
   ]
  },
  {
   "cell_type": "code",
   "execution_count": 501,
   "metadata": {
    "collapsed": false
   },
   "outputs": [
    {
     "data": {
      "text/plain": [
       "array(['TA', nan, 'Fa', 'Gd', 'Po'], dtype=object)"
      ]
     },
     "execution_count": 501,
     "metadata": {},
     "output_type": "execute_result"
    }
   ],
   "source": [
    "test_data['GarageQual'].unique()"
   ]
  },
  {
   "cell_type": "code",
   "execution_count": 502,
   "metadata": {
    "collapsed": false
   },
   "outputs": [],
   "source": [
    "test_data['GarageQual']=test_data['GarageQual'].replace(np.NaN,\"No Garage\")"
   ]
  },
  {
   "cell_type": "code",
   "execution_count": 503,
   "metadata": {
    "collapsed": true
   },
   "outputs": [],
   "source": [
    "#GarageCond Column"
   ]
  },
  {
   "cell_type": "code",
   "execution_count": 504,
   "metadata": {
    "collapsed": false
   },
   "outputs": [
    {
     "data": {
      "text/plain": [
       "78"
      ]
     },
     "execution_count": 504,
     "metadata": {},
     "output_type": "execute_result"
    }
   ],
   "source": [
    "test_data['GarageCond'].isnull().sum()"
   ]
  },
  {
   "cell_type": "code",
   "execution_count": 505,
   "metadata": {
    "collapsed": false
   },
   "outputs": [
    {
     "data": {
      "text/plain": [
       "array(['TA', nan, 'Fa', 'Gd', 'Po', 'Ex'], dtype=object)"
      ]
     },
     "execution_count": 505,
     "metadata": {},
     "output_type": "execute_result"
    }
   ],
   "source": [
    "test_data['GarageCond'].unique()"
   ]
  },
  {
   "cell_type": "code",
   "execution_count": 506,
   "metadata": {
    "collapsed": false
   },
   "outputs": [],
   "source": [
    "test_data['GarageCond']=test_data['GarageCond'].replace(np.NaN,\"No Garage\")"
   ]
  },
  {
   "cell_type": "code",
   "execution_count": 507,
   "metadata": {
    "collapsed": true
   },
   "outputs": [],
   "source": [
    "#PoolQC column"
   ]
  },
  {
   "cell_type": "code",
   "execution_count": 508,
   "metadata": {
    "collapsed": false
   },
   "outputs": [
    {
     "data": {
      "text/plain": [
       "1456"
      ]
     },
     "execution_count": 508,
     "metadata": {},
     "output_type": "execute_result"
    }
   ],
   "source": [
    "test_data['PoolQC'].isnull().sum()"
   ]
  },
  {
   "cell_type": "code",
   "execution_count": 509,
   "metadata": {
    "collapsed": false
   },
   "outputs": [
    {
     "data": {
      "text/plain": [
       "array([nan, 'Ex', 'Gd'], dtype=object)"
      ]
     },
     "execution_count": 509,
     "metadata": {},
     "output_type": "execute_result"
    }
   ],
   "source": [
    "test_data['PoolQC'].unique()"
   ]
  },
  {
   "cell_type": "code",
   "execution_count": 510,
   "metadata": {
    "collapsed": false
   },
   "outputs": [],
   "source": [
    "test_data['PoolQC']=test_data['PoolQC'].replace(np.NaN,\"No Pool\")"
   ]
  },
  {
   "cell_type": "code",
   "execution_count": 511,
   "metadata": {
    "collapsed": true
   },
   "outputs": [],
   "source": [
    "#Fence Column"
   ]
  },
  {
   "cell_type": "code",
   "execution_count": 512,
   "metadata": {
    "collapsed": false
   },
   "outputs": [
    {
     "data": {
      "text/plain": [
       "1169"
      ]
     },
     "execution_count": 512,
     "metadata": {},
     "output_type": "execute_result"
    }
   ],
   "source": [
    "test_data['Fence'].isnull().sum()"
   ]
  },
  {
   "cell_type": "code",
   "execution_count": 513,
   "metadata": {
    "collapsed": false
   },
   "outputs": [
    {
     "data": {
      "text/plain": [
       "array(['MnPrv', nan, 'GdPrv', 'GdWo', 'MnWw'], dtype=object)"
      ]
     },
     "execution_count": 513,
     "metadata": {},
     "output_type": "execute_result"
    }
   ],
   "source": [
    "test_data['Fence'].unique()"
   ]
  },
  {
   "cell_type": "code",
   "execution_count": 514,
   "metadata": {
    "collapsed": false
   },
   "outputs": [],
   "source": [
    "test_data['Fence']=test_data['Fence'].replace(np.NaN,\"No Fence\")"
   ]
  },
  {
   "cell_type": "code",
   "execution_count": 515,
   "metadata": {
    "collapsed": true
   },
   "outputs": [],
   "source": [
    "#MiscFeature Column"
   ]
  },
  {
   "cell_type": "code",
   "execution_count": 516,
   "metadata": {
    "collapsed": false
   },
   "outputs": [
    {
     "data": {
      "text/plain": [
       "1408"
      ]
     },
     "execution_count": 516,
     "metadata": {},
     "output_type": "execute_result"
    }
   ],
   "source": [
    "test_data['MiscFeature'].isnull().sum()"
   ]
  },
  {
   "cell_type": "code",
   "execution_count": 517,
   "metadata": {
    "collapsed": false
   },
   "outputs": [
    {
     "data": {
      "text/plain": [
       "array([nan, 'Gar2', 'Shed', 'Othr'], dtype=object)"
      ]
     },
     "execution_count": 517,
     "metadata": {},
     "output_type": "execute_result"
    }
   ],
   "source": [
    "test_data['MiscFeature'].unique()"
   ]
  },
  {
   "cell_type": "code",
   "execution_count": 518,
   "metadata": {
    "collapsed": false
   },
   "outputs": [],
   "source": [
    "test_data['MiscFeature']=test_data['MiscFeature'].replace(np.NaN,'None')"
   ]
  },
  {
   "cell_type": "code",
   "execution_count": 519,
   "metadata": {
    "collapsed": true
   },
   "outputs": [],
   "source": [
    "#Sale Type Column"
   ]
  },
  {
   "cell_type": "code",
   "execution_count": 520,
   "metadata": {
    "collapsed": false
   },
   "outputs": [
    {
     "data": {
      "text/plain": [
       "1"
      ]
     },
     "execution_count": 520,
     "metadata": {},
     "output_type": "execute_result"
    }
   ],
   "source": [
    "test_data['SaleType'].isnull().sum()"
   ]
  },
  {
   "cell_type": "code",
   "execution_count": 521,
   "metadata": {
    "collapsed": false
   },
   "outputs": [
    {
     "data": {
      "text/plain": [
       "'WD'"
      ]
     },
     "execution_count": 521,
     "metadata": {},
     "output_type": "execute_result"
    }
   ],
   "source": [
    "test_data['SaleType'].mode().values[0]"
   ]
  },
  {
   "cell_type": "code",
   "execution_count": 522,
   "metadata": {
    "collapsed": true
   },
   "outputs": [],
   "source": [
    "test_data['SaleType']=test_data['SaleType'].replace(np.NaN,test_data['SaleType'].mode().values[0])"
   ]
  },
  {
   "cell_type": "code",
   "execution_count": 523,
   "metadata": {
    "collapsed": true
   },
   "outputs": [],
   "source": [
    "#Testing if there are anymore nulls"
   ]
  },
  {
   "cell_type": "code",
   "execution_count": 524,
   "metadata": {
    "collapsed": false
   },
   "outputs": [
    {
     "data": {
      "text/plain": [
       "Id               0\n",
       "MSSubClass       0\n",
       "MSZoning         0\n",
       "LotFrontage      0\n",
       "LotArea          0\n",
       "Street           0\n",
       "Alley            0\n",
       "LotShape         0\n",
       "LandContour      0\n",
       "Utilities        0\n",
       "LotConfig        0\n",
       "LandSlope        0\n",
       "Neighborhood     0\n",
       "Condition1       0\n",
       "Condition2       0\n",
       "BldgType         0\n",
       "HouseStyle       0\n",
       "OverallQual      0\n",
       "OverallCond      0\n",
       "YearBuilt        0\n",
       "YearRemodAdd     0\n",
       "RoofStyle        0\n",
       "RoofMatl         0\n",
       "Exterior1st      0\n",
       "Exterior2nd      0\n",
       "MasVnrType       0\n",
       "MasVnrArea       0\n",
       "ExterQual        0\n",
       "ExterCond        0\n",
       "Foundation       0\n",
       "                ..\n",
       "HalfBath         0\n",
       "BedroomAbvGr     0\n",
       "KitchenAbvGr     0\n",
       "KitchenQual      0\n",
       "TotRmsAbvGrd     0\n",
       "Functional       0\n",
       "Fireplaces       0\n",
       "FireplaceQu      0\n",
       "GarageType       0\n",
       "GarageYrBlt      0\n",
       "GarageFinish     0\n",
       "GarageCars       0\n",
       "GarageArea       0\n",
       "GarageQual       0\n",
       "GarageCond       0\n",
       "PavedDrive       0\n",
       "WoodDeckSF       0\n",
       "OpenPorchSF      0\n",
       "EnclosedPorch    0\n",
       "3SsnPorch        0\n",
       "ScreenPorch      0\n",
       "PoolArea         0\n",
       "PoolQC           0\n",
       "Fence            0\n",
       "MiscFeature      0\n",
       "MiscVal          0\n",
       "MoSold           0\n",
       "YrSold           0\n",
       "SaleType         0\n",
       "SaleCondition    0\n",
       "dtype: int64"
      ]
     },
     "execution_count": 524,
     "metadata": {},
     "output_type": "execute_result"
    }
   ],
   "source": [
    "test_data.isnull().sum()"
   ]
  },
  {
   "cell_type": "code",
   "execution_count": 525,
   "metadata": {
    "collapsed": true
   },
   "outputs": [],
   "source": [
    "#From the Above code we can see that all the columns now are not having any null values."
   ]
  },
  {
   "cell_type": "code",
   "execution_count": 526,
   "metadata": {
    "collapsed": true
   },
   "outputs": [],
   "source": [
    "#Now we need to convert the categorical variables to numerical by using average by level."
   ]
  },
  {
   "cell_type": "code",
   "execution_count": 527,
   "metadata": {
    "collapsed": false
   },
   "outputs": [
    {
     "data": {
      "text/plain": [
       "Index(['Id', 'MSSubClass', 'MSZoning', 'LotFrontage', 'LotArea', 'Street',\n",
       "       'Alley', 'LotShape', 'LandContour', 'Utilities', 'LotConfig',\n",
       "       'LandSlope', 'Neighborhood', 'Condition1', 'Condition2', 'BldgType',\n",
       "       'HouseStyle', 'OverallQual', 'OverallCond', 'YearBuilt', 'YearRemodAdd',\n",
       "       'RoofStyle', 'RoofMatl', 'Exterior1st', 'Exterior2nd', 'MasVnrType',\n",
       "       'MasVnrArea', 'ExterQual', 'ExterCond', 'Foundation', 'BsmtQual',\n",
       "       'BsmtCond', 'BsmtExposure', 'BsmtFinType1', 'BsmtFinSF1',\n",
       "       'BsmtFinType2', 'BsmtFinSF2', 'BsmtUnfSF', 'TotalBsmtSF', 'Heating',\n",
       "       'HeatingQC', 'CentralAir', 'Electrical', '1stFlrSF', '2ndFlrSF',\n",
       "       'LowQualFinSF', 'GrLivArea', 'BsmtFullBath', 'BsmtHalfBath', 'FullBath',\n",
       "       'HalfBath', 'BedroomAbvGr', 'KitchenAbvGr', 'KitchenQual',\n",
       "       'TotRmsAbvGrd', 'Functional', 'Fireplaces', 'FireplaceQu', 'GarageType',\n",
       "       'GarageYrBlt', 'GarageFinish', 'GarageCars', 'GarageArea', 'GarageQual',\n",
       "       'GarageCond', 'PavedDrive', 'WoodDeckSF', 'OpenPorchSF',\n",
       "       'EnclosedPorch', '3SsnPorch', 'ScreenPorch', 'PoolArea', 'PoolQC',\n",
       "       'Fence', 'MiscFeature', 'MiscVal', 'MoSold', 'YrSold', 'SaleType',\n",
       "       'SaleCondition'],\n",
       "      dtype='object')"
      ]
     },
     "execution_count": 527,
     "metadata": {},
     "output_type": "execute_result"
    }
   ],
   "source": [
    "test_data.columns"
   ]
  },
  {
   "cell_type": "code",
   "execution_count": 528,
   "metadata": {
    "collapsed": false
   },
   "outputs": [],
   "source": [
    "numerical_columns=test_data._get_numeric_data().columns"
   ]
  },
  {
   "cell_type": "code",
   "execution_count": 529,
   "metadata": {
    "collapsed": false
   },
   "outputs": [
    {
     "data": {
      "text/plain": [
       "Index(['Id', 'MSSubClass', 'LotFrontage', 'LotArea', 'OverallQual',\n",
       "       'OverallCond', 'YearBuilt', 'YearRemodAdd', 'MasVnrArea', 'BsmtFinSF1',\n",
       "       'BsmtFinSF2', 'BsmtUnfSF', 'TotalBsmtSF', '1stFlrSF', '2ndFlrSF',\n",
       "       'LowQualFinSF', 'GrLivArea', 'BsmtFullBath', 'BsmtHalfBath', 'FullBath',\n",
       "       'HalfBath', 'BedroomAbvGr', 'KitchenAbvGr', 'TotRmsAbvGrd',\n",
       "       'Fireplaces', 'GarageYrBlt', 'GarageCars', 'GarageArea', 'WoodDeckSF',\n",
       "       'OpenPorchSF', 'EnclosedPorch', '3SsnPorch', 'ScreenPorch', 'PoolArea',\n",
       "       'MiscVal', 'MoSold', 'YrSold'],\n",
       "      dtype='object')"
      ]
     },
     "execution_count": 529,
     "metadata": {},
     "output_type": "execute_result"
    }
   ],
   "source": [
    "numerical_columns"
   ]
  },
  {
   "cell_type": "code",
   "execution_count": 530,
   "metadata": {
    "collapsed": false
   },
   "outputs": [],
   "source": [
    "categorical_columns=list(set(test_data.columns)-set(numerical_columns))"
   ]
  },
  {
   "cell_type": "code",
   "execution_count": 531,
   "metadata": {
    "collapsed": false
   },
   "outputs": [
    {
     "data": {
      "text/plain": [
       "['BsmtExposure',\n",
       " 'HeatingQC',\n",
       " 'Fence',\n",
       " 'RoofStyle',\n",
       " 'BldgType',\n",
       " 'MasVnrType',\n",
       " 'Functional',\n",
       " 'Foundation',\n",
       " 'MiscFeature',\n",
       " 'BsmtCond',\n",
       " 'BsmtFinType2',\n",
       " 'Exterior2nd',\n",
       " 'RoofMatl',\n",
       " 'ExterCond',\n",
       " 'FireplaceQu',\n",
       " 'KitchenQual',\n",
       " 'Street',\n",
       " 'LandSlope',\n",
       " 'PavedDrive',\n",
       " 'BsmtQual',\n",
       " 'Heating',\n",
       " 'Condition1',\n",
       " 'Condition2',\n",
       " 'HouseStyle',\n",
       " 'ExterQual',\n",
       " 'LotConfig',\n",
       " 'CentralAir',\n",
       " 'SaleType',\n",
       " 'LandContour',\n",
       " 'MSZoning',\n",
       " 'Alley',\n",
       " 'GarageQual',\n",
       " 'GarageType',\n",
       " 'LotShape',\n",
       " 'PoolQC',\n",
       " 'GarageCond',\n",
       " 'Exterior1st',\n",
       " 'SaleCondition',\n",
       " 'Electrical',\n",
       " 'Neighborhood',\n",
       " 'GarageFinish',\n",
       " 'Utilities',\n",
       " 'BsmtFinType1']"
      ]
     },
     "execution_count": 531,
     "metadata": {},
     "output_type": "execute_result"
    }
   ],
   "source": [
    "categorical_columns"
   ]
  },
  {
   "cell_type": "code",
   "execution_count": 532,
   "metadata": {
    "collapsed": false
   },
   "outputs": [
    {
     "data": {
      "text/plain": [
       "43"
      ]
     },
     "execution_count": 532,
     "metadata": {},
     "output_type": "execute_result"
    }
   ],
   "source": [
    "len(categorical_columns)"
   ]
  },
  {
   "cell_type": "code",
   "execution_count": 533,
   "metadata": {
    "collapsed": true
   },
   "outputs": [],
   "source": [
    "#Average By Level for categorical columns"
   ]
  },
  {
   "cell_type": "code",
   "execution_count": 534,
   "metadata": {
    "collapsed": false
   },
   "outputs": [
    {
     "ename": "KeyError",
     "evalue": "'SalePrice'",
     "output_type": "error",
     "traceback": [
      "\u001b[0;31m---------------------------------------------------------------------------\u001b[0m",
      "\u001b[0;31mKeyError\u001b[0m                                  Traceback (most recent call last)",
      "\u001b[0;32mC:\\Users\\Rithvik\\Anaconda3\\lib\\site-packages\\pandas\\indexes\\base.py\u001b[0m in \u001b[0;36mget_loc\u001b[0;34m(self, key, method, tolerance)\u001b[0m\n\u001b[1;32m   2133\u001b[0m             \u001b[1;32mtry\u001b[0m\u001b[1;33m:\u001b[0m\u001b[1;33m\u001b[0m\u001b[0m\n\u001b[0;32m-> 2134\u001b[0;31m                 \u001b[1;32mreturn\u001b[0m \u001b[0mself\u001b[0m\u001b[1;33m.\u001b[0m\u001b[0m_engine\u001b[0m\u001b[1;33m.\u001b[0m\u001b[0mget_loc\u001b[0m\u001b[1;33m(\u001b[0m\u001b[0mkey\u001b[0m\u001b[1;33m)\u001b[0m\u001b[1;33m\u001b[0m\u001b[0m\n\u001b[0m\u001b[1;32m   2135\u001b[0m             \u001b[1;32mexcept\u001b[0m \u001b[0mKeyError\u001b[0m\u001b[1;33m:\u001b[0m\u001b[1;33m\u001b[0m\u001b[0m\n",
      "\u001b[0;32mpandas\\index.pyx\u001b[0m in \u001b[0;36mpandas.index.IndexEngine.get_loc (pandas\\index.c:4433)\u001b[0;34m()\u001b[0m\n",
      "\u001b[0;32mpandas\\index.pyx\u001b[0m in \u001b[0;36mpandas.index.IndexEngine.get_loc (pandas\\index.c:4279)\u001b[0;34m()\u001b[0m\n",
      "\u001b[0;32mpandas\\src\\hashtable_class_helper.pxi\u001b[0m in \u001b[0;36mpandas.hashtable.PyObjectHashTable.get_item (pandas\\hashtable.c:13742)\u001b[0;34m()\u001b[0m\n",
      "\u001b[0;32mpandas\\src\\hashtable_class_helper.pxi\u001b[0m in \u001b[0;36mpandas.hashtable.PyObjectHashTable.get_item (pandas\\hashtable.c:13696)\u001b[0;34m()\u001b[0m\n",
      "\u001b[0;31mKeyError\u001b[0m: 'SalePrice'",
      "\nDuring handling of the above exception, another exception occurred:\n",
      "\u001b[0;31mKeyError\u001b[0m                                  Traceback (most recent call last)",
      "\u001b[0;32m<ipython-input-534-d07cb11eb32a>\u001b[0m in \u001b[0;36m<module>\u001b[0;34m()\u001b[0m\n\u001b[1;32m      7\u001b[0m \u001b[1;33m\u001b[0m\u001b[0m\n\u001b[1;32m      8\u001b[0m     \u001b[1;32mfor\u001b[0m \u001b[0mlevel\u001b[0m \u001b[1;32min\u001b[0m \u001b[0mtest_data\u001b[0m\u001b[1;33m[\u001b[0m\u001b[0meach_column\u001b[0m\u001b[1;33m]\u001b[0m\u001b[1;33m.\u001b[0m\u001b[0munique\u001b[0m\u001b[1;33m(\u001b[0m\u001b[1;33m)\u001b[0m\u001b[1;33m:\u001b[0m\u001b[1;33m\u001b[0m\u001b[0m\n\u001b[0;32m----> 9\u001b[0;31m         \u001b[0mdict\u001b[0m\u001b[1;33m[\u001b[0m\u001b[0mlevel\u001b[0m\u001b[1;33m]\u001b[0m\u001b[1;33m=\u001b[0m\u001b[0mtest_data\u001b[0m\u001b[1;33m[\u001b[0m\u001b[0mtest_data\u001b[0m\u001b[1;33m[\u001b[0m\u001b[0meach_column\u001b[0m\u001b[1;33m]\u001b[0m\u001b[1;33m==\u001b[0m\u001b[0mlevel\u001b[0m\u001b[1;33m]\u001b[0m\u001b[1;33m[\u001b[0m\u001b[1;34m'SalePrice'\u001b[0m\u001b[1;33m]\u001b[0m\u001b[1;33m.\u001b[0m\u001b[0mmean\u001b[0m\u001b[1;33m(\u001b[0m\u001b[1;33m)\u001b[0m\u001b[1;33m\u001b[0m\u001b[0m\n\u001b[0m\u001b[1;32m     10\u001b[0m \u001b[1;33m\u001b[0m\u001b[0m\n\u001b[1;32m     11\u001b[0m     \u001b[0mtest_data_copy\u001b[0m\u001b[1;33m[\u001b[0m\u001b[0mnew_col_name\u001b[0m\u001b[1;33m]\u001b[0m\u001b[1;33m=\u001b[0m\u001b[0mtest_data\u001b[0m\u001b[1;33m[\u001b[0m\u001b[0meach_column\u001b[0m\u001b[1;33m]\u001b[0m\u001b[1;33m.\u001b[0m\u001b[0mapply\u001b[0m\u001b[1;33m(\u001b[0m\u001b[1;32mlambda\u001b[0m \u001b[0mi\u001b[0m\u001b[1;33m:\u001b[0m \u001b[0mdict\u001b[0m\u001b[1;33m[\u001b[0m\u001b[0mi\u001b[0m\u001b[1;33m]\u001b[0m\u001b[1;33m)\u001b[0m\u001b[1;33m\u001b[0m\u001b[0m\n",
      "\u001b[0;32mC:\\Users\\Rithvik\\Anaconda3\\lib\\site-packages\\pandas\\core\\frame.py\u001b[0m in \u001b[0;36m__getitem__\u001b[0;34m(self, key)\u001b[0m\n\u001b[1;32m   2057\u001b[0m             \u001b[1;32mreturn\u001b[0m \u001b[0mself\u001b[0m\u001b[1;33m.\u001b[0m\u001b[0m_getitem_multilevel\u001b[0m\u001b[1;33m(\u001b[0m\u001b[0mkey\u001b[0m\u001b[1;33m)\u001b[0m\u001b[1;33m\u001b[0m\u001b[0m\n\u001b[1;32m   2058\u001b[0m         \u001b[1;32melse\u001b[0m\u001b[1;33m:\u001b[0m\u001b[1;33m\u001b[0m\u001b[0m\n\u001b[0;32m-> 2059\u001b[0;31m             \u001b[1;32mreturn\u001b[0m \u001b[0mself\u001b[0m\u001b[1;33m.\u001b[0m\u001b[0m_getitem_column\u001b[0m\u001b[1;33m(\u001b[0m\u001b[0mkey\u001b[0m\u001b[1;33m)\u001b[0m\u001b[1;33m\u001b[0m\u001b[0m\n\u001b[0m\u001b[1;32m   2060\u001b[0m \u001b[1;33m\u001b[0m\u001b[0m\n\u001b[1;32m   2061\u001b[0m     \u001b[1;32mdef\u001b[0m \u001b[0m_getitem_column\u001b[0m\u001b[1;33m(\u001b[0m\u001b[0mself\u001b[0m\u001b[1;33m,\u001b[0m \u001b[0mkey\u001b[0m\u001b[1;33m)\u001b[0m\u001b[1;33m:\u001b[0m\u001b[1;33m\u001b[0m\u001b[0m\n",
      "\u001b[0;32mC:\\Users\\Rithvik\\Anaconda3\\lib\\site-packages\\pandas\\core\\frame.py\u001b[0m in \u001b[0;36m_getitem_column\u001b[0;34m(self, key)\u001b[0m\n\u001b[1;32m   2064\u001b[0m         \u001b[1;31m# get column\u001b[0m\u001b[1;33m\u001b[0m\u001b[1;33m\u001b[0m\u001b[0m\n\u001b[1;32m   2065\u001b[0m         \u001b[1;32mif\u001b[0m \u001b[0mself\u001b[0m\u001b[1;33m.\u001b[0m\u001b[0mcolumns\u001b[0m\u001b[1;33m.\u001b[0m\u001b[0mis_unique\u001b[0m\u001b[1;33m:\u001b[0m\u001b[1;33m\u001b[0m\u001b[0m\n\u001b[0;32m-> 2066\u001b[0;31m             \u001b[1;32mreturn\u001b[0m \u001b[0mself\u001b[0m\u001b[1;33m.\u001b[0m\u001b[0m_get_item_cache\u001b[0m\u001b[1;33m(\u001b[0m\u001b[0mkey\u001b[0m\u001b[1;33m)\u001b[0m\u001b[1;33m\u001b[0m\u001b[0m\n\u001b[0m\u001b[1;32m   2067\u001b[0m \u001b[1;33m\u001b[0m\u001b[0m\n\u001b[1;32m   2068\u001b[0m         \u001b[1;31m# duplicate columns & possible reduce dimensionality\u001b[0m\u001b[1;33m\u001b[0m\u001b[1;33m\u001b[0m\u001b[0m\n",
      "\u001b[0;32mC:\\Users\\Rithvik\\Anaconda3\\lib\\site-packages\\pandas\\core\\generic.py\u001b[0m in \u001b[0;36m_get_item_cache\u001b[0;34m(self, item)\u001b[0m\n\u001b[1;32m   1384\u001b[0m         \u001b[0mres\u001b[0m \u001b[1;33m=\u001b[0m \u001b[0mcache\u001b[0m\u001b[1;33m.\u001b[0m\u001b[0mget\u001b[0m\u001b[1;33m(\u001b[0m\u001b[0mitem\u001b[0m\u001b[1;33m)\u001b[0m\u001b[1;33m\u001b[0m\u001b[0m\n\u001b[1;32m   1385\u001b[0m         \u001b[1;32mif\u001b[0m \u001b[0mres\u001b[0m \u001b[1;32mis\u001b[0m \u001b[1;32mNone\u001b[0m\u001b[1;33m:\u001b[0m\u001b[1;33m\u001b[0m\u001b[0m\n\u001b[0;32m-> 1386\u001b[0;31m             \u001b[0mvalues\u001b[0m \u001b[1;33m=\u001b[0m \u001b[0mself\u001b[0m\u001b[1;33m.\u001b[0m\u001b[0m_data\u001b[0m\u001b[1;33m.\u001b[0m\u001b[0mget\u001b[0m\u001b[1;33m(\u001b[0m\u001b[0mitem\u001b[0m\u001b[1;33m)\u001b[0m\u001b[1;33m\u001b[0m\u001b[0m\n\u001b[0m\u001b[1;32m   1387\u001b[0m             \u001b[0mres\u001b[0m \u001b[1;33m=\u001b[0m \u001b[0mself\u001b[0m\u001b[1;33m.\u001b[0m\u001b[0m_box_item_values\u001b[0m\u001b[1;33m(\u001b[0m\u001b[0mitem\u001b[0m\u001b[1;33m,\u001b[0m \u001b[0mvalues\u001b[0m\u001b[1;33m)\u001b[0m\u001b[1;33m\u001b[0m\u001b[0m\n\u001b[1;32m   1388\u001b[0m             \u001b[0mcache\u001b[0m\u001b[1;33m[\u001b[0m\u001b[0mitem\u001b[0m\u001b[1;33m]\u001b[0m \u001b[1;33m=\u001b[0m \u001b[0mres\u001b[0m\u001b[1;33m\u001b[0m\u001b[0m\n",
      "\u001b[0;32mC:\\Users\\Rithvik\\Anaconda3\\lib\\site-packages\\pandas\\core\\internals.py\u001b[0m in \u001b[0;36mget\u001b[0;34m(self, item, fastpath)\u001b[0m\n\u001b[1;32m   3541\u001b[0m \u001b[1;33m\u001b[0m\u001b[0m\n\u001b[1;32m   3542\u001b[0m             \u001b[1;32mif\u001b[0m \u001b[1;32mnot\u001b[0m \u001b[0misnull\u001b[0m\u001b[1;33m(\u001b[0m\u001b[0mitem\u001b[0m\u001b[1;33m)\u001b[0m\u001b[1;33m:\u001b[0m\u001b[1;33m\u001b[0m\u001b[0m\n\u001b[0;32m-> 3543\u001b[0;31m                 \u001b[0mloc\u001b[0m \u001b[1;33m=\u001b[0m \u001b[0mself\u001b[0m\u001b[1;33m.\u001b[0m\u001b[0mitems\u001b[0m\u001b[1;33m.\u001b[0m\u001b[0mget_loc\u001b[0m\u001b[1;33m(\u001b[0m\u001b[0mitem\u001b[0m\u001b[1;33m)\u001b[0m\u001b[1;33m\u001b[0m\u001b[0m\n\u001b[0m\u001b[1;32m   3544\u001b[0m             \u001b[1;32melse\u001b[0m\u001b[1;33m:\u001b[0m\u001b[1;33m\u001b[0m\u001b[0m\n\u001b[1;32m   3545\u001b[0m                 \u001b[0mindexer\u001b[0m \u001b[1;33m=\u001b[0m \u001b[0mnp\u001b[0m\u001b[1;33m.\u001b[0m\u001b[0marange\u001b[0m\u001b[1;33m(\u001b[0m\u001b[0mlen\u001b[0m\u001b[1;33m(\u001b[0m\u001b[0mself\u001b[0m\u001b[1;33m.\u001b[0m\u001b[0mitems\u001b[0m\u001b[1;33m)\u001b[0m\u001b[1;33m)\u001b[0m\u001b[1;33m[\u001b[0m\u001b[0misnull\u001b[0m\u001b[1;33m(\u001b[0m\u001b[0mself\u001b[0m\u001b[1;33m.\u001b[0m\u001b[0mitems\u001b[0m\u001b[1;33m)\u001b[0m\u001b[1;33m]\u001b[0m\u001b[1;33m\u001b[0m\u001b[0m\n",
      "\u001b[0;32mC:\\Users\\Rithvik\\Anaconda3\\lib\\site-packages\\pandas\\indexes\\base.py\u001b[0m in \u001b[0;36mget_loc\u001b[0;34m(self, key, method, tolerance)\u001b[0m\n\u001b[1;32m   2134\u001b[0m                 \u001b[1;32mreturn\u001b[0m \u001b[0mself\u001b[0m\u001b[1;33m.\u001b[0m\u001b[0m_engine\u001b[0m\u001b[1;33m.\u001b[0m\u001b[0mget_loc\u001b[0m\u001b[1;33m(\u001b[0m\u001b[0mkey\u001b[0m\u001b[1;33m)\u001b[0m\u001b[1;33m\u001b[0m\u001b[0m\n\u001b[1;32m   2135\u001b[0m             \u001b[1;32mexcept\u001b[0m \u001b[0mKeyError\u001b[0m\u001b[1;33m:\u001b[0m\u001b[1;33m\u001b[0m\u001b[0m\n\u001b[0;32m-> 2136\u001b[0;31m                 \u001b[1;32mreturn\u001b[0m \u001b[0mself\u001b[0m\u001b[1;33m.\u001b[0m\u001b[0m_engine\u001b[0m\u001b[1;33m.\u001b[0m\u001b[0mget_loc\u001b[0m\u001b[1;33m(\u001b[0m\u001b[0mself\u001b[0m\u001b[1;33m.\u001b[0m\u001b[0m_maybe_cast_indexer\u001b[0m\u001b[1;33m(\u001b[0m\u001b[0mkey\u001b[0m\u001b[1;33m)\u001b[0m\u001b[1;33m)\u001b[0m\u001b[1;33m\u001b[0m\u001b[0m\n\u001b[0m\u001b[1;32m   2137\u001b[0m \u001b[1;33m\u001b[0m\u001b[0m\n\u001b[1;32m   2138\u001b[0m         \u001b[0mindexer\u001b[0m \u001b[1;33m=\u001b[0m \u001b[0mself\u001b[0m\u001b[1;33m.\u001b[0m\u001b[0mget_indexer\u001b[0m\u001b[1;33m(\u001b[0m\u001b[1;33m[\u001b[0m\u001b[0mkey\u001b[0m\u001b[1;33m]\u001b[0m\u001b[1;33m,\u001b[0m \u001b[0mmethod\u001b[0m\u001b[1;33m=\u001b[0m\u001b[0mmethod\u001b[0m\u001b[1;33m,\u001b[0m \u001b[0mtolerance\u001b[0m\u001b[1;33m=\u001b[0m\u001b[0mtolerance\u001b[0m\u001b[1;33m)\u001b[0m\u001b[1;33m\u001b[0m\u001b[0m\n",
      "\u001b[0;32mpandas\\index.pyx\u001b[0m in \u001b[0;36mpandas.index.IndexEngine.get_loc (pandas\\index.c:4433)\u001b[0;34m()\u001b[0m\n",
      "\u001b[0;32mpandas\\index.pyx\u001b[0m in \u001b[0;36mpandas.index.IndexEngine.get_loc (pandas\\index.c:4279)\u001b[0;34m()\u001b[0m\n",
      "\u001b[0;32mpandas\\src\\hashtable_class_helper.pxi\u001b[0m in \u001b[0;36mpandas.hashtable.PyObjectHashTable.get_item (pandas\\hashtable.c:13742)\u001b[0;34m()\u001b[0m\n",
      "\u001b[0;32mpandas\\src\\hashtable_class_helper.pxi\u001b[0m in \u001b[0;36mpandas.hashtable.PyObjectHashTable.get_item (pandas\\hashtable.c:13696)\u001b[0;34m()\u001b[0m\n",
      "\u001b[0;31mKeyError\u001b[0m: 'SalePrice'"
     ]
    }
   ],
   "source": [
    "test_data_copy=test_data.copy()\n",
    "\n",
    "for each_column in categorical_columns:\n",
    "    new_col_name=each_column+\"_encode\"\n",
    "    #now lets create a dictionary for each of the levels in each categorical column\n",
    "    dict={}\n",
    "    \n",
    "    for level in test_data[each_column].unique():\n",
    "        dict[level]=test_data[test_data[each_column]==level]['SalePrice'].mean()\n",
    "        \n",
    "    test_data_copy[new_col_name]=test_data[each_column].apply(lambda i: dict[i])"
   ]
  },
  {
   "cell_type": "code",
   "execution_count": null,
   "metadata": {
    "collapsed": false,
    "scrolled": true
   },
   "outputs": [],
   "source": [
    "train_data_copy"
   ]
  },
  {
   "cell_type": "code",
   "execution_count": null,
   "metadata": {
    "collapsed": true
   },
   "outputs": [],
   "source": [
    "#Now removing Categorical columns from the train_data_copy dataset"
   ]
  },
  {
   "cell_type": "code",
   "execution_count": null,
   "metadata": {
    "collapsed": false
   },
   "outputs": [],
   "source": [
    "train_data_copy['Heating'].nunique()"
   ]
  },
  {
   "cell_type": "code",
   "execution_count": null,
   "metadata": {
    "collapsed": false
   },
   "outputs": [],
   "source": [
    "train_data_copy['Heating_encode'].nunique()"
   ]
  },
  {
   "cell_type": "code",
   "execution_count": null,
   "metadata": {
    "collapsed": false
   },
   "outputs": [],
   "source": [
    "#checking number of columns in new dataset with encoded columns\n",
    "len(train_data_copy.columns)-len(train_data.columns)"
   ]
  },
  {
   "cell_type": "code",
   "execution_count": null,
   "metadata": {
    "collapsed": false
   },
   "outputs": [],
   "source": [
    "train_data_copy=train_data_copy.drop(categorical_columns,axis=1)"
   ]
  },
  {
   "cell_type": "code",
   "execution_count": null,
   "metadata": {
    "collapsed": false
   },
   "outputs": [],
   "source": [
    "len(train_data_copy.columns)"
   ]
  },
  {
   "cell_type": "code",
   "execution_count": null,
   "metadata": {
    "collapsed": true
   },
   "outputs": [],
   "source": [
    "#Running XgBoost on the model"
   ]
  },
  {
   "cell_type": "code",
   "execution_count": null,
   "metadata": {
    "collapsed": false
   },
   "outputs": [],
   "source": [
    "x=train_data_copy.drop('SalePrice',axis=1)\n",
    "x=x.drop('s',axis=1)"
   ]
  },
  {
   "cell_type": "code",
   "execution_count": null,
   "metadata": {
    "collapsed": false
   },
   "outputs": [],
   "source": [
    "x.columns"
   ]
  },
  {
   "cell_type": "code",
   "execution_count": null,
   "metadata": {
    "collapsed": false
   },
   "outputs": [],
   "source": [
    "len(x.columns)"
   ]
  },
  {
   "cell_type": "code",
   "execution_count": null,
   "metadata": {
    "collapsed": true
   },
   "outputs": [],
   "source": [
    "y=train_data['SalePrice']"
   ]
  },
  {
   "cell_type": "code",
   "execution_count": null,
   "metadata": {
    "collapsed": false
   },
   "outputs": [],
   "source": [
    "model=XGBRegressor(max_depth=4,n_estimators=500,learning_rate=0.01,colsample_bylevel=0.4, colsample_bytree=0.4,reg_alpha=0.5)\n",
    "model.fit(x,y)"
   ]
  },
  {
   "cell_type": "code",
   "execution_count": null,
   "metadata": {
    "collapsed": false
   },
   "outputs": [],
   "source": [
    "pred_1=model.predict(x)"
   ]
  },
  {
   "cell_type": "code",
   "execution_count": null,
   "metadata": {
    "collapsed": false
   },
   "outputs": [],
   "source": [
    "y_array = np.array(y)\n",
    "rmse = sqrt(mean_squared_error(y_array, pred_1))\n",
    "rmse"
   ]
  },
  {
   "cell_type": "code",
   "execution_count": null,
   "metadata": {
    "collapsed": false
   },
   "outputs": [],
   "source": [
    "r2_score(y_array,pred_1)"
   ]
  }
 ],
 "metadata": {
  "kernelspec": {
   "display_name": "Python 3",
   "language": "python",
   "name": "python3"
  },
  "language_info": {
   "codemirror_mode": {
    "name": "ipython",
    "version": 3
   },
   "file_extension": ".py",
   "mimetype": "text/x-python",
   "name": "python",
   "nbconvert_exporter": "python",
   "pygments_lexer": "ipython3",
   "version": "3.6.0"
  }
 },
 "nbformat": 4,
 "nbformat_minor": 2
}
